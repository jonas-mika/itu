{
 "metadata": {
  "language_info": {
   "codemirror_mode": {
    "name": "ipython",
    "version": 3
   },
   "file_extension": ".py",
   "mimetype": "text/x-python",
   "name": "python",
   "nbconvert_exporter": "python",
   "pygments_lexer": "ipython3",
   "version": "3.8.3-final"
  },
  "orig_nbformat": 2,
  "kernelspec": {
   "name": "Python 3.8.3 64-bit ('base': conda)",
   "display_name": "Python 3.8.3 64-bit ('base': conda)",
   "metadata": {
    "interpreter": {
     "hash": "ce483ef3f3f15830cc71af6662324550274ded09d10a1a693bdaad1eb103022d"
    }
   }
  }
 },
 "nbformat": 4,
 "nbformat_minor": 2,
 "cells": [
  {
   "cell_type": "code",
   "execution_count": 4,
   "metadata": {},
   "outputs": [],
   "source": [
    "import numpy as np\n",
    "from scipy.linalg import pascal"
   ]
  },
  {
   "cell_type": "code",
   "execution_count": 5,
   "metadata": {},
   "outputs": [],
   "source": [
    "def search_pascal_multiples_fast(row_limit):\n",
    "    # create pascal array with library pascal from scipy.linalg subpackage\n",
    "    test = np.array(pascal(row_limit))\n",
    "\n",
    "    # filter out the outer two rows \n",
    "    test = np.delete(test, [0,1], axis=0)\n",
    "    test = np.delete(test, [0,1], axis=1)\n",
    "\n",
    "    # store the unique numbers from the sliced array and their counts\n",
    "    unique_num, counts = np.unique(test, return_counts=True)\n",
    "\n",
    "    # create a mask, where the number of counts is greater than 3\n",
    "    mask = np.where(counts > 3, True, False)\n",
    "\n",
    "    return list(unique_num[mask]) # return the array of unique numbers, whose count is greater than 3 as a list"
   ]
  },
  {
   "cell_type": "code",
   "execution_count": 6,
   "metadata": {},
   "outputs": [
    {
     "output_type": "stream",
     "name": "stdout",
     "text": [
      "[120, 210, 1540, 3003, 7140, 11628, 24310, 61218182743304701891431482520]\n"
     ]
    }
   ],
   "source": [
    "print(search_pascal_multiples_fast(250))"
   ]
  },
  {
   "cell_type": "code",
   "execution_count": 8,
   "metadata": {},
   "outputs": [
    {
     "output_type": "stream",
     "name": "stdout",
     "text": [
      "1.2 s ± 9.46 ms per loop (mean ± std. dev. of 2 runs, 5 loops each)\n"
     ]
    }
   ],
   "source": [
    "%timeit -r 2 -n 5 search_pascal_multiples_fast(250)"
   ]
  },
  {
   "cell_type": "code",
   "execution_count": 11,
   "metadata": {},
   "outputs": [
    {
     "output_type": "stream",
     "name": "stdout",
     "text": [
      "          62851 function calls (62844 primitive calls) in 1.205 seconds\n\n   Ordered by: internal time\n\n   ncalls  tottime  percall  cumtime  percall filename:lineno(function)\n     12/5    1.007    0.084    1.037    0.207 {built-in method numpy.core._multiarray_umath.implement_array_function}\n    31375    0.147    0.000    0.147    0.000 {scipy.special._comb._comb_int}\n        1    0.027    0.027    0.027    0.027 {method 'sort' of 'numpy.ndarray' objects}\n        1    0.010    0.010    1.172    1.172 special_matrices.py:776(pascal)\n    31375    0.007    0.000    0.155    0.000 _basic.py:2140(comb)\n        1    0.002    0.002    0.029    0.029 arraysetops.py:298(_unique1d)\n        1    0.001    0.001    1.205    1.205 <string>:1(<module>)\n        1    0.001    0.001    1.204    1.204 <ipython-input-5-b857f5fb67f6>:1(search_pascal_multiples_fast)\n        2    0.001    0.000    0.001    0.000 function_base.py:4218(delete)\n        8    0.000    0.000    0.000    0.000 {built-in method numpy.array}\n        4    0.000    0.000    0.000    0.000 {built-in method numpy.empty}\n        1    0.000    0.000    0.029    0.029 arraysetops.py:151(unique)\n        1    0.000    0.000    0.000    0.000 {method 'flatten' of 'numpy.ndarray' objects}\n        1    0.000    0.000    0.000    0.000 {method 'fill' of 'numpy.ndarray' objects}\n        1    0.000    0.000    0.000    0.000 {method 'nonzero' of 'numpy.ndarray' objects}\n        1    0.000    0.000    1.205    1.205 {built-in method builtins.exec}\n        1    0.000    0.000    0.000    0.000 function_base.py:1141(diff)\n        1    0.000    0.000    1.007    1.007 <__array_function__ internals>:2(dot)\n        4    0.000    0.000    0.000    0.000 {method 'reduce' of 'numpy.ufunc' objects}\n        1    0.000    0.000    0.000    0.000 fromnumeric.py:55(_wrapfunc)\n        2    0.000    0.000    0.001    0.000 <__array_function__ internals>:2(delete)\n        2    0.000    0.000    0.000    0.000 numeric.py:159(ones)\n        1    0.000    0.000    0.000    0.000 <frozen importlib._bootstrap>:1017(_handle_fromlist)\n        4    0.000    0.000    0.000    0.000 {method 'all' of 'numpy.ndarray' objects}\n        4    0.000    0.000    0.000    0.000 _methods.py:47(_all)\n        2    0.000    0.000    0.000    0.000 <__array_function__ internals>:2(can_cast)\n        3    0.000    0.000    0.000    0.000 {built-in method numpy.core._multiarray_umath.normalize_axis_index}\n        1    0.000    0.000    0.000    0.000 <__array_function__ internals>:2(nonzero)\n        1    0.000    0.000    0.000    0.000 _internal.py:830(npy_ctypes_check)\n        2    0.000    0.000    0.000    0.000 <__array_function__ internals>:2(copyto)\n        1    0.000    0.000    0.029    0.029 <__array_function__ internals>:2(unique)\n        5    0.000    0.000    0.000    0.000 {built-in method builtins.isinstance}\n        1    0.000    0.000    0.000    0.000 <__array_function__ internals>:2(concatenate)\n        4    0.000    0.000    0.000    0.000 _asarray.py:16(asarray)\n        1    0.000    0.000    0.000    0.000 <__array_function__ internals>:2(where)\n        1    0.000    0.000    0.000    0.000 fromnumeric.py:1804(nonzero)\n        3    0.000    0.000    0.000    0.000 _asarray.py:88(asanyarray)\n        1    0.000    0.000    0.000    0.000 <__array_function__ internals>:2(diff)\n        1    0.000    0.000    0.000    0.000 {built-in method builtins.getattr}\n        1    0.000    0.000    0.000    0.000 arraysetops.py:138(_unpack_tuple)\n        2    0.000    0.000    0.000    0.000 function_base.py:4214(_delete_dispatcher)\n        1    0.000    0.000    0.000    0.000 {built-in method builtins.hasattr}\n        2    0.000    0.000    0.000    0.000 {built-in method builtins.len}\n        1    0.000    0.000    0.000    0.000 {method 'disable' of '_lsprof.Profiler' objects}\n        2    0.000    0.000    0.000    0.000 multiarray.py:469(can_cast)\n        1    0.000    0.000    0.000    0.000 fromnumeric.py:1800(_nonzero_dispatcher)\n        2    0.000    0.000    0.000    0.000 multiarray.py:1043(copyto)\n        1    0.000    0.000    0.000    0.000 multiarray.py:707(dot)\n        1    0.000    0.000    0.000    0.000 multiarray.py:145(concatenate)\n        1    0.000    0.000    0.000    0.000 {method 'append' of 'list' objects}\n        1    0.000    0.000    0.000    0.000 multiarray.py:312(where)\n        1    0.000    0.000    0.000    0.000 function_base.py:1137(_diff_dispatcher)\n        1    0.000    0.000    0.000    0.000 arraysetops.py:146(_unique_dispatcher)\n\n\n"
     ]
    }
   ],
   "source": [
    "stats_oneliner = %prun -r -q search_pascal_multiples_fast(250)\n",
    "stats_oneliner.sort_stats('tottime').print_stats();"
   ]
  }
 ]
}