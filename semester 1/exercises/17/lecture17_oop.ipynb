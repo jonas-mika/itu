{
 "cells": [
  {
   "cell_type": "markdown",
   "metadata": {
    "slideshow": {
     "slide_type": "slide"
    }
   },
   "source": [
    "<div class=\"frontmatter text-center\">\n",
    "<h1> Introduction to Data Science and Programming</h1>\n",
    "<h2>Lecture 17: Object-oriented programming</h2>\n",
    "<h3>IT University of Copenhagen, Fall 2020</h3>\n",
    "<h3>Instructor: Michael Szell</h3>\n",
    "</div>"
   ]
  },
  {
   "cell_type": "markdown",
   "metadata": {},
   "source": [
    "# Source\n",
    "This notebook was adapted from:\n",
    "* https://www.thedigitalcatonline.com/blog/2015/03/14/python-3-oop-notebooks/\n",
    "* Zelle: Python Programming, Chapter 12"
   ]
  },
  {
   "cell_type": "markdown",
   "metadata": {
    "slideshow": {
     "slide_type": "slide"
    }
   },
   "source": [
    "## Key concept: Polymorphism\n",
    "Polymorphism is the ability of an object to adapt the code to the type of the data it is processing.\n",
    "\n",
    "A good example is Python's implementation of the `+` operator:"
   ]
  },
  {
   "cell_type": "code",
   "execution_count": null,
   "metadata": {},
   "outputs": [],
   "source": [
    "def plus(a, b):\n",
    "    return a + b\n",
    "\n",
    "print(plus(int(3), float(3.4)))\n",
    "print(plus([1,2,3], [4,5]))\n",
    "print(plus(\"abra\", \"kadabra\"))"
   ]
  },
  {
   "cell_type": "markdown",
   "metadata": {
    "slideshow": {
     "slide_type": "slide"
    }
   },
   "source": [
    "Polymorphism is the reason why `+` works for all combinations of data types where this operation is defined.\n",
    "\n",
    "When we write `c = a + b`, Python actually executes `c = a.__add__(b)`: The plus operation is delegated to the first input variable. \n",
    "\n",
    "There is no need to specify the type of the two input variables. The object `a` shall be able to \"add up\" with the object `b`. This is a very beautiful and simple implementation of the polymorphism concept. Python functions are polymorphic simply because they accept everything and trust the input data to be able to perform some actions."
   ]
  },
  {
   "cell_type": "markdown",
   "metadata": {
    "slideshow": {
     "slide_type": "slide"
    }
   },
   "source": [
    "### Polymorphism is more human-readable\n",
    "In other words we just defined a sort of universal function, that does the same thing regardless of the input.\n",
    "\n",
    "This is exactly the problem that polymorphism wants to solve. We want to **describe an action regardless of the type of objects**, and this is what we do when we talk among humans. When you describe how to move an object by pushing it, you may explain it using a box, but you expect the person you are addressing to be able to repeat the action even if you need to move a pen, or a book, or a bottle."
   ]
  },
  {
   "cell_type": "markdown",
   "metadata": {
    "slideshow": {
     "slide_type": "slide"
    }
   },
   "source": [
    "### Polymorphism focuses on behavior and trusts the input\n",
    "Programming languages have two main strategies you can apply to get code that performs the same operation regardless of the input types.\n",
    "\n",
    "1) **Cover all cases**, which is a typical approach of procedural languages like `C`. If you need to sum two numbers that can be integers, float or complex, you just need to write three functions, one bound to the integer type, the second bound to the float type and the third bound to the complex type, and to have some language feature that takes charge of choosing the correct implementation depending on the input type.\n",
    "\n",
    "2) **Polymorphism**, as Python does: Simply require the input objects to solve the problem for you. In other words you _ask the data itself to perform the operation_, reversing the problem. Instead of writing a bunch of functions that add up all the possible types in every possible combination you just write one function that requires the input data to add up, trusting that they know how to do it."
   ]
  },
  {
   "cell_type": "markdown",
   "metadata": {
    "slideshow": {
     "slide_type": "slide"
    }
   },
   "source": [
    "Let's see how this looks like in a new example (https://www.programiz.com/python-programming/object-oriented-programming#polymorphism)"
   ]
  },
  {
   "cell_type": "code",
   "execution_count": null,
   "metadata": {
    "slideshow": {
     "slide_type": "-"
    }
   },
   "outputs": [],
   "source": [
    "class Parrot:\n",
    "    def fly(self):\n",
    "        print(\"Parrot can fly\")\n",
    "    \n",
    "    def swim(self):\n",
    "        print(\"Parrot cannot swim\")\n",
    "\n",
    "class Penguin:\n",
    "    def fly(self):\n",
    "        print(\"Penguin cannot fly\")\n",
    "    \n",
    "    def swim(self):\n",
    "        print(\"Penguin can swim\")\n",
    "\n",
    "# common interface\n",
    "def flying_test(bird):\n",
    "    bird.fly()\n",
    "\n",
    "#instantiate objects\n",
    "blu = Parrot()\n",
    "peggy = Penguin()\n",
    "\n",
    "# passing the object\n",
    "flying_test(blu)\n",
    "flying_test(peggy)"
   ]
  },
  {
   "cell_type": "markdown",
   "metadata": {
    "slideshow": {
     "slide_type": "slide"
    }
   },
   "source": [
    "The application of polymorphism is that an object can provide different implementations of one of its methods depending on the type (class) of the input parameters."
   ]
  },
  {
   "cell_type": "markdown",
   "metadata": {},
   "source": [
    "### Duck typing\n",
    "\n",
    "Polymorphism is pretty cool, but it is a word that is rarely used in Python\n",
    "programming. Python goes an extra step past allowing a subclass of an object to be\n",
    "treated like a parent class. Any object may be used in any context, up until it is used in a way that it does not support (see below).\n",
    "\n",
    "This sort of polymorphism in Python is referred to as duck typing: \"*If it walks like a duck or swims like a duck, it's a duck*\". We don't care if it really is a duck (inheritance), only that it swims or walks. Geese and swans might easily be able to provide the duck-like behavior we are looking for. This allows future designers to create new types of birds without actually specifying an inheritance hierarchy for\n",
    "aquatic birds. It also allows them to create completely different drop-in behaviors\n",
    "that the original designers never planned for. For example, future designers might\n",
    "be able to make a walking, swimming penguin that works with the same interface\n",
    "without ever suggesting that penguins are ducks.\n",
    "\n",
    "**In duck typing, to see if an object can be used for a particular purpose is determined by the presence of certain methods and properties, rather than the type of the object itself.**"
   ]
  },
  {
   "cell_type": "markdown",
   "metadata": {
    "slideshow": {
     "slide_type": "slide"
    }
   },
   "source": [
    "What happens if one of the classes does not have a method?"
   ]
  },
  {
   "cell_type": "code",
   "execution_count": null,
   "metadata": {
    "slideshow": {
     "slide_type": "slide"
    }
   },
   "outputs": [],
   "source": [
    "s = \"abrakadabra\"\n",
    "d = {'a': 1, 'b': 2}\n",
    "i = 5\n",
    "print(len(s))\n",
    "print(len(d))\n",
    "print(len(i))"
   ]
  },
  {
   "cell_type": "markdown",
   "metadata": {
    "slideshow": {
     "slide_type": "slide"
    }
   },
   "source": [
    "In practice we can catch the TypeError:"
   ]
  },
  {
   "cell_type": "code",
   "execution_count": null,
   "metadata": {},
   "outputs": [],
   "source": [
    "try:\n",
    "    print(len(i))\n",
    "except TypeError as e:\n",
    "    print(e)"
   ]
  },
  {
   "cell_type": "markdown",
   "metadata": {
    "slideshow": {
     "slide_type": "slide"
    }
   },
   "source": [
    "If we are dealing with attributes, we catch the AttributeError:"
   ]
  },
  {
   "cell_type": "code",
   "execution_count": null,
   "metadata": {},
   "outputs": [],
   "source": [
    "try:\n",
    "    print(i.__len__())\n",
    "except AttributeError as e:\n",
    "    print(e)"
   ]
  },
  {
   "cell_type": "code",
   "execution_count": null,
   "metadata": {},
   "outputs": [],
   "source": [
    "# We will fail in making peggy the penguin bark\n",
    "peggy.bark()"
   ]
  },
  {
   "cell_type": "markdown",
   "metadata": {
    "slideshow": {
     "slide_type": "slide"
    }
   },
   "source": [
    "# Recap: Key principles of object-oriented design\n",
    "* **Encapsulation**: Bundling data and methods that work on that data within one unit. All manipulation of the object's data should be done through its methods. This allows for modular design of complex programs.\n",
    "\n",
    "\n",
    "* **Inheritance**: A new class can be derived from an existing class. This supports sharing of methods among classes and code reuse.\n",
    "\n",
    "\n",
    "* **Polymorphism**: Different classes may implement methods with the same interface. This makes programs more flexible, allowing a single line of code to call different methods in different situations."
   ]
  },
  {
   "cell_type": "markdown",
   "metadata": {
    "slideshow": {
     "slide_type": "slide"
    }
   },
   "source": [
    "# Guidelines for object-oriented design\n",
    "1. Look for object candidates\n",
    "2. Identify instance variables\n",
    "3. Think about interfaces\n",
    "4. Refine the nontrivial methods\n",
    "5. Design iteratively\n",
    "6. Try out alternatives\n",
    "7. Keep it simple"
   ]
  },
  {
   "cell_type": "markdown",
   "metadata": {
    "slideshow": {
     "slide_type": "slide"
    }
   },
   "source": [
    "# Getting back to our Raquetball example: Designing it object-oriented"
   ]
  },
  {
   "cell_type": "markdown",
   "metadata": {},
   "source": [
    "### Classes to start with\n",
    "* `SimStats` to keep track of information\n",
    "* `RBallGame` to play a game, based on player serve win probabilities"
   ]
  },
  {
   "cell_type": "code",
   "execution_count": null,
   "metadata": {},
   "outputs": [],
   "source": [
    "# To develop during class\n",
    "\n",
    "from random import random\n",
    "\n",
    "# classes\n",
    "\n",
    "\n",
    "# functions\n",
    "def printIntro():\n",
    "    print(\"This program simulates games of racquetball between two\")\n",
    "    print('players called \"A\" and \"B\". The ability of each player is')\n",
    "    print(\"indicated by a probability (a number between 0 and 1) that\")\n",
    "    print(\"the player wins the point when serving. Player A always\")\n",
    "    print(\"has the first serve. \\n\")\n",
    "\n",
    "def getInputs():\n",
    "    \"\"\"Returns the three simulation parameters\"\"\"\n",
    "    a = eval(input(\"What is the prob. player A wins a serve? \"))\n",
    "    b = eval(input(\"What is the prob. player B wins a serve? \"))\n",
    "    n = eval(input(\"How many games to simulate? \"))\n",
    "    return a, b, n\n",
    "\n",
    "# main program\n",
    "printIntro()\n",
    "probA, probB, n = getInputs()\n",
    "\n",
    "# Play the games\n",
    "\n",
    "# Print a report\n",
    "\n"
   ]
  },
  {
   "cell_type": "markdown",
   "metadata": {},
   "source": [
    "Abstract view of a `RBallGame` object:\n",
    "    <img src=\"files/rballgame.png\" width=\"400px\"/>"
   ]
  }
 ],
 "metadata": {
  "kernelspec": {
   "display_name": "Python 3",
   "language": "python",
   "name": "python3"
  },
  "language_info": {
   "codemirror_mode": {
    "name": "ipython",
    "version": 3
   },
   "file_extension": ".py",
   "mimetype": "text/x-python",
   "name": "python",
   "nbconvert_exporter": "python",
   "pygments_lexer": "ipython3",
   "version": "3.7.4"
  }
 },
 "nbformat": 4,
 "nbformat_minor": 1
}
