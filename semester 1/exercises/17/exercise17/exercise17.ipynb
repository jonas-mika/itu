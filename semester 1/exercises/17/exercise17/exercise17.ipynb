{
 "cells": [
  {
   "cell_type": "code",
   "execution_count": 59,
   "metadata": {},
   "outputs": [],
   "source": [
    "from datetime import date"
   ]
  },
  {
   "cell_type": "markdown",
   "metadata": {},
   "source": [
    "# Exercise 17\n",
    "This exercise will be a continuation of exercise 16 focused on Python's \"classes\". "
   ]
  },
  {
   "cell_type": "markdown",
   "metadata": {},
   "source": [
    "## Customers\n",
    "\n",
    "The `__str__` method is a magic method in python used to represent an object to a user so when you print the object directly it will show whatever you want the user of your program to see.\n",
    "\n",
    "The `__repr__` is a magic method in python used to represent an object to the developer and if the `__str__` method isn't implemented then the `__repr__` method will be used by default. When debugging and examining the output of your code it is very useful to have implemented a `__repr__` method, otherwise your output is almost unreadable.\n",
    "\n",
    "\n",
    "### 17.1. Write a class representing a potential customer\n",
    "\n",
    "Each customer has 3 attributes: name, email and birthyear.\n",
    "\n",
    "A skeleton class with a finished constructor has been provided for this first exercise.  \n",
    "Your job is to implement the following class methods: \n",
    "- `getAge` -- should return the current age in years as an int.\n",
    "- `setEmail` -- returns nothing. Should set self.email to the given email parameter.\n",
    "- `getEmail` -- should return the email as a str if it exists, otherwise returns the str \"Email not set\".\n",
    "- `__str__` -- should return a user-friendly string representation of a Customer object, i.e. 'John, 42'.\n",
    "- `__repr__` -- should return a developer-friendly string representation of a Customer object, i.e. 'John'.\n",
    "\n",
    "Hint: We have imported the `date` library for you. Use `date.today().year` to figure out age from birthyear."
   ]
  },
  {
   "cell_type": "code",
   "execution_count": 60,
   "metadata": {},
   "outputs": [],
   "source": [
    "class Customer:\n",
    "    def __init__(self,name, birthyear, email=None):\n",
    "        self.name = name\n",
    "        self.email = email\n",
    "        self.birthyear = int(birthyear)\n",
    "    \n",
    "    def getAge(self):\n",
    "        \"\"\"\n",
    "        Returns the age of the Customer in years\n",
    "        \"\"\"\n",
    "        return date.today().year - self.birthyear\n",
    "\n",
    "    def setEmail(self, email):\n",
    "        \"\"\"\n",
    "        Allows to set email of a Customer given an email parameter\n",
    "        \"\"\"\n",
    "        self.email = email\n",
    "\n",
    "    def getEmail(self):\n",
    "        \"\"\"\n",
    "        Returns the eMail of a customer, if exists\n",
    "        \"\"\"\n",
    "        return self.email if self.email is not None else \"Email not set\"\n",
    "\n",
    "    def __str__(self):\n",
    "        return f\"{self.name}, {self.getAge()}, {self.getEmail()}\"\n",
    "\n",
    "    def __repr__(self):\n",
    "        return f\"<Customer Object: {self.name}>\"\n",
    "    "
   ]
  },
  {
   "cell_type": "code",
   "execution_count": 61,
   "metadata": {},
   "outputs": [
    {
     "output_type": "execute_result",
     "data": {
      "text/plain": [
       "<Customer Object: Jonas-Mika Senghaas>"
      ]
     },
     "metadata": {},
     "execution_count": 61
    }
   ],
   "source": [
    "c1 = Customer(\"Jonas-Mika Senghaas\", 2002, '')\n",
    "c1.setEmail(\"mail@jonassenghaas.de\")\n",
    "c1"
   ]
  },
  {
   "cell_type": "markdown",
   "metadata": {},
   "source": [
    "### 17.2. Import the file `customers.csv`\n",
    "\n",
    "Import the file `customers.csv` and create a list of lists. There should be one sublist per row in the file.\n",
    "\n",
    "The csv file will having some missing email addresses as shown in the 2 example lines below:\n",
    "\n",
    "`James,1992,,`  \n",
    "`Jordan,1953,jordan@mail.com`\n",
    "___\n",
    "\n",
    "`[['James', 1992, ''],['Jordan', 1953, 'jordan@mail.com'], ...]`\n",
    "\n",
    "length of list: `9`"
   ]
  },
  {
   "cell_type": "code",
   "execution_count": 62,
   "metadata": {},
   "outputs": [],
   "source": [
    "def read_file(filename):\n",
    "    customer_list = []\n",
    "    with open(filename, \"r\") as infile:\n",
    "        for line in infile:\n",
    "            name, birthyear = line.strip().split(\",\")[:2]\n",
    "\n",
    "            if line.strip().split(\",\")[2] != '':\n",
    "                email = line.strip().split(\",\")[2]\n",
    "            else:\n",
    "                email = None\n",
    "            customer_list.append([name, birthyear, email])\n",
    "    return customer_list"
   ]
  },
  {
   "cell_type": "code",
   "execution_count": 63,
   "metadata": {},
   "outputs": [],
   "source": [
    "customers = read_file(\"customers.csv\")"
   ]
  },
  {
   "cell_type": "markdown",
   "metadata": {},
   "source": [
    "### 17.3. Convert your list of lists to a list of Customer objects.\n",
    "\n",
    "Iterate through your list generated from the `customers.csv` file, and convert each sublist to a Customer object -- one instance per row in the file."
   ]
  },
  {
   "cell_type": "code",
   "execution_count": 64,
   "metadata": {},
   "outputs": [
    {
     "output_type": "stream",
     "name": "stdout",
     "text": [
      "[<Customer Object: James>, <Customer Object: Jordan>, <Customer Object: Jessica>, <Customer Object: Olivia>, <Customer Object: Lucy>, <Customer Object: Emily>, <Customer Object: Daniel>, <Customer Object: Jack>, <Customer Object: Lewis>, <Customer Object: Harry>]\n10\nJames, 28, Email not set\nJordan, 67, jordan@mail.com\nJessica, 21, jessica@mail.com\nOlivia, 30, Email not set\nLucy, 31, Email not set\nEmily, 50, emily@mail.com\nDaniel, 55, daniel@mail.com\nJack, 48, daniel@mail.com\nLewis, 90, Email not set\nHarry, 15, harry@mail.com\n"
     ]
    }
   ],
   "source": [
    "customer_objects = [Customer(*person) for person in customers] # create a list of objects from a list of lists with the __init__ parameter information\n",
    "\n",
    "print(customer_objects)\n",
    "print(len(customer_objects))\n",
    "\n",
    "for objects in customer_objects:\n",
    "    print(objects)"
   ]
  },
  {
   "cell_type": "markdown",
   "metadata": {},
   "source": [
    "### 17.4. Test your string representations.\n",
    "\n",
    "Try printing your list of customer objects, and seperately print your first customer object.\n",
    "\n",
    "Why are the outputs for the first entry different? \n",
    "\n",
    "Hint: look at the \"magic\" methods `__str__` and `__repr__` in the Customer class.\n",
    "\n",
    "___\n",
    "\n",
    "`print(customers))`  \n",
    "\\>\\> `[James, Jordan, Jessica, Olivia, Lucy, Emily, Daniel, Jack, Lewis, Harry]`  \n",
    "\n",
    "`print(customers[0]))`  \n",
    "\\>\\> `James, 1992`\n",
    "\n"
   ]
  },
  {
   "cell_type": "code",
   "execution_count": 65,
   "metadata": {},
   "outputs": [
    {
     "output_type": "stream",
     "name": "stdout",
     "text": [
      "[<Customer Object: James>, <Customer Object: Jordan>, <Customer Object: Jessica>, <Customer Object: Olivia>, <Customer Object: Lucy>, <Customer Object: Emily>, <Customer Object: Daniel>, <Customer Object: Jack>, <Customer Object: Lewis>, <Customer Object: Harry>]\nJames, 28, Email not set\n"
     ]
    }
   ],
   "source": [
    "print(customer_objects)\n",
    "print(customer_objects[0])"
   ]
  },
  {
   "cell_type": "markdown",
   "metadata": {},
   "source": [
    "### 17.5. Remove a string representation\n",
    "Try commenting out the `__repr__` method in the class definition and repeating 17.3 and 17.4.\n",
    "\n",
    "___\n",
    "\n",
    "Expected output should be similar to the following:\n",
    "\n",
    "`print(customers))`  \n",
    "\\>\\> `[<__main__.Customer object at 0x00000209E877DBB0>, <__main__.Customer object at 0x00000209E877D250>, <__main__.Customer object at 0x00000209E877DEE0>, <__main__.Customer object at 0x00000209E877DE80>, <__main__.Customer object at 0x00000209E877D790>, <__main__.Customer object at 0x00000209E877DA30>, <__main__.Customer object at 0x00000209E877DF40>, <__main__.Customer object at 0x00000209E877DEB0>, <__main__.Customer object at 0x00000209E877D1F0>, <__main__.Customer object at 0x00000209E877D070>]`  \n",
    "\n",
    "`print(customers[0]))`  \n",
    "\\>\\> `James, 1992`"
   ]
  },
  {
   "cell_type": "code",
   "execution_count": null,
   "metadata": {},
   "outputs": [],
   "source": [
    "# makes sense"
   ]
  },
  {
   "cell_type": "markdown",
   "metadata": {},
   "source": [
    "### 17.6. Remove the `__str__` method\n",
    "\n",
    "Try commenting out the `__str__` method in the class definition and uncommenting the `__repr__` method and repeating 17.3 and 17.4.\n",
    "\n",
    "___\n",
    "\n",
    "`print(customers))`  \n",
    "\\>\\> `[James, Jordan, Jessica, Olivia, Lucy, Emily, Daniel, Jack, Lewis, Harry]`  \n",
    "\n",
    "`print(customers[0]))`  \n",
    "\\>\\> `James`"
   ]
  },
  {
   "cell_type": "code",
   "execution_count": null,
   "metadata": {},
   "outputs": [],
   "source": [
    "# makes sense"
   ]
  },
  {
   "cell_type": "markdown",
   "metadata": {},
   "source": [
    "## ATM\n",
    "\n",
    "For the next part we'll be implementing an ATM class that will store and interact with User objects."
   ]
  },
  {
   "cell_type": "markdown",
   "metadata": {},
   "source": [
    "### 17.7\n",
    "\n",
    "The User object class inherits from our previous Customer class and adds some attributes.\n",
    "\n",
    "By defining the User class with the syntax `User(Customer)` we are telling python to create a new User class and inherit all attributes and methods from the Customer class.\n",
    "\n",
    "The line `super().__init__(name, birthyear, email)` runs the `__init__` method from the parent (super) class Customer.\n",
    "This way we don't have to rewrite the `__init__` method from the Customer class.\n",
    "\n",
    "If any of this confuses you, you can always ask your TA for clarification or help :)"
   ]
  },
  {
   "cell_type": "code",
   "execution_count": 66,
   "metadata": {},
   "outputs": [],
   "source": [
    "class User(Customer):\n",
    "    def __init__(self,ID, password, name=None, birthyear=0, email=None):\n",
    "        super().__init__(name, birthyear, email)\n",
    "        self.ID = ID\n",
    "        self.password = password\n",
    "        self.balance = 0\n",
    "\n",
    "    def get_age(self):\n",
    "        return self.getAge() if self.birthyear != 0 else \"No birthyear was given\""
   ]
  },
  {
   "cell_type": "markdown",
   "metadata": {},
   "source": [
    "### 17.8\n",
    "\n",
    "As you might have noticed the User class can be initialized without a specific name, birthyear or email. This might not matter too much for name and email since we haven't defined a method to return name and the email method should already handle None types but the get_age method returns some very old people!\n",
    "\n",
    "try testing this out with a test user:\n",
    "\n",
    "`user1 = User(1,\"test\")`\n",
    "\n",
    "`user1.get_age()`\n",
    "\n",
    "`2020`\n",
    "\n",
    "As you can see this is an unexpected bug as our default birthyear is 0.\n",
    "\n",
    "Instead of using the Customer.get_age method you can rewrite it in the User class which will automatically overwrite the inherited get_age method.\n",
    "\n",
    "Add the get_age method to the User class and return \"No birthyear given!\" if the birthyear is 0. (remember to rerun the class definition code and `user1 = User(1,\"test\")` to get the new age_method)\n",
    "\n",
    "`user1.get_age()`\n",
    "\n",
    "`No birthyear given!`"
   ]
  },
  {
   "cell_type": "code",
   "execution_count": 72,
   "metadata": {},
   "outputs": [
    {
     "output_type": "execute_result",
     "data": {
      "text/plain": [
       "'Email not set'"
      ]
     },
     "metadata": {},
     "execution_count": 72
    }
   ],
   "source": [
    "user1 = User(1,\"password\")\n",
    "\n",
    "user1.get_age()\n"
   ]
  },
  {
   "cell_type": "markdown",
   "metadata": {},
   "source": [
    "### 17.9\n",
    "\n",
    "Create a dictionary of users from the customers.csv file where the ID for each user is a unique integer (just use the index when looping as the ID) and the value is the user object. The password for each user should be the string \"passw0rd\".\n",
    "\n",
    "`print(dictionary[0])`\n",
    "\n",
    "`James, 1992`"
   ]
  },
  {
   "cell_type": "code",
   "execution_count": 74,
   "metadata": {},
   "outputs": [
    {
     "output_type": "execute_result",
     "data": {
      "text/plain": [
       "{0: <Customer Object: James>,\n",
       " 1: <Customer Object: Jordan>,\n",
       " 2: <Customer Object: Jessica>,\n",
       " 3: <Customer Object: Olivia>,\n",
       " 4: <Customer Object: Lucy>,\n",
       " 5: <Customer Object: Emily>,\n",
       " 6: <Customer Object: Daniel>,\n",
       " 7: <Customer Object: Jack>,\n",
       " 8: <Customer Object: Lewis>,\n",
       " 9: <Customer Object: Harry>}"
      ]
     },
     "metadata": {},
     "execution_count": 74
    }
   ],
   "source": [
    "dictionary = {ID : User(ID, \"passw0rd\", *person) for ID, person in enumerate(customers)}\n",
    "dictionary"
   ]
  },
  {
   "cell_type": "markdown",
   "metadata": {},
   "source": [
    "### 17.10\n",
    "\n",
    "The ATM skeleton class is outlined below. Follow the following exercises to implement the class methods.\n",
    "\n",
    "For now run the class code and initialize an ATM object by running:\n",
    "\n",
    "`atm = ATM(dictionary)`\n",
    "\n",
    "The following two code cells should be rerun everytime you add a new method.\n",
    "\n"
   ]
  },
  {
   "cell_type": "code",
   "execution_count": null,
   "metadata": {},
   "outputs": [],
   "source": [
    "class ATM:\n",
    "    def __init__(self,users):\n",
    "        self.users = users # key is ID and value is user object\n",
    "        self.logged_in_user = None\n",
    "        \n",
    "    def add_user(self,ID,password):\n",
    "        return # use the User class init method to add a new user to self.users\n",
    "        \n",
    "    def login(self,ID, password):\n",
    "        return # should set logged_in_user\n",
    "    \n",
    "    def logout(self):\n",
    "        return # should remove the user from logged_in_user\n",
    "    \n",
    "    def check_balance(self):\n",
    "        return #return balance of logged_in_user\n",
    "    \n",
    "    def deposit(self, amount):\n",
    "        return # add money to balance of logged_in_user\n",
    "    \n",
    "    def transfer(self,recipient_ID,amount):\n",
    "        return # should remove amount from logged_in_user and add it to recipient_ID account balance"
   ]
  },
  {
   "cell_type": "code",
   "execution_count": null,
   "metadata": {},
   "outputs": [],
   "source": [
    "atm = ATM(dictionary)"
   ]
  },
  {
   "cell_type": "markdown",
   "metadata": {},
   "source": [
    "### 17.11\n",
    "\n",
    "Implement the add_user method by calling User() and adding it to self.users dictionary.\n",
    "\n",
    "Remove the return statement and instead print \"User: user.ID added\"\n",
    "\n",
    "Add the two users and passwords:\n",
    "\n",
    "`Steven, 1234`\n",
    "`Jacob, qwerty`\n",
    "\n",
    "`print(ATM.users)` should print the 10 previous users plus the two latest users."
   ]
  },
  {
   "cell_type": "code",
   "execution_count": null,
   "metadata": {},
   "outputs": [],
   "source": []
  },
  {
   "cell_type": "markdown",
   "metadata": {},
   "source": [
    "### 17.12\n",
    "a.) Implement the `login` method.\n",
    "The login method should set the `self.logged_in_user` to be equal to the logged in user. If the password argument is not equal to the users' password then the login method should print(\"Incorrect password please try again.\")\n",
    "\n",
    "b.) Implement the `logout` method.\n",
    "The logout method should remove the user object from `self.logged_in_user`\n",
    "\n",
    "c.) Implement the `check_balance` method.\n",
    "This method should return the user.balance attribute of the logged in user which is initialized to 0 when creating a User object.\n",
    "\n",
    "d.) Implement the `deposit` method.\n",
    "This method should add to the logged in user balance.\n",
    "\n",
    "\n",
    "e.) login and deposit 1000dkk to Steven's account. Then use the `check_balance` method to check the balance. Then logout.\n",
    "\n",
    "`atm.check_balance()` should return: `1000`\n",
    "\n",
    "`print(atm.logged_in_user)` should return: `None` after you logout."
   ]
  },
  {
   "cell_type": "code",
   "execution_count": null,
   "metadata": {},
   "outputs": [],
   "source": []
  },
  {
   "cell_type": "markdown",
   "metadata": {},
   "source": [
    "### 17.13\n",
    "\n",
    "a.) implement the `transfer` method. The method should take recipient_ID and amount as arguments.\n",
    "The `atm.logged_in_user.balance` should have the amount removed and the `atm.users[recipient_ID]` should have the amount added.\n",
    "\n",
    "login and transfer 300dkk from Steven's account to Jacob's. Then logout and login to Jacob's account and check the balance.\n"
   ]
  },
  {
   "cell_type": "code",
   "execution_count": null,
   "metadata": {},
   "outputs": [],
   "source": []
  },
  {
   "cell_type": "markdown",
   "metadata": {},
   "source": [
    "## Bonus Exercises\n",
    "\n",
    "Try and implement some more functionality to this atm. \n",
    "\n",
    "-Add a withdraw function that checks to see if the amount is available.\n",
    "\n",
    "-Edit the `get_age` method of the user to use birthdate instead of birthyear.\n",
    "\n",
    "-Allow the user to change password\n",
    "\n",
    "-Create a Bank class that stores the users and the ATM class only stores transactions. Give each atm an ID and let the bank collect transaction records from the atms.\n",
    "\n",
    "-Create a save to file function for the bank which stores all the atm data and user data to seperate files\n",
    "\n",
    "-Create a load from file function for the bank class which loads all the transaction and user data from the files and creates the user and atm objects"
   ]
  },
  {
   "cell_type": "code",
   "execution_count": null,
   "metadata": {},
   "outputs": [],
   "source": []
  }
 ],
 "metadata": {
  "kernelspec": {
   "display_name": "Python 3",
   "language": "python",
   "name": "python3"
  },
  "language_info": {
   "codemirror_mode": {
    "name": "ipython",
    "version": 3
   },
   "file_extension": ".py",
   "mimetype": "text/x-python",
   "name": "python",
   "nbconvert_exporter": "python",
   "pygments_lexer": "ipython3",
   "version": "3.8.3-final"
  }
 },
 "nbformat": 4,
 "nbformat_minor": 4
}