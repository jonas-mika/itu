{
 "cells": [
  {
   "cell_type": "markdown",
   "metadata": {
    "slideshow": {
     "slide_type": "slide"
    }
   },
   "source": [
    "<div class=\"frontmatter text-center\">\n",
    "<h1> Introduction to Data Science and Programming</h1>\n",
    "<h2>Lecture 17: Object-oriented programming</h2>\n",
    "<h3>IT University of Copenhagen, Fall 2020</h3>\n",
    "<h3>Instructor: Michael Szell</h3>\n",
    "</div>"
   ]
  },
  {
   "cell_type": "markdown",
   "metadata": {},
   "source": [
    "# Source\n",
    "This notebook was adapted from:\n",
    "* https://www.thedigitalcatonline.com/blog/2015/03/14/python-3-oop-notebooks/\n",
    "* Zelle: Python Programming, Chapter 12"
   ]
  },
  {
   "cell_type": "markdown",
   "metadata": {
    "slideshow": {
     "slide_type": "slide"
    }
   },
   "source": [
    "## Key concept: Polymorphism\n",
    "Polymorphism is the ability of an object to adapt the code to the type of the data it is processing.\n",
    "\n",
    "A good example is Python's implementation of the `+` operator:"
   ]
  },
  {
   "cell_type": "code",
   "execution_count": 1,
   "metadata": {},
   "outputs": [
    {
     "output_type": "stream",
     "name": "stdout",
     "text": [
      "6.4\n[1, 2, 3, 4, 5]\nabrakadabra\n"
     ]
    }
   ],
   "source": [
    "def plus(a, b):\n",
    "    return a + b\n",
    "\n",
    "print(plus(int(3), float(3.4)))\n",
    "print(plus([1,2,3], [4,5]))\n",
    "print(plus(\"abra\", \"kadabra\"))"
   ]
  },
  {
   "cell_type": "markdown",
   "metadata": {
    "slideshow": {
     "slide_type": "slide"
    }
   },
   "source": [
    "Polymorphism is the reason why `+` works for all combinations of data types where this operation is defined.\n",
    "\n",
    "When we write `c = a + b`, Python actually executes `c = a.__add__(b)`: The plus operation is delegated to the first input variable. \n",
    "\n",
    "There is no need to specify the type of the two input variables. The object `a` shall be able to \"add up\" with the object `b`. This is a very beautiful and simple implementation of the polymorphism concept. Python functions are polymorphic simply because they accept everything and trust the input data to be able to perform some actions."
   ]
  },
  {
   "cell_type": "markdown",
   "metadata": {
    "slideshow": {
     "slide_type": "slide"
    }
   },
   "source": [
    "### Polymorphism is more human-readable\n",
    "In other words we just defined a sort of universal function, that does the same thing regardless of the input.\n",
    "\n",
    "This is exactly the problem that polymorphism wants to solve. We want to **describe an action regardless of the type of objects**, and this is what we do when we talk among humans. When you describe how to move an object by pushing it, you may explain it using a box, but you expect the person you are addressing to be able to repeat the action even if you need to move a pen, or a book, or a bottle."
   ]
  },
  {
   "cell_type": "markdown",
   "metadata": {
    "slideshow": {
     "slide_type": "slide"
    }
   },
   "source": [
    "### Polymorphism focuses on behavior and trusts the input\n",
    "Programming languages have two main strategies you can apply to get code that performs the same operation regardless of the input types.\n",
    "\n",
    "1) **Cover all cases**, which is a typical approach of procedural languages like `C`. If you need to sum two numbers that can be integers, float or complex, you just need to write three functions, one bound to the integer type, the second bound to the float type and the third bound to the complex type, and to have some language feature that takes charge of choosing the correct implementation depending on the input type.\n",
    "\n",
    "2) **Polymorphism**, as Python does: Simply require the input objects to solve the problem for you. In other words you _ask the data itself to perform the operation_, reversing the problem. Instead of writing a bunch of functions that add up all the possible types in every possible combination you just write one function that requires the input data to add up, trusting that they know how to do it."
   ]
  },
  {
   "cell_type": "markdown",
   "metadata": {
    "slideshow": {
     "slide_type": "slide"
    }
   },
   "source": [
    "Let's see how this looks like in a new example (https://www.programiz.com/python-programming/object-oriented-programming#polymorphism)"
   ]
  },
  {
   "cell_type": "code",
   "execution_count": 2,
   "metadata": {
    "slideshow": {
     "slide_type": "-"
    }
   },
   "outputs": [
    {
     "output_type": "stream",
     "name": "stdout",
     "text": [
      "Parrot can fly\nPenguin cannot fly\n"
     ]
    }
   ],
   "source": [
    "class Parrot:\n",
    "    def fly(self):\n",
    "        print(\"Parrot can fly\")\n",
    "    \n",
    "    def swim(self):\n",
    "        print(\"Parrot cannot swim\")\n",
    "\n",
    "class Penguin:\n",
    "    def fly(self):\n",
    "        print(\"Penguin cannot fly\")\n",
    "    \n",
    "    def swim(self):\n",
    "        print(\"Penguin can swim\")\n",
    "\n",
    "# common interface\n",
    "def flying_test(bird):\n",
    "    bird.fly()\n",
    "\n",
    "#instantiate objects\n",
    "blu = Parrot()\n",
    "peggy = Penguin()\n",
    "\n",
    "# passing the object\n",
    "flying_test(blu)\n",
    "flying_test(peggy)"
   ]
  },
  {
   "cell_type": "markdown",
   "metadata": {
    "slideshow": {
     "slide_type": "slide"
    }
   },
   "source": [
    "The application of polymorphism is that an object can provide different implementations of one of its methods depending on the type (class) of the input parameters."
   ]
  },
  {
   "cell_type": "markdown",
   "metadata": {},
   "source": [
    "### Duck typing\n",
    "\n",
    "Polymorphism is pretty cool, but it is a word that is rarely used in Python\n",
    "programming. Python goes an extra step past allowing a subclass of an object to be\n",
    "treated like a parent class. Any object may be used in any context, up until it is used in a way that it does not support (see below).\n",
    "\n",
    "This sort of polymorphism in Python is referred to as duck typing: \"*If it walks like a duck or swims like a duck, it's a duck*\". We don't care if it really is a duck (inheritance), only that it swims or walks. Geese and swans might easily be able to provide the duck-like behavior we are looking for. This allows future designers to create new types of birds without actually specifying an inheritance hierarchy for\n",
    "aquatic birds. It also allows them to create completely different drop-in behaviors\n",
    "that the original designers never planned for. For example, future designers might\n",
    "be able to make a walking, swimming penguin that works with the same interface\n",
    "without ever suggesting that penguins are ducks.\n",
    "\n",
    "**In duck typing, to see if an object can be used for a particular purpose is determined by the presence of certain methods and properties, rather than the type of the object itself.**"
   ]
  },
  {
   "cell_type": "markdown",
   "metadata": {
    "slideshow": {
     "slide_type": "slide"
    }
   },
   "source": [
    "What happens if one of the classes does not have a method?"
   ]
  },
  {
   "cell_type": "code",
   "execution_count": 3,
   "metadata": {
    "slideshow": {
     "slide_type": "slide"
    }
   },
   "outputs": [
    {
     "output_type": "stream",
     "name": "stdout",
     "text": [
      "11\n2\n"
     ]
    },
    {
     "output_type": "error",
     "ename": "TypeError",
     "evalue": "object of type 'int' has no len()",
     "traceback": [
      "\u001b[0;31m---------------------------------------------------------------------------\u001b[0m",
      "\u001b[0;31mTypeError\u001b[0m                                 Traceback (most recent call last)",
      "\u001b[0;32m<ipython-input-3-a4520ea2d19b>\u001b[0m in \u001b[0;36m<module>\u001b[0;34m\u001b[0m\n\u001b[1;32m      4\u001b[0m \u001b[0mprint\u001b[0m\u001b[0;34m(\u001b[0m\u001b[0mlen\u001b[0m\u001b[0;34m(\u001b[0m\u001b[0ms\u001b[0m\u001b[0;34m)\u001b[0m\u001b[0;34m)\u001b[0m\u001b[0;34m\u001b[0m\u001b[0;34m\u001b[0m\u001b[0m\n\u001b[1;32m      5\u001b[0m \u001b[0mprint\u001b[0m\u001b[0;34m(\u001b[0m\u001b[0mlen\u001b[0m\u001b[0;34m(\u001b[0m\u001b[0md\u001b[0m\u001b[0;34m)\u001b[0m\u001b[0;34m)\u001b[0m\u001b[0;34m\u001b[0m\u001b[0;34m\u001b[0m\u001b[0m\n\u001b[0;32m----> 6\u001b[0;31m \u001b[0mprint\u001b[0m\u001b[0;34m(\u001b[0m\u001b[0mlen\u001b[0m\u001b[0;34m(\u001b[0m\u001b[0mi\u001b[0m\u001b[0;34m)\u001b[0m\u001b[0;34m)\u001b[0m\u001b[0;34m\u001b[0m\u001b[0;34m\u001b[0m\u001b[0m\n\u001b[0m",
      "\u001b[0;31mTypeError\u001b[0m: object of type 'int' has no len()"
     ]
    }
   ],
   "source": [
    "s = \"abrakadabra\"\n",
    "d = {'a': 1, 'b': 2}\n",
    "i = 5\n",
    "print(len(s))\n",
    "print(len(d))\n",
    "print(len(i))"
   ]
  },
  {
   "cell_type": "markdown",
   "metadata": {
    "slideshow": {
     "slide_type": "slide"
    }
   },
   "source": [
    "In practice we can catch the TypeError:"
   ]
  },
  {
   "cell_type": "code",
   "execution_count": 4,
   "metadata": {},
   "outputs": [
    {
     "output_type": "stream",
     "name": "stdout",
     "text": [
      "object of type 'int' has no len()\n"
     ]
    }
   ],
   "source": [
    "try:\n",
    "    print(len(i))\n",
    "except TypeError as e:\n",
    "    print(e)"
   ]
  },
  {
   "cell_type": "markdown",
   "metadata": {
    "slideshow": {
     "slide_type": "slide"
    }
   },
   "source": [
    "If we are dealing with attributes, we catch the AttributeError:"
   ]
  },
  {
   "cell_type": "code",
   "execution_count": 5,
   "metadata": {},
   "outputs": [
    {
     "output_type": "stream",
     "name": "stdout",
     "text": [
      "'int' object has no attribute '__len__'\n"
     ]
    }
   ],
   "source": [
    "try:\n",
    "    print(i.__len__())\n",
    "except AttributeError as e:\n",
    "    print(e)"
   ]
  },
  {
   "cell_type": "code",
   "execution_count": 6,
   "metadata": {},
   "outputs": [
    {
     "output_type": "error",
     "ename": "AttributeError",
     "evalue": "'Penguin' object has no attribute 'bark'",
     "traceback": [
      "\u001b[0;31m---------------------------------------------------------------------------\u001b[0m",
      "\u001b[0;31mAttributeError\u001b[0m                            Traceback (most recent call last)",
      "\u001b[0;32m<ipython-input-6-1a3dfb7da8fc>\u001b[0m in \u001b[0;36m<module>\u001b[0;34m\u001b[0m\n\u001b[1;32m      1\u001b[0m \u001b[0;31m# We will fail in making peggy the penguin bark\u001b[0m\u001b[0;34m\u001b[0m\u001b[0;34m\u001b[0m\u001b[0;34m\u001b[0m\u001b[0m\n\u001b[0;32m----> 2\u001b[0;31m \u001b[0mpeggy\u001b[0m\u001b[0;34m.\u001b[0m\u001b[0mbark\u001b[0m\u001b[0;34m(\u001b[0m\u001b[0;34m)\u001b[0m\u001b[0;34m\u001b[0m\u001b[0;34m\u001b[0m\u001b[0m\n\u001b[0m",
      "\u001b[0;31mAttributeError\u001b[0m: 'Penguin' object has no attribute 'bark'"
     ]
    }
   ],
   "source": [
    "# We will fail in making peggy the penguin bark\n",
    "peggy.bark()"
   ]
  },
  {
   "cell_type": "markdown",
   "metadata": {
    "slideshow": {
     "slide_type": "slide"
    }
   },
   "source": [
    "# Recap: Key principles of object-oriented design\n",
    "* **Encapsulation**: Bundling data and methods that work on that data within one unit. All manipulation of the object's data should be done through its methods. This allows for modular design of complex programs.\n",
    "\n",
    "\n",
    "* **Inheritance**: A new class can be derived from an existing class. This supports sharing of methods among classes and code reuse.\n",
    "\n",
    "\n",
    "* **Polymorphism**: Different classes may implement methods with the same interface. This makes programs more flexible, allowing a single line of code to call different methods in different situations."
   ]
  },
  {
   "cell_type": "markdown",
   "metadata": {
    "slideshow": {
     "slide_type": "slide"
    }
   },
   "source": [
    "# Guidelines for object-oriented design\n",
    "1. Look for object candidates\n",
    "2. Identify instance variables\n",
    "3. Think about interfaces\n",
    "4. Refine the nontrivial methods\n",
    "5. Design iteratively\n",
    "6. Try out alternatives\n",
    "7. Keep it simple"
   ]
  },
  {
   "cell_type": "markdown",
   "metadata": {
    "slideshow": {
     "slide_type": "slide"
    }
   },
   "source": [
    "# Getting back to our Raquetball example: Designing it object-oriented"
   ]
  },
  {
   "cell_type": "markdown",
   "metadata": {},
   "source": [
    "### Classes to start with\n",
    "* `SimStats` to keep track of information\n",
    "* `RBallGame` to play a game, based on player serve win probabilities"
   ]
  },
  {
   "cell_type": "code",
   "execution_count": 4,
   "metadata": {},
   "outputs": [
    {
     "output_type": "stream",
     "name": "stdout",
     "text": [
      "This program simulates games of racquetball between two\n",
      "players called \"A\" and \"B\". The ability of each player is\n",
      "indicated by a probability (a number between 0 and 1) that\n",
      "the player wins the point when serving. Player A always\n",
      "has the first serve. \n",
      "\n",
      "----------------\n",
      "A Summary of a series of games will be printed\n",
      "After 100 games the following result occured.\n",
      "Wins of A  84:16  Wins of B\n",
      "----------------\n"
     ]
    }
   ],
   "source": [
    "# To develop during class\n",
    "\n",
    "from random import random\n",
    "\n",
    "class SimStats:\n",
    "    \"\"\"\n",
    "    SimStats handles accumulation of statistics across mutiple completed games.\n",
    "    \"\"\"\n",
    "\n",
    "    def __init__(self):\n",
    "        \"\"\"\n",
    "        Create a new accumulator for a series of games.\n",
    "        \"\"\"\n",
    "        self.winsA = 0 \n",
    "        self.winsB = 0\n",
    "\n",
    "    def update(self, game):\n",
    "        \"\"\" \n",
    "        Determine the outcome of a game and update statistics. \n",
    "        \"\"\"\n",
    "        a, b = game.getScores()\n",
    "\n",
    "        if a > b:\n",
    "            self.winsA += 1\n",
    "        else:\n",
    "            self.winsB += 1\n",
    "\n",
    "    def printReport(self):\n",
    "        \"\"\"\n",
    "        Print a nicely formatted reported \n",
    "        \"\"\"\n",
    "        print(\"----------------\")\n",
    "        print(\"A Summary of a series of games will be printed\")\n",
    "        print(f\"After {self.winsA + self.winsB} games the following result occured.\")\n",
    "        print(f\"Wins of A  {self.winsA}:{self.winsB}  Wins of B\")\n",
    "        print(\"----------------\")\n",
    "\n",
    "\n",
    "class RBallGame:\n",
    "    \"\"\"\n",
    "    An RBallGame reresents a game in progress. A game has two players and keeps track of which one is currently serving.\n",
    "    \"\"\"\n",
    "\n",
    "    def __init__(self, probA, probB):\n",
    "        \"\"\"\n",
    "        Creates a new game having players with the given probabilities.\n",
    "        \"\"\"\n",
    "\n",
    "        self.playerA = Player(probA)\n",
    "        self.playerB = Player(probB)\n",
    "        self.server =  self.playerA\n",
    "\n",
    "    def play(self):\n",
    "        \"\"\"\n",
    "        Play the game to completion\n",
    "        \"\"\"\n",
    "\n",
    "        while not self.isOver():\n",
    "            if self.server.winsServe():\n",
    "                self.server.incScore()\n",
    "            else:\n",
    "                self.changeServer()\n",
    "\n",
    "    def getScores(self):\n",
    "        \"\"\"\n",
    "        Returns the current scores of playerA and playerB\n",
    "        \"\"\"\n",
    "        return self.playerA.getScore(), self.playerB.getScore()\n",
    "\n",
    "    def isOver(self):\n",
    "        \"\"\"\n",
    "        Returns True, if the game is finished (one of the players has won)\n",
    "        \"\"\"\n",
    "        return self.playerA.getScore() == 15 or self.playerB.getScore() == 15\n",
    "\n",
    "    def changeServer(self):\n",
    "        \"\"\"\n",
    "        Switches the serving Player (changes the server attribute in RBallGame class from one Player object to another)\n",
    "        \"\"\"\n",
    "        if self.server == self.playerA:\n",
    "            self.server = self.playerB\n",
    "        else:\n",
    "            self.server = self.playerA\n",
    "\n",
    "class Player:\n",
    "    \"\"\"\n",
    "    A Player keeps track of serves win probability and score.\n",
    "    \"\"\"\n",
    "    def __init__(self, prob):\n",
    "        \"\"\"\n",
    "        Create a Player with a given probability of winning a game in which the player serves\n",
    "        \"\"\"\n",
    "        self.prob = prob\n",
    "        self.score = 0\n",
    "\n",
    "    def winsServe(self):\n",
    "        \"\"\"\n",
    "        Returns a boolean that is true with probability self.prob\n",
    "        \"\"\"\n",
    "        return random() <= self.prob\n",
    "\n",
    "    def incScore(self):\n",
    "        \"\"\"\n",
    "        Add a point to this player's score\n",
    "        \"\"\"\n",
    "        self.score += 1\n",
    "\n",
    "    def getScore(self):\n",
    "        \"\"\"\n",
    "        Returns this player's score\n",
    "        \"\"\"\n",
    "        return self.score\n",
    "\n",
    "\n",
    "\n",
    "    \n",
    "\n",
    "# functions\n",
    "def printIntro():\n",
    "    print(\"This program simulates games of racquetball between two\")\n",
    "    print('players called \"A\" and \"B\". The ability of each player is')\n",
    "    print(\"indicated by a probability (a number between 0 and 1) that\")\n",
    "    print(\"the player wins the point when serving. Player A always\")\n",
    "    print(\"has the first serve. \\n\")\n",
    "\n",
    "def getInputs():\n",
    "    \"\"\"Returns the three simulation parameters\"\"\"\n",
    "    a = eval(input(\"What is the prob. player A wins a serve? \"))\n",
    "    b = eval(input(\"What is the prob. player B wins a serve? \"))\n",
    "    n = eval(input(\"How many games to simulate? \"))\n",
    "    return a, b, n\n",
    "\n",
    "# main program\n",
    "printIntro()\n",
    "probA, probB, n = getInputs()\n",
    "\n",
    "stats = SimStats()\n",
    "\n",
    "# Play the games\n",
    "for i in range(n):\n",
    "    Game =  RBallGame(probA, probB)\n",
    "    Game.play()\n",
    "    stats.update(Game)\n",
    "\n",
    "# Print a report\n",
    "stats.printReport()\n",
    "\n"
   ]
  },
  {
   "cell_type": "markdown",
   "metadata": {},
   "source": [
    "Abstract view of a `RBallGame` object:\n",
    "    <img src=\"files/rballgame.png\" width=\"400px\"/>"
   ]
  },
  {
   "cell_type": "code",
   "execution_count": null,
   "metadata": {},
   "outputs": [],
   "source": []
  }
 ],
 "metadata": {
  "kernelspec": {
   "display_name": "Python 3",
   "language": "python",
   "name": "python3"
  },
  "language_info": {
   "codemirror_mode": {
    "name": "ipython",
    "version": 3
   },
   "file_extension": ".py",
   "mimetype": "text/x-python",
   "name": "python",
   "nbconvert_exporter": "python",
   "pygments_lexer": "ipython3",
   "version": "3.8.3-final"
  }
 },
 "nbformat": 4,
 "nbformat_minor": 1
}