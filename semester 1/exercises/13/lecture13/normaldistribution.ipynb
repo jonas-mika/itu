{
 "cells": [
  {
   "cell_type": "markdown",
   "metadata": {
    "slideshow": {
     "slide_type": "slide"
    }
   },
   "source": [
    "<div class=\"frontmatter text-center\">\n",
    "<h1>Introduction to Data Science and Programming</h1>\n",
    "<h2>Lecture 13: Normal distributions</h2>\n",
    "<h3>IT University of Copenhagen, Fall 2020</h3>\n",
    "<h3>Instructor: Michael Szell</h3>\n",
    "</div>"
   ]
  },
  {
   "cell_type": "code",
   "execution_count": 1,
   "metadata": {},
   "outputs": [],
   "source": [
    "import numpy as np\n",
    "import matplotlib.pyplot as plt\n",
    "%matplotlib inline  "
   ]
  },
  {
   "cell_type": "markdown",
   "metadata": {
    "slideshow": {
     "slide_type": "slide"
    }
   },
   "source": [
    "## Loading a data set and initial data analysis"
   ]
  },
  {
   "cell_type": "code",
   "execution_count": 2,
   "metadata": {
    "scrolled": false,
    "slideshow": {
     "slide_type": "-"
    }
   },
   "outputs": [
    {
     "name": "stdout",
     "output_type": "stream",
     "text": [
      "\"Gender\",\"Height\",\"Weight\"\r",
      "\r\n",
      "0,73.847017017515,241.893563180437\r",
      "\r\n",
      "0,68.7819040458903,162.310472521300\r",
      "\r\n",
      "0,74.1101053917849,212.7408555565\r",
      "\r\n",
      "0,71.7309784033377,220.042470303077\r",
      "\r\n",
      "0,69.8817958611153,206.349800623871\r",
      "\r\n",
      "0,67.2530156878065,152.212155757083\r",
      "\r\n",
      "0,68.7850812516616,183.927888604031\r",
      "\r\n",
      "0,68.3485155115879,167.971110489509\r",
      "\r\n",
      "0,67.018949662883,175.92944039571\r",
      "\r\n"
     ]
    }
   ],
   "source": [
    "# Data set downloaded from: https://www.kaggle.com/mustafaali96/weight-height/downloads/weight-height.zip/1\n",
    "!head files/weightheight.csv"
   ]
  },
  {
   "cell_type": "markdown",
   "metadata": {},
   "source": [
    "This data set contains gender, height [inches], and weight [pounds] about individuals."
   ]
  },
  {
   "cell_type": "code",
   "execution_count": 3,
   "metadata": {
    "slideshow": {
     "slide_type": "slide"
    }
   },
   "outputs": [],
   "source": [
    "dataweightheight = np.loadtxt('files/weightheight.csv', skiprows=1, delimiter=',')"
   ]
  },
  {
   "cell_type": "code",
   "execution_count": 4,
   "metadata": {},
   "outputs": [
    {
     "name": "stdout",
     "output_type": "stream",
     "text": [
      "(10000, 3)\n"
     ]
    }
   ],
   "source": [
    "print(dataweightheight.shape)"
   ]
  },
  {
   "cell_type": "code",
   "execution_count": 5,
   "metadata": {
    "slideshow": {
     "slide_type": "slide"
    }
   },
   "outputs": [
    {
     "data": {
      "text/plain": [
       "array([[  0.        , 187.57142322, 109.72098511],\n",
       "       [  0.        , 174.70603628,  73.62273185],\n",
       "       [  0.        , 188.2396677 ,  96.49755015],\n",
       "       [  0.        , 182.19668514,  99.80950419],\n",
       "       [  0.        , 177.49976149,  93.59861876],\n",
       "       [  0.        , 170.82265985,  69.04221615],\n",
       "       [  0.        , 174.71410638,  83.42821885],\n",
       "       [  0.        , 173.6052294 ,  76.19035195],\n",
       "       [  0.        , 170.22813214,  79.80018673],\n",
       "       [  0.        , 161.17949471,  70.94164201]])"
      ]
     },
     "execution_count": 5,
     "metadata": {},
     "output_type": "execute_result"
    }
   ],
   "source": [
    "# Turn data metric\n",
    "dataweightheight[:,1] *= 2.54\n",
    "dataweightheight[:,2] *= 0.453592\n",
    "dataweightheight[:10,:]"
   ]
  },
  {
   "cell_type": "markdown",
   "metadata": {
    "slideshow": {
     "slide_type": "slide"
    }
   },
   "source": [
    "## Exploratory data analysis of quantitative variables"
   ]
  },
  {
   "cell_type": "code",
   "execution_count": 9,
   "metadata": {
    "slideshow": {
     "slide_type": "-"
    }
   },
   "outputs": [
    {
     "data": {
      "image/png": "[encoded data removed]",
      "text/plain": [
       "<Figure size 1152x216 with 4 Axes>"
      ]
     },
     "metadata": {
      "needs_background": "light"
     },
     "output_type": "display_data"
    }
   ],
   "source": [
    "bins = [5, 30, 200, 2000]\n",
    "fig, axes = plt.subplots(nrows=1, ncols=4, figsize=(16, 3))\n",
    "\n",
    "maskmale = (dataweightheight[:,0] == 0)\n",
    "for ax, i in zip(axes, range(4)):\n",
    "    ax.hist(dataweightheight[maskmale,1], bins[i], density=True);\n",
    "    ax.set_ylim([0,0.1])\n",
    "    ax.set_xlabel('Height')\n",
    "    if i==0:\n",
    "        ax.set_ylabel('Relative frequency')\n",
    "    ax.set_title('Histogram of male heights');"
   ]
  },
  {
   "cell_type": "markdown",
   "metadata": {},
   "source": [
    "***\n",
    "What is going on?\n",
    "***"
   ]
  },
  {
   "cell_type": "code",
   "execution_count": 13,
   "metadata": {
    "slideshow": {
     "slide_type": "slide"
    }
   },
   "outputs": [
    {
     "data": {
      "image/png": "[encoded data removed]",
      "text/plain": [
       "<Figure size 288x216 with 1 Axes>"
      ]
     },
     "metadata": {
      "needs_background": "light"
     },
     "output_type": "display_data"
    }
   ],
   "source": [
    "fig = plt.figure(figsize=(4, 3)) # create figure object with a (width,height)\n",
    "axes = fig.add_axes([0, 0, 1, 1]) # left, bottom, width, height (range 0 to 1)\n",
    "\n",
    "# Plot histogram of data\n",
    "axes.hist(dataweightheight[maskmale,1], 40, density=True, alpha=0.6, color='g', edgecolor='black', linewidth=1.2);\n",
    "axes.set_xlabel('Height')\n",
    "axes.set_ylabel('Relative frequency')\n",
    "axes.set_title('Histogram of male heights');\n",
    "\n",
    "# Plot a normal distribution on top\n",
    "import scipy.stats as stats\n",
    "mu, sigma = stats.norm.fit(dataweightheight[maskmale,1])\n",
    "\n",
    "xmin, xmax = axes.get_xlim()\n",
    "x = np.linspace(xmin, xmax, 100)\n",
    "p = stats.norm.pdf(x, mu, sigma)\n",
    "axes.plot(x, p,\"k\", linewidth=2.5);"
   ]
  },
  {
   "cell_type": "code",
   "execution_count": 15,
   "metadata": {
    "scrolled": true,
    "slideshow": {
     "slide_type": "slide"
    }
   },
   "outputs": [
    {
     "data": {
      "application/vnd.jupyter.widget-view+json": {
       "model_id": "ce8403b01c8644a1a5a166ffae3866f4",
       "version_major": 2,
       "version_minor": 0
      },
      "text/plain": [
       "interactive(children=(FloatSlider(value=3.0, description='bins', min=3.0, step=1.0), Output()), _dom_classes=(…"
      ]
     },
     "metadata": {},
     "output_type": "display_data"
    }
   ],
   "source": [
    "# Interactive version\n",
    "from ipywidgets import interact\n",
    "import ipywidgets as widgets\n",
    "\n",
    "def plot_func(bins):\n",
    "    fig = plt.figure(figsize=(4, 3)) # create figure object with a (width,height)\n",
    "    axes = fig.add_axes([0, 0, 1, 1])\n",
    "    axes.hist(dataweightheight[maskmale,1], int(bins), density=True, alpha=0.6, color='g', edgecolor='black', linewidth=1);\n",
    "    axes.set_ylim([0,0.06])\n",
    "    axes.set_xlabel('Height')\n",
    "    axes.set_ylabel('Relative frequency')\n",
    "    axes.set_title('Histogram of male heights');\n",
    "    axes.plot(x, p, 'k', linewidth=2.5);\n",
    "\n",
    "interact(plot_func, bins = widgets.FloatSlider(value=3, min=3, max=100, step=1));"
   ]
  },
  {
   "cell_type": "markdown",
   "metadata": {
    "slideshow": {
     "slide_type": "slide"
    }
   },
   "source": [
    "We plotted a normal distribution on top. Visually it looks like a good fit. Play around with the bins.\n",
    "\n",
    "This normal distribution has two parameters: the mean mu and standard deviation sigma.\n",
    "They completely determine the shape of the whole curve."
   ]
  },
  {
   "cell_type": "code",
   "execution_count": 17,
   "metadata": {},
   "outputs": [
    {
     "data": {
      "text/plain": [
       "(175.32691860179227, 7.272212730423626)"
      ]
     },
     "execution_count": 17,
     "metadata": {},
     "output_type": "execute_result"
    }
   ],
   "source": [
    "mu, sigma"
   ]
  },
  {
   "cell_type": "markdown",
   "metadata": {
    "slideshow": {
     "slide_type": "slide"
    }
   },
   "source": [
    "Back to presentation"
   ]
  },
  {
   "cell_type": "markdown",
   "metadata": {
    "slideshow": {
     "slide_type": "slide"
    }
   },
   "source": [
    "Play around with different spreads. The area under the whole curve always has to be 1."
   ]
  },
  {
   "cell_type": "code",
   "execution_count": 18,
   "metadata": {
    "slideshow": {
     "slide_type": "-"
    }
   },
   "outputs": [
    {
     "data": {
      "application/vnd.jupyter.widget-view+json": {
       "model_id": "25cb84b30a884d1fb5cac30c01d68c43",
       "version_major": 2,
       "version_minor": 0
      },
      "text/plain": [
       "interactive(children=(FloatSlider(value=7.0, description='sigma', max=12.0, min=1.0, step=0.5), Output()), _do…"
      ]
     },
     "metadata": {},
     "output_type": "display_data"
    }
   ],
   "source": [
    "# Interactive version\n",
    "from ipywidgets import interact\n",
    "import ipywidgets as widgets\n",
    "\n",
    "def plot_func(sigma):\n",
    "    fig = plt.figure(figsize=(4, 3)) # create figure object with a (width,height)\n",
    "    axes = fig.add_axes([0, 0, 1, 1])\n",
    "    p = stats.norm.pdf(x, mu, sigma)\n",
    "    axes.plot(x, p, 'k', linewidth=2.5);\n",
    "    axes.set_ylim([0,0.07])\n",
    "    axes.set_xlim([x.min(),x.max()])\n",
    "    axes.set_xlabel('Height')\n",
    "    axes.set_ylabel('Relative frequency')\n",
    "    axes.set_title('Model of male heights with different spreads');\n",
    "    \n",
    "interact(plot_func, sigma = widgets.FloatSlider(value=7, min=1, max=12, step=0.5));"
   ]
  },
  {
   "cell_type": "markdown",
   "metadata": {
    "slideshow": {
     "slide_type": "slide"
    }
   },
   "source": [
    "### Q-Q plots"
   ]
  },
  {
   "cell_type": "code",
   "execution_count": 19,
   "metadata": {},
   "outputs": [],
   "source": [
    "import statsmodels.api as sm  # For the Q-Q plot\n",
    "import scipy.stats as stats  # For generating random data and for fitting"
   ]
  },
  {
   "cell_type": "markdown",
   "metadata": {
    "slideshow": {
     "slide_type": "slide"
    }
   },
   "source": [
    "Let's check if the male heights are normally distributed:"
   ]
  },
  {
   "cell_type": "code",
   "execution_count": 20,
   "metadata": {
    "scrolled": true
   },
   "outputs": [
    {
     "data": {
      "image/png": "[encoded data removed]",
      "text/plain": [
       "<Figure size 216x216 with 1 Axes>"
      ]
     },
     "metadata": {
      "needs_background": "light"
     },
     "output_type": "display_data"
    }
   ],
   "source": [
    "fig = plt.figure(figsize=(3, 3))\n",
    "axes = fig.add_axes([0, 0, 1, 1])\n",
    "sm.qqplot(dataweightheight[maskmale,1], stats.norm, fit=True, line='45',ax=axes)\n",
    "# fit=True just means that the quantiles are formed from the standardized data\n",
    "\n",
    "# Few commands to make the plot look nicer:\n",
    "axes.set_ylim([-4,4]); axes.set_xlim([-4,4])\n",
    "axes.set_xticks(axes.get_yticks()); axes.grid()\n",
    "axes.set_title(\"Q-Q plot for male heights\");"
   ]
  },
  {
   "cell_type": "markdown",
   "metadata": {},
   "source": [
    "All the points lie on the straight line, so the normal distribution is a good assumption."
   ]
  },
  {
   "cell_type": "code",
   "execution_count": null,
   "metadata": {
    "slideshow": {
     "slide_type": "slide"
    }
   },
   "outputs": [],
   "source": [
    "# Alternatively, use scipy.stats.probplot\n",
    "\n",
    "#fig = plt.figure(figsize=(3, 3)) # create figure object with a (width,height)\n",
    "#axes = fig.add_axes([0, 0, 1, 1])\n",
    "#stats.probplot(dataweightheight[maskmale,1], dist='norm', plot=axes);"
   ]
  },
  {
   "cell_type": "markdown",
   "metadata": {
    "slideshow": {
     "slide_type": "slide"
    }
   },
   "source": [
    "We now generate a new data set of 500 \"alien heights\" that is unimodal and symmetric to test normality. Notice anything particular when you scroll through the data?"
   ]
  },
  {
   "cell_type": "code",
   "execution_count": 21,
   "metadata": {
    "slideshow": {
     "slide_type": "-"
    }
   },
   "outputs": [
    {
     "name": "stdout",
     "output_type": "stream",
     "text": [
      "183.06632514293574\n"
     ]
    },
    {
     "data": {
      "text/plain": [
       "array([ 194.14808047,  171.09367286,  185.64817238,  124.14543428,\n",
       "        155.95119106,  177.0623888 ,  175.62945805,  173.25294963,\n",
       "        171.18975683,  177.71425553,  173.68131689,  181.13055708,\n",
       "        175.38004933,  176.6946823 ,  178.29156931,  393.09174254,\n",
       "        185.54712207,  173.12632198,  191.35919982,  185.83836252,\n",
       "        136.23296733,  180.49457693,  184.35525286,  181.15087237,\n",
       "        180.16784299,  175.86644859,  158.79946409,  225.05762961,\n",
       "        172.89856642,  166.74129245,  180.44681673,  543.13433621,\n",
       "        168.53226443,  178.99966149,  177.15385211,  180.44878522,\n",
       "        208.60015915,  171.63402424,  168.45126544,  172.88043169,\n",
       "        181.55469744,  180.6885908 ,  172.96430814,  375.73958374,\n",
       "        173.94959441,  172.19533928,  180.18454316,  149.7175381 ,\n",
       "        172.78511117,  182.64219241,  182.35164185,  169.59275605,\n",
       "        165.1106841 ,  174.39322023,  171.17297486,  181.08634407,\n",
       "        165.08151617,  171.06893424,  187.58026323,  177.53229717,\n",
       "        192.77562139,  265.79282847,  186.91174374,  164.50269878,\n",
       "        177.61409238,  174.4961771 ,  172.91936364,  181.36674986,\n",
       "        186.00570906,  179.34793415,  160.67679066,  179.95927944,\n",
       "        139.16674229,  165.31667347,  202.82806718,  172.94117133,\n",
       "        161.67417354,  179.31978927,  163.12297855,  178.3668987 ,\n",
       "        168.36760887,  123.74620679,  226.37698649,  143.26027441,\n",
       "        175.27252386,  171.35210446,  178.68362531,  187.59923372,\n",
       "        177.26730098,  176.88309131,  157.6057699 ,  180.21225167,\n",
       "        166.04854676,  174.79719294,  117.00081577,  170.6110726 ,\n",
       "        189.59735054,  176.24467367,  175.99025519,  172.04612657,\n",
       "        186.18079846,  169.32664258,  158.91892214,  176.33886438,\n",
       "        168.99286942,  182.84643538,  164.39883894,  183.26973778,\n",
       "        177.36461421,  124.20981527,  176.3059313 ,  178.90964292,\n",
       "        209.18387809,  183.41733992,  181.71814626,  174.93792519,\n",
       "        125.39259011,  185.33135979,  176.06206442,  176.42699147,\n",
       "        156.91209704,  141.46893232,  176.60238969,  174.69427221,\n",
       "        170.17775134,  121.68869473,  177.99718739,  158.72880367,\n",
       "        169.33805821,  170.18169453,  164.46573903,  143.62986377,\n",
       "        183.05933909,  172.84044239,  168.12145861,  175.50130531,\n",
       "        168.50666437,  188.34671475,  174.65246105,  177.72971763,\n",
       "        254.01167211,  171.71111175,  167.13760053,  275.04119038,\n",
       "        176.87992868,  291.29272777,  242.84287361,  180.03392413,\n",
       "        177.47966427,  168.28141644,  159.44159853,  172.00673403,\n",
       "        165.78393552,  182.43240048,  206.93909663,  168.55051968,\n",
       "        168.94940842,  161.0279063 ,  218.63126156,  168.19870773,\n",
       "        171.74860684,  131.765733  ,  167.78072924,  192.37108869,\n",
       "        234.71249213,  178.57521426,  170.03048804,  139.47489939,\n",
       "        189.76908634,  162.3594353 ,  169.07622883,  176.02247222,\n",
       "        168.3951947 ,  187.62321104,  175.04662109,  174.67748332,\n",
       "        196.84182097,  199.57245837,  167.93794212,  178.9706038 ,\n",
       "        169.11419903,  153.72891909,  173.25363023,  158.16251509,\n",
       "        166.19735238,  181.49501593,  174.06121899,  157.01473933,\n",
       "        166.65443789,  205.08204342,  178.20103882,  178.27349257,\n",
       "        179.25937228,  176.67889938,  183.3376117 ,  185.69418282,\n",
       "        178.33017765,  164.41602268,  180.76884044,  169.62233076,\n",
       "        187.32230843,  176.50132186,  150.5895784 ,  198.32172693,\n",
       "        174.20606172,  211.95080541,  122.61570052,  155.91255638,\n",
       "        181.94521195,  124.24512012,  173.97252602,  185.27599528,\n",
       "        173.26172094,  165.13852549,  187.50273228,  155.87244527,\n",
       "        169.73582256,  166.74222721,  174.24469715,  170.73594664,\n",
       "        197.81897078,  183.39683016,  180.05525457,  160.75055799,\n",
       "        177.45554402,  188.30359132,  202.43938549,  178.74418204,\n",
       "        168.66773576,  169.34285829,  178.03728645,  180.70075572,\n",
       "        170.30960376,  179.19203553,  175.13669728,  186.27934801,\n",
       "        179.34997536,  198.08895253,  158.0683489 ,  187.16308859,\n",
       "        215.86336226,  176.57785876,  111.59666204,  173.10963229,\n",
       "        174.11672724,  174.52882601,  179.29402068,  181.90914679,\n",
       "        185.6152646 ,  171.48773715,  177.53051916,  172.65580967,\n",
       "        180.734935  ,  176.35400867,  177.05608752,  172.53389628,\n",
       "        178.01150146,  190.19283358,  178.45885052,  159.32764863,\n",
       "        151.59252888,  179.17751637,  171.7331958 ,  170.59067252,\n",
       "        193.6198103 ,  189.70505093,  184.57542578,  171.7781267 ,\n",
       "        178.17288963,  177.14982658,  167.66195267,  176.93959896,\n",
       "        887.44621505,  134.72680368,  167.75291422,  171.06561436,\n",
       "        184.27890433,  173.80199921,  141.44000131,  170.69640075,\n",
       "        186.37138067,  181.23049411,  169.41584512,  180.85467992,\n",
       "        170.73899373,  162.10604907,  315.92891218,  168.77253926,\n",
       "        177.3795581 ,  200.29641114,  178.23000493,  173.4310353 ,\n",
       "        172.75806526,  131.73655135,  149.32311517,  173.95350199,\n",
       "        201.90720659,  167.56059397,  190.3318009 ,  184.61168074,\n",
       "        164.00108478,  170.51947142,  173.46691102,  189.15430245,\n",
       "        178.00380309,  185.9175493 ,  174.93794865,  176.77558838,\n",
       "        174.02307754,  168.63947031,  177.61230074,  176.61782542,\n",
       "        190.14394419,  202.74487482,  176.58966724,  179.68004786,\n",
       "        172.63995571,  179.14759277, 1367.79987095,  210.35321032,\n",
       "        160.90423022,  209.05672265,  120.10310916,  164.27933289,\n",
       "        170.2926679 ,  314.71578296,  212.32321975,  182.31484268,\n",
       "        177.72824841,  243.32015312,  176.56443153,  166.54049333,\n",
       "        159.96686304,  182.30579914,  175.57642994,  185.36893135,\n",
       "        183.85679976,  178.96739937,  182.93300448,  179.49645645,\n",
       "        173.47504955,  186.3408678 ,  199.76291857,  182.96765435,\n",
       "        150.76329287,  217.02819121,  174.5176959 ,  192.81396091,\n",
       "        150.4954245 ,  209.09277554,  170.59461035,  173.303539  ,\n",
       "        179.41128348,  152.15671866,  166.25028836,  176.78799233,\n",
       "        172.47433146,  155.70810164,  194.80021861,  178.90647345,\n",
       "        170.86324141,  192.91236823,  239.83472382,  149.42002319,\n",
       "        168.72727917,  175.62636195,  201.31714855,  167.54586331,\n",
       "        207.53359477,  195.87185835,  171.26731977,  167.16705   ,\n",
       "        164.68452389,  136.59469657,  223.24960148,  161.51838528,\n",
       "        225.20876674,  171.29269413,  139.4602265 ,  185.50137201,\n",
       "        184.43215673,  174.22459355,  182.71394649,  181.65047562,\n",
       "        173.95375355,  169.5757749 ,  161.0461022 ,  198.08423537,\n",
       "        148.59750846,  180.74643929,  148.0934085 ,  178.96110291,\n",
       "        140.05253261,  156.61757648,  174.4799623 ,  149.22745408,\n",
       "        108.48019813,  178.14294743,  194.60411572,  174.64674185,\n",
       "        186.97787519,  180.16299797,  206.37394473,  257.98414948,\n",
       "        176.90453061,  214.17010634,  180.04187304,  174.25336835,\n",
       "        199.49880454,  176.711186  ,  167.82917432,  172.57597931,\n",
       "        173.32712514,  163.1726735 ,  134.83337918,  179.20387556,\n",
       "        168.46119598,  162.05775073,  165.62943217,  185.43271505,\n",
       "        193.93814375,  174.03182564,  181.32517031,  176.60922859,\n",
       "        174.75815424,  178.26663867,  215.89467979,  184.37218815,\n",
       "        173.06325736,  168.35909407,  169.84590079,  277.40465901,\n",
       "        173.36662793,  175.84820003,  141.95197102,  161.01475534,\n",
       "        322.94907602,  175.75518655,  166.96088464,  178.20273377,\n",
       "        180.78996629,  175.08658709,  171.00424895,  180.62112214,\n",
       "        159.54412857,  180.56022922,  173.89014409,  175.34901845,\n",
       "        177.81985836,  189.19117724,  170.60726442,  179.7440062 ,\n",
       "        157.53278561,  173.69058815,  180.44337562,  193.59571774,\n",
       "        176.21611085,  177.98427817,  175.68095452,  171.47296613,\n",
       "        187.72831837,  176.59192952,  168.74576739,  184.04795518,\n",
       "        186.70450528,  174.00098615,  179.24056576,  152.79195822,\n",
       "        180.634464  ,  171.21940188,  180.0342872 ,  176.0234352 ,\n",
       "        186.18967376,  157.30538841,  488.91607542,  171.10890918,\n",
       "        160.0291952 ,  124.96834804,  170.77323471,  166.35616473,\n",
       "        176.59340072,  225.95800658,  166.73315392,  171.01266954,\n",
       "        168.94630405,  169.13279584,  179.46443372,  194.21881109,\n",
       "        176.81598944,  172.83877774,  173.40818596,  176.12571158,\n",
       "        170.30589639,  168.61629491,  198.03958851,  175.24227022,\n",
       "        158.01332169,  176.51058337,  168.29850092,  176.54416975])"
      ]
     },
     "execution_count": 21,
     "metadata": {},
     "output_type": "execute_result"
    }
   ],
   "source": [
    "np.random.seed(seed=6)\n",
    "dataalienheights = stats.cauchy.rvs(loc=175, scale=6.7, size=514)\n",
    "dataalienheights = dataalienheights[dataalienheights > 100]\n",
    "\n",
    "print(dataalienheights.mean())\n",
    "dataalienheights"
   ]
  },
  {
   "cell_type": "code",
   "execution_count": 22,
   "metadata": {
    "slideshow": {
     "slide_type": "slide"
    }
   },
   "outputs": [
    {
     "data": {
      "image/png": "[encoded data removed]",
      "text/plain": [
       "<Figure size 288x216 with 1 Axes>"
      ]
     },
     "metadata": {
      "needs_background": "light"
     },
     "output_type": "display_data"
    }
   ],
   "source": [
    "fig = plt.figure(figsize=(4, 3))\n",
    "axes = fig.add_axes([0, 0, 1, 1])\n",
    "\n",
    "# Plot histogram of data\n",
    "axes.hist(dataalienheights, 30, range=(145,205), density=True, alpha=0.6, color='g', edgecolor='black', linewidth=1.2);\n",
    "axes.set_xlabel('Height')\n",
    "axes.set_ylabel('Relative frequency')\n",
    "axes.set_title('Histogram of alien heights');"
   ]
  },
  {
   "cell_type": "code",
   "execution_count": 23,
   "metadata": {
    "scrolled": true,
    "slideshow": {
     "slide_type": "slide"
    }
   },
   "outputs": [
    {
     "data": {
      "image/png": "[encoded data removed]",
      "text/plain": [
       "<Figure size 288x216 with 1 Axes>"
      ]
     },
     "metadata": {
      "needs_background": "light"
     },
     "output_type": "display_data"
    }
   ],
   "source": [
    "fig = plt.figure(figsize=(4, 3))\n",
    "axes = fig.add_axes([0, 0, 1, 1]) \n",
    "\n",
    "# Plot histogram of data\n",
    "axes.hist(dataalienheights, 30, range=(145,205), density=True, alpha=0.6, color='g', edgecolor='black', linewidth=1.2);\n",
    "axes.set_xlabel('Height')\n",
    "axes.set_ylabel('Relative frequency')\n",
    "axes.set_title('Histogram of alien heights');\n",
    "\n",
    "# Plot a normal distribution on top\n",
    "axes.plot(x, p, 'k', linewidth=2.5);"
   ]
  },
  {
   "cell_type": "markdown",
   "metadata": {
    "slideshow": {
     "slide_type": "-"
    }
   },
   "source": [
    "Looks like this could be a normal distribution. To make sure let's check the Q-Q plot."
   ]
  },
  {
   "cell_type": "code",
   "execution_count": 24,
   "metadata": {
    "slideshow": {
     "slide_type": "slide"
    }
   },
   "outputs": [
    {
     "data": {
      "image/png": "[encoded data removed]",
      "text/plain": [
       "<Figure size 216x216 with 1 Axes>"
      ]
     },
     "metadata": {
      "needs_background": "light"
     },
     "output_type": "display_data"
    }
   ],
   "source": [
    "fig = plt.figure(figsize=(3, 3)) # create figure object with a (width,height)\n",
    "axes = fig.add_axes([0, 0, 1, 1])\n",
    "sm.qqplot(dataalienheights, stats.norm, fit=True, line='45',ax=axes);\n",
    "\n",
    "# Few commands to make the plot look nicer:\n",
    "axes.set_ylim([-5,20]); axes.set_xlim([-5,20])\n",
    "axes.grid()\n",
    "axes.set_title(\"Q-Q plot for alien heights\");"
   ]
  },
  {
   "cell_type": "markdown",
   "metadata": {},
   "source": [
    "This is definitely not a normal distribution!"
   ]
  },
  {
   "cell_type": "markdown",
   "metadata": {
    "slideshow": {
     "slide_type": "slide"
    }
   },
   "source": [
    "If we remove the \"outliers\" it is still a bad fit:"
   ]
  },
  {
   "cell_type": "code",
   "execution_count": 25,
   "metadata": {},
   "outputs": [
    {
     "data": {
      "image/png": "[encoded data removed]",
      "text/plain": [
       "<Figure size 216x216 with 1 Axes>"
      ]
     },
     "metadata": {
      "needs_background": "light"
     },
     "output_type": "display_data"
    }
   ],
   "source": [
    "fig = plt.figure(figsize=(3, 3)) # create figure object with a (width,height)\n",
    "axes = fig.add_axes([0, 0, 1, 1])\n",
    "sm.qqplot(dataalienheights[dataalienheights<250], stats.norm, fit=True, line='45',ax=axes);\n",
    "\n",
    "# Few commands to make the plot look nicer:\n",
    "axes.set_ylim([-5,5]); axes.set_xlim([-5,5])\n",
    "axes.grid()\n",
    "axes.set_title(\"Q-Q plot for alien heights without outliers\");"
   ]
  },
  {
   "cell_type": "markdown",
   "metadata": {
    "slideshow": {
     "slide_type": "slide"
    }
   },
   "source": [
    "If you had a normal distribution with outliers, this would be different:"
   ]
  },
  {
   "cell_type": "code",
   "execution_count": 26,
   "metadata": {},
   "outputs": [
    {
     "data": {
      "image/png": "[encoded data removed]",
      "text/plain": [
       "<Figure size 288x216 with 1 Axes>"
      ]
     },
     "metadata": {
      "needs_background": "light"
     },
     "output_type": "display_data"
    }
   ],
   "source": [
    "datanormalwithoutliers = np.append(np.random.normal(mu, sigma, 495), [260,300,400,600,700]);\n",
    "fig = plt.figure(figsize=(4, 3)) # create figure object with a (width,height)\n",
    "axes = fig.add_axes([0, 0, 1, 1]) # left, bottom, width, height (range 0 to 1)\n",
    "\n",
    "# Plot histogram of data\n",
    "axes.hist(datanormalwithoutliers, 30, range=(145,205), density=True, alpha=0.6, color='g', edgecolor='black', linewidth=1.2);\n",
    "axes.set_xlabel('Height')\n",
    "axes.set_ylabel('Relative frequency')\n",
    "axes.set_title('Histogram of normal data with outliers');\n",
    "\n",
    "# Plot a normal distribution on top\n",
    "axes.plot(x, p, 'k', linewidth=2.5);"
   ]
  },
  {
   "cell_type": "code",
   "execution_count": 27,
   "metadata": {
    "slideshow": {
     "slide_type": "slide"
    }
   },
   "outputs": [
    {
     "data": {
      "image/png": "[encoded data removed]",
      "text/plain": [
       "<Figure size 648x288 with 2 Axes>"
      ]
     },
     "metadata": {
      "needs_background": "light"
     },
     "output_type": "display_data"
    }
   ],
   "source": [
    "fig, axes = plt.subplots(nrows=1, ncols=2, figsize=(9, 4))\n",
    "\n",
    "axes[0].set_title(\"Q-Q plot for normal data with outliers\");\n",
    "sm.qqplot(datanormalwithoutliers, stats.norm, fit=True, line='45',ax=axes[0]);\n",
    "\n",
    "axes[1].set_title(\"Q-Q plot for normal data without outliers\");\n",
    "sm.qqplot(datanormalwithoutliers[datanormalwithoutliers < 230], stats.norm, fit=True, line='45',ax=axes[1]);\n",
    "\n",
    "# Few commands to make the plot look nicer:\n",
    "for ax in axes:\n",
    "    ax.set_ylim([-4,4]); ax.set_xlim([-4,4])\n",
    "    ax.set_xticks(ax.get_yticks()); ax.grid()"
   ]
  },
  {
   "cell_type": "code",
   "execution_count": null,
   "metadata": {},
   "outputs": [],
   "source": []
  }
 ],
 "metadata": {
  "celltoolbar": "Slideshow",
  "kernelspec": {
   "display_name": "Python 3",
   "language": "python",
   "name": "python3"
  },
  "language_info": {
   "codemirror_mode": {
    "name": "ipython",
    "version": 3
   },
   "file_extension": ".py",
   "mimetype": "text/x-python",
   "name": "python",
   "nbconvert_exporter": "python",
   "pygments_lexer": "ipython3",
   "version": "3.8.3"
  }
 },
 "nbformat": 4,
 "nbformat_minor": 1
}
