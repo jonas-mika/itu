{
 "cells": [
  {
   "cell_type": "markdown",
   "metadata": {
    "slideshow": {
     "slide_type": "slide"
    }
   },
   "source": [
    "<div class=\"frontmatter text-center\">\n",
    "<h1> Introduction to Data Science and Programming</h1>\n",
    "<h2>Lecture 15: Simulation and program design</h2>\n",
    "<h3>IT University of Copenhagen, Fall 2020</h3>\n",
    "<h3>Instructor: Michael Szell</h3>\n",
    "</div>"
   ]
  },
  {
   "cell_type": "markdown",
   "metadata": {},
   "source": [
    "# Source\n",
    "This notebook was adapted from:\n",
    "* Zelle: Python Programming, Chapter 9"
   ]
  },
  {
   "cell_type": "code",
   "execution_count": null,
   "metadata": {},
   "outputs": [],
   "source": [
    "from random import *\n",
    "seed(10)\n",
    "print(random())\n",
    "print(random())\n",
    "print(random())\n",
    "\n",
    "seed(10)\n",
    "print(random())\n",
    "print(random())\n",
    "print(random())"
   ]
  },
  {
   "cell_type": "markdown",
   "metadata": {},
   "source": [
    "## Top-down Raquetball simulation"
   ]
  },
  {
   "cell_type": "code",
   "execution_count": null,
   "metadata": {},
   "outputs": [],
   "source": [
    "# To develop during class\n",
    "\n",
    "from random import random\n",
    "\n",
    "# functions\n",
    "\n",
    "def printIntro():\n",
    "    \"\"\"Prints the introduction\"\"\"\n",
    "    \n",
    "    print(\"This program simulates a game of raquetball between two\")\n",
    "    print('players called \"A\" and \"B\". The abilities of each player is')\n",
    "    print(\"indicated by a probability (a number betweeen 0 and 1) that\")\n",
    "    print(\"reflects the likelihood of a player winning the serve.\")\n",
    "    print(\"Player A has the first serve.\")\n",
    "    \n",
    "def getInputs():\n",
    "    \"\"\"Returns the three simulation parameters\"\"\"\n",
    "    a = eval(input(\"What the prob. player A wins a serve? \"))\n",
    "    b = eval(input(\"What the prob. player B wins a serve? \"))\n",
    "    n = eval(input(\"How many games to simulate? \"))\n",
    "    return a, b, n\n",
    "\n",
    "    \n",
    "# main\n",
    "# We want to:\n",
    "# 1) Print an introduction\n",
    "# 2) Get the inputs: probA, probB, n\n",
    "# 3) Simulate n games of raquetball using probA and probB\n",
    "# 4) Output: Print a report on the wins for playerA and playerB\n",
    "\n"
   ]
  },
  {
   "cell_type": "markdown",
   "metadata": {},
   "source": [
    "### Exploratory unit testing"
   ]
  },
  {
   "cell_type": "code",
   "execution_count": null,
   "metadata": {},
   "outputs": [],
   "source": [
    "print(gameOver(0,0))\n",
    "print(gameOver(5,10))\n",
    "print(gameOver(15,3))\n",
    "print(gameOver(3,15))"
   ]
  },
  {
   "cell_type": "code",
   "execution_count": null,
   "metadata": {},
   "outputs": [],
   "source": [
    "print(simOneGame(.5,.5))\n",
    "print(simOneGame(.5,.5))\n",
    "print(simOneGame(.3,.3))\n",
    "print(simOneGame(.3,.3))\n",
    "print(simOneGame(.4,.9))\n",
    "print(simOneGame(.4,.9))\n",
    "print(simOneGame(.9,.4))\n",
    "print(simOneGame(.9,.4))\n",
    "print(simOneGame(.4,.6))\n",
    "print(simOneGame(.4,.6))"
   ]
  },
  {
   "cell_type": "markdown",
   "metadata": {},
   "source": [
    "### Prototyping"
   ]
  },
  {
   "cell_type": "code",
   "execution_count": null,
   "metadata": {},
   "outputs": [],
   "source": [
    "from random import random\n",
    "\n",
    "def simOneGame(): \n",
    "    scoreA = 0\n",
    "    scoreB = 0\n",
    "    serving = \"A\"\n",
    "    for i in range(30):\n",
    "        if serving == \"A\":\n",
    "            if random() < .5:\n",
    "                scoreA = scoreA + 1 \n",
    "            else:\n",
    "                serving = \"B\"\n",
    "        else:\n",
    "            if random() < .5:\n",
    "                scoreB = scoreB + 1\n",
    "            else:\n",
    "                serving = \"A\"\n",
    "    print(scoreA, scoreB)\n",
    "    \n",
    "    \n",
    "# main program\n",
    "simOneGame()"
   ]
  },
  {
   "cell_type": "markdown",
   "metadata": {},
   "source": [
    "### Exploratory unit testing of circle_area"
   ]
  },
  {
   "cell_type": "code",
   "execution_count": null,
   "metadata": {},
   "outputs": [],
   "source": [
    "from math import pi\n",
    "\n",
    "def circle_area(r):\n",
    "    return pi*(r**2)\n",
    "\n",
    "# Test function\n",
    "radii  = [2, 0, -3, 2+5j, True, \"radius\"]\n",
    "message = \"Area of circles with r = {radius} is {area}.\"\n",
    "\n",
    "for r in radii:\n",
    "    A = circle_area(r)\n",
    "    print(message.format(radius=r, area=A))\n"
   ]
  }
 ],
 "metadata": {
  "kernelspec": {
   "display_name": "Python 3",
   "language": "python",
   "name": "python3"
  },
  "language_info": {
   "codemirror_mode": {
    "name": "ipython",
    "version": 3
   },
   "file_extension": ".py",
   "mimetype": "text/x-python",
   "name": "python",
   "nbconvert_exporter": "python",
   "pygments_lexer": "ipython3",
   "version": "3.7.4"
  }
 },
 "nbformat": 4,
 "nbformat_minor": 1
}
