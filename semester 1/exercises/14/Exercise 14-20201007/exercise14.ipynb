{
 "cells": [
  {
   "cell_type": "code",
   "execution_count": 1,
   "metadata": {},
   "outputs": [],
   "source": [
    "import numpy as np\n",
    "import matplotlib.pyplot as plt\n",
    "import re\n",
    "import scipy.stats as stats"
   ]
  },
  {
   "cell_type": "markdown",
   "metadata": {},
   "source": [
    "# A Data Riddle"
   ]
  },
  {
   "cell_type": "markdown",
   "metadata": {},
   "source": [
    "The Riddler is a weekly column at [fivethirtyeight](https://fivethirtyeight.com/), where they offer puzzles on maths, logic and probability. These puzzles are often solved using data analysis approaches. \n",
    "\n",
    "The following puzzle could originally be found [here](https://fivethirtyeight.com/features/are-you-the-best-warlord/). The puzzle received submissions from around 1500 users, and their submissions are available [here](https://github.com/fivethirtyeight/data/blob/master/riddler-castles/castle-solutions-3.csv)."
   ]
  },
  {
   "cell_type": "markdown",
   "metadata": {},
   "source": [
    "___\n",
    "#### Are you The Best Warlord?\n",
    "\n",
    "In a distant, war-torn land, there are two warlords: you and your archenemy.\n",
    "\n",
    "In this land, there are ten castles. Each castle has its own strategic value for a would-be conqueror. Specifically, the castles are worth 1, 2, 3, …, 9, and 10 victory points (corresponding to the castle number). This means there are 50 victory points in total up for grabs points in the war.\n",
    "\n",
    "You and your enemy each have 100 soldiers to distribute, any way you like, to fight at any of the ten castles. Whoever sends more soldiers to a given castle conquers that castle and wins its victory points. If you each send the same number of troops, you split the points. \n",
    "\n",
    "You don’t know what distribution of forces your enemy has chosen until the battles begin. Whoever wins the most points wins the war.\n",
    "___"
   ]
  },
  {
   "cell_type": "markdown",
   "metadata": {},
   "source": [
    "In the exercises for today you will be working with these submitted solutions to the puzzle, which can be found in `submissions.txt`.\n",
    "\n",
    "The file has the following variables:\n",
    "\n",
    "| Column index | Variable | Definition |\n",
    "| -:- | :- | :- | \n",
    "| 0 | Castle 1 | The number of troops deployed to the castle |\n",
    "| 1 | Castle 2 | The number of troops deployed to the castle |\n",
    "| 2 | Castle 3 | The number of troops deployed to the castle |\n",
    "| 3 | Castle 4 | The number of troops deployed to the castle |\n",
    "| 4 | Castle 5 | The number of troops deployed to the castle |\n",
    "| 5 | Castle 6 | The number of troops deployed to the castle |\n",
    "| 6 | Castle 7 | The number of troops deployed to the castle |\n",
    "| 7 | Castle 8 | The number of troops deployed to the castle |\n",
    "| 8 | Castle 9 | The number of troops deployed to the castle |\n",
    "| 9 | Castle 10 | The number of troops deployed to the castle |\n",
    "| 10 | Why did you choose your troop deployment? | String containing the reasoning behind the submission |\n"
   ]
  },
  {
   "cell_type": "markdown",
   "metadata": {},
   "source": [
    "### 13.0. Load the data and convert it to a numpy array\n",
    "Inspect the `submissions.txt` file and read through the provided function below to understand what each line does\n",
    "\n",
    "Once you've done that, apply the function to the `submissions.txt` file and convert the resulting data structure into a numpy array which you will use for the rest of the exercises."
   ]
  },
  {
   "cell_type": "code",
   "execution_count": 4,
   "metadata": {},
   "outputs": [],
   "source": [
    "def read_csv(filepath):\n",
    "    output = []\n",
    "    regex = \"^\\d+,\\d+,\\d+,\\d+,\\d+,\\d+,\\d+,\\d+,\\d+,\\d+\"\n",
    "    with open(filepath, \"r\", errors=\"replace\") as file:\n",
    "        lines = file.readlines()\n",
    "    for line in lines:\n",
    "        regex_find = re.search(regex,line)\n",
    "        if regex_find:\n",
    "            line = regex_find.group() \n",
    "            line = line.split(\",\") \n",
    "            line = [int(value) for value in line]\n",
    "            output.append(line)\n",
    "    return output"
   ]
  },
  {
   "cell_type": "code",
   "execution_count": null,
   "metadata": {
    "scrolled": true
   },
   "outputs": [],
   "source": []
  },
  {
   "cell_type": "markdown",
   "metadata": {},
   "source": [
    "### 13.1. Clean the data\n",
    "\n",
    "We know that there are supposed to be 100 deployed troops in total per submission. This is not the case for all of the submissions, however, so we need to clean the data.\n",
    "\n",
    "Extract the rows where the sum over all the castles of the row is 100 and store your cleaned data in a new numpy array. \n",
    "___\n",
    "\n",
    "Clean data array shape: `(1321,10)`"
   ]
  },
  {
   "cell_type": "code",
   "execution_count": null,
   "metadata": {},
   "outputs": [],
   "source": []
  },
  {
   "cell_type": "markdown",
   "metadata": {},
   "source": [
    "### 13.2. Find the mean and standard deviation of each castle's number of deployed troops\n",
    "Hint: Check the jupyter notebook from today's lecture.\n",
    "\n",
    "For each castle, fit the distribution as a normal distribution (using `stats.norm.fit`) and obtain its mean, `mu`, and standard deviation, `sigma`. \n",
    "___\n",
    "\n",
    "For `Castle 1`, at column index 0, you should get mu `2.025` and sigma `3.875`."
   ]
  },
  {
   "cell_type": "code",
   "execution_count": null,
   "metadata": {},
   "outputs": [],
   "source": []
  },
  {
   "cell_type": "markdown",
   "metadata": {},
   "source": [
    "### 13.3. Plot histogram and corresponding normal distribution\n",
    "Hint: Check the lecture jupyter notebook\n",
    "\n",
    "For the castle (column) with the **highest mean value**, plot the histogram and the corresponding normal distribution. This normal distribution can be obtained using `stats.norm.fit()`."
   ]
  },
  {
   "cell_type": "code",
   "execution_count": null,
   "metadata": {},
   "outputs": [],
   "source": []
  },
  {
   "cell_type": "markdown",
   "metadata": {},
   "source": [
    "### 13.4. Plot histogram and corresponding normal distribution\n",
    "Hint: Check the lecture jupyter notebook\n",
    "\n",
    "For the castle (column) with the **lowest standard deviation value**, plot the histogram and the corresponding normal distribution. This normal distribution can be obtained using `stats.norm.fit()`."
   ]
  },
  {
   "cell_type": "code",
   "execution_count": null,
   "metadata": {},
   "outputs": [],
   "source": []
  },
  {
   "cell_type": "markdown",
   "metadata": {},
   "source": [
    "### 13.5. Plot histogram and corresponding normal distribution\n",
    "Hint: Check the lecture jupyter notebook\n",
    "\n",
    "For the castle (column) with the **highest standard deviation value**, plot the histogram and the corresponding normal distribution. This normal distribution can be obtained using `stats.norm.fit()`."
   ]
  },
  {
   "cell_type": "code",
   "execution_count": null,
   "metadata": {},
   "outputs": [],
   "source": []
  },
  {
   "cell_type": "markdown",
   "metadata": {},
   "source": [
    "### 13.6. Check if the above data distributions are good fits as normal distribution \n",
    "Hint: Check the lecture jupyter notebook\n",
    "\n",
    "Plot the Q-Q plots for the three castles from the prior exercises and verify, and if the above data distributions are good fits as normal distribution."
   ]
  },
  {
   "cell_type": "code",
   "execution_count": null,
   "metadata": {},
   "outputs": [],
   "source": []
  },
  {
   "cell_type": "markdown",
   "metadata": {},
   "source": [
    "### 13.7. Find the mode(s) and median for each of the 10 castles\n",
    "\n",
    "Hint: \n",
    "- https://docs.scipy.org/doc/scipy/reference/generated/scipy.stats.mode.html\n",
    "- https://numpy.org/doc/stable/reference/generated/numpy.median.html\n",
    "\n",
    "___\n",
    "Mode: `[[ 1,  1,  1,  1,  1,  0,  0, 20,  0,  0]]`\n",
    "Median: `[ 1.  2.  3.  6.  9. 12. 14. 18. 18. 14.]`"
   ]
  },
  {
   "cell_type": "code",
   "execution_count": null,
   "metadata": {},
   "outputs": [],
   "source": []
  },
  {
   "cell_type": "markdown",
   "metadata": {},
   "source": [
    "### 13.8. Calculate the scores for all of the potential 'battles' of each player\n",
    "For each submission (row), compare it with every other row and calculate the score for each player in each of the simulated 'battles'.\n",
    "\n",
    "The result will be 1321x1321 matrix. Each value at position (i,j) in the matrix will represent the score of player i in the battle against player j. So the first value in the first row is the result of submission 0 against itself, the second value in the first row is the result of submission 0 against submission 1, etc.\n",
    "\n",
    "Recall the rules:\n",
    "\n",
    "- The castles are worth 1, 2, 3, …, 9, and 10 victory points (corresponding to the castle number).\n",
    "- Whoever sends more soldiers to a given castle conquers that castle and wins its victory points.\n",
    "- If you each send the same number of troops, you split the points equally.\n",
    "\n",
    "Remember there are 50 points at stake in each 'battle'. This means that the sum of (i,j) and (j,i) should be 50. Check that this holds for your finished matrix.\n",
    "\n",
    "The matrix will contain the value `22.5` along the diagonal (because you are of course evenly matched with yourself as an oponent). \n",
    "___\n",
    "\n",
    "The player with the submission in the original row 0 in the data (who is therefore also at row 0 in the score matrix) has the following scores: \n",
    "\n",
    "`[22.5, 27. , 17. , ..., 22. , 21. , 30. ]`"
   ]
  },
  {
   "cell_type": "code",
   "execution_count": null,
   "metadata": {},
   "outputs": [],
   "source": []
  },
  {
   "cell_type": "markdown",
   "metadata": {},
   "source": [
    "### 13.9. Calculate the number of wins, ties, and losses for each of the submissions\n",
    " \n",
    "The result should be a 1321x3 matrix with the three columns `[wins ties losses]`.\n",
    "___\n",
    "Result for submission at row 0: `[754, 17, 550]`"
   ]
  },
  {
   "cell_type": "code",
   "execution_count": null,
   "metadata": {},
   "outputs": [],
   "source": []
  },
  {
   "cell_type": "markdown",
   "metadata": {},
   "source": [
    "### 13.10. Plot the histogram based on the number of wins per submission\n",
    "Hint: Check the lecture jupyter notebook"
   ]
  },
  {
   "cell_type": "code",
   "execution_count": null,
   "metadata": {},
   "outputs": [],
   "source": []
  },
  {
   "cell_type": "markdown",
   "metadata": {},
   "source": [
    "### 13.11. Plot the histogram based on the number of losses per submission\n",
    "Hint: Check the lecture jupyter notebook\n"
   ]
  },
  {
   "cell_type": "code",
   "execution_count": null,
   "metadata": {},
   "outputs": [],
   "source": []
  },
  {
   "cell_type": "markdown",
   "metadata": {},
   "source": [
    "### 13.12. Check if the distributions in exercise 13.10 and 13.11 follow a normal distribution\n",
    "Hint: Make QQ plots (check the lecture notebook)"
   ]
  },
  {
   "cell_type": "code",
   "execution_count": null,
   "metadata": {},
   "outputs": [],
   "source": []
  },
  {
   "cell_type": "markdown",
   "metadata": {},
   "source": [
    "### 13.13. Find the top 5 submissions based on their number of wins\n",
    "Hint: https://numpy.org/doc/stable/reference/generated/numpy.argsort.html\n",
    "\n",
    "Find the indices of the 5 submissions with the highest number of wins.\n",
    "___\n",
    "Indices: `609, 805, 178, 1222, 470`"
   ]
  },
  {
   "cell_type": "code",
   "execution_count": null,
   "metadata": {},
   "outputs": [],
   "source": []
  }
 ],
 "metadata": {
  "kernelspec": {
   "display_name": "Python 3",
   "language": "python",
   "name": "python3"
  },
  "language_info": {
   "codemirror_mode": {
    "name": "ipython",
    "version": 3
   },
   "file_extension": ".py",
   "mimetype": "text/x-python",
   "name": "python",
   "nbconvert_exporter": "python",
   "pygments_lexer": "ipython3",
   "version": "3.6.5"
  }
 },
 "nbformat": 4,
 "nbformat_minor": 4
}
