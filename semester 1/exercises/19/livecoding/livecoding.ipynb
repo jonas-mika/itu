{
  "nbformat": 4,
  "nbformat_minor": 0,
  "metadata": {
    "colab": {
      "name": "Copy of Livecoding_1.ipynb",
      "provenance": [],
      "collapsed_sections": [
        "Fg0tuD4yIgK7",
        "sout3JJtNFTm",
        "LqGIKpcZRDym",
        "_9TyuY_5T6Fr",
        "g4_lAdBLYUa5"
      ]
    },
    "kernelspec": {
      "name": "python3",
      "display_name": "Python 3"
    }
  },
  "cells": [
    {
      "cell_type": "markdown",
      "metadata": {
        "id": "UsGjSIPkuAF6"
      },
      "source": [
        "# Live coding\n",
        "\n",
        "Expected learning outcomes:\n",
        "\n",
        "-class construction for specific data structure (graph class)\n",
        "\n",
        "-module exploration (in particular networkx)"
      ]
    },
    {
      "cell_type": "code",
      "metadata": {
        "id": "1wMSYxcSuE0P"
      },
      "source": [
        "import networkx as nx\n",
        "import numpy as np\n",
        "from collections import Counter"
      ],
      "execution_count": null,
      "outputs": []
    },
    {
      "cell_type": "code",
      "metadata": {
        "id": "okZsF16Uxhr8",
        "outputId": "90f05ec8-9590-42d5-d124-cf90a4958172",
        "colab": {
          "base_uri": "https://localhost:8080/",
          "height": 52
        }
      },
      "source": [
        "print(nx.__version__)\n",
        "nx.__file__"
      ],
      "execution_count": null,
      "outputs": [
        {
          "output_type": "stream",
          "text": [
            "2.5\n"
          ],
          "name": "stdout"
        },
        {
          "output_type": "execute_result",
          "data": {
            "application/vnd.google.colaboratory.intrinsic+json": {
              "type": "string"
            },
            "text/plain": [
              "'/usr/local/lib/python3.6/dist-packages/networkx/__init__.py'"
            ]
          },
          "metadata": {
            "tags": []
          },
          "execution_count": 2
        }
      ]
    },
    {
      "cell_type": "markdown",
      "metadata": {
        "id": "X8PCiv_nEuZc"
      },
      "source": [
        "C:\\\\Users\\\\Johan\\\\Anaconda3\\\\lib\\\\site-packages\\\\numpy\\\\__init__.py'"
      ]
    },
    {
      "cell_type": "code",
      "metadata": {
        "id": "HoLfG7Fj3nxu"
      },
      "source": [
        "dir()"
      ],
      "execution_count": null,
      "outputs": []
    },
    {
      "cell_type": "markdown",
      "metadata": {
        "id": "FvHi6YtMuaFL"
      },
      "source": [
        "## Graph Class\n",
        "\n",
        "We now integrate our prefered graph representation (adjacency dict) into a class that we can build on. For now we provide it with just placeholders for our data"
      ]
    },
    {
      "cell_type": "code",
      "metadata": {
        "id": "NNULr7r0udsU"
      },
      "source": [
        "class Graph:\n",
        "    def __init__(self, directed=False):\n",
        "        self._nodes = {}\n",
        "        self._edges = {}\n",
        "        self._directed = directed\n"
      ],
      "execution_count": null,
      "outputs": []
    },
    {
      "cell_type": "markdown",
      "metadata": {
        "id": "jssUkfxwujsC"
      },
      "source": [
        ""
      ]
    },
    {
      "cell_type": "code",
      "metadata": {
        "id": "3kqF_KsEue2_"
      },
      "source": [
        "def add_method(cls):\n",
        "    def decorator(func):\n",
        "        setattr(cls, func.__name__, func)\n",
        "        return func\n",
        "    return decorator"
      ],
      "execution_count": null,
      "outputs": []
    },
    {
      "cell_type": "code",
      "metadata": {
        "id": "Xu_1XDZzuiJH"
      },
      "source": [
        "?dir"
      ],
      "execution_count": null,
      "outputs": []
    },
    {
      "cell_type": "code",
      "metadata": {
        "id": "AW8Q0W_MImd1"
      },
      "source": [
        "G = nx.DiGraph()"
      ],
      "execution_count": null,
      "outputs": []
    },
    {
      "cell_type": "code",
      "metadata": {
        "id": "i35TEc72In4D"
      },
      "source": [
        "#dir(G)"
      ],
      "execution_count": null,
      "outputs": []
    },
    {
      "cell_type": "markdown",
      "metadata": {
        "id": "UsR-ITh7IjAW"
      },
      "source": [
        "## Nodes"
      ]
    },
    {
      "cell_type": "code",
      "metadata": {
        "id": "qoB2I1miuyjH"
      },
      "source": [
        "@add_method(Graph)\n",
        "def add_node(self, node, **kwargs):\n",
        "    self._nodes[node] = kwargs\n"
      ],
      "execution_count": null,
      "outputs": []
    },
    {
      "cell_type": "code",
      "metadata": {
        "id": "FudnPl9sHzaN"
      },
      "source": [
        "@add_method(Graph)\n",
        "def add_nodes_from(self, nodes, **kwargs):\n",
        "    for node in nodes:\n",
        "        if isinstance(node, tuple):\n",
        "            self._nodes[node[0]] = node[1:]\n",
        "        else:\n",
        "            self._nodes[node] = kwargs"
      ],
      "execution_count": null,
      "outputs": []
    },
    {
      "cell_type": "code",
      "metadata": {
        "id": "1RtlhHEJIF9g"
      },
      "source": [
        ""
      ],
      "execution_count": null,
      "outputs": []
    },
    {
      "cell_type": "code",
      "metadata": {
        "id": "ezKUWzFDGmLL"
      },
      "source": [
        "G = Graph()"
      ],
      "execution_count": null,
      "outputs": []
    },
    {
      "cell_type": "code",
      "metadata": {
        "id": "Ox64l0zOH4-t",
        "outputId": "049a4cc0-ff9f-4961-b429-3b25e207de6b",
        "colab": {
          "base_uri": "https://localhost:8080/"
        }
      },
      "source": [
        "isinstance(5,str)"
      ],
      "execution_count": null,
      "outputs": [
        {
          "output_type": "execute_result",
          "data": {
            "text/plain": [
              "False"
            ]
          },
          "metadata": {
            "tags": []
          },
          "execution_count": 24
        }
      ]
    },
    {
      "cell_type": "code",
      "metadata": {
        "id": "4VdhRZXou2MX"
      },
      "source": [
        "G.add_node(\"Nah\", eye_color='brown')"
      ],
      "execution_count": null,
      "outputs": []
    },
    {
      "cell_type": "code",
      "metadata": {
        "id": "3YyKYYtGu57H",
        "outputId": "24bfd85f-d8dd-4c35-a25c-144c3bb9d4c5",
        "colab": {
          "base_uri": "https://localhost:8080/"
        }
      },
      "source": [
        "G._nodes"
      ],
      "execution_count": null,
      "outputs": [
        {
          "output_type": "execute_result",
          "data": {
            "text/plain": [
              "{'Nah': {'eye_color': 'brown'},\n",
              " 'Noah': {'eye_color': 'brown', 'hair_color': 'blond', 'height': 193}}"
            ]
          },
          "metadata": {
            "tags": []
          },
          "execution_count": 13
        }
      ]
    },
    {
      "cell_type": "code",
      "metadata": {
        "id": "qcpSR5h9Gpvo"
      },
      "source": [
        "help(nx.Graph.add_node)"
      ],
      "execution_count": null,
      "outputs": []
    },
    {
      "cell_type": "code",
      "metadata": {
        "id": "oceFVeQNG7tb"
      },
      "source": [
        "G.add_nodes_from(\"ABC\", color='red')"
      ],
      "execution_count": null,
      "outputs": []
    },
    {
      "cell_type": "code",
      "metadata": {
        "id": "hsKaCCDIHBNB",
        "outputId": "dbef48d6-1b39-4e57-8b24-aaabe186fca9",
        "colab": {
          "base_uri": "https://localhost:8080/"
        }
      },
      "source": [
        "G._nodes"
      ],
      "execution_count": null,
      "outputs": [
        {
          "output_type": "execute_result",
          "data": {
            "text/plain": [
              "{'A': {'color': 'red'}, 'B': {'color': 'red'}, 'C': {'color': 'red'}}"
            ]
          },
          "metadata": {
            "tags": []
          },
          "execution_count": 28
        }
      ]
    },
    {
      "cell_type": "code",
      "metadata": {
        "id": "I9owqKK-HDOB"
      },
      "source": [
        ""
      ],
      "execution_count": null,
      "outputs": []
    },
    {
      "cell_type": "markdown",
      "metadata": {
        "id": "Fg0tuD4yIgK7"
      },
      "source": [
        "## Edges"
      ]
    },
    {
      "cell_type": "code",
      "metadata": {
        "id": "CV8cznDHIhlx"
      },
      "source": [
        "@add_method(Graph)\n",
        "def add_edge(self, node_i, node_j, **kwargs):\n",
        "    if node_i not in self._nodes:\n",
        "        self.add_node(node_i)\n",
        "\n",
        "    if node_j not in self._nodes:\n",
        "        self.add_node(node_j)\n",
        "    \n",
        "    if node_i not in self._edges:\n",
        "        self._edges[node_i] = {}\n",
        "    \n",
        "    if node_j not in self._edges[node_i]:\n",
        "        self._edges[node_i][node_j] = {}\n",
        "\n",
        "    self._edges[node_i][node_j] = kwargs\n",
        "    \n",
        "    if not self._directed:\n",
        "        if node_j not in self._edges:\n",
        "            self._edges[node_j] = {}\n",
        "\n",
        "        if node_i not in self._edges[node_j]:\n",
        "            self._edges[node_j][node_i] = {}\n",
        "\n",
        "        self._edges[node_j][node_i] = kwargs\n",
        "\n",
        "\n",
        "@add_method(Graph)\n",
        "def add_edges_from(self, edges, **kwargs):\n",
        "    for edge in edges:\n",
        "        self.add_edge(*edge, **kwargs)\n",
        "    \n",
        "\n",
        "\n",
        "# edge = (node_i, node_j)"
      ],
      "execution_count": null,
      "outputs": []
    },
    {
      "cell_type": "code",
      "metadata": {
        "id": "KO8jLTAPMBSn"
      },
      "source": [
        "edge_list = [\n",
        "    ('A', 'B'),\n",
        "    ('A', 'C'),\n",
        "    ('A', 'E'),\n",
        "    ('B', 'C'),\n",
        "    ('C', 'D'),\n",
        "    ('C', 'E'),\n",
        "    ('D', 'E')]"
      ],
      "execution_count": null,
      "outputs": []
    },
    {
      "cell_type": "code",
      "metadata": {
        "id": "YN1HCt6OMC0D"
      },
      "source": [
        "G = Graph()"
      ],
      "execution_count": null,
      "outputs": []
    },
    {
      "cell_type": "code",
      "metadata": {
        "id": "RbAWWFsaMEiK"
      },
      "source": [
        "G.add_edges_from(edge_list)"
      ],
      "execution_count": null,
      "outputs": []
    },
    {
      "cell_type": "code",
      "metadata": {
        "id": "C2s8KP8kMIDa",
        "outputId": "c2a0c96d-a568-43f4-80c0-9b6cce972893",
        "colab": {
          "base_uri": "https://localhost:8080/"
        }
      },
      "source": [
        "G._edges"
      ],
      "execution_count": null,
      "outputs": [
        {
          "output_type": "execute_result",
          "data": {
            "text/plain": [
              "{'A': {'B': {}, 'C': {}, 'E': {}},\n",
              " 'B': {'A': {}, 'C': {}},\n",
              " 'C': {'A': {}, 'B': {}, 'D': {}, 'E': {}},\n",
              " 'D': {'C': {}, 'E': {}},\n",
              " 'E': {'A': {}, 'C': {}, 'D': {}}}"
            ]
          },
          "metadata": {
            "tags": []
          },
          "execution_count": 54
        }
      ]
    },
    {
      "cell_type": "code",
      "metadata": {
        "id": "Qz0s9toyMKWS",
        "outputId": "48bf5c1d-292b-4b52-fe4e-ecfe011d9ef2",
        "colab": {
          "base_uri": "https://localhost:8080/"
        }
      },
      "source": [
        "G._nodes"
      ],
      "execution_count": null,
      "outputs": [
        {
          "output_type": "execute_result",
          "data": {
            "text/plain": [
              "{'A': {}, 'B': {}, 'C': {}, 'D': {}, 'E': {}}"
            ]
          },
          "metadata": {
            "tags": []
          },
          "execution_count": 41
        }
      ]
    },
    {
      "cell_type": "markdown",
      "metadata": {
        "id": "sout3JJtNFTm"
      },
      "source": [
        "## Attribute methods"
      ]
    },
    {
      "cell_type": "code",
      "metadata": {
        "id": "_Y5SSu-8MXPc"
      },
      "source": [
        "@add_method(Graph)\n",
        "def edgelist(self):\n",
        "    e = []\n",
        "    \n",
        "    for node_i in self._edges:\n",
        "        for node_j in self._edges[node_i]:\n",
        "            e.append([node_i, node_j, self._edges[node_i][node_j]])\n",
        "            \n",
        "    return e \n"
      ],
      "execution_count": null,
      "outputs": []
    },
    {
      "cell_type": "code",
      "metadata": {
        "id": "7ysiTWMRMtZm",
        "outputId": "db7f2157-44dd-49c8-c228-7e56052e19cd",
        "colab": {
          "base_uri": "https://localhost:8080/"
        }
      },
      "source": [
        "G.edgelist()"
      ],
      "execution_count": null,
      "outputs": [
        {
          "output_type": "execute_result",
          "data": {
            "text/plain": [
              "[['A', 'B', {}],\n",
              " ['A', 'C', {}],\n",
              " ['A', 'E', {}],\n",
              " ['B', 'A', {}],\n",
              " ['B', 'C', {}],\n",
              " ['C', 'A', {}],\n",
              " ['C', 'B', {}],\n",
              " ['C', 'D', {}],\n",
              " ['C', 'E', {}],\n",
              " ['E', 'A', {}],\n",
              " ['E', 'C', {}],\n",
              " ['E', 'D', {}],\n",
              " ['D', 'C', {}],\n",
              " ['D', 'E', {}]]"
            ]
          },
          "metadata": {
            "tags": []
          },
          "execution_count": 48
        }
      ]
    },
    {
      "cell_type": "code",
      "metadata": {
        "id": "lOucfw_YM7uS"
      },
      "source": [
        "@add_method(Graph)\n",
        "def number_of_nodes(self):\n",
        "    return len(self._nodes)"
      ],
      "execution_count": null,
      "outputs": []
    },
    {
      "cell_type": "code",
      "metadata": {
        "id": "DDt47u5ANNI8",
        "outputId": "51ffc385-7c03-42e4-af5e-eb0998dbd8ae",
        "colab": {
          "base_uri": "https://localhost:8080/"
        }
      },
      "source": [
        "G.number_of_nodes()"
      ],
      "execution_count": null,
      "outputs": [
        {
          "output_type": "execute_result",
          "data": {
            "text/plain": [
              "5"
            ]
          },
          "metadata": {
            "tags": []
          },
          "execution_count": 55
        }
      ]
    },
    {
      "cell_type": "code",
      "metadata": {
        "id": "lIpJtlE2NWtT",
        "outputId": "fc689bf7-860e-4521-8f5a-845c6e73c537",
        "colab": {
          "base_uri": "https://localhost:8080/"
        }
      },
      "source": [
        "G._nodes"
      ],
      "execution_count": null,
      "outputs": [
        {
          "output_type": "execute_result",
          "data": {
            "text/plain": [
              "{'A': {}, 'B': {}, 'C': {}, 'D': {}, 'E': {}}"
            ]
          },
          "metadata": {
            "tags": []
          },
          "execution_count": 56
        }
      ]
    },
    {
      "cell_type": "code",
      "metadata": {
        "id": "T-LvU7XgNYoj"
      },
      "source": [
        "@add_method(Graph)\n",
        "def degrees(self):\n",
        "    deg = {}\n",
        "    \n",
        "    for node in self._nodes:\n",
        "        if node in self._edges:\n",
        "            deg[node] =  len(self._edges[node])\n",
        "        else:\n",
        "            deg[node] = 0\n",
        "    \n",
        "    return deg"
      ],
      "execution_count": null,
      "outputs": []
    },
    {
      "cell_type": "code",
      "metadata": {
        "id": "MBgYR4X5NlkD"
      },
      "source": [
        "G = Graph()\n",
        "G.add_edges_from(edge_list)"
      ],
      "execution_count": null,
      "outputs": []
    },
    {
      "cell_type": "code",
      "metadata": {
        "id": "lTB7hEesOF1L",
        "outputId": "6c6deb70-604f-47d2-e817-3ea902447aeb",
        "colab": {
          "base_uri": "https://localhost:8080/"
        }
      },
      "source": [
        "G.degrees()"
      ],
      "execution_count": null,
      "outputs": [
        {
          "output_type": "execute_result",
          "data": {
            "text/plain": [
              "{'A': 3, 'B': 2, 'C': 4, 'D': 2, 'E': 3}"
            ]
          },
          "metadata": {
            "tags": []
          },
          "execution_count": 60
        }
      ]
    },
    {
      "cell_type": "code",
      "metadata": {
        "id": "ruwuPcB7OHJ7",
        "outputId": "1632c3a2-d1c9-494d-e753-c7d38b988fd5",
        "colab": {
          "base_uri": "https://localhost:8080/"
        }
      },
      "source": [
        "G._edges"
      ],
      "execution_count": null,
      "outputs": [
        {
          "output_type": "execute_result",
          "data": {
            "text/plain": [
              "{'A': {'B': {}, 'C': {}, 'E': {}},\n",
              " 'B': {'A': {}, 'C': {}},\n",
              " 'C': {'A': {}, 'B': {}, 'D': {}, 'E': {}},\n",
              " 'D': {'C': {}, 'E': {}},\n",
              " 'E': {'A': {}, 'C': {}, 'D': {}}}"
            ]
          },
          "metadata": {
            "tags": []
          },
          "execution_count": 61
        }
      ]
    },
    {
      "cell_type": "code",
      "metadata": {
        "id": "f1x1-pdXORXj"
      },
      "source": [
        "@add_method(Graph)\n",
        "def number_of_edges(self):\n",
        "    n_edges = 0\n",
        "    \n",
        "    for node_i in self._edges:\n",
        "        n_edges += len(self._edges[node_i])\n",
        "    \n",
        "    # If the graph is undirected, don't double count the edges\n",
        "    if not self._directed:\n",
        "        n_edges /= 2\n",
        "    \n",
        "    return n_edges"
      ],
      "execution_count": null,
      "outputs": []
    },
    {
      "cell_type": "code",
      "metadata": {
        "id": "rN1n7trmOcLj"
      },
      "source": [
        "@add_method(Graph)\n",
        "def is_directed(self):\n",
        "    return self._directed"
      ],
      "execution_count": null,
      "outputs": []
    },
    {
      "cell_type": "code",
      "metadata": {
        "id": "QR_IKnnOOeWD"
      },
      "source": [
        "dir(nx.Graph())"
      ],
      "execution_count": null,
      "outputs": []
    },
    {
      "cell_type": "code",
      "metadata": {
        "id": "GA5m9cagPOzj",
        "outputId": "eb13663c-aa7e-485b-aee4-0856f8366ffc",
        "colab": {
          "base_uri": "https://localhost:8080/"
        }
      },
      "source": [
        "G._edges"
      ],
      "execution_count": null,
      "outputs": [
        {
          "output_type": "execute_result",
          "data": {
            "text/plain": [
              "{'A': {'B': {}, 'C': {}, 'E': {}},\n",
              " 'B': {'A': {}, 'C': {}},\n",
              " 'C': {'A': {}, 'B': {}, 'D': {}, 'E': {}},\n",
              " 'D': {'C': {}, 'E': {}},\n",
              " 'E': {'A': {}, 'C': {}, 'D': {}}}"
            ]
          },
          "metadata": {
            "tags": []
          },
          "execution_count": 66
        }
      ]
    },
    {
      "cell_type": "code",
      "metadata": {
        "id": "FVk54_1DOkpF"
      },
      "source": [
        "@add_method(Graph)\n",
        "def weights(self, weight=\"weight\", default = 1):\n",
        "    w = {}\n",
        "\n",
        "    for node_i in self._edges:\n",
        "        for node_j in self._edges[node_i]:\n",
        "            if weight in self._edges[node_i][node_j]:\n",
        "                w[(node_i, node_j)] = self._edges[node_i][node_j][weight]\n",
        "            else:\n",
        "                w[(node_i, node_j)] = default\n",
        "    return w"
      ],
      "execution_count": null,
      "outputs": []
    },
    {
      "cell_type": "code",
      "metadata": {
        "id": "f88seuD6QtmD"
      },
      "source": [
        "G = Graph()\n",
        "G.add_edges_from(edge_list)\n",
        "G._edges['A']['B']['weight']=4"
      ],
      "execution_count": null,
      "outputs": []
    },
    {
      "cell_type": "code",
      "metadata": {
        "id": "G_GO8KrjQPNm",
        "outputId": "307f1aba-2b1f-48f1-92e2-90dc9445720c",
        "colab": {
          "base_uri": "https://localhost:8080/"
        }
      },
      "source": [
        "G.weights()"
      ],
      "execution_count": null,
      "outputs": [
        {
          "output_type": "execute_result",
          "data": {
            "text/plain": [
              "{('A', 'B'): 4,\n",
              " ('A', 'C'): 1,\n",
              " ('A', 'E'): 1,\n",
              " ('B', 'A'): 4,\n",
              " ('B', 'C'): 1,\n",
              " ('C', 'A'): 1,\n",
              " ('C', 'B'): 1,\n",
              " ('C', 'D'): 1,\n",
              " ('C', 'E'): 1,\n",
              " ('D', 'C'): 1,\n",
              " ('D', 'E'): 1,\n",
              " ('E', 'A'): 1,\n",
              " ('E', 'C'): 1,\n",
              " ('E', 'D'): 1}"
            ]
          },
          "metadata": {
            "tags": []
          },
          "execution_count": 79
        }
      ]
    },
    {
      "cell_type": "code",
      "metadata": {
        "id": "0w9Xw8hLQXQ8",
        "outputId": "f0527bde-3935-4311-9a4b-18d2e5e974cd",
        "colab": {
          "base_uri": "https://localhost:8080/"
        }
      },
      "source": [
        "G._edges"
      ],
      "execution_count": null,
      "outputs": [
        {
          "output_type": "execute_result",
          "data": {
            "text/plain": [
              "{'A': {'B': {'weight': 4}, 'C': {}, 'E': {}},\n",
              " 'B': {'A': {'weight': 4}, 'C': {}},\n",
              " 'C': {'A': {}, 'B': {}, 'D': {}, 'E': {}},\n",
              " 'D': {'C': {}, 'E': {}},\n",
              " 'E': {'A': {}, 'C': {}, 'D': {}}}"
            ]
          },
          "metadata": {
            "tags": []
          },
          "execution_count": 80
        }
      ]
    },
    {
      "cell_type": "code",
      "metadata": {
        "id": "X76lAbLgQnEE"
      },
      "source": [
        ""
      ],
      "execution_count": null,
      "outputs": []
    },
    {
      "cell_type": "markdown",
      "metadata": {
        "id": "LqGIKpcZRDym"
      },
      "source": [
        "## Topology and Correlations"
      ]
    },
    {
      "cell_type": "code",
      "metadata": {
        "id": "YSG50IkjRGIp"
      },
      "source": [
        "@add_method(Graph)\n",
        "def neighbours(self, node):\n",
        "    return list(self._edges[node].keys())"
      ],
      "execution_count": null,
      "outputs": []
    },
    {
      "cell_type": "code",
      "metadata": {
        "id": "FHlIzd_pRZc2"
      },
      "source": [
        "G = Graph()\n",
        "G.add_edges_from(edge_list)\n",
        "G._edges['A']['B']['weight']=4"
      ],
      "execution_count": null,
      "outputs": []
    },
    {
      "cell_type": "code",
      "metadata": {
        "id": "sfrEQr1PRcLs",
        "outputId": "6bcf9da4-0ad9-4058-c3b2-d5fa8dbc1304",
        "colab": {
          "base_uri": "https://localhost:8080/"
        }
      },
      "source": [
        "[len(G.neighbours(node)) for node in G._edges]"
      ],
      "execution_count": null,
      "outputs": [
        {
          "output_type": "execute_result",
          "data": {
            "text/plain": [
              "[3, 2, 4, 3, 2]"
            ]
          },
          "metadata": {
            "tags": []
          },
          "execution_count": 85
        }
      ]
    },
    {
      "cell_type": "code",
      "metadata": {
        "id": "Ll_MejtNRd68"
      },
      "source": [
        "@add_method(Graph)\n",
        "def _build_distribution(data, normalize=True):\n",
        "    values = data.values()\n",
        "    dist = list(Counter(values).items())\n",
        "    dist.sort(key=lambda x:x[0])\n",
        "    dist = np.array(dist, dtype = 'float')\n",
        "\n",
        "    if normalize:\n",
        "        #norm = dist.T[1].sum()\n",
        "        norm = dist.sum(axis=0)[1]\n",
        "        #norm = dist[:,1].sum()\n",
        "\n",
        "        dist.T[1] /= norm\n",
        "\n",
        "    return dist"
      ],
      "execution_count": null,
      "outputs": []
    },
    {
      "cell_type": "code",
      "metadata": {
        "id": "Xf05N480UfIB"
      },
      "source": [
        "@add_method(Graph)\n",
        "def degree_distribution(self, normalize=True):\n",
        "    deg = self.degrees()\n",
        "    dist = Graph._build_distribution(deg, normalize)\n",
        "    \n",
        "    return dist"
      ],
      "execution_count": null,
      "outputs": []
    },
    {
      "cell_type": "code",
      "metadata": {
        "id": "z5BwgK5tVPq_",
        "outputId": "50d3e62f-84f9-4ee5-e906-6ff131216a7f",
        "colab": {
          "base_uri": "https://localhost:8080/"
        }
      },
      "source": [
        "G.degree_distribution()"
      ],
      "execution_count": null,
      "outputs": [
        {
          "output_type": "execute_result",
          "data": {
            "text/plain": [
              "array([[2. , 0.4],\n",
              "       [3. , 0.4],\n",
              "       [4. , 0.2]])"
            ]
          },
          "metadata": {
            "tags": []
          },
          "execution_count": 121
        }
      ]
    },
    {
      "cell_type": "code",
      "metadata": {
        "id": "MmDR6MfEWZA2"
      },
      "source": [
        "dist = G.degree_distribution()"
      ],
      "execution_count": null,
      "outputs": []
    },
    {
      "cell_type": "code",
      "metadata": {
        "id": "SGMLgqCDWbxD",
        "outputId": "bf044c2a-d727-4b79-d2ab-a8b69e45a8ad",
        "colab": {
          "base_uri": "https://localhost:8080/"
        }
      },
      "source": [
        "dist.sum(axis=0)[1]"
      ],
      "execution_count": null,
      "outputs": [
        {
          "output_type": "execute_result",
          "data": {
            "text/plain": [
              "1.0"
            ]
          },
          "metadata": {
            "tags": []
          },
          "execution_count": 117
        }
      ]
    },
    {
      "cell_type": "code",
      "metadata": {
        "id": "NkSNv2ZpVbuH",
        "outputId": "0e640644-7ec8-405d-b8e2-d8f3562720ae",
        "colab": {
          "base_uri": "https://localhost:8080/"
        }
      },
      "source": [
        "G._edges"
      ],
      "execution_count": null,
      "outputs": [
        {
          "output_type": "execute_result",
          "data": {
            "text/plain": [
              "{'A': {'B': {'weight': 4}, 'C': {}, 'E': {}},\n",
              " 'B': {'A': {'weight': 4}, 'C': {}},\n",
              " 'C': {'A': {}, 'B': {}, 'D': {}, 'E': {}},\n",
              " 'D': {'C': {}, 'E': {}},\n",
              " 'E': {'A': {}, 'C': {}, 'D': {}}}"
            ]
          },
          "metadata": {
            "tags": []
          },
          "execution_count": 108
        }
      ]
    },
    {
      "cell_type": "code",
      "metadata": {
        "id": "KiC6LXqbWpGr"
      },
      "source": [
        "@add_method(Graph)\n",
        "def weight_distribution(self, normalize=True):\n",
        "    w = self.weights()\n",
        "    dist = Graph._build_distribution(w, normalize)\n",
        "    return dist"
      ],
      "execution_count": null,
      "outputs": []
    },
    {
      "cell_type": "code",
      "metadata": {
        "id": "zbd7yM0mW5ga"
      },
      "source": [
        "G = Graph()\n",
        "G.add_edges_from(edge_list)\n",
        "G._edges['A']['B']['weight']=4"
      ],
      "execution_count": null,
      "outputs": []
    },
    {
      "cell_type": "code",
      "metadata": {
        "id": "l9UYJzhfW7KB",
        "outputId": "fef7cdd9-bbf1-4a7c-c2e4-20d73b8d94a8",
        "colab": {
          "base_uri": "https://localhost:8080/"
        }
      },
      "source": [
        "G.weight_distribution()"
      ],
      "execution_count": null,
      "outputs": [
        {
          "output_type": "execute_result",
          "data": {
            "text/plain": [
              "array([[1.        , 0.85714286],\n",
              "       [4.        , 0.14285714]])"
            ]
          },
          "metadata": {
            "tags": []
          },
          "execution_count": 128
        }
      ]
    },
    {
      "cell_type": "code",
      "metadata": {
        "id": "1lqOYx0mXK1Z"
      },
      "source": [
        "@"
      ],
      "execution_count": null,
      "outputs": []
    },
    {
      "cell_type": "markdown",
      "metadata": {
        "id": "_9TyuY_5T6Fr"
      },
      "source": [
        "### Lambda and sort"
      ]
    },
    {
      "cell_type": "code",
      "metadata": {
        "id": "PWyiQPo8TM47"
      },
      "source": [
        "# lambda x:x[0]\n",
        "\n",
        "# def name(x):\n",
        "#     return x[0]\n",
        "\n",
        "test = [[1,2],\n",
        " [12,2],\n",
        " [4,2],\n",
        " [5,3],\n",
        " [1,2]]"
      ],
      "execution_count": null,
      "outputs": []
    },
    {
      "cell_type": "code",
      "metadata": {
        "id": "bOSUibjvTs0f"
      },
      "source": [
        "test.sort(key=lambda x:x[1])"
      ],
      "execution_count": null,
      "outputs": []
    },
    {
      "cell_type": "code",
      "metadata": {
        "id": "SGaHiMmHTxwu",
        "outputId": "5dd3b6af-5162-4b59-c445-861de580e8f2",
        "colab": {
          "base_uri": "https://localhost:8080/"
        }
      },
      "source": [
        "test"
      ],
      "execution_count": null,
      "outputs": [
        {
          "output_type": "execute_result",
          "data": {
            "text/plain": [
              "[[1, 2], [1, 2], [4, 2], [12, 2], [5, 3]]"
            ]
          },
          "metadata": {
            "tags": []
          },
          "execution_count": 92
        }
      ]
    },
    {
      "cell_type": "code",
      "metadata": {
        "id": "wC1dKziSTyTd"
      },
      "source": [
        "test_np = np.array(test)"
      ],
      "execution_count": null,
      "outputs": []
    },
    {
      "cell_type": "code",
      "metadata": {
        "id": "PF_BJSiGU1pX",
        "outputId": "f47068c6-ed67-47bd-a03d-d5ee10679250",
        "colab": {
          "base_uri": "https://localhost:8080/"
        }
      },
      "source": [
        "test_np"
      ],
      "execution_count": null,
      "outputs": [
        {
          "output_type": "execute_result",
          "data": {
            "text/plain": [
              "array([[ 1,  2],\n",
              "       [ 1,  2],\n",
              "       [ 4,  2],\n",
              "       [12,  2],\n",
              "       [ 5,  3]])"
            ]
          },
          "metadata": {
            "tags": []
          },
          "execution_count": 95
        }
      ]
    },
    {
      "cell_type": "code",
      "metadata": {
        "id": "UvnkYnEzU2RF",
        "outputId": "06e36c49-2724-4cd0-9852-a20d637b2161",
        "colab": {
          "base_uri": "https://localhost:8080/"
        }
      },
      "source": [
        "test_np.T"
      ],
      "execution_count": null,
      "outputs": [
        {
          "output_type": "execute_result",
          "data": {
            "text/plain": [
              "array([[ 1,  1,  4, 12,  5],\n",
              "       [ 2,  2,  2,  2,  3]])"
            ]
          },
          "metadata": {
            "tags": []
          },
          "execution_count": 96
        }
      ]
    },
    {
      "cell_type": "code",
      "metadata": {
        "id": "1jOyuA1eU4wk",
        "outputId": "b17a630f-9a75-40c8-dc29-5530b75b5533",
        "colab": {
          "base_uri": "https://localhost:8080/"
        }
      },
      "source": [
        "test_np.T[1]"
      ],
      "execution_count": null,
      "outputs": [
        {
          "output_type": "execute_result",
          "data": {
            "text/plain": [
              "array([2, 2, 2, 2, 3])"
            ]
          },
          "metadata": {
            "tags": []
          },
          "execution_count": 97
        }
      ]
    },
    {
      "cell_type": "code",
      "metadata": {
        "id": "mY9JDcrGU9OV",
        "outputId": "05b2228d-cb46-4887-b8e1-1a0c4628adb2",
        "colab": {
          "base_uri": "https://localhost:8080/"
        }
      },
      "source": [
        "test_np[1]"
      ],
      "execution_count": null,
      "outputs": [
        {
          "output_type": "execute_result",
          "data": {
            "text/plain": [
              "array([1, 2])"
            ]
          },
          "metadata": {
            "tags": []
          },
          "execution_count": 98
        }
      ]
    },
    {
      "cell_type": "code",
      "metadata": {
        "id": "VnSs6hWRU-qd"
      },
      "source": [
        ""
      ],
      "execution_count": null,
      "outputs": []
    },
    {
      "cell_type": "markdown",
      "metadata": {
        "id": "g4_lAdBLYUa5"
      },
      "source": [
        "## new"
      ]
    },
    {
      "cell_type": "code",
      "metadata": {
        "id": "AtvMwP9BYS7A"
      },
      "source": [
        "n = 1000\n",
        "test_list = [i for i in range(n)]"
      ],
      "execution_count": null,
      "outputs": []
    },
    {
      "cell_type": "code",
      "metadata": {
        "id": "u6zwoLZbYeqf"
      },
      "source": [
        "for i in test_list:\n",
        "    sum_ += i\n",
        "\n",
        "for i in test_list:\n",
        "    return i == 1\n",
        "\n",
        "# O(n)\n",
        "\n",
        "# O(1)\n",
        "\n",
        "test_list[10]\n",
        "\n",
        "# O(n^2)\n",
        "# O(10*n)\n",
        "\n",
        "1000 * 1000\n",
        "output = []\n",
        "for i in test_list:\n",
        "    for j in test_list:\n",
        "        output.append(i+j)\n",
        "    "
      ],
      "execution_count": null,
      "outputs": []
    }
  ]
}