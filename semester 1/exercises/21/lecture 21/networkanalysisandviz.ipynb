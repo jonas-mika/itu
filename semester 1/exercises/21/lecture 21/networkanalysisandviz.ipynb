{
 "cells": [
  {
   "cell_type": "markdown",
   "metadata": {},
   "source": [
    "<div class=\"frontmatter text-center\">\n",
    "<h1> Introduction to Data Science and Programming</h1>\n",
    "<h2>Lecture 21: Network analyis and visualization</h2>\n",
    "<h3>IT University of Copenhagen, Fall 2020</h3>\n",
    "<h3>Instructor: Michael Szell</h3>\n",
    "</div>"
   ]
  },
  {
   "cell_type": "markdown",
   "metadata": {},
   "source": [
    "# Source\n",
    "This notebook was adapted from:\n",
    "* A network science class by Sean Cornelius and Emma Thompson"
   ]
  },
  {
   "cell_type": "code",
   "execution_count": null,
   "metadata": {
    "slideshow": {
     "slide_type": "-"
    }
   },
   "outputs": [],
   "source": [
    "import numpy as np\n",
    "import networkx as nx\n",
    "import matplotlib.pyplot as plt\n",
    "import matplotlib as mpl\n",
    "%matplotlib inline"
   ]
  },
  {
   "cell_type": "markdown",
   "metadata": {
    "slideshow": {
     "slide_type": "fragment"
    }
   },
   "source": [
    "# Getting started: reading in an edge list\n",
    "\n",
    "Read in the file `test.txt` with the following options\n",
    "* lines starting with `#` are treated as comments and ignored  \n",
    "* use a `Graph` object to hold the data (i.e., network is undirected)  \n",
    "* data are separated by whitespace (' ')\n",
    "* nodes should be treated as integers (`int`)\n",
    "* encoding of the text file containing the edge list is utf-8"
   ]
  },
  {
   "cell_type": "code",
   "execution_count": null,
   "metadata": {
    "slideshow": {
     "slide_type": "-"
    }
   },
   "outputs": [],
   "source": [
    "# read in an edge list from the file 'test.txt'\n",
    "G = nx.read_edgelist('files/test.txt', comments='#',\n",
    "                     create_using=nx.Graph(), \n",
    "                     delimiter=' ', \n",
    "                     nodetype=int, \n",
    "                     encoding='utf-8')"
   ]
  },
  {
   "cell_type": "markdown",
   "metadata": {
    "slideshow": {
     "slide_type": "fragment"
    }
   },
   "source": [
    "### Allowed formats\n",
    "* Node pairs with no data  \n",
    "`1 2`\n",
    "* Node pairs with python dictionary  \n",
    "`1 2 {weight:7, color:\"green\"}`"
   ]
  },
  {
   "cell_type": "markdown",
   "metadata": {
    "slideshow": {
     "slide_type": "slide"
    }
   },
   "source": [
    "# Basic analysis\n",
    "A large number of basic analyses can be done in one line using NetworkX + numpy or builtin python functions like `min`, `max`, etc."
   ]
  },
  {
   "cell_type": "code",
   "execution_count": null,
   "metadata": {
    "slideshow": {
     "slide_type": "-"
    }
   },
   "outputs": [],
   "source": [
    "N = len(G)\n",
    "L = G.size()\n",
    "degrees = [d for _, d in G.degree()]\n",
    "kmin = min(degrees)\n",
    "kmax = max(degrees)"
   ]
  },
  {
   "cell_type": "code",
   "execution_count": null,
   "metadata": {
    "slideshow": {
     "slide_type": "fragment"
    }
   },
   "outputs": [],
   "source": [
    "print(\"Number of nodes: \", N)\n",
    "print(\"Number of edges: \", L)\n",
    "print()\n",
    "print(\"Average degree: \", 2*L/N)\n",
    "print(\"Average degree (alternate calculation)\", np.mean(degrees))\n",
    "print()\n",
    "print(\"Minimum degree: \", kmin)\n",
    "print(\"Maximum degree: \", kmax)"
   ]
  },
  {
   "cell_type": "markdown",
   "metadata": {
    "slideshow": {
     "slide_type": "slide"
    }
   },
   "source": [
    "# Drawing the network\n",
    "* NetworkX can draw networks using a large number of layout algorithms  \n",
    "* The results are not as pretty as Gephi, but NetworkX is better for a quick 'n dirty visualization and\n",
    "gives you finer-grained control over the layout."
   ]
  },
  {
   "cell_type": "code",
   "execution_count": null,
   "metadata": {
    "slideshow": {
     "slide_type": "subslide"
    }
   },
   "outputs": [],
   "source": [
    "# using the force-based or \"spring\" layout algorithm\n",
    "fig = plt.figure(figsize=(8,8))\n",
    "nx.draw_spring(G, node_size=30)"
   ]
  },
  {
   "cell_type": "code",
   "execution_count": null,
   "metadata": {
    "slideshow": {
     "slide_type": "subslide"
    }
   },
   "outputs": [],
   "source": [
    "# using the fcircular layout algorithm\n",
    "fig = plt.figure(figsize=(8,8))\n",
    "nx.draw_circular(G, node_size=30)"
   ]
  },
  {
   "cell_type": "markdown",
   "metadata": {
    "slideshow": {
     "slide_type": "slide"
    }
   },
   "source": [
    "# Plotting the degree distribution"
   ]
  },
  {
   "cell_type": "markdown",
   "metadata": {
    "slideshow": {
     "slide_type": "fragment"
    }
   },
   "source": [
    "Let's plot it in log scale first with log-binning, using `np.logspace` and `np.histogram`:"
   ]
  },
  {
   "cell_type": "code",
   "execution_count": null,
   "metadata": {},
   "outputs": [],
   "source": [
    "fig = plt.figure(figsize=(4, 3))\n",
    "axes = fig.add_axes([0, 0, 1, 1])\n",
    "\n",
    "logbins = np.logspace(np.log10(kmin), np.log10(kmax), num=10)\n",
    "h, binedges = np.histogram(degrees,  bins=logbins, density=True) # We use np.histogram to make the binning calculations. Plotting is done with axes.plot below.\n",
    "binmidpoints = (binedges[1:] + binedges[:-1]) / 2\n",
    "\n",
    "axes.plot(binmidpoints, h, \"o\")\n",
    "axes.set_xlabel(\"Degree k\")\n",
    "axes.set_ylabel(\"P(x)\")\n",
    "axes.set_xscale('log') \n",
    "axes.set_yscale('log') "
   ]
  },
  {
   "cell_type": "markdown",
   "metadata": {
    "slideshow": {
     "slide_type": "fragment"
    }
   },
   "source": [
    "This is clearly not a network with anything like a heavy-tailed degree distribution.\n",
    "So let's plot it in linear scale without any binning:"
   ]
  },
  {
   "cell_type": "code",
   "execution_count": null,
   "metadata": {},
   "outputs": [],
   "source": [
    "fig = plt.figure(figsize=(4, 3))\n",
    "axes = fig.add_axes([0, 0, 1, 1])\n",
    "\n",
    "# See: https://networkx.github.io/documentation/stable/auto_examples/drawing/plot_degree_histogram.html\n",
    "from collections import Counter\n",
    "degree_sequence = [d for _, d in G.degree()]  # degree sequence\n",
    "degreeCount = Counter(degree_sequence)\n",
    "print(degreeCount) # print for teaching\n",
    "\n",
    "# Normalize\n",
    "total = sum(degreeCount.values())\n",
    "for key in degreeCount:\n",
    "    degreeCount[key] /= total\n",
    "print(degreeCount.items()) # print for teaching\n",
    "    \n",
    "deg, prob = zip(*degreeCount.items()) # unpacks the first tuple elements into deg, unpacks the second tuple elements into prob\n",
    "\n",
    "\n",
    "axes.plot(deg, prob, \"o\")\n",
    "axes.set_xlabel(\"Degree k\")\n",
    "axes.set_ylabel(\"P(k)\");"
   ]
  },
  {
   "cell_type": "markdown",
   "metadata": {},
   "source": [
    "# Network visualization with Netwulf\n",
    "\n",
    "It's a very new package (right now version v0.1.5) developed by Ben Maier and Ulf Aslak, so use with caution: https://pypi.org/project/netwulf/\n",
    "\n",
    "That being said, many people are already using it because of its easy controls and Jupyter notebook integration.\n",
    "Install: `pip install netwulf`"
   ]
  },
  {
   "cell_type": "code",
   "execution_count": null,
   "metadata": {},
   "outputs": [],
   "source": [
    "import netwulf as wulf\n",
    "\n",
    "G = nx.barabasi_albert_graph(100,m=1)\n",
    "stylized_network, config = wulf.visualize(G)"
   ]
  }
 ],
 "metadata": {
  "celltoolbar": "Slideshow",
  "kernelspec": {
   "display_name": "Python 3",
   "language": "python",
   "name": "python3"
  },
  "language_info": {
   "codemirror_mode": {
    "name": "ipython",
    "version": 3
   },
   "file_extension": ".py",
   "mimetype": "text/x-python",
   "name": "python",
   "nbconvert_exporter": "python",
   "pygments_lexer": "ipython3",
   "version": "3.7.4"
  }
 },
 "nbformat": 4,
 "nbformat_minor": 1
}
