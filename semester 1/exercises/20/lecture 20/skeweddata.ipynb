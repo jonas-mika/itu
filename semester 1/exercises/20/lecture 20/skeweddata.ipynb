{
 "cells": [
  {
   "cell_type": "markdown",
   "metadata": {
    "slideshow": {
     "slide_type": "slide"
    }
   },
   "source": [
    "<div class=\"frontmatter text-center\">\n",
    "<h1> Introduction to Data Science and Programming</h1>\n",
    "<h2>Lecture 20: Skewed data</h2>\n",
    "<h3>IT University of Copenhagen, Fall 2020</h3>\n",
    "<h3>Instructor: Michael Szell</h3>\n",
    "</div>"
   ]
  },
  {
   "cell_type": "markdown",
   "metadata": {},
   "source": [
    "# Source\n",
    "This notebook was adapted from:\n",
    "* James Bagrow: http://bagrow.com/dsv/"
   ]
  },
  {
   "cell_type": "code",
   "execution_count": null,
   "metadata": {},
   "outputs": [],
   "source": [
    "import matplotlib.pyplot as plt\n",
    "%matplotlib inline  \n",
    "from random import *\n",
    "np.random.seed(seed=10)"
   ]
  },
  {
   "cell_type": "markdown",
   "metadata": {},
   "source": [
    "# From narrow to broad data"
   ]
  },
  {
   "cell_type": "markdown",
   "metadata": {},
   "source": [
    "### Narrow data"
   ]
  },
  {
   "cell_type": "markdown",
   "metadata": {},
   "source": [
    "In many physical systems a quantity is distributed following a normal distribution tightly around some central value. For example, the heights of humans.\n",
    "\n",
    "You can see this distribution with a histogram:"
   ]
  },
  {
   "cell_type": "code",
   "execution_count": null,
   "metadata": {
    "scrolled": false
   },
   "outputs": [],
   "source": [
    "heights = 1.75 + np.random.randn(1000,1)*0.1\n",
    "\n",
    "fig = plt.figure(figsize=(4, 3))\n",
    "axes = fig.add_axes([0, 0, 1, 1])\n",
    "\n",
    "axes.hist(heights, 20, edgecolor=\"w\")\n",
    "axes.set_xlabel(\"Height [m]\")\n",
    "axes.set_ylabel(\"Number of subjects\");"
   ]
  },
  {
   "cell_type": "markdown",
   "metadata": {},
   "source": [
    "It's called the \"normal distribution\" because it's so common.\n",
    "\n",
    "You don't see humans that are 20 meters tall, or 20 kilometers."
   ]
  },
  {
   "cell_type": "markdown",
   "metadata": {},
   "source": [
    "### Broad data"
   ]
  },
  {
   "cell_type": "markdown",
   "metadata": {},
   "source": [
    "But many systems, like social systems, do not exhibit such a narrow spread of values!\n",
    "\n",
    "USA income distribution:\n",
    "\n",
    "<img src=\"files/us-income-distribution.gif\" width=800>\n",
    "\n",
    "If we compute a histogram going from 5k/year of income to 500M/year, we're going to need a huge number of bins to cover that range, and almost all of the data is going to be crammed into the first few bins (covering everyone earning less than, say, 1M/year)."
   ]
  },
  {
   "cell_type": "markdown",
   "metadata": {},
   "source": [
    "***"
   ]
  },
  {
   "cell_type": "markdown",
   "metadata": {},
   "source": [
    "**Broad data** covers a very large range of values. Much larger than you would see from a normal distribution.\n",
    "\n",
    "It is **skewed** in one direction. You can see if this is happening by comparing the mean and the median:"
   ]
  },
  {
   "cell_type": "code",
   "execution_count": null,
   "metadata": {},
   "outputs": [],
   "source": [
    "np.random.seed(seed=10)\n",
    "incomes = 10000*(1+np.random.pareto(1.0, 1000)) # fake data that somewhat models real income distributions\n",
    "incomes = incomes.astype(int)\n",
    "\n",
    "print(\"   min = \" + str(min(incomes)))\n",
    "print(\"   max = \" + str(max(incomes)))\n",
    "print(\"  mean = \" + str(np.mean(incomes)))\n",
    "print(\"median = \" + str(np.median(incomes)))"
   ]
  },
  {
   "cell_type": "code",
   "execution_count": null,
   "metadata": {
    "scrolled": false
   },
   "outputs": [],
   "source": [
    "incomes"
   ]
  },
  {
   "cell_type": "markdown",
   "metadata": {},
   "source": [
    "If we try to make a histogram, we're **going to have a bad time**:"
   ]
  },
  {
   "cell_type": "code",
   "execution_count": null,
   "metadata": {},
   "outputs": [],
   "source": [
    "fig = plt.figure(figsize=(4, 3))\n",
    "axes = fig.add_axes([0, 0, 1, 1])\n",
    "\n",
    "axes.hist(incomes, 30, edgecolor=\"w\")\n",
    "axes.set_xlabel(\"Income\")\n",
    "axes.set_ylabel(\"Number of people in income group\");"
   ]
  },
  {
   "cell_type": "markdown",
   "metadata": {},
   "source": [
    "We can use more bins and zoom in, but we're still not going to see much:"
   ]
  },
  {
   "cell_type": "code",
   "execution_count": null,
   "metadata": {},
   "outputs": [],
   "source": [
    "fig = plt.figure(figsize=(4, 3))\n",
    "axes = fig.add_axes([0, 0, 1, 1])\n",
    "\n",
    "axes.hist(incomes, 500, edgecolor=\"w\")\n",
    "axes.set_xlim([10000,200000])\n",
    "axes.set_xlabel(\"Income\")\n",
    "axes.set_ylabel(\"Number of people in income group\");"
   ]
  },
  {
   "cell_type": "markdown",
   "metadata": {},
   "source": [
    "We need a log transformation!"
   ]
  },
  {
   "cell_type": "markdown",
   "metadata": {},
   "source": [
    "## Log transformation"
   ]
  },
  {
   "cell_type": "markdown",
   "metadata": {},
   "source": [
    "The function $y= \\log(x)$ grows very very slowly. \n",
    "We can make $x$ **HUGE** and the log will just **cram** it way down to a small number.\n",
    "\n",
    "Let's see this:"
   ]
  },
  {
   "cell_type": "code",
   "execution_count": null,
   "metadata": {},
   "outputs": [],
   "source": [
    "x = np.linspace(1,1000,400)\n",
    "y = np.log10(x)"
   ]
  },
  {
   "cell_type": "code",
   "execution_count": null,
   "metadata": {},
   "outputs": [],
   "source": [
    "fig = plt.figure(figsize=(4, 3))\n",
    "axes = fig.add_axes([0, 0, 1, 1])\n",
    "\n",
    "axes.plot(x, y, '-', lw=3)\n",
    "axes.grid(True,which=\"both\",ls=\"-\")\n",
    "axes.set_xlabel(\"x\")\n",
    "axes.set_ylabel(\"y = log(x)\")\n",
    "axes.set_title(\"Linear plot\");"
   ]
  },
  {
   "cell_type": "markdown",
   "metadata": {},
   "source": [
    "### Log transforming the plot scale"
   ]
  },
  {
   "cell_type": "markdown",
   "metadata": {},
   "source": [
    "We now plot **exactly** the same data, just on a semilogx scale:"
   ]
  },
  {
   "cell_type": "code",
   "execution_count": null,
   "metadata": {
    "scrolled": false
   },
   "outputs": [],
   "source": [
    "fig = plt.figure(figsize=(4, 3))\n",
    "axes = fig.add_axes([0, 0, 1, 1])\n",
    "\n",
    "axes.semilogx(x, y, '-', lw=3)\n",
    "axes.grid(True,which=\"both\",ls=\"-\")\n",
    "axes.set_xlabel(\"x\")\n",
    "axes.set_ylabel(\"y = log(x)\")\n",
    "axes.set_title(\"Nonlinear plot\");"
   ]
  },
  {
   "cell_type": "markdown",
   "metadata": {},
   "source": [
    "We can **change space** as we move along the x-axis, squashing larger and larger chunks into a given visual length in such as way that the slow-growing log function now **appears linear!**"
   ]
  },
  {
   "cell_type": "markdown",
   "metadata": {},
   "source": [
    "### Log transforming the data itself"
   ]
  },
  {
   "cell_type": "markdown",
   "metadata": {},
   "source": [
    "Instead of squeezing the plot scale, we could just squeeze the data, and use a linear plot scale. The visual outcome is the same:"
   ]
  },
  {
   "cell_type": "code",
   "execution_count": null,
   "metadata": {
    "scrolled": true
   },
   "outputs": [],
   "source": [
    "fig = plt.figure(figsize=(4, 3))\n",
    "axes = fig.add_axes([0, 0, 1, 1])\n",
    "\n",
    "axes.plot(np.log10(x), y, '-', lw=3 )\n",
    "axes.grid(True,which=\"both\",ls=\"-\")\n",
    "axes.set_xlabel(\"log(x)\")\n",
    "axes.set_ylabel(\"y = log(x)\")\n",
    "axes.set_title(\"Linear plot on log-transformed data\");"
   ]
  },
  {
   "cell_type": "markdown",
   "metadata": {},
   "source": [
    "The only difference is that `semilogx` is smart enough to nicely label the x-axis with $10^0$ instead of $0$, $10^1$ instead of $1$, $10^2$ instead of $2$, etc., and to allow displaying a logarithmic grid."
   ]
  },
  {
   "cell_type": "markdown",
   "metadata": {},
   "source": [
    "### Log transforming the income data"
   ]
  },
  {
   "cell_type": "markdown",
   "metadata": {},
   "source": [
    "So what? Why is this helpful?\n",
    "\n",
    "The income data is too broad to see what is happening. The log is a **squashing** function.  \n",
    "\n",
    "We can log-transform the broad data to squash it down into a range where we can see what's going on!"
   ]
  },
  {
   "cell_type": "code",
   "execution_count": null,
   "metadata": {},
   "outputs": [],
   "source": [
    "fig, ax = plt.subplots(nrows=1, ncols=2, figsize=(10, 3))\n",
    "\n",
    "# Left subplot: Original income data\n",
    "axes = ax[0]\n",
    "axes.hist(incomes, 30, edgecolor=\"w\")\n",
    "axes.set_xlabel(\"Income\")\n",
    "axes.set_ylabel(\"Number of people in income group\")\n",
    "\n",
    "# Right subplot: log transformed income data\n",
    "axes = ax[1]\n",
    "axes.hist(np.log10(incomes), 30, edgecolor=\"w\")\n",
    "axes.set_xlabel(\"log(Income)\")\n",
    "axes.set_ylabel(\"Number of people in log(income) group\");"
   ]
  },
  {
   "cell_type": "markdown",
   "metadata": {},
   "source": [
    "Nice! We see much more now. And we can even spot the millionaires at 6 ($10^6$)."
   ]
  },
  {
   "cell_type": "markdown",
   "metadata": {},
   "source": [
    "### Plotting a histogram in log scale"
   ]
  },
  {
   "cell_type": "markdown",
   "metadata": {},
   "source": [
    "What happens if we bin the original income data and then plot that on a log-axis?"
   ]
  },
  {
   "cell_type": "code",
   "execution_count": null,
   "metadata": {
    "scrolled": true
   },
   "outputs": [],
   "source": [
    "fig = plt.figure(figsize=(4, 3))\n",
    "axes = fig.add_axes([0, 0, 1, 1])\n",
    "\n",
    "axes.hist(incomes, 30, edgecolor=\"w\")\n",
    "axes.set_xlabel(\"Income\")\n",
    "axes.set_ylabel(\"Number of people in income group\");\n",
    "\n",
    "axes.set_xscale('log') \n",
    "axes.grid(True,which=\"both\",ls=\"-\") # Shown for teaching"
   ]
  },
  {
   "cell_type": "markdown",
   "metadata": {},
   "source": [
    "**Whoa** That ain't right. \n",
    "\n",
    "All we've done is taken the original bins and stretched them logarithmically. That one huge bin still contains the vast majority of the data."
   ]
  },
  {
   "cell_type": "markdown",
   "metadata": {},
   "source": [
    "***\n",
    "To make a nice plot, what we should do is choose **non-uniform** bins. If you choose bins that are spaced wider and wider apart, the log will squash them down until (if chosen well) they are all the same width on the logarithmic scale:"
   ]
  },
  {
   "cell_type": "code",
   "execution_count": null,
   "metadata": {},
   "outputs": [],
   "source": [
    "fig = plt.figure(figsize=(4, 3))\n",
    "axes = fig.add_axes([0, 0, 1, 1])\n",
    "\n",
    "axes.hist(incomes,  bins=np.logspace(4, 7, 30), edgecolor=\"w\")\n",
    "axes.set_xlabel(\"Income\")\n",
    "axes.set_ylabel(\"Number of people in income group\");\n",
    "axes.set_xscale('log') \n",
    "axes.grid(True,which=\"both\",ls=\"-\") # Shown for teaching"
   ]
  },
  {
   "cell_type": "markdown",
   "metadata": {},
   "source": [
    "### loglog scale"
   ]
  },
  {
   "cell_type": "markdown",
   "metadata": {},
   "source": [
    "Sometimes both your x- and your y-values are broadly distribued. We can also log-transform y.\n",
    "\n",
    "If we plot a function $y=f(x)$ on a plot where both the x- and the y-scales are logarithmic and we see a **straight line** what kind of function is $f$?\n",
    "\n",
    "\n",
    "Ans: power function.\n",
    "\n",
    "\n",
    "$$y = a x^b$$\n",
    "\n",
    "To see this take the log of both sides and replace $\\log(y) \\to y'$ and $\\log(x) \\to x'$.\n",
    "\n",
    "$$\n",
    "\\log(y) = \\log(a x^b) = \\log(a) + \\log(x^b) = a' + b \\log(x)\n",
    "$$\n",
    "\n",
    "so\n",
    "\n",
    "$$y' = a' + b x'$$\n",
    "\n",
    "which is a straight line when we plot $x'$ vs. $y'$. The slope of the straight line is $b$, the exponent of $x$."
   ]
  },
  {
   "cell_type": "markdown",
   "metadata": {},
   "source": [
    "*** \n",
    "\n",
    "Let's see this in action:"
   ]
  },
  {
   "cell_type": "code",
   "execution_count": null,
   "metadata": {},
   "outputs": [],
   "source": [
    "minx = min(incomes)\n",
    "maxx = max(incomes)\n",
    "num_bins = 50\n",
    "logbins = np.logspace(np.log10(minx), np.log10(maxx), num_bins)\n",
    "\n",
    "fig = plt.figure(figsize=(4, 3))\n",
    "axes = fig.add_axes([0, 0, 1, 1])\n",
    "\n",
    "axes.hist(incomes,  bins=logbins, edgecolor=\"w\")\n",
    "axes.set_xlabel(\"Income\")\n",
    "axes.set_ylabel(\"Number of people in income group\");\n",
    "axes.set_xscale('log') \n",
    "axes.set_yscale('log') \n",
    "axes.grid(True,which=\"both\",ls=\"-\") # Shown for teaching"
   ]
  },
  {
   "cell_type": "markdown",
   "metadata": {},
   "source": [
    "Nice. \n",
    "\n",
    "***\n",
    "\n",
    "But notice how we don't really need bars, and how they are infinitely tall due to $log(0) \\to -\\infty$? Therefore it is more customary to draw a plot using lines or points. Also it is nicer to draw a density function using `density=True`:"
   ]
  },
  {
   "cell_type": "code",
   "execution_count": null,
   "metadata": {
    "scrolled": true
   },
   "outputs": [],
   "source": [
    "fig = plt.figure(figsize=(4, 3))\n",
    "axes = fig.add_axes([0, 0, 1, 1])\n",
    "\n",
    "h, binedges = np.histogram(incomes,  bins=logbins, density=True) # We use np.histogram to make the binning calculations. Plotting is done with axes.plot below.\n",
    "binmidpoints = (binedges[1:] + binedges[:-1]) / 2\n",
    "axes.plot(binmidpoints, h, \"o\")\n",
    "axes.set_xlabel(\"Income x\")\n",
    "axes.set_ylabel(\"f(x)\");\n",
    "axes.set_xscale('log') \n",
    "axes.set_yscale('log') \n",
    "axes.grid(True,which=\"both\",ls=\"-\") # Shown for teaching"
   ]
  },
  {
   "cell_type": "markdown",
   "metadata": {},
   "source": [
    "We can see well the power law relation here, but there are also fluctuations. Going next to the complementary cumulative density function solves this issue."
   ]
  },
  {
   "cell_type": "markdown",
   "metadata": {},
   "source": [
    "*Back to presentation*"
   ]
  },
  {
   "cell_type": "markdown",
   "metadata": {
    "slideshow": {
     "slide_type": "slide"
    }
   },
   "source": [
    "# From probability density function (PDF) to complementary cumulative density function (CCDF)"
   ]
  },
  {
   "cell_type": "code",
   "execution_count": null,
   "metadata": {},
   "outputs": [],
   "source": [
    "def plot_pdfcdfccdf(x, setylog=False, setxlog=False, n_bins=100):\n",
    "    \"\"\"Plots the PDF, CDF, and CCDF for a given data set x, using hist.\"\"\" \n",
    "\n",
    "    fig, axes = plt.subplots(nrows=1, ncols=3, figsize=(16, 3))\n",
    "    xlim = [np.min(x),np.max(x)]\n",
    "    if setxlog:\n",
    "        xlogstring = \"log \"\n",
    "    else:\n",
    "        xlogstring = \"\"\n",
    "\n",
    "    # Plot the density curve\n",
    "    ax = axes[0]\n",
    "    ax.hist(x, n_bins, density=True, cumulative=False, log=setylog)\n",
    "    ax.set_ylabel('$f(x)$')\n",
    "    ax.set_xlabel('Data '+ xlogstring +'$x$')\n",
    "    ax.set_title('PDF')\n",
    "\n",
    "    # Plot the cumulative density curve\n",
    "    ax = axes[1]\n",
    "    ax.hist(x, n_bins, density=True, cumulative=True, log=setylog)\n",
    "    ax.set_ylabel('$P_{\\leq}(x)$')\n",
    "    ax.set_xlabel('Data '+ xlogstring +'$x$')\n",
    "    ax.set_title('CDF')\n",
    "\n",
    "    # Plot the complementary cumulative density curve\n",
    "    ax = axes[2]\n",
    "    ax.hist(x, n_bins, density=True, cumulative=-1, log=setylog)\n",
    "    ax.set_ylabel('$P_{>}(x)$')\n",
    "    ax.set_xlabel('Data '+ xlogstring +'$x$')\n",
    "    ax.set_title('CCDF')\n",
    "\n",
    "    for ax in axes:\n",
    "        ax.set_xlim(xlim)"
   ]
  },
  {
   "cell_type": "markdown",
   "metadata": {},
   "source": [
    "### Uniform distribution"
   ]
  },
  {
   "cell_type": "markdown",
   "metadata": {},
   "source": [
    "#### Theoretical"
   ]
  },
  {
   "cell_type": "code",
   "execution_count": null,
   "metadata": {},
   "outputs": [],
   "source": [
    "plot_pdfcdfccdf(range(100))"
   ]
  },
  {
   "cell_type": "markdown",
   "metadata": {},
   "source": [
    "#### Sampled"
   ]
  },
  {
   "cell_type": "code",
   "execution_count": null,
   "metadata": {
    "scrolled": false,
    "slideshow": {
     "slide_type": "-"
    }
   },
   "outputs": [],
   "source": [
    "x = np.random.uniform(0, 100, size=10000)\n",
    "plot_pdfcdfccdf(x)"
   ]
  },
  {
   "cell_type": "markdown",
   "metadata": {},
   "source": [
    "Nice: the CDF and CCDF get rid of all the fluctuations."
   ]
  },
  {
   "cell_type": "markdown",
   "metadata": {},
   "source": [
    "### Normal distribution"
   ]
  },
  {
   "cell_type": "code",
   "execution_count": null,
   "metadata": {
    "scrolled": true
   },
   "outputs": [],
   "source": [
    "x = np.random.normal(175, 5, size=10000)\n",
    "plot_pdfcdfccdf(x)"
   ]
  },
  {
   "cell_type": "markdown",
   "metadata": {},
   "source": [
    "### Exponential distribution"
   ]
  },
  {
   "cell_type": "markdown",
   "metadata": {},
   "source": [
    "#### Linear scale"
   ]
  },
  {
   "cell_type": "code",
   "execution_count": null,
   "metadata": {
    "scrolled": true
   },
   "outputs": [],
   "source": [
    "x = np.random.exponential(100, size=10000)\n",
    "plot_pdfcdfccdf(x)"
   ]
  },
  {
   "cell_type": "markdown",
   "metadata": {},
   "source": [
    "#### Semilogy scale (better)"
   ]
  },
  {
   "cell_type": "code",
   "execution_count": null,
   "metadata": {},
   "outputs": [],
   "source": [
    "plot_pdfcdfccdf(x, True)"
   ]
  },
  {
   "cell_type": "markdown",
   "metadata": {},
   "source": [
    "Nice: We can see how the exponential becomes a straight line in the semilogy PDF and CCDF. The CCDF has the added value of being monotonically non-increasing: it is getting rid of fluctuations.\n",
    "\n",
    "Also note how on a semilogy scale we really need to go from CDF to CCDF so that we can investigate the tail."
   ]
  },
  {
   "cell_type": "markdown",
   "metadata": {},
   "source": [
    "### Power law distribution"
   ]
  },
  {
   "cell_type": "markdown",
   "metadata": {},
   "source": [
    "#### Linear scale (bad)"
   ]
  },
  {
   "cell_type": "code",
   "execution_count": null,
   "metadata": {
    "scrolled": false
   },
   "outputs": [],
   "source": [
    "plot_pdfcdfccdf(incomes)"
   ]
  },
  {
   "cell_type": "markdown",
   "metadata": {},
   "source": [
    "#### Semilogy scale (better)"
   ]
  },
  {
   "cell_type": "code",
   "execution_count": null,
   "metadata": {
    "scrolled": true
   },
   "outputs": [],
   "source": [
    "plot_pdfcdfccdf(incomes, True)"
   ]
  },
  {
   "cell_type": "markdown",
   "metadata": {},
   "source": [
    "#### Loglog (best)"
   ]
  },
  {
   "cell_type": "code",
   "execution_count": null,
   "metadata": {},
   "outputs": [],
   "source": [
    "plot_pdfcdfccdf(np.log10(incomes), True, True)"
   ]
  },
  {
   "cell_type": "markdown",
   "metadata": {},
   "source": [
    "Nice: We can see how the power law becomes a straight line in the loglog PDF and CCDF. The CCDF has the added value of being monotonically non-increasing: it is getting rid of fluctuations.\n",
    "\n",
    "Also note how on a loglog scale we really need to go from CDF to CCDF so that we can investigate the tail."
   ]
  },
  {
   "cell_type": "markdown",
   "metadata": {},
   "source": [
    "***\n",
    "Look how different this is to the normal distribution in loglog scale:"
   ]
  },
  {
   "cell_type": "code",
   "execution_count": null,
   "metadata": {},
   "outputs": [],
   "source": [
    "x = np.random.normal(175, 5, size=10000)\n",
    "plot_pdfcdfccdf(np.log10(x), True, True)"
   ]
  },
  {
   "cell_type": "markdown",
   "metadata": {},
   "source": [
    "The range of log x values is **miniscule**: 2.19 to 2.29! The tail drops off *extremely* fast."
   ]
  },
  {
   "cell_type": "markdown",
   "metadata": {},
   "source": [
    "## Beyond binning"
   ]
  },
  {
   "cell_type": "markdown",
   "metadata": {},
   "source": [
    "To make the CCDF plot adequate, we should give up binning as it can distort conclusions: You can \"lie\" by choosing a certain binning. Also, a CCDF is usually drawn using a line and/or point markers. The `hist` method is not really adequate for all this - we could write our own script to create adequate CCDF plots. \n",
    "\n",
    "In any case, this notebook should give you the important idea behind the log transformation and the CCDF."
   ]
  },
  {
   "cell_type": "markdown",
   "metadata": {},
   "source": [
    "*Back to presentation*"
   ]
  }
 ],
 "metadata": {
  "kernelspec": {
   "display_name": "Python 3",
   "language": "python",
   "name": "python3"
  },
  "language_info": {
   "codemirror_mode": {
    "name": "ipython",
    "version": 3
   },
   "file_extension": ".py",
   "mimetype": "text/x-python",
   "name": "python",
   "nbconvert_exporter": "python",
   "pygments_lexer": "ipython3",
   "version": "3.7.4"
  }
 },
 "nbformat": 4,
 "nbformat_minor": 1
}
