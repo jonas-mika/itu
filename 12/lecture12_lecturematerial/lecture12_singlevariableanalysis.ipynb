{
 "cells": [
  {
   "cell_type": "markdown",
   "metadata": {
    "slideshow": {
     "slide_type": "slide"
    }
   },
   "source": [
    "<div class=\"frontmatter text-center\">\n",
    "<h1> Introduction to Data Science and Programming</h1>\n",
    "<h2>Lecture 12: Single-variable analysis</h2>\n",
    "<h3>IT University of Copenhagen, Fall 2020</h3>\n",
    "<h3>Instructor: Michael Szell</h3>\n",
    "</div>"
   ]
  },
  {
   "cell_type": "markdown",
   "metadata": {},
   "source": [
    "# Source\n",
    "This notebook was adapted from:\n",
    "* Scientific Python course by Roberta Sinatra"
   ]
  },
  {
   "cell_type": "code",
   "execution_count": 1,
   "metadata": {},
   "outputs": [],
   "source": [
    "import numpy as np"
   ]
  },
  {
   "cell_type": "markdown",
   "metadata": {
    "slideshow": {
     "slide_type": "slide"
    }
   },
   "source": [
    "## Loading a data set and initial data analysis"
   ]
  },
  {
   "cell_type": "markdown",
   "metadata": {},
   "source": [
    "Initial data analysis is the first step of exploratory data analysis that you **must** do whenever you put hands on a new data set.\n",
    "\n",
    "The aim is to do consistency/sanity checks to see that the quality of the measurements and of the data has no serious flaws. See wikipedia for more details: https://en.wikipedia.org/wiki/Data_analysis#Initial_data_analysis"
   ]
  },
  {
   "cell_type": "code",
   "execution_count": 2,
   "metadata": {
    "scrolled": false,
    "slideshow": {
     "slide_type": "slide"
    }
   },
   "outputs": [
    {
     "name": "stdout",
     "output_type": "stream",
     "text": [
      "ID,City,Gender,Age,Income,Illness\r\n",
      "1,1,0,41,40367,0\r\n",
      "2,1,0,54,45084,0\r\n",
      "3,1,0,42,52483,0\r\n",
      "4,1,0,40,40941,0\r\n",
      "5,1,0,46,50289,0\r\n",
      "6,1,1,36,50786,0\r\n",
      "7,1,1,32,33155,0\r\n",
      "8,1,0,39,30914,0\r\n",
      "9,1,0,51,68667,0\r\n"
     ]
    }
   ],
   "source": [
    "# Data set adapted from: https://www.kaggle.com/carlolepelaars/toy-dataset/downloads/toy-dataset.zip/1\n",
    "!head demographics.csv"
   ]
  },
  {
   "cell_type": "markdown",
   "metadata": {},
   "source": [
    "This data set contains demographic information about individuals and whether they are ill or healthy."
   ]
  },
  {
   "cell_type": "markdown",
   "metadata": {},
   "source": [
    "***\n",
    "Question: What types of variable are these?\n",
    "***"
   ]
  },
  {
   "cell_type": "code",
   "execution_count": 3,
   "metadata": {
    "slideshow": {
     "slide_type": "slide"
    }
   },
   "outputs": [
    {
     "ename": "ValueError",
     "evalue": "could not convert string to float: 'ID,City,Gender,Age,Income,Illness'",
     "output_type": "error",
     "traceback": [
      "\u001b[0;31m---------------------------------------------------------------------------\u001b[0m",
      "\u001b[0;31mValueError\u001b[0m                                Traceback (most recent call last)",
      "\u001b[0;32m<ipython-input-3-07092357d64f>\u001b[0m in \u001b[0;36m<module>\u001b[0;34m\u001b[0m\n\u001b[0;32m----> 1\u001b[0;31m \u001b[0mdatademographic\u001b[0m \u001b[0;34m=\u001b[0m \u001b[0mnp\u001b[0m\u001b[0;34m.\u001b[0m\u001b[0mloadtxt\u001b[0m\u001b[0;34m(\u001b[0m\u001b[0;34m'demographics.csv'\u001b[0m\u001b[0;34m)\u001b[0m \u001b[0;31m# First attempt to load data\u001b[0m\u001b[0;34m\u001b[0m\u001b[0;34m\u001b[0m\u001b[0m\n\u001b[0m",
      "\u001b[0;32m~/opt/anaconda3/lib/python3.8/site-packages/numpy/lib/npyio.py\u001b[0m in \u001b[0;36mloadtxt\u001b[0;34m(fname, dtype, comments, delimiter, converters, skiprows, usecols, unpack, ndmin, encoding, max_rows)\u001b[0m\n\u001b[1;32m   1157\u001b[0m         \u001b[0;31m# converting the data\u001b[0m\u001b[0;34m\u001b[0m\u001b[0;34m\u001b[0m\u001b[0;34m\u001b[0m\u001b[0m\n\u001b[1;32m   1158\u001b[0m         \u001b[0mX\u001b[0m \u001b[0;34m=\u001b[0m \u001b[0;32mNone\u001b[0m\u001b[0;34m\u001b[0m\u001b[0;34m\u001b[0m\u001b[0m\n\u001b[0;32m-> 1159\u001b[0;31m         \u001b[0;32mfor\u001b[0m \u001b[0mx\u001b[0m \u001b[0;32min\u001b[0m \u001b[0mread_data\u001b[0m\u001b[0;34m(\u001b[0m\u001b[0m_loadtxt_chunksize\u001b[0m\u001b[0;34m)\u001b[0m\u001b[0;34m:\u001b[0m\u001b[0;34m\u001b[0m\u001b[0;34m\u001b[0m\u001b[0m\n\u001b[0m\u001b[1;32m   1160\u001b[0m             \u001b[0;32mif\u001b[0m \u001b[0mX\u001b[0m \u001b[0;32mis\u001b[0m \u001b[0;32mNone\u001b[0m\u001b[0;34m:\u001b[0m\u001b[0;34m\u001b[0m\u001b[0;34m\u001b[0m\u001b[0m\n\u001b[1;32m   1161\u001b[0m                 \u001b[0mX\u001b[0m \u001b[0;34m=\u001b[0m \u001b[0mnp\u001b[0m\u001b[0;34m.\u001b[0m\u001b[0marray\u001b[0m\u001b[0;34m(\u001b[0m\u001b[0mx\u001b[0m\u001b[0;34m,\u001b[0m \u001b[0mdtype\u001b[0m\u001b[0;34m)\u001b[0m\u001b[0;34m\u001b[0m\u001b[0;34m\u001b[0m\u001b[0m\n",
      "\u001b[0;32m~/opt/anaconda3/lib/python3.8/site-packages/numpy/lib/npyio.py\u001b[0m in \u001b[0;36mread_data\u001b[0;34m(chunk_size)\u001b[0m\n\u001b[1;32m   1085\u001b[0m \u001b[0;34m\u001b[0m\u001b[0m\n\u001b[1;32m   1086\u001b[0m             \u001b[0;31m# Convert each value according to its column and store\u001b[0m\u001b[0;34m\u001b[0m\u001b[0;34m\u001b[0m\u001b[0;34m\u001b[0m\u001b[0m\n\u001b[0;32m-> 1087\u001b[0;31m             \u001b[0mitems\u001b[0m \u001b[0;34m=\u001b[0m \u001b[0;34m[\u001b[0m\u001b[0mconv\u001b[0m\u001b[0;34m(\u001b[0m\u001b[0mval\u001b[0m\u001b[0;34m)\u001b[0m \u001b[0;32mfor\u001b[0m \u001b[0;34m(\u001b[0m\u001b[0mconv\u001b[0m\u001b[0;34m,\u001b[0m \u001b[0mval\u001b[0m\u001b[0;34m)\u001b[0m \u001b[0;32min\u001b[0m \u001b[0mzip\u001b[0m\u001b[0;34m(\u001b[0m\u001b[0mconverters\u001b[0m\u001b[0;34m,\u001b[0m \u001b[0mvals\u001b[0m\u001b[0;34m)\u001b[0m\u001b[0;34m]\u001b[0m\u001b[0;34m\u001b[0m\u001b[0;34m\u001b[0m\u001b[0m\n\u001b[0m\u001b[1;32m   1088\u001b[0m \u001b[0;34m\u001b[0m\u001b[0m\n\u001b[1;32m   1089\u001b[0m             \u001b[0;31m# Then pack it according to the dtype's nesting\u001b[0m\u001b[0;34m\u001b[0m\u001b[0;34m\u001b[0m\u001b[0;34m\u001b[0m\u001b[0m\n",
      "\u001b[0;32m~/opt/anaconda3/lib/python3.8/site-packages/numpy/lib/npyio.py\u001b[0m in \u001b[0;36m<listcomp>\u001b[0;34m(.0)\u001b[0m\n\u001b[1;32m   1085\u001b[0m \u001b[0;34m\u001b[0m\u001b[0m\n\u001b[1;32m   1086\u001b[0m             \u001b[0;31m# Convert each value according to its column and store\u001b[0m\u001b[0;34m\u001b[0m\u001b[0;34m\u001b[0m\u001b[0;34m\u001b[0m\u001b[0m\n\u001b[0;32m-> 1087\u001b[0;31m             \u001b[0mitems\u001b[0m \u001b[0;34m=\u001b[0m \u001b[0;34m[\u001b[0m\u001b[0mconv\u001b[0m\u001b[0;34m(\u001b[0m\u001b[0mval\u001b[0m\u001b[0;34m)\u001b[0m \u001b[0;32mfor\u001b[0m \u001b[0;34m(\u001b[0m\u001b[0mconv\u001b[0m\u001b[0;34m,\u001b[0m \u001b[0mval\u001b[0m\u001b[0;34m)\u001b[0m \u001b[0;32min\u001b[0m \u001b[0mzip\u001b[0m\u001b[0;34m(\u001b[0m\u001b[0mconverters\u001b[0m\u001b[0;34m,\u001b[0m \u001b[0mvals\u001b[0m\u001b[0;34m)\u001b[0m\u001b[0;34m]\u001b[0m\u001b[0;34m\u001b[0m\u001b[0;34m\u001b[0m\u001b[0m\n\u001b[0m\u001b[1;32m   1088\u001b[0m \u001b[0;34m\u001b[0m\u001b[0m\n\u001b[1;32m   1089\u001b[0m             \u001b[0;31m# Then pack it according to the dtype's nesting\u001b[0m\u001b[0;34m\u001b[0m\u001b[0;34m\u001b[0m\u001b[0;34m\u001b[0m\u001b[0m\n",
      "\u001b[0;32m~/opt/anaconda3/lib/python3.8/site-packages/numpy/lib/npyio.py\u001b[0m in \u001b[0;36mfloatconv\u001b[0;34m(x)\u001b[0m\n\u001b[1;32m    792\u001b[0m         \u001b[0;32mif\u001b[0m \u001b[0;34m'0x'\u001b[0m \u001b[0;32min\u001b[0m \u001b[0mx\u001b[0m\u001b[0;34m:\u001b[0m\u001b[0;34m\u001b[0m\u001b[0;34m\u001b[0m\u001b[0m\n\u001b[1;32m    793\u001b[0m             \u001b[0;32mreturn\u001b[0m \u001b[0mfloat\u001b[0m\u001b[0;34m.\u001b[0m\u001b[0mfromhex\u001b[0m\u001b[0;34m(\u001b[0m\u001b[0mx\u001b[0m\u001b[0;34m)\u001b[0m\u001b[0;34m\u001b[0m\u001b[0;34m\u001b[0m\u001b[0m\n\u001b[0;32m--> 794\u001b[0;31m         \u001b[0;32mreturn\u001b[0m \u001b[0mfloat\u001b[0m\u001b[0;34m(\u001b[0m\u001b[0mx\u001b[0m\u001b[0;34m)\u001b[0m\u001b[0;34m\u001b[0m\u001b[0;34m\u001b[0m\u001b[0m\n\u001b[0m\u001b[1;32m    795\u001b[0m \u001b[0;34m\u001b[0m\u001b[0m\n\u001b[1;32m    796\u001b[0m     \u001b[0mtyp\u001b[0m \u001b[0;34m=\u001b[0m \u001b[0mdtype\u001b[0m\u001b[0;34m.\u001b[0m\u001b[0mtype\u001b[0m\u001b[0;34m\u001b[0m\u001b[0;34m\u001b[0m\u001b[0m\n",
      "\u001b[0;31mValueError\u001b[0m: could not convert string to float: 'ID,City,Gender,Age,Income,Illness'"
     ]
    }
   ],
   "source": [
    "datademographic = np.loadtxt('demographics.csv') # First attempt to load data"
   ]
  },
  {
   "cell_type": "code",
   "execution_count": 4,
   "metadata": {
    "slideshow": {
     "slide_type": "slide"
    }
   },
   "outputs": [
    {
     "data": {
      "text/plain": [
       "dtype('int64')"
      ]
     },
     "execution_count": 4,
     "metadata": {},
     "output_type": "execute_result"
    }
   ],
   "source": [
    "datademographic = np.loadtxt('demographics.csv', skiprows=1, delimiter=',', dtype='int64') # Success!\n",
    "datademographic.dtype"
   ]
  },
  {
   "cell_type": "markdown",
   "metadata": {
    "slideshow": {
     "slide_type": "slide"
    }
   },
   "source": [
    "How big is the data set?"
   ]
  },
  {
   "cell_type": "code",
   "execution_count": 5,
   "metadata": {},
   "outputs": [
    {
     "name": "stdout",
     "output_type": "stream",
     "text": [
      "(150000, 6)\n",
      "900000\n"
     ]
    }
   ],
   "source": [
    "print(datademographic.shape)\n",
    "print(datademographic.size)"
   ]
  },
  {
   "cell_type": "markdown",
   "metadata": {
    "slideshow": {
     "slide_type": "slide"
    }
   },
   "source": [
    "How many unique values are there per variable?"
   ]
  },
  {
   "cell_type": "code",
   "execution_count": 6,
   "metadata": {},
   "outputs": [
    {
     "name": "stdout",
     "output_type": "stream",
     "text": [
      "0 150000 [     1      2      3 ... 149998 149999 150000] \n",
      "\n",
      "1 8 [1 2 3 4 5 6 7 8] \n",
      "\n",
      "2 2 [0 1] \n",
      "\n",
      "3 41 [25 26 27 28 29 30 31 32 33 34 35 36 37 38 39 40 41 42 43 44 45 46 47 48\n",
      " 49 50 51 52 53 54 55 56 57 58 59 60 61 62 63 64 65] \n",
      "\n",
      "4 71762 [        -654          584         2474 ... 415240000000 500820000000\n",
      " 547770000000] \n",
      "\n",
      "5 2 [0 1] \n",
      "\n"
     ]
    }
   ],
   "source": [
    "for col in range(datademographic.shape[1]):\n",
    "    print(col, np.unique(datademographic[:,col]).size, np.unique(datademographic[:,col]), \"\\n\")"
   ]
  },
  {
   "cell_type": "markdown",
   "metadata": {},
   "source": [
    "We observe:\n",
    "\n",
    "    - The IDs are all unique. How do we see this?\n",
    "    - There are 8 cities.\n",
    "    - There are 2 genders.\n",
    "    - There are 41 age groups (25-65 year olds).\n",
    "    - There are many different income levels.\n",
    "    - There are ill and healthy people."
   ]
  },
  {
   "cell_type": "markdown",
   "metadata": {
    "slideshow": {
     "slide_type": "slide"
    }
   },
   "source": [
    "## Exploratory data analysis of categorical variables"
   ]
  },
  {
   "cell_type": "markdown",
   "metadata": {},
   "source": [
    "How many people are from each city?"
   ]
  },
  {
   "cell_type": "code",
   "execution_count": 7,
   "metadata": {},
   "outputs": [
    {
     "data": {
      "text/plain": [
       "(array([1, 2, 3, 4, 5, 6, 7, 8]),\n",
       " array([19707, 50307, 32173, 14219,  8301,  8120, 12292,  4881]))"
      ]
     },
     "execution_count": 7,
     "metadata": {},
     "output_type": "execute_result"
    }
   ],
   "source": [
    "np.unique(datademographic[:,1], return_counts=True)"
   ]
  },
  {
   "cell_type": "markdown",
   "metadata": {},
   "source": [
    "Easy. But can we make this more visual? Yes: We need to plot. Let's use matplotlib!"
   ]
  },
  {
   "cell_type": "markdown",
   "metadata": {
    "slideshow": {
     "slide_type": "slide"
    }
   },
   "source": [
    "### matplotlib is THE python graphics library"
   ]
  },
  {
   "cell_type": "markdown",
   "metadata": {},
   "source": [
    "* [Matplotlib](http://matplotlib.org) is a powerful 2D and 3D graphics library for generating scientific figures. Some of the many advantages of this library include:\n",
    "\n",
    "* Easy to get started\n",
    "* Support for $\\LaTeX$ formatted labels and texts\n",
    "* Great control of every element in a figure, including figure size and DPI. \n",
    "* High-quality output in many formats, including PNG, PDF, SVG, EPS, and PGF.\n",
    "\n",
    "One of the key features of matplotlib is that all aspects of the figure can be controlled *programmatically*. This is important for reproducibility and convenient when one needs to regenerate the figure with updated data or change its appearance. This makes matplotlib highly suitable for generating figures for scientific publications. \n",
    "\n",
    "More information at the Matplotlib web page: http://matplotlib.org/ . There's a [nice gallery](http://matplotlib.org/gallery.html) worth checking out. \n"
   ]
  },
  {
   "cell_type": "markdown",
   "metadata": {
    "slideshow": {
     "slide_type": "slide"
    }
   },
   "source": [
    "### matplotlib is huge and confusing. We use its object-oriented interface."
   ]
  },
  {
   "cell_type": "markdown",
   "metadata": {
    "slideshow": {
     "slide_type": "-"
    }
   },
   "source": [
    "matplotlib has a MATLAB-like interface (called pylab), or an **object-oriented interface**. The MATLAB-like interface is easier to get into, but not recommended. For more details on differences and history see: https://realpython.com/python-matplotlib-guide/\n",
    "\n",
    "matplotlib can be confusing because:\n",
    "\n",
    "- it is huge (70000 lines of code) and constantly evolving\n",
    "- different interfaces\n",
    "- outdated documentation and online examples"
   ]
  },
  {
   "cell_type": "markdown",
   "metadata": {
    "slideshow": {
     "slide_type": "slide"
    }
   },
   "source": [
    "#### The matplotlib object-oriented API\n",
    "\n",
    "The main idea with object-oriented programming is to have objects that one can apply functions and actions on, and no object or program states should be global. The real advantage of this approach becomes apparent when more than one figure is created, or when a figure contains more than one subplot. \n",
    "\n",
    "The main object hierarchy is this:\n",
    "<img src=\"figmap.png\" width=\"400px\"/>"
   ]
  },
  {
   "cell_type": "code",
   "execution_count": 8,
   "metadata": {
    "slideshow": {
     "slide_type": "slide"
    }
   },
   "outputs": [],
   "source": [
    "import matplotlib.pyplot as plt  # standard way of importing matplotlib\n",
    "%matplotlib inline  \n",
    "# the second line is a so-called magic to allow jupyter showing plots inline instead of opening a new window"
   ]
  },
  {
   "cell_type": "code",
   "execution_count": 9,
   "metadata": {},
   "outputs": [
    {
     "data": {
      "text/plain": [
       "matplotlib.figure.Figure"
      ]
     },
     "execution_count": 9,
     "metadata": {},
     "output_type": "execute_result"
    },
    {
     "data": {
      "text/plain": [
       "<Figure size 432x288 with 0 Axes>"
      ]
     },
     "metadata": {},
     "output_type": "display_data"
    }
   ],
   "source": [
    "fig = plt.figure()\n",
    "type(fig)"
   ]
  },
  {
   "cell_type": "markdown",
   "metadata": {
    "slideshow": {
     "slide_type": "slide"
    }
   },
   "source": [
    "`fig` is an object containing other objects, for example:"
   ]
  },
  {
   "cell_type": "code",
   "execution_count": 10,
   "metadata": {},
   "outputs": [
    {
     "data": {
      "text/plain": [
       "matplotlib.axis.YTick"
      ]
     },
     "execution_count": 10,
     "metadata": {},
     "output_type": "execute_result"
    }
   ],
   "source": [
    "# Let's add an Axes object to our Figure\n",
    "axes = fig.add_axes([0, 0, 1, 1]) # left, bottom, width, height (range 0 to 1)\n",
    "\n",
    "one_tick = fig.axes[0].yaxis.get_major_ticks()[0]\n",
    "type(one_tick)"
   ]
  },
  {
   "cell_type": "markdown",
   "metadata": {},
   "source": [
    "Above, `fig` (a Figure class instance) has multiple Axes (a list, for which we take the first element). Each Axes has a yaxis and xaxis, each of which have a collection of “major ticks,” and we grabbed the first one."
   ]
  },
  {
   "cell_type": "markdown",
   "metadata": {
    "slideshow": {
     "slide_type": "slide"
    }
   },
   "source": [
    "More details here: https://matplotlib.org/examples/showcase/anatomy.html\n",
    "<img src=\"figanatomy.png\" width=\"600px\"/>"
   ]
  },
  {
   "cell_type": "code",
   "execution_count": 21,
   "metadata": {
    "slideshow": {
     "slide_type": "slide"
    }
   },
   "outputs": [
    {
     "data": {
      "image/png": "[encoded data removed]",
      "text/plain": [
       "<Figure size 288x216 with 1 Axes>"
      ]
     },
     "metadata": {
      "needs_background": "light"
     },
     "output_type": "display_data"
    }
   ],
   "source": [
    "# Minimal plot example:\n",
    "x = range(0, 10) # x data (will plot on horizontal x axis)\n",
    "y = [i ** 2 for i in x] # y data (will plot on vertical y axis)\n",
    "\n",
    "fig = plt.figure(figsize=(4, 3)) # create figure object with a (width,height)\n",
    "axes = fig.add_axes([0, 0, 1, 1]) # left, bottom, width, height (range 0 to 1)\n",
    "\n",
    "axes.plot(x, y, 'r') # plot using color red\n",
    "\n",
    "axes.set_xlabel('x')\n",
    "axes.set_ylabel('y')\n",
    "axes.set_title('Title');"
   ]
  },
  {
   "cell_type": "code",
   "execution_count": 24,
   "metadata": {
    "slideshow": {
     "slide_type": "slide"
    }
   },
   "outputs": [
    {
     "data": {
      "image/png": "[encoded data removed]",
      "text/plain": [
       "<Figure size 288x216 with 2 Axes>"
      ]
     },
     "metadata": {
      "needs_background": "light"
     },
     "output_type": "display_data"
    }
   ],
   "source": [
    "# Minimal example for subplots\n",
    "fig, axes = plt.subplots(nrows=1, ncols=2, figsize=(4, 3)) # nrows specifies the number of rows you want, ncols how many figures in each row \n",
    "\n",
    "for ax in axes:\n",
    "    ax.plot(x, y, 'r')\n",
    "    ax.set_xlabel('x')\n",
    "    ax.set_ylabel('y')\n",
    "    ax.set_title('Title')"
   ]
  },
  {
   "cell_type": "markdown",
   "metadata": {
    "slideshow": {
     "slide_type": "slide"
    }
   },
   "source": [
    "We have full control of where the plot axes are placed, and we can easily add more than one axis to the figure:"
   ]
  },
  {
   "cell_type": "code",
   "execution_count": 25,
   "metadata": {},
   "outputs": [
    {
     "data": {
      "image/png": "[encoded data removed]",
      "text/plain": [
       "<Figure size 288x216 with 2 Axes>"
      ]
     },
     "metadata": {
      "needs_background": "light"
     },
     "output_type": "display_data"
    }
   ],
   "source": [
    "# Minimum example for inset plot\n",
    "fig = plt.figure(figsize=(4, 3))\n",
    "axes1 = fig.add_axes([0, 0, 0.8, 0.8]) # main axes\n",
    "axes2 = fig.add_axes([0.1, 0.4, 0.3, 0.25]) # inset axes\n",
    "\n",
    "# main figure\n",
    "axes1.plot(x, y, 'r')\n",
    "axes1.set_xlabel('x')\n",
    "axes1.set_ylabel('y')\n",
    "axes1.set_title('Title')\n",
    "\n",
    "# inset\n",
    "axes2.plot(y, x, 'g') # green\n",
    "axes2.set_xlabel('y')\n",
    "axes2.set_ylabel('x')\n",
    "axes2.set_title('Inset title');"
   ]
  },
  {
   "cell_type": "markdown",
   "metadata": {
    "slideshow": {
     "slide_type": "slide"
    }
   },
   "source": [
    "### Saving figures\n",
    "To save a figure to a file we can use the `savefig` method in the `Figure` class:"
   ]
  },
  {
   "cell_type": "code",
   "execution_count": 26,
   "metadata": {},
   "outputs": [],
   "source": [
    "fig.savefig(\"filename.pdf\", dpi=300)  # dpi is the resolution"
   ]
  },
  {
   "cell_type": "markdown",
   "metadata": {},
   "source": [
    "If the saved figure is cut off, look here for solutions: https://stackoverflow.com/questions/6774086/why-is-my-xlabel-cut-off-in-my-matplotlib-plot"
   ]
  },
  {
   "cell_type": "markdown",
   "metadata": {},
   "source": [
    "Matplotlib can generate high-quality output in a number formats, including PNG, JPG, EPS, SVG, PGF and PDF. For scientific papers, I recommend using PDF whenever possible. (LaTeX documents compiled with `pdflatex` can include PDFs using the `includegraphics` command)."
   ]
  },
  {
   "cell_type": "markdown",
   "metadata": {
    "slideshow": {
     "slide_type": "slide"
    }
   },
   "source": [
    "### Let's get back to our single-variable exploratory data analysis"
   ]
  },
  {
   "cell_type": "markdown",
   "metadata": {},
   "source": [
    "A (frequency) **distribution** is a list, table, or graph that displays the frequency of a variable."
   ]
  },
  {
   "cell_type": "markdown",
   "metadata": {
    "slideshow": {
     "slide_type": "slide"
    }
   },
   "source": [
    "#### Distribution of cities"
   ]
  },
  {
   "cell_type": "code",
   "execution_count": 33,
   "metadata": {},
   "outputs": [],
   "source": [
    "categories, counts = np.unique(datademographic[:,1], return_counts=True)"
   ]
  },
  {
   "cell_type": "code",
   "execution_count": 34,
   "metadata": {
    "scrolled": true
   },
   "outputs": [
    {
     "data": {
      "image/png": "[encoded data removed]",
      "text/plain": [
       "<Figure size 288x216 with 1 Axes>"
      ]
     },
     "metadata": {
      "needs_background": "light"
     },
     "output_type": "display_data"
    }
   ],
   "source": [
    "fig = plt.figure(figsize=(4, 3))\n",
    "axes = fig.add_axes([0, 0, 1, 1]) # left, bottom, width, height (range 0 to 1)\n",
    "axes.bar(categories, counts, fc=\"gray\") # fc is the face color\n",
    "\n",
    "axes.set_xlabel('City')\n",
    "axes.set_ylabel('Count')\n",
    "axes.set_title('Number of individuals in each city');\n",
    "\n",
    "axes.set_xticks(categories)\n",
    "axes.set_xticklabels((\"New York\", \"CPH\", \"3\", \"4\", \"5\", \"6\", \"7\", \"8\"));"
   ]
  },
  {
   "cell_type": "markdown",
   "metadata": {
    "slideshow": {
     "slide_type": "slide"
    }
   },
   "source": [
    "#### Distribution of gender"
   ]
  },
  {
   "cell_type": "code",
   "execution_count": 30,
   "metadata": {},
   "outputs": [],
   "source": [
    "categories, counts = np.unique(datademographic[:,2], return_counts=True)"
   ]
  },
  {
   "cell_type": "code",
   "execution_count": 31,
   "metadata": {
    "scrolled": true
   },
   "outputs": [
    {
     "data": {
      "image/png": "[encoded data removed]",
      "text/plain": [
       "<Figure size 288x216 with 1 Axes>"
      ]
     },
     "metadata": {
      "needs_background": "light"
     },
     "output_type": "display_data"
    }
   ],
   "source": [
    "fig = plt.figure(figsize=(4, 3))\n",
    "axes = fig.add_axes([0, 0, 1, 1]) # left, bottom, width, height (range 0 to 1)\n",
    "axes.bar(categories, counts, fc=\"gray\") # fc is the face color\n",
    "\n",
    "axes.set_xlabel('Gender')\n",
    "axes.set_ylabel('Count')\n",
    "axes.set_title('Number of male and female individuals')\n",
    "\n",
    "axes.set_xticks(categories)\n",
    "axes.set_xticklabels((\"Male\", \"Female\"));  # 0 is male, 1 is female"
   ]
  },
  {
   "cell_type": "markdown",
   "metadata": {
    "slideshow": {
     "slide_type": "slide"
    }
   },
   "source": [
    "#### Distribution of age groups"
   ]
  },
  {
   "cell_type": "code",
   "execution_count": 35,
   "metadata": {},
   "outputs": [],
   "source": [
    "categories, counts = np.unique(datademographic[:,3], return_counts=True)"
   ]
  },
  {
   "cell_type": "code",
   "execution_count": 36,
   "metadata": {
    "scrolled": true
   },
   "outputs": [
    {
     "data": {
      "image/png": "[encoded data removed]",
      "text/plain": [
       "<Figure size 288x216 with 1 Axes>"
      ]
     },
     "metadata": {
      "needs_background": "light"
     },
     "output_type": "display_data"
    }
   ],
   "source": [
    "fig = plt.figure(figsize=(4, 3))\n",
    "axes = fig.add_axes([0, 0, 1, 1]) # left, bottom, width, height (range 0 to 1)\n",
    "axes.bar(categories, counts, fc=\"gray\") # fc is the face color\n",
    "\n",
    "axes.set_xlabel('Age')\n",
    "axes.set_ylabel('Count')\n",
    "axes.set_title('Age distribution');"
   ]
  },
  {
   "cell_type": "markdown",
   "metadata": {
    "slideshow": {
     "slide_type": "slide"
    }
   },
   "source": [
    "#### Distribution of illness"
   ]
  },
  {
   "cell_type": "code",
   "execution_count": 37,
   "metadata": {},
   "outputs": [],
   "source": [
    "categories, counts = np.unique(datademographic[:,5], return_counts=True)"
   ]
  },
  {
   "cell_type": "code",
   "execution_count": 38,
   "metadata": {
    "scrolled": false
   },
   "outputs": [
    {
     "data": {
      "image/png": "[encoded data removed]",
      "text/plain": [
       "<Figure size 288x216 with 1 Axes>"
      ]
     },
     "metadata": {
      "needs_background": "light"
     },
     "output_type": "display_data"
    }
   ],
   "source": [
    "fig = plt.figure(figsize=(4, 3))\n",
    "axes = fig.add_axes([0, 0, 1, 1]) # left, bottom, width, height (range 0 to 1)\n",
    "axes.bar(categories, counts, fc=\"gray\") # fc is the face color\n",
    "\n",
    "axes.set_xlabel('Illness')\n",
    "axes.set_ylabel('Count')\n",
    "axes.set_title('Number of healthy and ill individuals')\n",
    "\n",
    "axes.set_xticks(categories)\n",
    "axes.set_xticklabels((\"Healthy\", \"Ill\"));  # 0 is healthy, 1 is ill"
   ]
  },
  {
   "cell_type": "markdown",
   "metadata": {
    "slideshow": {
     "slide_type": "slide"
    }
   },
   "source": [
    "### Alternative graphs for categorical distributions"
   ]
  },
  {
   "cell_type": "markdown",
   "metadata": {},
   "source": [
    "#### Pie chart"
   ]
  },
  {
   "cell_type": "code",
   "execution_count": 39,
   "metadata": {
    "scrolled": true
   },
   "outputs": [
    {
     "data": {
      "image/png": "[encoded data removed]",
      "text/plain": [
       "<Figure size 288x216 with 1 Axes>"
      ]
     },
     "metadata": {},
     "output_type": "display_data"
    }
   ],
   "source": [
    "fig = plt.figure(figsize=(4, 3))\n",
    "axes = fig.add_axes([0, 0, 1, 1]) # left, bottom, width, height (range 0 to 1)\n",
    "axes.pie(counts, labels=(\"Healthy\", \"Ill\"), autopct=\"%.1f\") \n",
    "# autopct displays percentage values using the given format string\n",
    "# More information about string formatting: \n",
    "# https://docs.python.org/3/library/stdtypes.html#old-string-formatting\n",
    "\n",
    "axes.set_title('Percentage of ill and healthy individuals');"
   ]
  },
  {
   "cell_type": "markdown",
   "metadata": {
    "slideshow": {
     "slide_type": "slide"
    }
   },
   "source": [
    "Be careful using pie charts! Their use is discouraged by many data visualization experts. If you have up to 4 categories they can be fine, but any more than that is absolutely not recommended, like here:"
   ]
  },
  {
   "cell_type": "code",
   "execution_count": 42,
   "metadata": {
    "scrolled": false
   },
   "outputs": [
    {
     "data": {
      "image/png": "[encoded data removed]",
      "text/plain": [
       "<Figure size 288x216 with 1 Axes>"
      ]
     },
     "metadata": {},
     "output_type": "display_data"
    }
   ],
   "source": [
    "categories, counts = np.unique(datademographic[:,1], return_counts=True)\n",
    "fig = plt.figure(figsize=(4, 3))\n",
    "axes = fig.add_axes([0, 0, 1, 1]) # left, bottom, width, height (range 0 to 1)\n",
    "axes.pie(counts, labels=(categories), autopct=\"%.1f\") \n",
    "# autopct displays percentage values using the given format string\n",
    "\n",
    "axes.set_title('Percentage of individuals in each city');"
   ]
  },
  {
   "cell_type": "markdown",
   "metadata": {
    "slideshow": {
     "slide_type": "slide"
    }
   },
   "source": [
    "### Distributions of cities, but percentages"
   ]
  },
  {
   "cell_type": "markdown",
   "metadata": {},
   "source": [
    "When we switched to pie chart, we switched from counts (or frequencies) to percentage values (or relative values). We can also show percentages in bar plots."
   ]
  },
  {
   "cell_type": "code",
   "execution_count": 43,
   "metadata": {},
   "outputs": [],
   "source": [
    "categories, counts = np.unique(datademographic[:,1], return_counts=True)"
   ]
  },
  {
   "cell_type": "code",
   "execution_count": 44,
   "metadata": {
    "scrolled": true
   },
   "outputs": [
    {
     "data": {
      "image/png": "[encoded data removed]",
      "text/plain": [
       "<Figure size 288x216 with 1 Axes>"
      ]
     },
     "metadata": {
      "needs_background": "light"
     },
     "output_type": "display_data"
    }
   ],
   "source": [
    "fig = plt.figure(figsize=(4, 3))\n",
    "axes = fig.add_axes([0, 0, 1, 1]) # left, bottom, width, height (range 0 to 1)\n",
    "axes.bar(categories, 100*counts/sum(counts), fc=\"gray\") # fc is the face color\n",
    "\n",
    "axes.set_xlabel('City')\n",
    "axes.set_ylabel('Percentage')\n",
    "axes.set_title('Percentage of individuals in each city');"
   ]
  },
  {
   "cell_type": "markdown",
   "metadata": {
    "slideshow": {
     "slide_type": "slide"
    }
   },
   "source": [
    "## Exploratory data analysis of quantitative variables"
   ]
  },
  {
   "cell_type": "markdown",
   "metadata": {},
   "source": [
    "We have not yet explored the quantitative variable of income. Do do so, we plot a histogram of the distribution.\n",
    "\n",
    "A **histogram** is a graphical representation of the distribution of numerical data. It is an estimate of the probability distribution of a continuous or discrete variable (quantitative variable). To construct a histogram, the first step is to \"bin\" the range of values—that is, divide the entire range of values into a series of intervals—and then count how many values fall into each interval. The bins are usually specified as consecutive, non-overlapping intervals of a variable. The bins (intervals) must be adjacent, and are often (but are not required to be) of equal size.\n",
    "\n",
    "<img src=\"histogram.png\" width=\"600px\"/>\n",
    "\n",
    "**Histograms look like bar charts, but they are not the same.** The horizontal axis on a histogram is continuous, whereas bar charts can have space in between categories."
   ]
  },
  {
   "cell_type": "code",
   "execution_count": 45,
   "metadata": {
    "slideshow": {
     "slide_type": "slide"
    }
   },
   "outputs": [
    {
     "data": {
      "image/png": "[encoded data removed]",
      "text/plain": [
       "<Figure size 288x216 with 1 Axes>"
      ]
     },
     "metadata": {
      "needs_background": "light"
     },
     "output_type": "display_data"
    }
   ],
   "source": [
    "fig = plt.figure(figsize=(4, 3))\n",
    "axes = fig.add_axes([0, 0, 1, 1]) # left, bottom, width, height (range 0 to 1)\n",
    "axes.hist(datademographic[:,4]);\n",
    "\n",
    "axes.set_xlabel('Income')\n",
    "axes.set_ylabel('Counts')\n",
    "axes.set_title('Histogram of incomes');"
   ]
  },
  {
   "cell_type": "markdown",
   "metadata": {},
   "source": [
    "***\n",
    "What is going on?\n",
    "***"
   ]
  },
  {
   "cell_type": "markdown",
   "metadata": {
    "slideshow": {
     "slide_type": "slide"
    }
   },
   "source": [
    "## Descriptive statistics"
   ]
  },
  {
   "cell_type": "markdown",
   "metadata": {},
   "source": [
    "Let us look at minimum, maximum, and mean."
   ]
  },
  {
   "cell_type": "code",
   "execution_count": 46,
   "metadata": {},
   "outputs": [
    {
     "data": {
      "text/plain": [
       "(-654, 9850118.0, 547770000000)"
      ]
     },
     "execution_count": 46,
     "metadata": {},
     "output_type": "execute_result"
    }
   ],
   "source": [
    "incomemin = datademographic[:,4].min()\n",
    "incomemax = datademographic[:,4].max()\n",
    "incomemean = round(datademographic[:,4].mean())\n",
    "(incomemin, incomemean, incomemax)"
   ]
  },
  {
   "cell_type": "markdown",
   "metadata": {
    "slideshow": {
     "slide_type": "slide"
    }
   },
   "source": [
    "<img src=\"mean01.png\" width=\"600px\"/>"
   ]
  },
  {
   "cell_type": "markdown",
   "metadata": {
    "slideshow": {
     "slide_type": "slide"
    }
   },
   "source": [
    "The mean is not robust to outliers.\n",
    "<img src=\"mean02.png\" width=\"600px\"/>\n",
    "Source: https://mathwithbaddrawings.com/2016/07/13/why-not-to-trust-statistics/"
   ]
  },
  {
   "cell_type": "markdown",
   "metadata": {
    "slideshow": {
     "slide_type": "slide"
    }
   },
   "source": [
    "Let us calculate the quartiles. They are more robust to outliers.\n",
    "\n",
    "<img src=\"quartiles.png\" width=\"600px\"/>\n",
    "\n",
    "The first, or lower, quartile Q1 splits off the lowest 25% of data from the highest 75%.<br />\n",
    "The second quartile, or median, Q2 cuts the data set in half.<br />\n",
    "The third, or higher, quartile Q3 splits off the highest 25% of data from the lowest 75%."
   ]
  },
  {
   "cell_type": "code",
   "execution_count": 47,
   "metadata": {},
   "outputs": [
    {
     "data": {
      "text/plain": [
       "array([ 80868.75,  93655.  , 104519.25])"
      ]
     },
     "execution_count": 47,
     "metadata": {},
     "output_type": "execute_result"
    }
   ],
   "source": [
    "quartiles = np.percentile(datademographic[:,4], [25, 50, 75])\n",
    "quartiles"
   ]
  },
  {
   "cell_type": "code",
   "execution_count": 48,
   "metadata": {
    "slideshow": {
     "slide_type": "slide"
    }
   },
   "outputs": [
    {
     "data": {
      "text/plain": [
       "[-654, 80868.75, 93655.0, 104519.25, 547770000000]"
      ]
     },
     "execution_count": 48,
     "metadata": {},
     "output_type": "execute_result"
    }
   ],
   "source": [
    "fivenumbersummary = [incomemin, quartiles[0], quartiles[1], quartiles[2], incomemax]\n",
    "fivenumbersummary"
   ]
  },
  {
   "cell_type": "markdown",
   "metadata": {},
   "source": [
    "The five number summary (min, Q1, Q2, Q3, max) is visualized with the box plot.\n",
    "\n",
    "<img src=\"boxplot.png\" width=\"300px\"/>\n",
    "\n",
    "This is a standardized way of displaying the distribution of data based on the five number summary. In the simplest box plot the central rectangle spans the first quartile to the third quartile (the interquartile range or IQR). In matplotlib, by default, whiskers span 1.5 IQR.\n"
   ]
  },
  {
   "cell_type": "code",
   "execution_count": 49,
   "metadata": {
    "scrolled": false,
    "slideshow": {
     "slide_type": "slide"
    }
   },
   "outputs": [
    {
     "data": {
      "image/png": "[encoded data removed]",
      "text/plain": [
       "<Figure size 288x216 with 1 Axes>"
      ]
     },
     "metadata": {
      "needs_background": "light"
     },
     "output_type": "display_data"
    }
   ],
   "source": [
    "fig = plt.figure(figsize=(4, 3))\n",
    "axes = fig.add_axes([0, 0, 1, 1]) # left, bottom, width, height (range 0 to 1)\n",
    "axes.boxplot(datademographic[:,4]);\n",
    "\n",
    "axes.set_ylabel('Income')\n",
    "axes.set_xticklabels('')\n",
    "axes.set_title('Boxplot of incomes');"
   ]
  },
  {
   "cell_type": "markdown",
   "metadata": {},
   "source": [
    "Looks like we have some serious outliers.\n",
    "\n",
    "*Back to presentation* (outliers)"
   ]
  },
  {
   "cell_type": "markdown",
   "metadata": {
    "slideshow": {
     "slide_type": "slide"
    }
   },
   "source": [
    "### Outlier detection and data cleaning "
   ]
  },
  {
   "cell_type": "markdown",
   "metadata": {
    "slideshow": {
     "slide_type": "-"
    }
   },
   "source": [
    "Looks like we have three extreme outliers. Let's investigate and clean the data if needed."
   ]
  },
  {
   "cell_type": "code",
   "execution_count": 50,
   "metadata": {},
   "outputs": [
    {
     "name": "stdout",
     "output_type": "stream",
     "text": [
      "149997\n",
      "(array([ 9, 10, 11]),)\n"
     ]
    }
   ],
   "source": [
    "mask = (datademographic[:,4] < 10 ** 11) \n",
    "print(np.count_nonzero(mask))\n",
    "print(np.where(mask == False))"
   ]
  },
  {
   "cell_type": "markdown",
   "metadata": {
    "slideshow": {
     "slide_type": "slide"
    }
   },
   "source": [
    "Aha! The bad values are at positions 9,10,11. They are a clear anomaly (global outliers). Let's clean the data and remove them. "
   ]
  },
  {
   "cell_type": "code",
   "execution_count": 51,
   "metadata": {},
   "outputs": [
    {
     "name": "stdout",
     "output_type": "stream",
     "text": [
      "ID,City,Gender,Age,Income,Illness\r\n",
      "1,1,0,41,40367,0\r\n",
      "2,1,0,54,45084,0\r\n",
      "3,1,0,42,52483,0\r\n",
      "4,1,0,40,40941,0\r\n",
      "5,1,0,46,50289,0\r\n",
      "6,1,1,36,50786,0\r\n",
      "7,1,1,32,33155,0\r\n",
      "8,1,0,39,30914,0\r\n",
      "9,1,0,51,68667,0\r\n",
      "10,1,1,30,500820000000,0\r\n",
      "11,1,1,48,415240000000,1\r\n",
      "12,1,0,47,547770000000,0\r\n",
      "13,1,0,46,62749,0\r\n",
      "14,1,1,42,50894,0\r\n"
     ]
    }
   ],
   "source": [
    "!head -n 15 demographics.csv"
   ]
  },
  {
   "cell_type": "code",
   "execution_count": 52,
   "metadata": {
    "slideshow": {
     "slide_type": "slide"
    }
   },
   "outputs": [
    {
     "data": {
      "text/plain": [
       "(149997, 6)"
      ]
     },
     "execution_count": 52,
     "metadata": {},
     "output_type": "execute_result"
    }
   ],
   "source": [
    "datademographic_cleaned = datademographic[mask,:]\n",
    "datademographic_cleaned.shape # double-check"
   ]
  },
  {
   "cell_type": "markdown",
   "metadata": {},
   "source": [
    "We removed those three extreme values. How does the box plot look like now?"
   ]
  },
  {
   "cell_type": "code",
   "execution_count": 53,
   "metadata": {
    "scrolled": true,
    "slideshow": {
     "slide_type": "slide"
    }
   },
   "outputs": [
    {
     "data": {
      "image/png": "[encoded data removed]",
      "text/plain": [
       "<Figure size 288x216 with 1 Axes>"
      ]
     },
     "metadata": {
      "needs_background": "light"
     },
     "output_type": "display_data"
    }
   ],
   "source": [
    "fig = plt.figure(figsize=(4, 3))\n",
    "axes = fig.add_axes([0, 0, 1, 1]) # left, bottom, width, height (range 0 to 1)\n",
    "axes.boxplot(datademographic_cleaned[:,4]);\n",
    "\n",
    "axes.set_ylabel('Income')\n",
    "axes.set_xticklabels('')\n",
    "axes.set_title('Boxplot of incomes (cleaned data)');"
   ]
  },
  {
   "cell_type": "code",
   "execution_count": 56,
   "metadata": {
    "slideshow": {
     "slide_type": "slide"
    }
   },
   "outputs": [
    {
     "data": {
      "image/png": "[encoded data removed]",
      "text/plain": [
       "<Figure size 432x288 with 1 Axes>"
      ]
     },
     "metadata": {
      "needs_background": "light"
     },
     "output_type": "display_data"
    }
   ],
   "source": [
    "fig = plt.figure(figsize=(6, 4))\n",
    "axes = fig.add_axes([0, 0, 1, 1]) # left, bottom, width, height (range 0 to 1)\n",
    "axes.hist(datademographic_cleaned[:,4], 1000); # The second argument sets the number of bins.\n",
    "\n",
    "axes.set_xlabel('Income')\n",
    "axes.set_ylabel('Counts')\n",
    "axes.set_title('Histogram of incomes (cleaned data)');"
   ]
  },
  {
   "cell_type": "markdown",
   "metadata": {
    "slideshow": {
     "slide_type": "slide"
    }
   },
   "source": [
    "# Exploratory single-variable data analysis with slices"
   ]
  },
  {
   "cell_type": "code",
   "execution_count": 57,
   "metadata": {},
   "outputs": [],
   "source": [
    "data = np.loadtxt('stockholm_temperatures.dat') "
   ]
  },
  {
   "cell_type": "code",
   "execution_count": 58,
   "metadata": {
    "scrolled": true
   },
   "outputs": [
    {
     "name": "stdout",
     "output_type": "stream",
     "text": [
      "1800\t1\t1\t-6.10000000000000\r\n",
      "1800\t1\t2\t-15.4000000000000\r\n",
      "1800\t1\t3\t-15\r\n",
      "1800\t1\t4\t-19.3000000000000\r\n",
      "1800\t1\t5\t-16.8000000000000\r\n",
      "1800\t1\t6\t-11.4000000000000\r\n"
     ]
    }
   ],
   "source": [
    "!head -n 6 stockholm_temperatures.dat"
   ]
  },
  {
   "cell_type": "markdown",
   "metadata": {},
   "source": [
    "The file stockholm_temperatures.dat contains the temperature in Stockholm since 1800 until 2011. The first three columns are respectively year, month and day, and the last column is the temperature."
   ]
  },
  {
   "cell_type": "markdown",
   "metadata": {},
   "source": [
    "***\n",
    "Question: What variable types are these? And what is the first thing we need to do?\n",
    "***"
   ]
  },
  {
   "cell_type": "markdown",
   "metadata": {
    "slideshow": {
     "slide_type": "slide"
    }
   },
   "source": [
    "### 1. Plot the data"
   ]
  },
  {
   "cell_type": "code",
   "execution_count": 59,
   "metadata": {
    "slideshow": {
     "slide_type": "-"
    }
   },
   "outputs": [
    {
     "data": {
      "image/png": "[encoded data removed]",
      "text/plain": [
       "<Figure size 1008x288 with 1 Axes>"
      ]
     },
     "metadata": {
      "needs_background": "light"
     },
     "output_type": "display_data"
    }
   ],
   "source": [
    "fig = plt.figure(figsize=(14, 4))\n",
    "axes = fig.add_axes([0, 0, 1, 1]) # left, bottom, width, height (range 0 to 1)\n",
    "\n",
    "axes.plot(data[:,0]+data[:,1]/12.0+data[:,2]/365, data[:,3])\n",
    "\n",
    "axes.set_title('Temperatures in Stockholm')\n",
    "axes.set_xlabel('Year')\n",
    "axes.set_ylabel('Temperature (C)');"
   ]
  },
  {
   "cell_type": "markdown",
   "metadata": {
    "slideshow": {
     "slide_type": "slide"
    }
   },
   "source": [
    "### 2. Get descriptive statistics"
   ]
  },
  {
   "cell_type": "code",
   "execution_count": 60,
   "metadata": {},
   "outputs": [
    {
     "data": {
      "text/plain": [
       "array([ 0.2,  5.7, 13.2])"
      ]
     },
     "execution_count": 60,
     "metadata": {},
     "output_type": "execute_result"
    }
   ],
   "source": [
    "quartiles = np.percentile(data[:,3], [25, 50, 75])\n",
    "quartiles"
   ]
  },
  {
   "cell_type": "code",
   "execution_count": 61,
   "metadata": {
    "slideshow": {
     "slide_type": "-"
    }
   },
   "outputs": [
    {
     "data": {
      "text/plain": [
       "([-25.8, 0.2, 5.7, 13.2, 28.3], 6.0)"
      ]
     },
     "execution_count": 61,
     "metadata": {},
     "output_type": "execute_result"
    }
   ],
   "source": [
    "fivenumbersummary = [data[:,3].min(), quartiles[0], quartiles[1], quartiles[2], data[:,3].max()]\n",
    "fivenumbersummary, round(data[:,3].mean())"
   ]
  },
  {
   "cell_type": "code",
   "execution_count": 62,
   "metadata": {
    "scrolled": false,
    "slideshow": {
     "slide_type": "slide"
    }
   },
   "outputs": [
    {
     "data": {
      "image/png": "[encoded data removed]",
      "text/plain": [
       "<Figure size 432x288 with 1 Axes>"
      ]
     },
     "metadata": {
      "needs_background": "light"
     },
     "output_type": "display_data"
    }
   ],
   "source": [
    "fig = plt.figure(figsize=(6, 4))\n",
    "axes = fig.add_axes([0, 0, 1, 1]) # left, bottom, width, height (range 0 to 1)\n",
    "axes.boxplot(data[:,3]);\n",
    "\n",
    "axes.set_title('Temperatures in Stockholm')\n",
    "axes.set_xticklabels('')\n",
    "axes.set_ylabel('Temperature (C)');"
   ]
  },
  {
   "cell_type": "markdown",
   "metadata": {
    "slideshow": {
     "slide_type": "slide"
    }
   },
   "source": [
    "### 3. Plot distribution"
   ]
  },
  {
   "cell_type": "code",
   "execution_count": 63,
   "metadata": {},
   "outputs": [
    {
     "data": {
      "image/png": "[encoded data removed]",
      "text/plain": [
       "<Figure size 432x288 with 1 Axes>"
      ]
     },
     "metadata": {
      "needs_background": "light"
     },
     "output_type": "display_data"
    }
   ],
   "source": [
    "fig = plt.figure(figsize=(6, 4))\n",
    "axes = fig.add_axes([0, 0, 1, 1]) # left, bottom, width, height (range 0 to 1)\n",
    "axes.hist(data[:,3], 50);\n",
    "\n",
    "axes.set_title('Temperatures in Stockholm')\n",
    "axes.set_xlabel('Year')\n",
    "axes.set_ylabel('Number of days');"
   ]
  },
  {
   "cell_type": "markdown",
   "metadata": {
    "slideshow": {
     "slide_type": "slide"
    }
   },
   "source": [
    "### Computations on subsets of arrays"
   ]
  },
  {
   "cell_type": "markdown",
   "metadata": {},
   "source": [
    "We can compute with subsets of the data in an array using indexing, fancy indexing, and the other methods of extracting data from an array (described above).\n",
    "\n",
    "For example, if we want to calculate the average temperature in 1971 only, we can create a mask in the following way:"
   ]
  },
  {
   "cell_type": "code",
   "execution_count": 64,
   "metadata": {},
   "outputs": [
    {
     "data": {
      "text/plain": [
       "array([1971., 1971., 1971., 1971., 1971., 1971., 1971., 1971., 1971.,\n",
       "       1971., 1971., 1971., 1971., 1971., 1971., 1971., 1971., 1971.,\n",
       "       1971., 1971., 1971., 1971., 1971., 1971., 1971., 1971., 1971.,\n",
       "       1971., 1971., 1971., 1971., 1971., 1971., 1971., 1971., 1971.,\n",
       "       1971., 1971., 1971., 1971., 1971., 1971., 1971., 1971., 1971.,\n",
       "       1971., 1971., 1971., 1971., 1971., 1971., 1971., 1971., 1971.,\n",
       "       1971., 1971., 1971., 1971., 1971., 1971., 1971., 1971., 1971.,\n",
       "       1971., 1971., 1971., 1971., 1971., 1971., 1971., 1971., 1971.,\n",
       "       1971., 1971., 1971., 1971., 1971., 1971., 1971., 1971., 1971.,\n",
       "       1971., 1971., 1971., 1971., 1971., 1971., 1971., 1971., 1971.,\n",
       "       1971., 1971., 1971., 1971., 1971., 1971., 1971., 1971., 1971.,\n",
       "       1971., 1971., 1971., 1971., 1971., 1971., 1971., 1971., 1971.,\n",
       "       1971., 1971., 1971., 1971., 1971., 1971., 1971., 1971., 1971.,\n",
       "       1971., 1971., 1971., 1971., 1971., 1971., 1971., 1971., 1971.,\n",
       "       1971., 1971., 1971., 1971., 1971., 1971., 1971., 1971., 1971.,\n",
       "       1971., 1971., 1971., 1971., 1971., 1971., 1971., 1971., 1971.,\n",
       "       1971., 1971., 1971., 1971., 1971., 1971., 1971., 1971., 1971.,\n",
       "       1971., 1971., 1971., 1971., 1971., 1971., 1971., 1971., 1971.,\n",
       "       1971., 1971., 1971., 1971., 1971., 1971., 1971., 1971., 1971.,\n",
       "       1971., 1971., 1971., 1971., 1971., 1971., 1971., 1971., 1971.,\n",
       "       1971., 1971., 1971., 1971., 1971., 1971., 1971., 1971., 1971.,\n",
       "       1971., 1971., 1971., 1971., 1971., 1971., 1971., 1971., 1971.,\n",
       "       1971., 1971., 1971., 1971., 1971., 1971., 1971., 1971., 1971.,\n",
       "       1971., 1971., 1971., 1971., 1971., 1971., 1971., 1971., 1971.,\n",
       "       1971., 1971., 1971., 1971., 1971., 1971., 1971., 1971., 1971.,\n",
       "       1971., 1971., 1971., 1971., 1971., 1971., 1971., 1971., 1971.,\n",
       "       1971., 1971., 1971., 1971., 1971., 1971., 1971., 1971., 1971.,\n",
       "       1971., 1971., 1971., 1971., 1971., 1971., 1971., 1971., 1971.,\n",
       "       1971., 1971., 1971., 1971., 1971., 1971., 1971., 1971., 1971.,\n",
       "       1971., 1971., 1971., 1971., 1971., 1971., 1971., 1971., 1971.,\n",
       "       1971., 1971., 1971., 1971., 1971., 1971., 1971., 1971., 1971.,\n",
       "       1971., 1971., 1971., 1971., 1971., 1971., 1971., 1971., 1971.,\n",
       "       1971., 1971., 1971., 1971., 1971., 1971., 1971., 1971., 1971.,\n",
       "       1971., 1971., 1971., 1971., 1971., 1971., 1971., 1971., 1971.,\n",
       "       1971., 1971., 1971., 1971., 1971., 1971., 1971., 1971., 1971.,\n",
       "       1971., 1971., 1971., 1971., 1971., 1971., 1971., 1971., 1971.,\n",
       "       1971., 1971., 1971., 1971., 1971., 1971., 1971., 1971., 1971.,\n",
       "       1971., 1971., 1971., 1971., 1971., 1971., 1971., 1971., 1971.,\n",
       "       1971., 1971., 1971., 1971., 1971., 1971., 1971., 1971., 1971.,\n",
       "       1971., 1971., 1971., 1971., 1971., 1971., 1971., 1971., 1971.,\n",
       "       1971., 1971., 1971., 1971., 1971.])"
      ]
     },
     "execution_count": 64,
     "metadata": {},
     "output_type": "execute_result"
    }
   ],
   "source": [
    "mask = (data[:,0] == 1971)\n",
    "data[mask,0]"
   ]
  },
  {
   "cell_type": "code",
   "execution_count": 65,
   "metadata": {
    "slideshow": {
     "slide_type": "slide"
    }
   },
   "outputs": [
    {
     "data": {
      "text/plain": [
       "array([ -9.2,  -6.5,  -4.7,  -0.3,  -6.8, -11.6,  -1.9,   4.3,   4.6,\n",
       "         5.9,   4.8,   1.9,   0.8,  -0.9,  -1.5,  -1.5,  -3.9,   2.4,\n",
       "         1.3,   2. ,   2. ,   1.8,   2.5,   3.7,   4.9,   3.7,   1.7,\n",
       "        -2.1,  -5.1,  -6.3,   0.2,  -2.7,  -4. ,  -0.6,   1.6,   3.4,\n",
       "         2.4,  -0.4,  -1.9,  -4.8,  -1.9,   2.5,   2.4,   3.1,   2.5,\n",
       "         1.7,   1.5,   0.5,   0. ,  -0.3,   0.5,   1.1,   1.1,  -2.1,\n",
       "         0.6, -11.9,  -8.2,  -8.3,  -7.9,  -7.7,  -8.5, -10.8, -13.5,\n",
       "        -8.6,  -5.4,  -0.5,   2.1,   0. ,  -4.6,  -3.5,  -3. ,  -0.8,\n",
       "         0.4,  -0.1,   0.8,   1.6,   1.7,   1.8,   1.3,   0. ,  -2.2,\n",
       "        -4.4,  -0.3,   3.6,   3.3,  -0.8,  -1.4,   1. ,  -0.5,   0.6,\n",
       "         4.2,   4. ,   3.6,  -0.7,   0.1,   0.9,   2.5,   5.6,   3.7,\n",
       "         4.2,   6.1,   5.8,   2.7,   2.3,   3. ,   4.6,   5.2,   6.5,\n",
       "         9. ,   9.8,   7.6,   3.3,   2.1,   0.5,  -0.3,   0.1,   2.2,\n",
       "         3.6,   1.2,   3.3,   6.4,   9.9,   8.5,   7.4,   9.4,  12.2,\n",
       "        14.7,  13.2,  14.2,  15.8,  16.2,  14.2,  14. ,  11.9,  12.4,\n",
       "        12.4,  16.2,  17.5,  14.6,  13.5,   7.7,   5.8,   4. ,   3.6,\n",
       "         4.2,   6.1,  10.4,  12.6,  16.6,  19.3,  18.3,  18.6,  21.2,\n",
       "        18.9,  16.4,  13.5,  13.8,  16.2,  12.2,  10.1,  11.7,  12.9,\n",
       "        12.5,  13.4,  15.5,  14.7,  11.2,  13.7,  13. ,  13.1,  13.2,\n",
       "        16.3,  15.6,  16. ,  15.4,  14. ,  16. ,  17.9,  15.4,  16.1,\n",
       "        18.3,  16.2,  17.5,  20.5,  20.1,  22. ,  19.9,  21.1,  21.5,\n",
       "        20.7,  18.9,  20.8,  20.5,  14.2,  14. ,  13.6,  13.5,  12.4,\n",
       "        14.3,  14.7,  13.7,  14.1,  14.8,  16.8,  17.7,  20.2,  19.7,\n",
       "        19.5,  19. ,  19. ,  18.5,  19. ,  18.1,  20.1,  21. ,  20.4,\n",
       "        20.5,  20.2,  18.1,  15.5,  16.1,  16.8,  15.7,  14.1,  15.8,\n",
       "        15.7,  14.7,  14.7,  15.1,  16. ,  17.6,  19. ,  17.7,  13.2,\n",
       "        12.8,  15.4,  17.2,  16.9,  14.7,  14.4,  13.6,  13.1,  13.6,\n",
       "        13.3,  15.1,  14.9,  13.3,  11.4,  11.3,  13. ,  12.1,  12.2,\n",
       "        12.2,  11.8,  10.3,   7.7,   5.5,   7.5,   7.5,   9.8,  10.7,\n",
       "        11.7,  12.3,  12.4,  14.7,  12.1,  12.4,  10.5,   8.5,   7.8,\n",
       "         9. ,   9.6,  10.3,  12.8,  11.3,   8.2,   5.5,   5.1,  10. ,\n",
       "        13.9,   9.3,   9.4,   8.2,  14.6,  10.7,   3.9,   2.9,   3. ,\n",
       "         4.9,   6.5,   7.5,   9.6,  10.6,   8.7,   6.8,   3.4,   6. ,\n",
       "         6.3,   6.4,   6.5,   9.2,   4.9,   6.5,   5.7,   7. ,  10.6,\n",
       "        10.1,   5.5,   1.8,   0.4,  -2.3,   3.4,  -2.2,  -3. ,   4.6,\n",
       "         0.9,   0.1,   2.1,   4.3,   5.1,  -1.7,  -5.7,  -6.9,  -6.7,\n",
       "        -0.1,  -1.1,  -1.4,  -5.4,  -0.8,   1.7,   5.6,   5.6,   3.8,\n",
       "         2.8,   3. ,   2. ,  -1. ,   3. ,   3.1,   4. ,   4.6,  -3. ,\n",
       "        -1.9,  -0.9,  -0.8,  -1.5,  -2.1,   1.5,   2.4,   5.1,   4.5,\n",
       "         4.9,   1.6,   1.9,   6.3,   3.2,   0.6,   4.8,   4. ,   6.6,\n",
       "         3.7,   0.2,  -1.3,  -3.7,  -3.2])"
      ]
     },
     "execution_count": 65,
     "metadata": {},
     "output_type": "execute_result"
    }
   ],
   "source": [
    "data[mask,3]"
   ]
  },
  {
   "cell_type": "code",
   "execution_count": 66,
   "metadata": {
    "slideshow": {
     "slide_type": "slide"
    }
   },
   "outputs": [
    {
     "name": "stdout",
     "output_type": "stream",
     "text": [
      "This is the mean temperature in Stockholm in 1971: 6.9301369863013695\n"
     ]
    }
   ],
   "source": [
    "print(\"This is the mean temperature in Stockholm in 1971: \"+str(np.mean(data[mask,3])))"
   ]
  },
  {
   "cell_type": "markdown",
   "metadata": {
    "slideshow": {
     "slide_type": "slide"
    }
   },
   "source": [
    "If we are interested in the average temperature only in a particular month, say February, then we can create a index mask and use it to select only the data for that month using:"
   ]
  },
  {
   "cell_type": "code",
   "execution_count": 67,
   "metadata": {
    "scrolled": true
   },
   "outputs": [
    {
     "data": {
      "text/plain": [
       "array([ 1.,  2.,  3.,  4.,  5.,  6.,  7.,  8.,  9., 10., 11., 12.])"
      ]
     },
     "execution_count": 67,
     "metadata": {},
     "output_type": "execute_result"
    }
   ],
   "source": [
    "np.unique(data[:,1]) # the month column takes values from 1 to 12"
   ]
  },
  {
   "cell_type": "code",
   "execution_count": 68,
   "metadata": {},
   "outputs": [],
   "source": [
    "mask_feb = (data[:,1] == 2)"
   ]
  },
  {
   "cell_type": "code",
   "execution_count": 69,
   "metadata": {},
   "outputs": [
    {
     "data": {
      "text/plain": [
       "-3.212109570736596"
      ]
     },
     "execution_count": 69,
     "metadata": {},
     "output_type": "execute_result"
    }
   ],
   "source": [
    "# the temperature data is in column 3\n",
    "np.mean(data[mask_feb,3])"
   ]
  },
  {
   "cell_type": "markdown",
   "metadata": {
    "slideshow": {
     "slide_type": "slide"
    }
   },
   "source": [
    "With these tools we have very powerful data processing capabilities at our disposal. For example, to extract the average monthly average temperatures for each month of the year only takes a few lines of code: "
   ]
  },
  {
   "cell_type": "code",
   "execution_count": 70,
   "metadata": {
    "scrolled": true
   },
   "outputs": [
    {
     "data": {
      "image/png": "[encoded data removed]",
      "text/plain": [
       "<Figure size 432x288 with 1 Axes>"
      ]
     },
     "metadata": {
      "needs_background": "light"
     },
     "output_type": "display_data"
    }
   ],
   "source": [
    "months = np.arange(1,13) # or np.unique(data[:,1])\n",
    "monthly_mean = [np.mean(data[data[:,1] == month, 3]) for month in months]\n",
    "\n",
    "fig, ax = plt.subplots()\n",
    "ax.bar(months, monthly_mean)\n",
    "ax.set_xlabel(\"Month\")\n",
    "ax.set_ylabel(\"Monthly avg. temp.\");"
   ]
  },
  {
   "cell_type": "code",
   "execution_count": null,
   "metadata": {},
   "outputs": [],
   "source": []
  }
 ],
 "metadata": {
  "kernelspec": {
   "display_name": "Python 3",
   "language": "python",
   "name": "python3"
  },
  "language_info": {
   "codemirror_mode": {
    "name": "ipython",
    "version": 3
   },
   "file_extension": ".py",
   "mimetype": "text/x-python",
   "name": "python",
   "nbconvert_exporter": "python",
   "pygments_lexer": "ipython3",
   "version": "3.8.3"
  }
 },
 "nbformat": 4,
 "nbformat_minor": 1
}