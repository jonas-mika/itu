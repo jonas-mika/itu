{
 "cells": [
  {
   "cell_type": "markdown",
   "metadata": {},
   "source": [
    "<div class=\"frontmatter text-center\">\n",
    "<h1> Introduction to Data Science and Programming</h1>\n",
    "<h2>Exercise 19: Introduction to network science</h2>\n",
    "<h3>IT University of Copenhagen, Fall 2020</h3>\n",
    "Notebook adapted from: A network science class by Sean Cornelius and Emma Thompson\n",
    "</div>\n",
    "<hr>"
   ]
  },
  {
   "cell_type": "markdown",
   "metadata": {
    "slideshow": {
     "slide_type": "slide"
    }
   },
   "source": [
    "## Importing required modules"
   ]
  },
  {
   "cell_type": "code",
   "execution_count": 1,
   "metadata": {
    "slideshow": {
     "slide_type": "-"
    }
   },
   "outputs": [],
   "source": [
    "import numpy as np\n",
    "import networkx as nx\n",
    "from matplotlib import pyplot as plt\n",
    "import matplotlib as mpl\n",
    "%matplotlib inline"
   ]
  },
  {
   "cell_type": "markdown",
   "metadata": {
    "slideshow": {
     "slide_type": "slide"
    }
   },
   "source": [
    "## Basic data types in NetworkX\n",
    "NetworkX provides the following classes that represent network-related data,\n",
    "as well as network analysis algorithms that operate on these objects:\n",
    "\n",
    "**Graph**       - Undirected graph with self loops\n",
    "\n",
    "\n",
    "**DiGraph**      - Directed graph with self loops\n",
    "\n",
    "**MultiGraph**   - Undirected Graph with self loops and multiple edges between the same node pair\n",
    "\n",
    "\n",
    "**MultiDiGraph** - Directed Graph with self loops and multiple edges between the same node pair"
   ]
  },
  {
   "cell_type": "markdown",
   "metadata": {
    "slideshow": {
     "slide_type": "slide"
    }
   },
   "source": [
    "## Getting started\n",
    "Create an empty undirected graph and call it G"
   ]
  },
  {
   "cell_type": "code",
   "execution_count": 2,
   "metadata": {},
   "outputs": [],
   "source": [
    "G = nx.Graph()"
   ]
  },
  {
   "cell_type": "markdown",
   "metadata": {
    "slideshow": {
     "slide_type": "slide"
    }
   },
   "source": [
    "## Nodes\n",
    "A node mode can be pretty much anything, including numbers, strings, GPS coordinates, even another graph.\n",
    "Nodes can be added one at a time using `G.add_node(n)` (the `G` being the graph and `n` being the node to add).\n",
    "\n",
    "- Add 7 nodes one at a time to G. Make sure there are no more than two of a type.\n",
    "- Print the added nodes using `G.nodes`"
   ]
  },
  {
   "cell_type": "code",
   "execution_count": 3,
   "metadata": {},
   "outputs": [
    {
     "output_type": "execute_result",
     "data": {
      "text/plain": [
       "<networkx.classes.graph.Graph at 0x7f97ac4a0e20>"
      ]
     },
     "metadata": {},
     "execution_count": 3
    }
   ],
   "source": [
    "G"
   ]
  },
  {
   "cell_type": "code",
   "execution_count": 4,
   "metadata": {
    "collapsed": false,
    "jupyter": {
     "outputs_hidden": false
    },
    "pycharm": {
     "name": "#%%\n"
    }
   },
   "outputs": [],
   "source": [
    "G.add_node(6) # we add a node\n",
    "n = 10 # we make a variable\n",
    "G.add_node(\"string\") # we add the variable as a node\n",
    "G.add_node(0.5) # we add the variable as a node\n",
    "G.add_node(7.0) # we add the variable as a node\n",
    "G.add_node(\"8\") # we add the variable as a node\n",
    "G.add_node(9) # we add the variable as a node\n",
    "G.add_node((0,9)) # we add the variable as a node"
   ]
  },
  {
   "cell_type": "markdown",
   "metadata": {
    "slideshow": {
     "slide_type": "fragment"
    }
   },
   "source": [
    "We can also add many nodes at a time using `G.add_nodes_from(lst)` as below. We've added one list for you.\n",
    "- Make your own list of nodes and add them too:"
   ]
  },
  {
   "cell_type": "code",
   "execution_count": 5,
   "metadata": {},
   "outputs": [],
   "source": [
    "G.add_nodes_from([1, 2, 3]) # our list\n",
    "G.add_nodes_from([4,5]) # your list goes here"
   ]
  },
  {
   "cell_type": "code",
   "execution_count": 6,
   "metadata": {},
   "outputs": [
    {
     "output_type": "execute_result",
     "data": {
      "text/plain": [
       "NodeView((6, 'string', 0.5, 7.0, '8', 9, (0, 9), 1, 2, 3, 4, 5))"
      ]
     },
     "metadata": {},
     "execution_count": 6
    }
   ],
   "source": [
    "G.nodes"
   ]
  },
  {
   "cell_type": "markdown",
   "metadata": {
    "slideshow": {
     "slide_type": "slide"
    }
   },
   "source": [
    "## Node attributes\n",
    "Nodes can have arbitrary attributes associated with them, contained in a string-index dictionary.\n",
    "You can add attributes at the time of node creation using keyword arguments as follows:"
   ]
  },
  {
   "cell_type": "code",
   "execution_count": 7,
   "metadata": {},
   "outputs": [],
   "source": [
    "G.add_node(\"Noah\", eye_color='brown', height=193)"
   ]
  },
  {
   "cell_type": "markdown",
   "metadata": {
    "slideshow": {
     "slide_type": "fragment"
    }
   },
   "source": [
    "You can also add attributes to an already existing node:"
   ]
  },
  {
   "cell_type": "code",
   "execution_count": 11,
   "metadata": {},
   "outputs": [
    {
     "output_type": "execute_result",
     "data": {
      "text/plain": [
       "NodeView((6, 'string', 0.5, 7.0, '8', 9, (0, 9), 1, 2, 3, 4, 5, 'Noah', 'Natalie'))"
      ]
     },
     "metadata": {},
     "execution_count": 11
    }
   ],
   "source": [
    "G.add_node(\"Natalie\")\n",
    "# add an attribute \"books\" with value 500 to Natalie\n",
    "G.nodes[\"Natalie\"][\"books\"] = 500\n",
    "G.nodes[\"Natalie\"]\n",
    "G.nodes"
   ]
  },
  {
   "cell_type": "markdown",
   "metadata": {
    "slideshow": {
     "slide_type": "fragment"
    }
   },
   "source": [
    "- Make two new nodes with attributes\n",
    "- Add 2 attributes to at least 4 of your pre-existing nodes"
   ]
  },
  {
   "cell_type": "code",
   "execution_count": 16,
   "metadata": {
    "collapsed": false,
    "jupyter": {
     "outputs_hidden": false
    },
    "pycharm": {
     "name": "#%%\n"
    }
   },
   "outputs": [],
   "source": [
    "G.add_node(\"Simon\", age=21, job=\"TA\")\n",
    "G.add_node(\"ITU\", oppen_to_public=True, wear_masks=True)"
   ]
  },
  {
   "cell_type": "code",
   "execution_count": 20,
   "metadata": {},
   "outputs": [
    {
     "output_type": "execute_result",
     "data": {
      "text/plain": [
       "21"
      ]
     },
     "metadata": {},
     "execution_count": 20
    }
   ],
   "source": [
    "G.nodes[\"Simon\"][\"age\"]"
   ]
  },
  {
   "cell_type": "markdown",
   "metadata": {
    "pycharm": {
     "name": "#%% md\n"
    }
   },
   "source": [
    "`G.nodes[n]` gives a dictionary containing all the `attribute: value` pairs associated with node n:"
   ]
  },
  {
   "cell_type": "code",
   "execution_count": null,
   "metadata": {},
   "outputs": [],
   "source": [
    "print(\"Noah's eyes are \", G.nodes[\"Noah\"][\"eye_color\"], \" and he is \", G.nodes['Noah']['height'], \" cm tall.\")\n",
    "print(\"Natalie has \", G.nodes[\"Natalie\"][\"books\"], \" books.\")"
   ]
  },
  {
   "cell_type": "markdown",
   "metadata": {
    "pycharm": {
     "name": "#%% md\n"
    }
   },
   "source": [
    "- Make a sentence (as we did above) using nodes attributes. If you're cooler than us use `.format()` or `f\"\"`"
   ]
  },
  {
   "cell_type": "code",
   "execution_count": null,
   "metadata": {
    "collapsed": false,
    "jupyter": {
     "outputs_hidden": false
    },
    "pycharm": {
     "name": "#%%\n"
    }
   },
   "outputs": [],
   "source": [
    "# your code here"
   ]
  },
  {
   "cell_type": "markdown",
   "metadata": {
    "slideshow": {
     "slide_type": "slide"
    }
   },
   "source": [
    "## Edges\n",
    "\n",
    "An edge between node `node1` and node `node2` is represented by the tuple (`node1`, `node2`)."
   ]
  },
  {
   "cell_type": "code",
   "execution_count": 12,
   "metadata": {},
   "outputs": [],
   "source": [
    "# add edge between node 0 and node 1\n",
    "G.add_edge(0, 1) # They can be added one at a time:\n",
    "G.add_edges_from([ (2, 1), (\"Michael\", \"Natalie\"), (3, 4) ]) # or from a list\n"
   ]
  },
  {
   "cell_type": "code",
   "execution_count": 13,
   "metadata": {},
   "outputs": [
    {
     "output_type": "execute_result",
     "data": {
      "text/plain": [
       "EdgeView([(1, 0), (1, 2), (3, 4), ('Natalie', 'Michael')])"
      ]
     },
     "metadata": {},
     "execution_count": 13
    }
   ],
   "source": [
    "G.edges()"
   ]
  },
  {
   "cell_type": "markdown",
   "metadata": {
    "pycharm": {
     "name": "#%% md\n"
    }
   },
   "source": [
    "- Add 4 edges however you want, between whatever nodes you want.\n",
    "- Print a list of nodes `print(list(G.nodes))`\n",
    "- Print a list of edges"
   ]
  },
  {
   "cell_type": "code",
   "execution_count": null,
   "metadata": {
    "collapsed": false,
    "jupyter": {
     "outputs_hidden": false
    },
    "pycharm": {
     "name": "#%%\n"
    }
   },
   "outputs": [],
   "source": [
    "# your code here"
   ]
  },
  {
   "cell_type": "markdown",
   "metadata": {
    "slideshow": {
     "slide_type": "fragment"
    }
   },
   "source": [
    "**Note:** When adding an edge, nodes will be automatically created if they don't already exist."
   ]
  },
  {
   "cell_type": "markdown",
   "metadata": {
    "slideshow": {
     "slide_type": "slide"
    }
   },
   "source": [
    "## Edge attributes\n",
    "\n",
    "Like nodes, edges can also have attributes. An important and special attribute (for many algorithms) is \"edge weight\"\n",
    "\n",
    "The syntax for adding/accessing edge attributes is the similar to that for nodes:"
   ]
  },
  {
   "cell_type": "code",
   "execution_count": null,
   "metadata": {
    "slideshow": {
     "slide_type": "fragment"
    }
   },
   "outputs": [],
   "source": [
    "G.add_edge(\"Michael\", \"Natalie\", weight=10)\n",
    "G[\"Michael\"][\"Natalie\"]"
   ]
  },
  {
   "cell_type": "markdown",
   "metadata": {},
   "source": [
    "- Add attributes to three of your edges"
   ]
  },
  {
   "cell_type": "code",
   "execution_count": null,
   "metadata": {
    "collapsed": false,
    "jupyter": {
     "outputs_hidden": false
    },
    "pycharm": {
     "name": "#%%\n"
    }
   },
   "outputs": [],
   "source": [
    "# your code"
   ]
  },
  {
   "cell_type": "markdown",
   "metadata": {
    "pycharm": {
     "name": "#%% md\n"
    }
   },
   "source": [
    "`G[node1][node2]` is a dictionary containing all attribute:value pairs associated with the edge from node1 to node2.\n",
    "\n",
    "You can also get edge attributes using `G.get_edge_data(\"node1\", \"node2\")` and **set** attributes using\n",
    "`G.set_edge_attributes(G, attributes)` like so:"
   ]
  },
  {
   "cell_type": "code",
   "execution_count": null,
   "metadata": {},
   "outputs": [],
   "source": [
    "G.add_edge(\"Copenhagen\", \"Aarhus\")\n",
    "attrs = {(\"Copenhagen\", \"Aarhus\"): {'distance': 186.7}} # key is edge, value is attribute\n",
    "nx.set_edge_attributes(G, attrs)\n",
    "\n",
    "print(list(G.edges))\n",
    "print(G[\"Copenhagen\"][\"Aarhus\"]['distance'])\n",
    "print(G.get_edge_data(\"Copenhagen\", \"Aarhus\"))"
   ]
  },
  {
   "cell_type": "markdown",
   "metadata": {
    "slideshow": {
     "slide_type": "subslide"
    }
   },
   "source": [
    "## Size of the network\n",
    "\n",
    "- use `G.number_of_nodes()` or `len(G)` to determine node count of the network.\n",
    "- use `G.number_of_edges()` or `G.size()` to determine node count of the network.\n",
    "- print a sentence of stating the number of nodes and the number of edges (use .format())"
   ]
  },
  {
   "cell_type": "code",
   "execution_count": 25,
   "metadata": {
    "slideshow": {
     "slide_type": "-"
    }
   },
   "outputs": [
    {
     "output_type": "stream",
     "name": "stdout",
     "text": [
      "19\n19\n"
     ]
    }
   ],
   "source": [
    "print(G.number_of_nodes())\n",
    "print(len(G))"
   ]
  },
  {
   "cell_type": "code",
   "execution_count": 27,
   "metadata": {},
   "outputs": [
    {
     "output_type": "stream",
     "name": "stdout",
     "text": [
      "4\n4\n"
     ]
    }
   ],
   "source": [
    "print(G.number_of_edges())\n",
    "print(G.size())"
   ]
  },
  {
   "cell_type": "code",
   "execution_count": 30,
   "metadata": {},
   "outputs": [
    {
     "output_type": "stream",
     "name": "stdout",
     "text": [
      "The Network has 19 nodes and 4 edges.\n"
     ]
    }
   ],
   "source": [
    "print(f'The Network has {len(G)} nodes and {G.size()} edges.')"
   ]
  },
  {
   "cell_type": "markdown",
   "metadata": {
    "slideshow": {
     "slide_type": "subslide"
    }
   },
   "source": [
    "## Testing to see whether nodes or edges exist\n",
    "- Use `G.has_node(n)` to see if `\"michael\"` is a node in `G`:\n",
    "- Do the same by using `\"michael\" in G`"
   ]
  },
  {
   "cell_type": "code",
   "execution_count": 14,
   "metadata": {
    "slideshow": {
     "slide_type": "-"
    }
   },
   "outputs": [
    {
     "output_type": "execute_result",
     "data": {
      "text/plain": [
       "True"
      ]
     },
     "metadata": {},
     "execution_count": 14
    }
   ],
   "source": [
    "'Michael' in G"
   ]
  },
  {
   "cell_type": "markdown",
   "metadata": {
    "slideshow": {
     "slide_type": "fragment"
    }
   },
   "source": [
    "For edges, you must use `has_edge()` (no syntax like `edge in G`)\n",
    "- Check for the existence of an edge in the network, and an edge **not** in the network."
   ]
  },
  {
   "cell_type": "code",
   "execution_count": 33,
   "metadata": {
    "collapsed": false,
    "jupyter": {
     "outputs_hidden": false
    },
    "pycharm": {
     "name": "#%%\n"
    }
   },
   "outputs": [
    {
     "output_type": "execute_result",
     "data": {
      "text/plain": [
       "False"
      ]
     },
     "metadata": {},
     "execution_count": 33
    }
   ],
   "source": [
    "G.has_edge('Simon', 'Michael')"
   ]
  },
  {
   "cell_type": "markdown",
   "metadata": {
    "slideshow": {
     "slide_type": "subslide"
    }
   },
   "source": [
    "## Finding neighbors of a node"
   ]
  },
  {
   "cell_type": "code",
   "execution_count": 15,
   "metadata": {
    "slideshow": {
     "slide_type": "-"
    }
   },
   "outputs": [
    {
     "output_type": "execute_result",
     "data": {
      "text/plain": [
       "[0, 2]"
      ]
     },
     "metadata": {},
     "execution_count": 15
    }
   ],
   "source": [
    "list(G.neighbors(1))"
   ]
  },
  {
   "cell_type": "code",
   "execution_count": null,
   "metadata": {},
   "outputs": [],
   "source": []
  },
  {
   "cell_type": "markdown",
   "metadata": {
    "slideshow": {
     "slide_type": "fragment"
    }
   },
   "source": [
    "* In `DiGraph` objects, `G.neighbors(node)` gives the successors of `node`, as does `G.successors(node)`  \n",
    "* Predecessors of `node` can be obtained with `G.predecessors(node)`"
   ]
  },
  {
   "cell_type": "markdown",
   "metadata": {
    "slideshow": {
     "slide_type": "subslide"
    }
   },
   "source": [
    "## Iterating over nodes and edges\n",
    "Nodes and edges can be iterated over with `G.nodes()` and `G.edges()` respectively  "
   ]
  },
  {
   "cell_type": "code",
   "execution_count": null,
   "metadata": {
    "slideshow": {
     "slide_type": "fragment"
    }
   },
   "outputs": [],
   "source": [
    "for node, data in list(G.nodes(data=True)): # data=True includes node attributes as dictionaries\n",
    "    print(\"Node {0}\\t\\t\\t: {1}\".format(node, data))"
   ]
  },
  {
   "cell_type": "code",
   "execution_count": null,
   "metadata": {
    "collapsed": false,
    "jupyter": {
     "outputs_hidden": false
    },
    "pycharm": {
     "name": "#%%\n"
    }
   },
   "outputs": [],
   "source": [
    "for n1, n2, data in list(G.edges(data=True)):\n",
    "    print(\"{0} <----> {1}: {2}\".format(n1, n2, data))"
   ]
  },
  {
   "cell_type": "markdown",
   "metadata": {
    "pycharm": {
     "name": "#%% md\n"
    }
   },
   "source": [
    "- Use a for loop like the one above to only print nodes that are strings\n",
    "- Use a for loop to only print edges whose nodes are integers"
   ]
  },
  {
   "cell_type": "code",
   "execution_count": null,
   "metadata": {
    "collapsed": false,
    "jupyter": {
     "outputs_hidden": false
    },
    "pycharm": {
     "name": "#%%\n"
    }
   },
   "outputs": [],
   "source": [
    "# your code"
   ]
  },
  {
   "cell_type": "markdown",
   "metadata": {
    "slideshow": {
     "slide_type": "subslide"
    }
   },
   "source": [
    "## Calculating degrees\n",
    "\n",
    "- Get the degree of a node you like using `G.degree(node)`\n",
    "- Get a dictionary of the from node:degree using `G.degree()` for yor network\n",
    "- Make a list of only degrees (without the corresponding nodes)"
   ]
  },
  {
   "cell_type": "code",
   "execution_count": null,
   "metadata": {
    "collapsed": false,
    "jupyter": {
     "outputs_hidden": false
    },
    "pycharm": {
     "name": "#%%\n"
    }
   },
   "outputs": [],
   "source": [
    "# your code"
   ]
  },
  {
   "cell_type": "markdown",
   "metadata": {
    "slideshow": {
     "slide_type": "fragment"
    }
   },
   "source": [
    "As you know, in directed graphs (of class `DiGraph`) there are two types of degree. Things work just as you expect\n",
    "* `G.in_degree(node) `\n",
    "* `G.out_degree(node) `\n"
   ]
  },
  {
   "cell_type": "markdown",
   "metadata": {
    "slideshow": {
     "slide_type": "slide"
    }
   },
   "source": [
    "### Other operations with `x`\n",
    "\n",
    "* ***`subgraph(G, nodes)` or `G.subgraph(nodes)`***\n",
    "subgraph of `G induced by nodes in `nodes`\n",
    "\n",
    "* ***`reverse(G)`***       \n",
    "DiGraph with all edges reversed\n",
    "\n",
    "* ***`union(G1, G2)`***      \n",
    "graph union    \n",
    "\n",
    "* ***`disjoint_union(G1, G2)`***     \n",
    "same, but treats nodes of G1, G2 as different \n",
    "\n",
    "* ***`intersection(G1, G2)`***      \n",
    "graph with only the edges in common between G1, G2\n",
    "\n",
    "* ***`difference(G1, G2)`***      \n",
    "graph with only the edges G1 that aren't in G2\n",
    "\n",
    "* ***`copy(G)` or `G.copy()`***     \n",
    "copy of G\n",
    "\n",
    "* ***`complement(G)` or `G.complement()`***     \n",
    "the complement graph of G \n",
    "\n",
    "* ***`convert_to_undirected(G)` or `G.to_undirected()`***     \n",
    "undirected version of G (a Graph or MultiGraph)  \n",
    "\n",
    "* ***`convert_to_directed(G)` or `G.to_directed()`***      \n",
    "directed version of G (a DiGraph of MultiDiGraph)\n",
    "\n",
    "* ***`adjacency_matrix(G)`***      \n",
    "adjacency matrix A of G (in sparse matrix format; to get full matrix, use A.toarray() )"
   ]
  },
  {
   "cell_type": "markdown",
   "metadata": {
    "slideshow": {
     "slide_type": "slide"
    }
   },
   "source": [
    "# Graph I/O\n",
    "\n",
    "Usually you will not be building a network from scratch one node/link at a time. Instead, you will\n",
    "want to read it in from an appropriate data file. NetworkX can understand the following common graph\n",
    "formats:"
   ]
  },
  {
   "cell_type": "markdown",
   "metadata": {},
   "source": [
    "* edge lists\n",
    "* adjacency lists\n",
    "* GML\n",
    "* GEXF\n",
    "* Python 'pickle'\n",
    "* GraphML\n",
    "* Pajek\n",
    "* LEDA\n",
    "* YAML"
   ]
  },
  {
   "cell_type": "markdown",
   "metadata": {
    "slideshow": {
     "slide_type": "fragment"
    }
   },
   "source": [
    "# Reading in an edge list\n",
    "\n",
    "Read in the file `test.txt` with the following options\n",
    "* lines starting with `#` are treated as comments and ignored  \n",
    "* use a `Graph` object to hold the data (i.e., network is undirected)  \n",
    "* data are separated by whitespace (' ')\n",
    "* nodes should be treated as integers (`int`)\n",
    "* encoding of the text file containing the edge list is utf-8"
   ]
  },
  {
   "cell_type": "code",
   "execution_count": null,
   "metadata": {
    "slideshow": {
     "slide_type": "-"
    }
   },
   "outputs": [],
   "source": [
    "# read in an edge list from the file 'test.txt'\n",
    "G = nx.read_edgelist('files/test.txt', comments='#',\n",
    "                     create_using=nx.Graph(), \n",
    "                     delimiter=' ', \n",
    "                     nodetype=int, \n",
    "                     encoding='utf-8')"
   ]
  },
  {
   "cell_type": "markdown",
   "metadata": {
    "slideshow": {
     "slide_type": "fragment"
    }
   },
   "source": [
    "### Allowed formats\n",
    "* Node pairs with no data  \n",
    "`1 2`\n",
    "* Node pairs with python dictionary  \n",
    "`1 2 {weight:7, color:\"green\"}`"
   ]
  },
  {
   "cell_type": "markdown",
   "metadata": {
    "slideshow": {
     "slide_type": "slide"
    }
   },
   "source": [
    "# Basic analysis example\n",
    "A large number of basic analyses can be done in one line using NetworkX + numpy or builtin python functions like `min`, `max`, etc."
   ]
  },
  {
   "cell_type": "code",
   "execution_count": null,
   "metadata": {
    "slideshow": {
     "slide_type": "-"
    }
   },
   "outputs": [],
   "source": [
    "N = len(G)\n",
    "L = G.size()\n",
    "degrees = [d for _, d in G.degree()]\n",
    "kmin = min(degrees)\n",
    "kmax = max(degrees)"
   ]
  },
  {
   "cell_type": "code",
   "execution_count": null,
   "metadata": {
    "slideshow": {
     "slide_type": "fragment"
    }
   },
   "outputs": [],
   "source": [
    "print(\"Number of nodes: \", N)\n",
    "print(\"Number of edges: \", L)\n",
    "print()\n",
    "print(\"Average degree: \", 2*L/N)\n",
    "print(\"Average degree (alternate calculation)\", np.mean(degrees))\n",
    "print()\n",
    "print(\"Minimum degree: \", kmin)\n",
    "print(\"Maximum degree: \", kmax)"
   ]
  },
  {
   "cell_type": "markdown",
   "metadata": {
    "slideshow": {
     "slide_type": "slide"
    }
   },
   "source": [
    "# The gnutella network\n",
    "\n",
    "- Read in the provided Gnutella network and perform a basic network analysis like the one above."
   ]
  },
  {
   "cell_type": "code",
   "execution_count": null,
   "metadata": {
    "collapsed": false,
    "jupyter": {
     "outputs_hidden": false
    },
    "pycharm": {
     "name": "#%%\n"
    }
   },
   "outputs": [],
   "source": [
    "# your network analysis code here"
   ]
  },
  {
   "cell_type": "markdown",
   "metadata": {
    "pycharm": {
     "name": "#%% md\n"
    }
   },
   "source": [
    "# Drawing the network\n",
    "* NetworkX can draw networks using a large number of layout algorithms\n",
    "* The results are not as pretty as Gephi, but NetworkX is better for a quick 'n dirty visualization and\n",
    "gives you finer-grained control over the layout."
   ]
  },
  {
   "cell_type": "code",
   "execution_count": null,
   "metadata": {
    "collapsed": false,
    "jupyter": {
     "outputs_hidden": false
    },
    "pycharm": {
     "name": "#%%\n"
    }
   },
   "outputs": [],
   "source": [
    "# using the force-based or \"spring\" layout algorithm\n",
    "fig = plt.figure(figsize=(8,8))\n",
    "nx.draw_spring(G, node_size=30)"
   ]
  },
  {
   "cell_type": "code",
   "execution_count": null,
   "metadata": {
    "slideshow": {
     "slide_type": "subslide"
    }
   },
   "outputs": [],
   "source": [
    "# using the fcircular layout algorithm\n",
    "fig = plt.figure(figsize=(8,8))\n",
    "nx.draw_circular(G, node_size=30)"
   ]
  }
 ],
 "metadata": {
  "celltoolbar": "Slideshow",
  "kernelspec": {
   "display_name": "Python 3",
   "language": "python",
   "name": "python3"
  },
  "language_info": {
   "codemirror_mode": {
    "name": "ipython",
    "version": 3
   },
   "file_extension": ".py",
   "mimetype": "text/x-python",
   "name": "python",
   "nbconvert_exporter": "python",
   "pygments_lexer": "ipython3",
   "version": "3.8.3-final"
  }
 },
 "nbformat": 4,
 "nbformat_minor": 4
}