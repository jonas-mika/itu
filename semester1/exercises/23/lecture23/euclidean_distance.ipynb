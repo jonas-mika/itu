{
 "cells": [
  {
   "cell_type": "markdown",
   "metadata": {},
   "source": [
    "<h1>Euclidean Distance between vectors</h1>"
   ]
  },
  {
   "cell_type": "code",
   "execution_count": null,
   "metadata": {},
   "outputs": [],
   "source": [
    "from scipy.spatial import distance"
   ]
  },
  {
   "cell_type": "markdown",
   "metadata": {},
   "source": [
    "<h1>Animals I want to measure the distance</h1>"
   ]
  },
  {
   "cell_type": "code",
   "execution_count": null,
   "metadata": {},
   "outputs": [],
   "source": [
    "rattlesnake = [1,1,1,1,0]\n",
    "boa_constrictor = [0,1,0,1,0]\n",
    "dartfrog = [1,0,1,0,4]"
   ]
  },
  {
   "cell_type": "markdown",
   "metadata": {},
   "source": [
    "<h1>Computing the Euclidean distance </h1>\n",
    "\n",
    "We will use the scipy function distance\n",
    "\n",
    "Documentation: https://docs.scipy.org/doc/scipy/reference/generated/scipy.spatial.distance.euclidean.html\n"
   ]
  },
  {
   "cell_type": "markdown",
   "metadata": {},
   "source": [
    "<h1>Distance between rattlesnake and boa constrictor is:</h1>"
   ]
  },
  {
   "cell_type": "code",
   "execution_count": 27,
   "metadata": {},
   "outputs": [
    {
     "name": "stdout",
     "output_type": "stream",
     "text": [
      "Distance = 1.4142135623730951\n"
     ]
    }
   ],
   "source": [
    "print('Distance = {}'.format(distance.euclidean(rattlesnake, boa_constrictor)))"
   ]
  },
  {
   "cell_type": "markdown",
   "metadata": {},
   "source": [
    "<h1>Distance between rattlesnake and dartfrog is:</h1>"
   ]
  },
  {
   "cell_type": "code",
   "execution_count": 28,
   "metadata": {},
   "outputs": [
    {
     "name": "stdout",
     "output_type": "stream",
     "text": [
      "Distance = 1.7320508075688772\n"
     ]
    }
   ],
   "source": [
    "print('Distance = {}'.format(distance.euclidean(rattlesnake, dartfrog)))"
   ]
  },
  {
   "cell_type": "markdown",
   "metadata": {},
   "source": [
    "<h1>Distance between boa constrictor and dartfrog is:</h1>"
   ]
  },
  {
   "cell_type": "code",
   "execution_count": 29,
   "metadata": {},
   "outputs": [
    {
     "name": "stdout",
     "output_type": "stream",
     "text": [
      "Distance = 2.23606797749979\n"
     ]
    }
   ],
   "source": [
    "print('Distance = {}'.format(distance.euclidean(boa_constrictor, dartfrog)))"
   ]
  },
  {
   "cell_type": "markdown",
   "metadata": {},
   "source": [
    "<h1>Add Aligator and compute distances</h1>"
   ]
  },
  {
   "cell_type": "code",
   "execution_count": 30,
   "metadata": {},
   "outputs": [
    {
     "name": "stdout",
     "output_type": "stream",
     "text": [
      "Distance between Aligator and rattlesnake = 4.123105625617661\n",
      "Distance between Aligator and boa constrictor = 4.123105625617661\n",
      "Distance between Aligator and dartfrog = 3.4641016151377544\n"
     ]
    }
   ],
   "source": [
    "aligator = [1,1,0,1,4]\n",
    "\n",
    "print('Distance between Aligator and rattlesnake = {}'.format(distance.euclidean(aligator, rattlesnake)))\n",
    "print('Distance between Aligator and boa constrictor = {}'.format(distance.euclidean(aligator, boa_constrictor)))\n",
    "print('Distance between Aligator and dartfrog = {}'.format(distance.euclidean(aligator, dartfrog)))"
   ]
  },
  {
   "cell_type": "markdown",
   "metadata": {},
   "source": [
    "<h1>Feature engeneering - Make the number of legs a binary feature</h1>"
   ]
  },
  {
   "cell_type": "code",
   "execution_count": 32,
   "metadata": {},
   "outputs": [],
   "source": [
    "rattlesnake = [1,1,1,1,0]\n",
    "boa_constrictor = [0,1,0,1,0]\n",
    "dartfrog = [1,0,1,0,1]\n",
    "aligator = [1,1,0,1,1]"
   ]
  },
  {
   "cell_type": "markdown",
   "metadata": {},
   "source": [
    "<h1>Compute the distances again</h1>"
   ]
  },
  {
   "cell_type": "code",
   "execution_count": 33,
   "metadata": {},
   "outputs": [
    {
     "name": "stdout",
     "output_type": "stream",
     "text": [
      "Distance between rattlesnake and boa constrictor= 1.4142135623730951\n",
      "Distance between Aligator and rattlesnake = 1.4142135623730951\n",
      "Distance between Aligator and boa constrictor = 1.4142135623730951\n",
      "Distance between Aligator and dartfrog = 1.7320508075688772\n",
      "Distance between rattlesnake and dartfrog = 1.7320508075688772\n",
      "Distance between boa constrictor and dartfrog = 2.23606797749979\n"
     ]
    }
   ],
   "source": [
    "print('Distance between rattlesnake and boa constrictor= {}'.format(distance.euclidean(rattlesnake, boa_constrictor)))\n",
    "print('Distance between Aligator and rattlesnake = {}'.format(distance.euclidean(aligator, rattlesnake)))\n",
    "print('Distance between Aligator and boa constrictor = {}'.format(distance.euclidean(aligator, boa_constrictor)))\n",
    "print('Distance between Aligator and dartfrog = {}'.format(distance.euclidean(aligator, dartfrog)))\n",
    "print('Distance between rattlesnake and dartfrog = {}'.format(distance.euclidean(rattlesnake, dartfrog)))\n",
    "print('Distance between boa constrictor and dartfrog = {}'.format(distance.euclidean(boa_constrictor, dartfrog)))"
   ]
  },
  {
   "cell_type": "markdown",
   "metadata": {},
   "source": [
    "<h1>Feature engeneering matters!!</h1>"
   ]
  },
  {
   "cell_type": "code",
   "execution_count": null,
   "metadata": {},
   "outputs": [],
   "source": []
  }
 ],
 "metadata": {
  "kernelspec": {
   "display_name": "Python 3",
   "language": "python",
   "name": "python3"
  },
  "language_info": {
   "codemirror_mode": {
    "name": "ipython",
    "version": 3
   },
   "file_extension": ".py",
   "mimetype": "text/x-python",
   "name": "python",
   "nbconvert_exporter": "python",
   "pygments_lexer": "ipython3",
   "version": "3.8.3"
  }
 },
 "nbformat": 4,
 "nbformat_minor": 4
}