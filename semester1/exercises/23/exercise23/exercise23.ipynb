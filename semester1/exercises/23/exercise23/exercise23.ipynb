{
 "cells": [
  {
   "cell_type": "code",
   "execution_count": 1,
   "metadata": {},
   "outputs": [],
   "source": [
    "import numpy as np\n",
    "from sklearn.model_selection import train_test_split\n",
    "from sklearn.metrics import accuracy_score\n",
    "from sklearn.naive_bayes import GaussianNB\n",
    "from sklearn.ensemble import RandomForestClassifier"
   ]
  },
  {
   "cell_type": "markdown",
   "metadata": {},
   "source": [
    "# Machine Learning for Classification with SciKit-Learn\n",
    "Classification is the process of predicting the class (also called target or label) of given data points. In more technical terms, classification predictive modeling is the task of approximating a mapping function from input variables (X) to discrete output variables (y).  \n",
    "Classification belongs to the category of supervised learning, meaning we know know the true class labels of the data we are using to train our model, that is both X and y are given in the data.\n",
    "\n",
    "For example, spam detection in email service providers can be identified as a classification problem. This is binary classification since there are only 2 classes: spam and not spam.  \n",
    "The model utilizes some training data to understand how given input variables relate to the class. In the email example case, known spam and non-spam emails have to be used as the training data. When the classifier is trained accurately, it can be used to label new unknown emails."
   ]
  },
  {
   "cell_type": "markdown",
   "metadata": {},
   "source": [
    "### 23.0. Loading in the data\n",
    "In the folder for today's exercises, you have been supplied with the file `seeds.data` which contains the [Wheat Seeds Dataset](http://archive.ics.uci.edu/ml/datasets/seeds).  The data consists of 210 observations of seeds from 3 different varieties of wheat. The number of observations for each class is balanced. Each seed is described by 7 attributes and the class it belongs to:\n",
    "\n",
    "<img src=\"https://www.organicfoods.com.au/wp-content/uploads/2020/06/wheat-grain.png\" width=\"300\" align=\"right\">\n",
    "\n",
    "0. Surface area\n",
    "1. Perimeter\n",
    "2. Compactness\n",
    "3. Length of kernel\n",
    "4. Width of kernel\n",
    "5. Asymmetry coefficient.\n",
    "6. Length of kernel groove.\n",
    "7. Class: {1, 2, 3}\n",
    "\n",
    "**NB!** `seeds.data` is formatted as a tab-delimited data file and can be loaded using `np.loadtxt()` with default parameters.\n",
    "___\n",
    "`seeds.shape`  \n",
    "\\>\\> `(210, 8)`"
   ]
  },
  {
   "cell_type": "code",
   "execution_count": 3,
   "metadata": {},
   "outputs": [
    {
     "output_type": "execute_result",
     "data": {
      "text/plain": [
       "array([[15.26  , 14.84  ,  0.871 , ...,  2.221 ,  5.22  ,  1.    ],\n",
       "       [14.88  , 14.57  ,  0.8811, ...,  1.018 ,  4.956 ,  1.    ],\n",
       "       [14.29  , 14.09  ,  0.905 , ...,  2.699 ,  4.825 ,  1.    ],\n",
       "       ...,\n",
       "       [13.2   , 13.66  ,  0.8883, ...,  8.315 ,  5.056 ,  3.    ],\n",
       "       [11.84  , 13.21  ,  0.8521, ...,  3.598 ,  5.044 ,  3.    ],\n",
       "       [12.3   , 13.34  ,  0.8684, ...,  5.637 ,  5.063 ,  3.    ]])"
      ]
     },
     "metadata": {},
     "execution_count": 3
    }
   ],
   "source": [
    "seeds = np.loadtxt('seeds.data')\n",
    "seeds"
   ]
  },
  {
   "cell_type": "markdown",
   "metadata": {},
   "source": [
    "### 23.1. Separate descriptive features and target feature\n",
    "Extract the 7 descriptive features into a matrix, `X`, and the target feature, class, into a column vector, `y`. \n",
    "\n",
    "Hint: Use numpy slicing\n",
    "___\n",
    "`X.shape`  \n",
    "\\>\\> `(210, 7)`\n",
    "\n",
    "`y.shape`  \n",
    "\\>\\> `(210,)`"
   ]
  },
  {
   "cell_type": "code",
   "execution_count": 30,
   "metadata": {},
   "outputs": [
    {
     "output_type": "stream",
     "name": "stdout",
     "text": [
      "[[15.26   14.84    0.871   5.763 ]\n [14.88   14.57    0.8811  5.554 ]\n [14.29   14.09    0.905   5.291 ]\n [13.84   13.94    0.8955  5.324 ]\n [16.14   14.99    0.9034  5.658 ]\n [14.38   14.21    0.8951  5.386 ]\n [14.69   14.49    0.8799  5.563 ]\n [14.11   14.1     0.8911  5.42  ]\n [16.63   15.46    0.8747  6.053 ]\n [16.44   15.25    0.888   5.884 ]\n [15.26   14.85    0.8696  5.714 ]\n [14.03   14.16    0.8796  5.438 ]\n [13.89   14.02    0.888   5.439 ]\n [13.78   14.06    0.8759  5.479 ]\n [13.74   14.05    0.8744  5.482 ]\n [14.59   14.28    0.8993  5.351 ]\n [13.99   13.83    0.9183  5.119 ]\n [15.69   14.75    0.9058  5.527 ]\n [14.7    14.21    0.9153  5.205 ]\n [12.72   13.57    0.8686  5.226 ]\n [14.16   14.4     0.8584  5.658 ]\n [14.11   14.26    0.8722  5.52  ]\n [15.88   14.9     0.8988  5.618 ]\n [12.08   13.23    0.8664  5.099 ]\n [15.01   14.76    0.8657  5.789 ]\n [16.19   15.16    0.8849  5.833 ]\n [13.02   13.76    0.8641  5.395 ]\n [12.74   13.67    0.8564  5.395 ]\n [14.11   14.18    0.882   5.541 ]\n [13.45   14.02    0.8604  5.516 ]\n [13.16   13.82    0.8662  5.454 ]\n [15.49   14.94    0.8724  5.757 ]\n [14.09   14.41    0.8529  5.717 ]\n [13.94   14.17    0.8728  5.585 ]\n [15.05   14.68    0.8779  5.712 ]\n [16.12   15.      0.9     5.709 ]\n [16.2    15.27    0.8734  5.826 ]\n [17.08   15.38    0.9079  5.832 ]\n [14.8    14.52    0.8823  5.656 ]\n [14.28   14.17    0.8944  5.397 ]\n [13.54   13.85    0.8871  5.348 ]\n [13.5    13.85    0.8852  5.351 ]\n [13.16   13.55    0.9009  5.138 ]\n [15.5    14.86    0.882   5.877 ]\n [15.11   14.54    0.8986  5.579 ]\n [13.8    14.04    0.8794  5.376 ]\n [15.36   14.76    0.8861  5.701 ]\n [14.99   14.56    0.8883  5.57  ]\n [14.79   14.52    0.8819  5.545 ]\n [14.86   14.67    0.8676  5.678 ]\n [14.43   14.4     0.8751  5.585 ]\n [15.78   14.91    0.8923  5.674 ]\n [14.49   14.61    0.8538  5.715 ]\n [14.33   14.28    0.8831  5.504 ]\n [14.52   14.6     0.8557  5.741 ]\n [15.03   14.77    0.8658  5.702 ]\n [14.46   14.35    0.8818  5.388 ]\n [14.92   14.43    0.9006  5.384 ]\n [15.38   14.77    0.8857  5.662 ]\n [12.11   13.47    0.8392  5.159 ]\n [11.42   12.86    0.8683  5.008 ]\n [11.23   12.63    0.884   4.902 ]\n [12.36   13.19    0.8923  5.076 ]\n [13.22   13.84    0.868   5.395 ]\n [12.78   13.57    0.8716  5.262 ]\n [12.88   13.5     0.8879  5.139 ]\n [14.34   14.37    0.8726  5.63  ]\n [14.01   14.29    0.8625  5.609 ]\n [14.37   14.39    0.8726  5.569 ]\n [12.73   13.75    0.8458  5.412 ]\n [17.63   15.98    0.8673  6.191 ]\n [16.84   15.67    0.8623  5.998 ]\n [17.26   15.73    0.8763  5.978 ]\n [19.11   16.26    0.9081  6.154 ]\n [16.82   15.51    0.8786  6.017 ]\n [16.77   15.62    0.8638  5.927 ]\n [17.32   15.91    0.8599  6.064 ]\n [20.71   17.23    0.8763  6.579 ]\n [18.94   16.49    0.875   6.445 ]\n [17.12   15.55    0.8892  5.85  ]\n [16.53   15.34    0.8823  5.875 ]\n [18.72   16.19    0.8977  6.006 ]\n [20.2    16.89    0.8894  6.285 ]\n [19.57   16.74    0.8779  6.384 ]\n [19.51   16.71    0.878   6.366 ]\n [18.27   16.09    0.887   6.173 ]\n [18.88   16.26    0.8969  6.084 ]\n [18.98   16.66    0.859   6.549 ]\n [21.18   17.21    0.8989  6.573 ]\n [20.88   17.05    0.9031  6.45  ]\n [20.1    16.99    0.8746  6.581 ]\n [18.76   16.2     0.8984  6.172 ]\n [18.81   16.29    0.8906  6.272 ]\n [18.59   16.05    0.9066  6.037 ]\n [18.36   16.52    0.8452  6.666 ]\n [16.87   15.65    0.8648  6.139 ]\n [19.31   16.59    0.8815  6.341 ]\n [18.98   16.57    0.8687  6.449 ]\n [18.17   16.26    0.8637  6.271 ]\n [18.72   16.34    0.881   6.219 ]\n [16.41   15.25    0.8866  5.718 ]\n [17.99   15.86    0.8992  5.89  ]\n [19.46   16.5     0.8985  6.113 ]\n [19.18   16.63    0.8717  6.369 ]\n [18.95   16.42    0.8829  6.248 ]\n [18.83   16.29    0.8917  6.037 ]\n [18.85   16.17    0.9056  6.152 ]\n [17.63   15.86    0.88    6.033 ]\n [19.94   16.92    0.8752  6.675 ]\n [18.55   16.22    0.8865  6.153 ]\n [18.45   16.12    0.8921  6.107 ]\n [19.38   16.72    0.8716  6.303 ]\n [19.13   16.31    0.9035  6.183 ]\n [19.14   16.61    0.8722  6.259 ]\n [20.97   17.25    0.8859  6.563 ]\n [19.06   16.45    0.8854  6.416 ]\n [18.96   16.2     0.9077  6.051 ]\n [19.15   16.45    0.889   6.245 ]\n [18.89   16.23    0.9008  6.227 ]\n [20.03   16.9     0.8811  6.493 ]\n [20.24   16.91    0.8897  6.315 ]\n [18.14   16.12    0.8772  6.059 ]\n [16.17   15.38    0.8588  5.762 ]\n [18.43   15.97    0.9077  5.98  ]\n [15.99   14.89    0.9064  5.363 ]\n [18.75   16.18    0.8999  6.111 ]\n [18.65   16.41    0.8698  6.285 ]\n [17.98   15.85    0.8993  5.979 ]\n [20.16   17.03    0.8735  6.513 ]\n [17.55   15.66    0.8991  5.791 ]\n [18.3    15.89    0.9108  5.979 ]\n [18.94   16.32    0.8942  6.144 ]\n [15.38   14.9     0.8706  5.884 ]\n [16.16   15.33    0.8644  5.845 ]\n [15.56   14.89    0.8823  5.776 ]\n [15.38   14.66    0.899   5.477 ]\n [17.36   15.76    0.8785  6.145 ]\n [15.57   15.15    0.8527  5.92  ]\n [15.6    15.11    0.858   5.832 ]\n [16.23   15.18    0.885   5.872 ]\n [13.07   13.92    0.848   5.472 ]\n [13.32   13.94    0.8613  5.541 ]\n [13.34   13.95    0.862   5.389 ]\n [12.22   13.32    0.8652  5.224 ]\n [11.82   13.4     0.8274  5.314 ]\n [11.21   13.13    0.8167  5.279 ]\n [11.43   13.13    0.8335  5.176 ]\n [12.49   13.46    0.8658  5.267 ]\n [12.7    13.71    0.8491  5.386 ]\n [10.79   12.93    0.8107  5.317 ]\n [11.83   13.23    0.8496  5.263 ]\n [12.01   13.52    0.8249  5.405 ]\n [12.26   13.6     0.8333  5.408 ]\n [11.18   13.04    0.8266  5.22  ]\n [11.36   13.05    0.8382  5.175 ]\n [11.19   13.05    0.8253  5.25  ]\n [11.34   12.87    0.8596  5.053 ]\n [12.13   13.73    0.8081  5.394 ]\n [11.75   13.52    0.8082  5.444 ]\n [11.49   13.22    0.8263  5.304 ]\n [12.54   13.67    0.8425  5.451 ]\n [12.02   13.33    0.8503  5.35  ]\n [12.05   13.41    0.8416  5.267 ]\n [12.55   13.57    0.8558  5.333 ]\n [11.14   12.79    0.8558  5.011 ]\n [12.1    13.15    0.8793  5.105 ]\n [12.44   13.59    0.8462  5.319 ]\n [12.15   13.45    0.8443  5.417 ]\n [11.35   13.12    0.8291  5.176 ]\n [11.24   13.      0.8359  5.09  ]\n [11.02   13.      0.8189  5.325 ]\n [11.55   13.1     0.8455  5.167 ]\n [11.27   12.97    0.8419  5.088 ]\n [11.4    13.08    0.8375  5.136 ]\n [10.83   12.96    0.8099  5.278 ]\n [10.8    12.57    0.859   4.981 ]\n [11.26   13.01    0.8355  5.186 ]\n [10.74   12.73    0.8329  5.145 ]\n [11.48   13.05    0.8473  5.18  ]\n [12.21   13.47    0.8453  5.357 ]\n [11.41   12.95    0.856   5.09  ]\n [12.46   13.41    0.8706  5.236 ]\n [12.19   13.36    0.8579  5.24  ]\n [11.65   13.07    0.8575  5.108 ]\n [12.89   13.77    0.8541  5.495 ]\n [11.56   13.31    0.8198  5.363 ]\n [11.81   13.45    0.8198  5.413 ]\n [10.91   12.8     0.8372  5.088 ]\n [11.23   12.82    0.8594  5.089 ]\n [10.59   12.41    0.8648  4.899 ]\n [10.93   12.8     0.839   5.046 ]\n [11.27   12.86    0.8563  5.091 ]\n [11.87   13.02    0.8795  5.132 ]\n [10.82   12.83    0.8256  5.18  ]\n [12.11   13.27    0.8639  5.236 ]\n [12.8    13.47    0.886   5.16  ]\n [12.79   13.53    0.8786  5.224 ]\n [13.37   13.78    0.8849  5.32  ]\n [12.62   13.67    0.8481  5.41  ]\n [12.76   13.38    0.8964  5.073 ]\n [12.38   13.44    0.8609  5.219 ]\n [12.67   13.32    0.8977  4.984 ]\n [11.18   12.72    0.868   5.009 ]\n [12.7    13.41    0.8874  5.183 ]\n [12.37   13.47    0.8567  5.204 ]\n [12.19   13.2     0.8783  5.137 ]\n [11.23   12.88    0.8511  5.14  ]\n [13.2    13.66    0.8883  5.236 ]\n [11.84   13.21    0.8521  5.175 ]\n [12.3    13.34    0.8684  5.243 ]]\n(210, 7)\n(210,)\n"
     ]
    }
   ],
   "source": [
    "X, y = seeds[:,:7], seeds[:,-1]\n",
    "\n",
    "z = seeds[0::2, ]\n",
    "print(z)\n",
    "\n",
    "# expected output \n",
    "print(X.shape)\n",
    "print(y.shape)"
   ]
  },
  {
   "cell_type": "markdown",
   "metadata": {},
   "source": [
    "## Training data and testing data\n",
    "To assess your model’s performance later, you will also need to divide the data set into two parts: a training set and a test set. The first is used to train the model, while the second is used to evaluate the trained model.\n",
    "\n",
    "The most common splitting choice is to take 70 % of your original data set as the training set, while the 30 % that remains will compose the test set. \n",
    "\n",
    "It is often a good idea to shuffle your data prior to splitting, to ensure that all classes are somewhat equally represented in both the train and test data. You’ll probably recognize, that shuffling has some randomness to it, so you should seed your shuffles to guarantee that your split data will always look the same. That is particularly handy if you want reproducible results.\n",
    "\n",
    "\n",
    "### 23.2. Split your data into a training set and a test set\n",
    "Use the `train_test_split` method from scikit-learn to split your data, with the test_size set to 0.3, and the random_state set to 3 (or another number you think is cool).\n",
    "\n",
    "Hint: https://scikit-learn.org/stable/modules/generated/sklearn.model_selection.train_test_split.html\n",
    "___\n",
    "`X_train.shape`  \n",
    "\\>\\> `(147, 7)`\n",
    "\n",
    "`y_test.shape`  \n",
    "\\>\\> `(63,)`"
   ]
  },
  {
   "cell_type": "code",
   "execution_count": 42,
   "metadata": {},
   "outputs": [
    {
     "output_type": "stream",
     "name": "stdout",
     "text": [
      "Initial Number of Datapoints: 210\nSplitting the Data into Test and Train Data...\n\n-----Train Data-----\nDescriptive: (147, 7)\nTarget: (147,)\n\n-----Test Data-----\nDescriptive: (63, 7)\nTarget: (63,)\n"
     ]
    }
   ],
   "source": [
    "print(f'Initial Number of Datapoints: {seeds.shape[0]}')\n",
    "print(f'Splitting the Data into Test and Train Data...')\n",
    "\n",
    "X_train, X_test = train_test_split(X, test_size=0.3, random_state=3)\n",
    "y_train, y_test = train_test_split(y, test_size=0.3, random_state=3)\n",
    "\n",
    "# X_train, X_test, y_train, y_test = train_test_split(X, y, test_size=0.3, random_state=3)\n",
    "\n",
    "print(\"\\n\" + \"-\"*5 + \"Train Data\" + \"-\"*5)\n",
    "print(f'Descriptive: {X_train.shape}')\n",
    "print(f'Target: {y_train.shape}')\n",
    "print(\"\\n\" + \"-\"*5 + \"Test Data\" + \"-\"*5)\n",
    "print(f'Descriptive: {X_test.shape}')\n",
    "print(f'Target: {y_test.shape}')"
   ]
  },
  {
   "cell_type": "markdown",
   "metadata": {},
   "source": [
    "## Naive Bayes Classifier"
   ]
  },
  {
   "cell_type": "markdown",
   "metadata": {},
   "source": [
    "### 23.1. Make a NaiveBayes classifier object and fit it to your training data\n",
    "Now, we finally get to make our machine learning model! Make a `GaussianNB()` object, and apply the `fit` method to the object to train the model to your training data.\n",
    "\n",
    "Hint: https://scikit-learn.org/stable/modules/generated/sklearn.naive_bayes.GaussianNB.html#sklearn.naive_bayes.GaussianNB"
   ]
  },
  {
   "cell_type": "code",
   "execution_count": 54,
   "metadata": {},
   "outputs": [
    {
     "output_type": "stream",
     "name": "stdout",
     "text": [
      "ID\tName\tAbsolute and Relative Frequency\n0\t1.0\t48.0 (32.65%)\n1\t2.0\t47.0 (31.97%)\n2\t3.0\t52.0 (35.37%)\n"
     ]
    }
   ],
   "source": [
    "naive_bayes = GaussianNB()\n",
    "naive_bayes.fit(X_train, y_train)\n",
    "\n",
    "print(\"ID\\tName\\tAbsolute and Relative Frequency\")\n",
    "for i, class_ in enumerate(naive_bayes.classes_):\n",
    "\tprint(f\"{i}\\t{class_}\\t{naive_bayes.class_count_[i]} ({round(naive_bayes.class_prior_[i]*100, 2)}%)\")"
   ]
  },
  {
   "cell_type": "markdown",
   "metadata": {},
   "source": [
    "### 23.5. Use your Naive Bayes Classifier to (re-)predict the labels for the training data\n",
    "Let's make our first prediction using our model. You will use the `predict` method on your classifier object and feed it your training data. So we're making a prediction for the data that the model already knows, so that we can see how accurately we modelled/learned the training data.\n",
    "\n",
    "Hint: https://scikit-learn.org/stable/modules/generated/sklearn.naive_bayes.GaussianNB.html#sklearn.naive_bayes.GaussianNB.predict"
   ]
  },
  {
   "cell_type": "code",
   "execution_count": 20,
   "metadata": {},
   "outputs": [
    {
     "output_type": "execute_result",
     "data": {
      "text/plain": [
       "0.9115646258503401"
      ]
     },
     "metadata": {},
     "execution_count": 20
    }
   ],
   "source": [
    "y_predtrain = naive_bayes.predict(X_train)\n",
    "\n",
    "sum(y_predtrain == y_train)/len(y_train)"
   ]
  },
  {
   "cell_type": "markdown",
   "metadata": {},
   "source": [
    "### 23.6. Measure the accuracy of your model for the training data\n",
    "Use the `accuracy_score` method, and feed it your true labels for training data and your predicted labels.\n",
    "\n",
    "Hint: https://scikit-learn.org/stable/modules/generated/sklearn.metrics.accuracy_score.html"
   ]
  },
  {
   "cell_type": "code",
   "execution_count": 21,
   "metadata": {},
   "outputs": [
    {
     "output_type": "execute_result",
     "data": {
      "text/plain": [
       "0.9115646258503401"
      ]
     },
     "metadata": {},
     "execution_count": 21
    }
   ],
   "source": [
    "accuracy_score(y_train, y_predtrain)"
   ]
  },
  {
   "cell_type": "markdown",
   "metadata": {},
   "source": [
    "### 23.7. Repeat the two prior steps for the testing data\n",
    "Use your classifier object to make a prediction of the labels of the test data, and calculate the accuracy score by comparing the resulting labels to the true labels."
   ]
  },
  {
   "cell_type": "code",
   "execution_count": 23,
   "metadata": {},
   "outputs": [
    {
     "output_type": "stream",
     "name": "stdout",
     "text": [
      "0.9206349206349206\n0.9206349206349206\n"
     ]
    }
   ],
   "source": [
    "y_predtest = naive_bayes.predict(X_test)\n",
    "\n",
    "print(sum(y_predtest == y_test)/len(y_test))\n",
    "print(accuracy_score(y_test, y_predtest))"
   ]
  },
  {
   "cell_type": "markdown",
   "metadata": {},
   "source": [
    "## Random Forest Classifier\n",
    "### 23.8. Make a Random Forest Classifier and train it on your training data\n",
    "Make a `RandomForestClassifier()` object and train it on your training data using the `fit` method.\n",
    "\n",
    "Hint: https://scikit-learn.org/stable/modules/generated/sklearn.ensemble.RandomForestClassifier.html#sklearn.ensemble.RandomForestClassifier"
   ]
  },
  {
   "cell_type": "code",
   "execution_count": 24,
   "metadata": {},
   "outputs": [],
   "source": [
    "random_forest = RandomForestClassifier()\n",
    "random_forest.fit(X_train, y_train);"
   ]
  },
  {
   "cell_type": "markdown",
   "metadata": {},
   "source": [
    "### 23.9. Check the accuracy of your model on both the training and testing data\n",
    "Use the `predict` method on your classifier object to get both the predicted labels for the known training data and the unseen test data.\n",
    "\n",
    "Calculate the accuracy of your predictions using the `accuracy_score` function."
   ]
  },
  {
   "cell_type": "code",
   "execution_count": 26,
   "metadata": {},
   "outputs": [
    {
     "output_type": "stream",
     "name": "stdout",
     "text": [
      "Accuracy Score (Test): 0.9682539682539683\nAccuracy Score (Train): 1.0\n"
     ]
    }
   ],
   "source": [
    "y_predtrain, y_predtest = random_forest.predict(X_train), random_forest.predict(X_test)\n",
    "\n",
    "print(f\"Accuracy Score (Test): {accuracy_score(y_test, y_predtest)}\")\n",
    "print(f\"Accuracy Score (Train): {accuracy_score(y_train, y_predtrain)}\")"
   ]
  },
  {
   "cell_type": "markdown",
   "metadata": {},
   "source": [
    "### Bonus: Play around with hyperparameters\n",
    "The classifiers we have used today were both made with scikit-learn's default parameters. This will very seldom be the optimal parameters for your task.  \n",
    "Make a new RandomForestClassifier object, but this time try changing some of the hyperparameters. Fit the classifier to your data, and see how the accuracy of your model changes on train and test data.\n",
    "\n",
    "The list of possible parameters can be found [here](https://scikit-learn.org/stable/modules/generated/sklearn.ensemble.RandomForestClassifier.html#sklearn.ensemble.RandomForestClassifier)."
   ]
  },
  {
   "cell_type": "code",
   "execution_count": null,
   "metadata": {},
   "outputs": [],
   "source": [
    "# play around with parameters of the model we are training on the test data"
   ]
  }
 ],
 "metadata": {
  "kernelspec": {
   "display_name": "Python 3",
   "language": "python",
   "name": "python3"
  },
  "language_info": {
   "codemirror_mode": {
    "name": "ipython",
    "version": 3
   },
   "file_extension": ".py",
   "mimetype": "text/x-python",
   "name": "python",
   "nbconvert_exporter": "python",
   "pygments_lexer": "ipython3",
   "version": "3.8.3-final"
  }
 },
 "nbformat": 4,
 "nbformat_minor": 2
}