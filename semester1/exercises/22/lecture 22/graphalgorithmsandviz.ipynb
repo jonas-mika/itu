{
 "cells": [
  {
   "cell_type": "markdown",
   "metadata": {},
   "source": [
    "<div class=\"frontmatter text-center\">\n",
    "<h1> Introduction to data science and programming</h1>\n",
    "<h2>Lecture 22: Graph algorithms</h2>\n",
    "<h3>IT University of Copenhagen, Fall 2020</h3>\n",
    "<h3>Instructor: Michael Szell</h3>\n",
    "</div>"
   ]
  },
  {
   "cell_type": "markdown",
   "metadata": {
    "slideshow": {
     "slide_type": "slide"
    }
   },
   "source": [
    "# Setup"
   ]
  },
  {
   "cell_type": "code",
   "execution_count": 3,
   "metadata": {
    "slideshow": {
     "slide_type": "-"
    }
   },
   "outputs": [],
   "source": [
    "from Graph import *"
   ]
  },
  {
   "cell_type": "code",
   "execution_count": 4,
   "metadata": {},
   "outputs": [
    {
     "output_type": "execute_result",
     "data": {
      "text/plain": [
       "{('A', 'B'): 7,\n",
       " ('A', 'D'): 5,\n",
       " ('B', 'A'): 7,\n",
       " ('B', 'C'): 8,\n",
       " ('B', 'D'): 9,\n",
       " ('B', 'E'): 7,\n",
       " ('D', 'A'): 5,\n",
       " ('D', 'B'): 9,\n",
       " ('D', 'E'): 15,\n",
       " ('D', 'F'): 6,\n",
       " ('C', 'B'): 8,\n",
       " ('C', 'E'): 5,\n",
       " ('E', 'B'): 7,\n",
       " ('E', 'C'): 5,\n",
       " ('E', 'D'): 15,\n",
       " ('E', 'F'): 8,\n",
       " ('E', 'G'): 9,\n",
       " ('F', 'D'): 6,\n",
       " ('F', 'E'): 8,\n",
       " ('F', 'G'): 11,\n",
       " ('G', 'E'): 9,\n",
       " ('G', 'F'): 11}"
      ]
     },
     "metadata": {},
     "execution_count": 4
    }
   ],
   "source": [
    "G = Graph()\n",
    "\n",
    "edge_list = [\n",
    "    ('A', 'B'),\n",
    "    ('A', 'D'),\n",
    "    ('B', 'C'),\n",
    "    ('B', 'D'),\n",
    "    ('B', 'E'),\n",
    "    ('C', 'E'),\n",
    "    ('D', 'E'),\n",
    "    ('D', 'F'),\n",
    "    ('E', 'F'),\n",
    "    ('E', 'G'),\n",
    "    ('F', 'G')]\n",
    "\n",
    "G.add_edges_from(edge_list)\n",
    "\n",
    "G._edges['A']['B']['weight'] = 7\n",
    "G._edges['A']['D']['weight'] = 5\n",
    "G._edges['B']['C']['weight'] = 8\n",
    "G._edges['B']['D']['weight'] = 9\n",
    "G._edges['B']['E']['weight'] = 7\n",
    "G._edges['C']['E']['weight'] = 5\n",
    "G._edges['D']['E']['weight'] = 15\n",
    "G._edges['D']['F']['weight'] = 6\n",
    "G._edges['E']['F']['weight'] = 8\n",
    "G._edges['E']['G']['weight'] = 9\n",
    "G._edges['F']['G']['weight'] = 11\n",
    "\n",
    "G.weights()"
   ]
  },
  {
   "cell_type": "markdown",
   "metadata": {},
   "source": [
    "# Prim's algorithm"
   ]
  },
  {
   "cell_type": "code",
   "execution_count": 5,
   "metadata": {},
   "outputs": [],
   "source": [
    "@add_method(Graph)\n",
    "def mst_prim(self):\n",
    "    \"\"\" Calculates the minimum spanning tree using Prim's algorithm.\n",
    "    Focus is to be human-readable; the code was not optimized for efficiency.\n",
    "    \"\"\"\n",
    "    \n",
    "    demo = True # Set this to true to print how the algorithm works step by step\n",
    "    \n",
    "    # initialize the MST nodes, links, and weights\n",
    "    MST_nodes = set()\n",
    "    MST_links = {} # Will look like this: {('A', 'B'): 5}\n",
    "\n",
    "    # select an arbitrary node to begin with\n",
    "    MST_nodes.add(list(self._nodes.keys())[0])\n",
    "    \n",
    "    while len(MST_nodes) != self.number_of_nodes():\n",
    "        frontierlinks = set() # This is the frontier: All link candidates to grow the MST\n",
    "        \n",
    "        # for each node m in MST_nodes, consider the link (m, k) if\n",
    "        # k is not already in MST_links\n",
    "        for m in MST_nodes:\n",
    "            for k in self._nodes.keys():\n",
    "                if k not in MST_nodes and (m, k) in self.weights(): \n",
    "                    frontierlinks.add((m, k))\n",
    "        \n",
    "        # find the candidate link with the smallest weight\n",
    "        newlink = sorted(frontierlinks, key=lambda e:self.weights()[e[0], e[1]])[0]\n",
    "        # add this link and its weight to MST_links\n",
    "        MST_links[newlink] = self.weights()[newlink[0], newlink[1]]\n",
    "        # add the new node to MST_nodes\n",
    "        MST_nodes.add(newlink[1])\n",
    "        if demo: \n",
    "            print(\"Frontier:\",frontierlinks)\n",
    "            print(\"Adding the link\",newlink,\":\",self.weights()[newlink[0], newlink[1]])\n",
    "            print(\"MST progress:\",MST_links, '\\n')\n",
    "        #if demo: print(newlink, self.weights()[newlink[0], newlink[1]])\n",
    "        \n",
    "    MST = Graph()\n",
    "    MST.add_nodes_from(MST_nodes)\n",
    "    MST.add_edges_from(MST_links.keys())\n",
    "    for link, w in MST_links.items(): # update weights\n",
    "        MST._edges[link[0]][link[1]]['weight'] = w\n",
    "    \n",
    "    return MST"
   ]
  },
  {
   "cell_type": "code",
   "execution_count": 6,
   "metadata": {
    "scrolled": true
   },
   "outputs": [
    {
     "output_type": "stream",
     "name": "stdout",
     "text": [
      "Frontier: {('A', 'B'), ('A', 'D')}\nAdding the link ('A', 'D') : 5\nMST progress: {('A', 'D'): 5} \n\nFrontier: {('D', 'E'), ('A', 'B'), ('D', 'B'), ('D', 'F')}\nAdding the link ('D', 'F') : 6\nMST progress: {('A', 'D'): 5, ('D', 'F'): 6} \n\nFrontier: {('A', 'B'), ('F', 'E'), ('D', 'B'), ('D', 'E'), ('F', 'G')}\nAdding the link ('A', 'B') : 7\nMST progress: {('A', 'D'): 5, ('D', 'F'): 6, ('A', 'B'): 7} \n\nFrontier: {('F', 'E'), ('B', 'C'), ('D', 'E'), ('B', 'E'), ('F', 'G')}\nAdding the link ('B', 'E') : 7\nMST progress: {('A', 'D'): 5, ('D', 'F'): 6, ('A', 'B'): 7, ('B', 'E'): 7} \n\nFrontier: {('E', 'G'), ('B', 'C'), ('F', 'G'), ('E', 'C')}\nAdding the link ('E', 'C') : 5\nMST progress: {('A', 'D'): 5, ('D', 'F'): 6, ('A', 'B'): 7, ('B', 'E'): 7, ('E', 'C'): 5} \n\nFrontier: {('E', 'G'), ('F', 'G')}\nAdding the link ('E', 'G') : 9\nMST progress: {('A', 'D'): 5, ('D', 'F'): 6, ('A', 'B'): 7, ('B', 'E'): 7, ('E', 'C'): 5, ('E', 'G'): 9} \n\n"
     ]
    },
    {
     "output_type": "execute_result",
     "data": {
      "text/plain": [
       "{('A', 'D'): 5,\n",
       " ('A', 'B'): 7,\n",
       " ('D', 'A'): 5,\n",
       " ('D', 'F'): 6,\n",
       " ('F', 'D'): 6,\n",
       " ('B', 'A'): 7,\n",
       " ('B', 'E'): 7,\n",
       " ('E', 'B'): 7,\n",
       " ('E', 'C'): 5,\n",
       " ('E', 'G'): 9,\n",
       " ('C', 'E'): 5,\n",
       " ('G', 'E'): 9}"
      ]
     },
     "metadata": {},
     "execution_count": 6
    }
   ],
   "source": [
    "MST = G.mst_prim()\n",
    "MST.weights()"
   ]
  },
  {
   "cell_type": "markdown",
   "metadata": {},
   "source": [
    "# Kruskal's algorithm"
   ]
  },
  {
   "cell_type": "code",
   "execution_count": 7,
   "metadata": {},
   "outputs": [],
   "source": [
    "@add_method(Graph)\n",
    "class _UF:\n",
    "    \"\"\"Union-find data structure for the Kruskal algorithm.\n",
    "    Focus is to be human-readable; the code was not optimized for efficiency.\n",
    "    \"\"\"\n",
    "\n",
    "    def __init__(self, G):\n",
    "        \"\"\"Initialize: Every node is its own parent and has rank 0\"\"\"\n",
    "        self.parent = {key:key for key in list(G._nodes.keys())}\n",
    "        self.rank = {key:0 for key in list(G._nodes.keys())}\n",
    "\n",
    "    def are_connected(self, u, v):\n",
    "        \"\"\"Check if two nodes are in the same component\"\"\"\n",
    "        return self._find(u) == self._find(v)\n",
    "\n",
    "    def _find(self, u):\n",
    "        \"\"\"Find the root of node u\"\"\"\n",
    "        while u != self.parent[u]:\n",
    "            u = self.parent[u]\n",
    "        return u\n",
    "    \n",
    "    def union(self, u, v):\n",
    "        \"\"\"Create the union of two components\"\"\"\n",
    "        u_root = self._find(u)\n",
    "        v_root = self._find(v)\n",
    "        if u_root == v_root:\n",
    "            # nothing to do if they are already in the same component\n",
    "            return\n",
    "        if self.rank[u_root] > self.rank[v_root]:\n",
    "            # If u is higher ranked, we can connect v to u\n",
    "            self.parent[v_root] = u_root\n",
    "        else:\n",
    "            # If not, we connect u to v and increase v's rank if needed\n",
    "            self.parent[u_root] = v_root\n",
    "            if self.rank[u_root] == self.rank[v_root]:\n",
    "                self.rank[v_root] += 1"
   ]
  },
  {
   "cell_type": "code",
   "execution_count": 8,
   "metadata": {},
   "outputs": [],
   "source": [
    "@add_method(Graph)\n",
    "def mst_kruskal(self):\n",
    "    \"\"\" Calculates the minimum spanning tree using Kruskal's algorithm.\n",
    "    Focus is to be human-readable; the code was not optimized for efficiency.\n",
    "    \"\"\"\n",
    "    \n",
    "    demo = True # Set this to true to print how the algorithm works step by step\n",
    "    \n",
    "    # Initialize the MST nodes, links, and weights\n",
    "    MST_nodes = set()\n",
    "    MST_links = {} # Will look like this: {('A', 'B'): 5}\n",
    "\n",
    "    # Sort all links by weights from smallest to largest. Skip every other due to symmetry.\n",
    "    sorted_links = sorted(self.weights(), key=self.weights().__getitem__)[0::2]\n",
    "    \n",
    "    uf = _UF(self)\n",
    "    for e in sorted_links:\n",
    "        u, v = e\n",
    "        if demo: print(\"Consider adding:\",e,\":\",self.weights()[e])\n",
    "        # if u, v already connected, abort this edge\n",
    "        if uf.are_connected(u, v):\n",
    "            if demo: print(\"NOT adding the link.\\n\")\n",
    "            continue\n",
    "        # if not, connect them and add this edge and its nodes to the MST\n",
    "        uf.union(u, v)\n",
    "        MST_links[e] = self.weights()[e[0], e[1]]\n",
    "        MST_nodes.add(u)\n",
    "        MST_nodes.add(v)\n",
    "        if demo: \n",
    "            print(\"Adding the link.\")\n",
    "            print(\"MST progress:\",MST_links)\n",
    "            print(\"Components:\", uf.parent)\n",
    "            print(\"Ranks:\", uf.rank, \"\\n\")\n",
    "        if len(MST_nodes) == self.number_of_nodes(): \n",
    "            break # We can stop once we cover all nodes\n",
    "        \n",
    "    MST = Graph()\n",
    "    MST.add_nodes_from(MST_nodes)\n",
    "    MST.add_edges_from(MST_links.keys())\n",
    "    for link, w in MST_links.items(): # update weights\n",
    "        MST._edges[link[0]][link[1]]['weight'] = w\n",
    "    \n",
    "    return MST"
   ]
  },
  {
   "cell_type": "code",
   "execution_count": 9,
   "metadata": {},
   "outputs": [
    {
     "output_type": "stream",
     "name": "stdout",
     "text": [
      "Consider adding: ('A', 'D') : 5\nAdding the link.\nMST progress: {('A', 'D'): 5}\nComponents: {'A': 'D', 'B': 'B', 'D': 'D', 'C': 'C', 'E': 'E', 'F': 'F', 'G': 'G'}\nRanks: {'A': 0, 'B': 0, 'D': 1, 'C': 0, 'E': 0, 'F': 0, 'G': 0} \n\nConsider adding: ('C', 'E') : 5\nAdding the link.\nMST progress: {('A', 'D'): 5, ('C', 'E'): 5}\nComponents: {'A': 'D', 'B': 'B', 'D': 'D', 'C': 'E', 'E': 'E', 'F': 'F', 'G': 'G'}\nRanks: {'A': 0, 'B': 0, 'D': 1, 'C': 0, 'E': 1, 'F': 0, 'G': 0} \n\nConsider adding: ('D', 'F') : 6\nAdding the link.\nMST progress: {('A', 'D'): 5, ('C', 'E'): 5, ('D', 'F'): 6}\nComponents: {'A': 'D', 'B': 'B', 'D': 'D', 'C': 'E', 'E': 'E', 'F': 'D', 'G': 'G'}\nRanks: {'A': 0, 'B': 0, 'D': 1, 'C': 0, 'E': 1, 'F': 0, 'G': 0} \n\nConsider adding: ('A', 'B') : 7\nAdding the link.\nMST progress: {('A', 'D'): 5, ('C', 'E'): 5, ('D', 'F'): 6, ('A', 'B'): 7}\nComponents: {'A': 'D', 'B': 'D', 'D': 'D', 'C': 'E', 'E': 'E', 'F': 'D', 'G': 'G'}\nRanks: {'A': 0, 'B': 0, 'D': 1, 'C': 0, 'E': 1, 'F': 0, 'G': 0} \n\nConsider adding: ('B', 'E') : 7\nAdding the link.\nMST progress: {('A', 'D'): 5, ('C', 'E'): 5, ('D', 'F'): 6, ('A', 'B'): 7, ('B', 'E'): 7}\nComponents: {'A': 'D', 'B': 'D', 'D': 'E', 'C': 'E', 'E': 'E', 'F': 'D', 'G': 'G'}\nRanks: {'A': 0, 'B': 0, 'D': 1, 'C': 0, 'E': 2, 'F': 0, 'G': 0} \n\nConsider adding: ('B', 'C') : 8\nNOT adding the link.\n\nConsider adding: ('E', 'F') : 8\nNOT adding the link.\n\nConsider adding: ('B', 'D') : 9\nNOT adding the link.\n\nConsider adding: ('E', 'G') : 9\nAdding the link.\nMST progress: {('A', 'D'): 5, ('C', 'E'): 5, ('D', 'F'): 6, ('A', 'B'): 7, ('B', 'E'): 7, ('E', 'G'): 9}\nComponents: {'A': 'D', 'B': 'D', 'D': 'E', 'C': 'E', 'E': 'E', 'F': 'D', 'G': 'E'}\nRanks: {'A': 0, 'B': 0, 'D': 1, 'C': 0, 'E': 2, 'F': 0, 'G': 0} \n\n"
     ]
    },
    {
     "output_type": "execute_result",
     "data": {
      "text/plain": [
       "{('A', 'D'): 5,\n",
       " ('A', 'B'): 7,\n",
       " ('D', 'A'): 5,\n",
       " ('D', 'F'): 6,\n",
       " ('C', 'E'): 5,\n",
       " ('E', 'C'): 5,\n",
       " ('E', 'B'): 7,\n",
       " ('E', 'G'): 9,\n",
       " ('F', 'D'): 6,\n",
       " ('B', 'A'): 7,\n",
       " ('B', 'E'): 7,\n",
       " ('G', 'E'): 9}"
      ]
     },
     "metadata": {},
     "execution_count": 9
    }
   ],
   "source": [
    "MST = G.mst_kruskal()\n",
    "MST.weights()"
   ]
  }
 ],
 "metadata": {
  "celltoolbar": "Slideshow",
  "kernelspec": {
   "display_name": "Python 3",
   "language": "python",
   "name": "python3"
  },
  "language_info": {
   "codemirror_mode": {
    "name": "ipython",
    "version": 3
   },
   "file_extension": ".py",
   "mimetype": "text/x-python",
   "name": "python",
   "nbconvert_exporter": "python",
   "pygments_lexer": "ipython3",
   "version": "3.8.3-final"
  }
 },
 "nbformat": 4,
 "nbformat_minor": 1
}