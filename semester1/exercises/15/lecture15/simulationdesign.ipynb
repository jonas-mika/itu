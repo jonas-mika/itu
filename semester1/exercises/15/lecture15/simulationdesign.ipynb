{
 "cells": [
  {
   "cell_type": "markdown",
   "metadata": {
    "slideshow": {
     "slide_type": "slide"
    }
   },
   "source": [
    "<div class=\"frontmatter text-center\">\n",
    "<h1> Introduction to Data Science and Programming</h1>\n",
    "<h2>Lecture 15: Simulation and program design</h2>\n",
    "<h3>IT University of Copenhagen, Fall 2020</h3>\n",
    "<h3>Instructor: Michael Szell</h3>\n",
    "</div>"
   ]
  },
  {
   "cell_type": "markdown",
   "metadata": {},
   "source": [
    "# Source\n",
    "This notebook was adapted from:\n",
    "* Zelle: Python Programming, Chapter 9"
   ]
  },
  {
   "cell_type": "code",
   "execution_count": 11,
   "metadata": {},
   "outputs": [
    {
     "output_type": "stream",
     "name": "stdout",
     "text": [
      "0.7462413402924964\n0.2139346511477106\n0.545601973001097\n0.6048048176130054\n0.24680939369395394\n0.22168636686132492\n"
     ]
    }
   ],
   "source": [
    "from random import *\n",
    "seed()\n",
    "print(random())\n",
    "print(random())\n",
    "print(random())\n",
    "\n",
    "seed()\n",
    "print(random())\n",
    "print(random())\n",
    "print(random())"
   ]
  },
  {
   "cell_type": "markdown",
   "metadata": {},
   "source": [
    "## Top-down Raquetball simulation"
   ]
  },
  {
   "cell_type": "code",
   "execution_count": 21,
   "metadata": {},
   "outputs": [
    {
     "output_type": "stream",
     "name": "stdout",
     "text": [
      "This program simulates a game of raquetball between two\n",
      "players called \"A\" and \"B\". The abilities of each player is\n",
      "indicated by a probability (a number betweeen 0 and 1) that\n",
      "reflects the likelihood of a player winning the serve.\n",
      "Player A has the first serve.\n",
      "------------\n",
      "---------------------\n",
      "In the Simulation of 10 games this is the result of Wins:\n",
      "Player A  8:12  Player B\n",
      "---------------------\n"
     ]
    }
   ],
   "source": [
    "# Simulate a game of raquetball for two players, given their chance of winning a point and the number n of games played:\n",
    "\n",
    "from random import random\n",
    "\n",
    "# functions\n",
    "\n",
    "def printIntro():\n",
    "    \"\"\"Prints the introduction\"\"\"\n",
    "    \n",
    "    print(\"This program simulates a game of raquetball between two\")\n",
    "    print('players called \"A\" and \"B\". The abilities of each player is')\n",
    "    print(\"indicated by a probability (a number betweeen 0 and 1) that\")\n",
    "    print(\"reflects the likelihood of a player winning the serve.\")\n",
    "    print(\"Player A has the first serve.\")\n",
    "    \n",
    "def getInputs():\n",
    "    \"\"\"Returns the three simulation parameters\"\"\"\n",
    "    prob\n",
    "\n",
    "def simOneGame(probA, probB):\n",
    "    scoreA = 0\n",
    "    scoreB = 0\n",
    "    serving = \"A\"\n",
    "\n",
    "    for i in range(30):\n",
    "        if serving == \"A\":\n",
    "            if random() < probA:\n",
    "                scoreA = scoreA + 1 \n",
    "            else:\n",
    "                serving = \"B\"\n",
    "        else:\n",
    "            if random() < probB:\n",
    "                scoreB = scoreB + 1\n",
    "            else:\n",
    "                serving = \"A\"\n",
    "    \n",
    "    return scoreA, scoreB\n",
    "\n",
    "def simNGames(n, probA, probB):\n",
    "    \"\"\"Simulate n games\"\"\"\n",
    "    winsA, winsB = 0,0\n",
    "\n",
    "    for i in range(n):\n",
    "        scoreA, scoreB = simOneGame(probA, probB)\n",
    "        if scoreA > scoreB:\n",
    "            winsA += 1\n",
    "        else:\n",
    "            winsB += 1\n",
    "    return winsA, winsB\n",
    "\n",
    "def printSummary(winsA, winsB):\n",
    "    \"\"\"Prints the result of inserted games played between the two Players A and B with the given probablity of winning\n",
    "    \"\"\"\n",
    "    print(\"---------------------\")\n",
    "    print(\"In the Simulation of {} games this is the result of Wins:\". format(n))\n",
    "    print(\"Player A  {}:{}  Player B\".format(winsA, winsB))\n",
    "    print(\"---------------------\")\n",
    "\n",
    "            \n",
    "def main():\n",
    "    \"\"\"Main Function\n",
    "    \"\"\"\n",
    "\n",
    "    printIntro() # print an introduction\n",
    "    probA, probB, n = getInputs() # get the inputs: probA, probB, n\n",
    "    winsA, winsB = simNGames(n, probA, probB) # simulate n games of raquetball using probA and probB\n",
    "    print(\"------------\")\n",
    "    printSummary(winsA, winsB) # output: print a report of the wins for player A and player B\n",
    "\n",
    "main()\n"
   ]
  },
  {
   "cell_type": "markdown",
   "metadata": {},
   "source": [
    "### Exploratory unit testing"
   ]
  },
  {
   "cell_type": "code",
   "execution_count": null,
   "metadata": {},
   "outputs": [],
   "source": [
    "print(gameOver(0,0))\n",
    "print(gameOver(5,10))\n",
    "print(gameOver(15,3))\n",
    "print(gameOver(3,15))"
   ]
  },
  {
   "cell_type": "code",
   "execution_count": null,
   "metadata": {},
   "outputs": [],
   "source": [
    "print(simOneGame(.5,.5))\n",
    "print(simOneGame(.5,.5))\n",
    "print(simOneGame(.3,.3))\n",
    "print(simOneGame(.3,.3))\n",
    "print(simOneGame(.4,.9))\n",
    "print(simOneGame(.4,.9))\n",
    "print(simOneGame(.9,.4))\n",
    "print(simOneGame(.9,.4))\n",
    "print(simOneGame(.4,.6))\n",
    "print(simOneGame(.4,.6))"
   ]
  },
  {
   "cell_type": "markdown",
   "metadata": {},
   "source": [
    "### Prototyping"
   ]
  },
  {
   "cell_type": "code",
   "execution_count": null,
   "metadata": {},
   "outputs": [],
   "source": [
    "from random import random\n",
    "\n",
    "def simOneGame(): \n",
    "    scoreA = 0\n",
    "    scoreB = 0\n",
    "    serving = \"A\"\n",
    "    for i in range(30):\n",
    "        if serving == \"A\":\n",
    "            if random() < .5:\n",
    "                scoreA = scoreA + 1 \n",
    "            else:\n",
    "                serving = \"B\"\n",
    "        else:\n",
    "            if random() < .5:\n",
    "                scoreB = scoreB + 1\n",
    "            else:\n",
    "                serving = \"A\"\n",
    "    print(scoreA, scoreB)\n",
    "    \n",
    "    \n",
    "# main program\n",
    "simOneGame()"
   ]
  },
  {
   "cell_type": "markdown",
   "metadata": {},
   "source": [
    "### Exploratory unit testing of circle_area"
   ]
  },
  {
   "cell_type": "code",
   "execution_count": 33,
   "metadata": {},
   "outputs": [
    {
     "output_type": "stream",
     "name": "stdout",
     "text": [
      "Area of circles with r = 2 is 12.566370614359172.\nArea of circles with r = 0 is 0.0.\nArea of circles with r = -3 is 28.274333882308138.\nArea of circles with r = (2+5j) is (-65.97344572538566+62.83185307179586j).\nArea of circles with r = True is 3.141592653589793.\n"
     ]
    }
   ],
   "source": [
    "from math import pi\n",
    "\n",
    "def circle_area(r):\n",
    "    if r < 0:\n",
    "        raise ValueError(\"A radius cannot be negative.\")\n",
    "    if type(r) != int or float:\n",
    "        raise ValueError(\"A radius needs to be a number.\")\n",
    "    \n",
    "    return pi*(r**2)\n",
    "\n",
    "# Test function\n",
    "radii  = [2, 0, -3, 2+5j, True]\n",
    "message = \"Area of circles with r = {radius} is {area}.\"\n",
    "\n",
    "for r in radii:\n",
    "    A = circle_area(r)\n",
    "    print(message.format(radius=r, area=A))\n"
   ]
  },
  {
   "cell_type": "code",
   "execution_count": null,
   "metadata": {},
   "outputs": [],
   "source": []
  }
 ],
 "metadata": {
  "kernelspec": {
   "display_name": "Python 3",
   "language": "python",
   "name": "python3"
  },
  "language_info": {
   "codemirror_mode": {
    "name": "ipython",
    "version": 3
   },
   "file_extension": ".py",
   "mimetype": "text/x-python",
   "name": "python",
   "nbconvert_exporter": "python",
   "pygments_lexer": "ipython3",
   "version": "3.8.3-final"
  }
 },
 "nbformat": 4,
 "nbformat_minor": 1
}