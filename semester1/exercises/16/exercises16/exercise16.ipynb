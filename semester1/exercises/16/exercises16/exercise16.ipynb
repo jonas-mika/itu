{
 "cells": [
  {
   "cell_type": "code",
   "execution_count": 1,
   "metadata": {},
   "outputs": [],
   "source": [
    "from math import pi\n",
    "import random"
   ]
  },
  {
   "cell_type": "markdown",
   "metadata": {},
   "source": [
    "# Classes and Objects\n",
    "An object is, simply put, a collection of variables and functions that make up a single entity, and objects get their variables and functions from classes. This means that classes are essentially blueprints to create objects. \n",
    "\n",
    "Just like we can have many houses made from the same blueprint in real life, we can create many objects from a class. An object is also called an instance of a class.\n",
    "\n",
    "Class names are per convention usually written in pascal case (WhichLooksLikeThis), and class methods are written in dromedary case (whichLooksSlightlyDifferent)."
   ]
  },
  {
   "cell_type": "markdown",
   "metadata": {},
   "source": [
    "## Sphere\n",
    "\n",
    "\n",
    "### 16.1. Write a class to represent spheres\n",
    "A skeleton class with a finished constructor has been provided for this first exercise.\n",
    "\n",
    "Your job is to implement the following class methods: \n",
    "- `getRadius` -- should return the radius as an unrounded float\n",
    "- `surfaceArea` -- should return the surface area as a float rounded to 3 decimal points \n",
    "- `volume` -- should return the volume as a float rounded to 3 decimal points\n",
    "\n",
    "$$sphere_{surfaceArea} = 4 \\pi r^{2} $$\n",
    "$$sphere_{volume} = \\frac{4}{3} \\pi r^{3} $$\n",
    "\n",
    "We have imported `pi` from the math library for you"
   ]
  },
  {
   "cell_type": "code",
   "execution_count": 35,
   "metadata": {},
   "outputs": [],
   "source": [
    "class Sphere(): \n",
    "    \"\"\"A class to obtain the Surface Area and Volume when entering a Radius\"\"\"\n",
    "\n",
    "    def __init__(self, radius):\n",
    "        assert type(radius) == int, \"Please insert a positive Int\"\n",
    "        assert radius > 0, \"Please insert a positive Radius\"\n",
    "\n",
    "        self.radius = radius\n",
    "    \n",
    "    def getRadius(self):\n",
    "        \"\"\"Get the Radius of the Object\"\"\"\n",
    "        return self.radius\n",
    "    \n",
    "    def surfaceArea(self):\n",
    "        \"\"\"Returns the Computation for the Surface Area given the attribute of Radius in the Object.\"\"\"\n",
    "        return 4*pi*(self.radius**2)\n",
    "    \n",
    "    def volume(self):\n",
    "        \"\"\"Returns the Computation for the Volume given the attribute of Radius in the Object.\"\"\"\n",
    "        return 4/3*pi*(self.radius**3)"
   ]
  },
  {
   "cell_type": "code",
   "execution_count": 37,
   "metadata": {},
   "outputs": [
    {
     "output_type": "error",
     "ename": "AssertionError",
     "evalue": "Please insert a positive Radius",
     "traceback": [
      "\u001b[0;31m---------------------------------------------------------------------------\u001b[0m",
      "\u001b[0;31mAssertionError\u001b[0m                            Traceback (most recent call last)",
      "\u001b[0;32m<ipython-input-37-e424f2520180>\u001b[0m in \u001b[0;36m<module>\u001b[0;34m\u001b[0m\n\u001b[0;32m----> 1\u001b[0;31m \u001b[0msphereFail\u001b[0m \u001b[0;34m=\u001b[0m \u001b[0mSphere\u001b[0m\u001b[0;34m(\u001b[0m\u001b[0;34m-\u001b[0m\u001b[0;36m3\u001b[0m\u001b[0;34m)\u001b[0m\u001b[0;34m\u001b[0m\u001b[0;34m\u001b[0m\u001b[0m\n\u001b[0m",
      "\u001b[0;32m<ipython-input-35-d82fd368a8bb>\u001b[0m in \u001b[0;36m__init__\u001b[0;34m(self, radius)\u001b[0m\n\u001b[1;32m      4\u001b[0m     \u001b[0;32mdef\u001b[0m \u001b[0m__init__\u001b[0m\u001b[0;34m(\u001b[0m\u001b[0mself\u001b[0m\u001b[0;34m,\u001b[0m \u001b[0mradius\u001b[0m\u001b[0;34m)\u001b[0m\u001b[0;34m:\u001b[0m\u001b[0;34m\u001b[0m\u001b[0;34m\u001b[0m\u001b[0m\n\u001b[1;32m      5\u001b[0m         \u001b[0;32massert\u001b[0m \u001b[0mtype\u001b[0m\u001b[0;34m(\u001b[0m\u001b[0mradius\u001b[0m\u001b[0;34m)\u001b[0m \u001b[0;34m==\u001b[0m \u001b[0mint\u001b[0m\u001b[0;34m,\u001b[0m \u001b[0;34m\"Please insert a positive Int\"\u001b[0m\u001b[0;34m\u001b[0m\u001b[0;34m\u001b[0m\u001b[0m\n\u001b[0;32m----> 6\u001b[0;31m         \u001b[0;32massert\u001b[0m \u001b[0mradius\u001b[0m \u001b[0;34m>\u001b[0m \u001b[0;36m0\u001b[0m\u001b[0;34m,\u001b[0m \u001b[0;34m\"Please insert a positive Radius\"\u001b[0m\u001b[0;34m\u001b[0m\u001b[0;34m\u001b[0m\u001b[0m\n\u001b[0m\u001b[1;32m      7\u001b[0m \u001b[0;34m\u001b[0m\u001b[0m\n\u001b[1;32m      8\u001b[0m         \u001b[0mself\u001b[0m\u001b[0;34m.\u001b[0m\u001b[0mradius\u001b[0m \u001b[0;34m=\u001b[0m \u001b[0mradius\u001b[0m\u001b[0;34m\u001b[0m\u001b[0;34m\u001b[0m\u001b[0m\n",
      "\u001b[0;31mAssertionError\u001b[0m: Please insert a positive Radius"
     ]
    }
   ],
   "source": [
    "sphereFail = Sphere(-3)"
   ]
  },
  {
   "cell_type": "code",
   "execution_count": 32,
   "metadata": {},
   "outputs": [
    {
     "output_type": "stream",
     "name": "stdout",
     "text": [
      "Help on class Sphere in module __main__:\n\nclass Sphere(builtins.object)\n |  Sphere(radius)\n |  \n |  A class to obtain the Surface Area and Volume when entering a Radius\n |  \n |  Methods defined here:\n |  \n |  __init__(self, radius)\n |      Initialize self.  See help(type(self)) for accurate signature.\n |  \n |  getRadius(self)\n |      Get the Radius of the Object\n |  \n |  surfaceArea(self)\n |      Returns the Computation for the Surface Area given the attribute of Radius in the Object.\n |  \n |  volume(self)\n |      Returns the Computation for the Volume given the attribute of Radius in the Object.\n |  \n |  ----------------------------------------------------------------------\n |  Data descriptors defined here:\n |  \n |  __dict__\n |      dictionary for instance variables (if defined)\n |  \n |  __weakref__\n |      list of weak references to the object (if defined)\n\n"
     ]
    }
   ],
   "source": [
    "help(Sphere)"
   ]
  },
  {
   "cell_type": "markdown",
   "metadata": {},
   "source": [
    "### 16.2. Make an instance of the new Sphere class and apply the methods\n",
    "Set the variable `sphere1` to be an instance of your new 'Sphere' class.  \n",
    "Give it the radius `1` as a parameter and use the built-in functions to obtain the radius, surface area and volume.\n",
    "___\n",
    "`sphere1.getRadius()`  \n",
    "\\>\\> `1.0`  \n",
    "\n",
    "`sphere1.surfaceArea()`  \n",
    "\\>\\> `12.566`  \n",
    "\n",
    "`sphere1.volume()`  \n",
    "\\>\\> `4.189`  "
   ]
  },
  {
   "cell_type": "code",
   "execution_count": 18,
   "metadata": {},
   "outputs": [
    {
     "output_type": "stream",
     "name": "stdout",
     "text": [
      "1\n12.566370614359172\n4.1887902047863905\n"
     ]
    }
   ],
   "source": [
    "sphere1 = Sphere(1)\n",
    "\n",
    "print(sphere1.getRadius())\n",
    "print(sphere1.surfaceArea())\n",
    "print(sphere1.volume())"
   ]
  },
  {
   "cell_type": "markdown",
   "metadata": {},
   "source": [
    "### 16.3. Make another instance of the new Sphere class and apply the methods\n",
    "Set the variable `sphere5` to be one more instance of your 'Sphere' class.  \n",
    "Give it the radius `5` as a parameter and use the built-in functions to obtain the radius, surface area and volume.\n",
    "___\n",
    "`sphere5.getRadius()`  \n",
    "\\>\\> `5.0`  \n",
    "\n",
    "`sphere5.surfaceArea()`  \n",
    "\\>\\> `314.159`  \n",
    "\n",
    "`sphere5.volume()`  \n",
    "\\>\\> `523.599`  "
   ]
  },
  {
   "cell_type": "code",
   "execution_count": 20,
   "metadata": {},
   "outputs": [
    {
     "output_type": "stream",
     "name": "stdout",
     "text": [
      "5\n314.1592653589793\n523.5987755982989\n"
     ]
    }
   ],
   "source": [
    "sphere5 = Sphere(5)\n",
    "\n",
    "print(sphere5.getRadius())\n",
    "print(sphere5.surfaceArea())\n",
    "print(sphere5.volume())"
   ]
  },
  {
   "cell_type": "markdown",
   "metadata": {},
   "source": [
    "## Cube\n",
    "\n",
    "### 16.4. Write a class to represent cubes\n",
    "Just like the Sphere class from before, but this time you have to do it from scratch and with a much cooler shape.\n",
    "\n",
    "The constructor (`__init__`) should, in addition to `self`, accept the side length, `s`, as a parameter. Remember, as this is a cube, all the sides will be of the same length, and so we only need to supply the length as a single parameter.\n",
    "\n",
    "Implement the following class methods: \n",
    "- `getSide` -- should return the side length as an unrounded float\n",
    "- `surfaceArea` -- should return the surface area as a float rounded to 3 decimal points \n",
    "- `volume` -- should return the volume as a float rounded to 3 decimal points\n",
    "\n",
    "$$cube_{surfaceArea} = 6 s^{2} $$\n",
    "$$cube_{volume} = s^{3} $$\n",
    "\n",
    "Make a couple of instances of the Cube class with different side lengths, and use the built-in functions you made to obtain the side lengths, surface areas and volumes.\n",
    "___\n",
    "`cube5 = Cube(5)`  \n",
    "\n",
    "`cube5.getSide()`  \n",
    "\\>\\> `5.0`  \n",
    "\n",
    "`cube5.surfaceArea()`  \n",
    "\\>\\> `150.0`  \n",
    "\n",
    "`cube5.volume()`  \n",
    "\\>\\> `125.0`"
   ]
  },
  {
   "cell_type": "code",
   "execution_count": 26,
   "metadata": {},
   "outputs": [],
   "source": [
    "class Cube: \n",
    "    def __init__(self, a):\n",
    "        self.side_length = a\n",
    "    \n",
    "    def getSide(self):\n",
    "        return self.side_length\n",
    "\n",
    "    def surfaceArea(self):\n",
    "        return 6*(self.side_length**2)\n",
    "\n",
    "    def volume(self):\n",
    "        return self.side_length**3"
   ]
  },
  {
   "cell_type": "code",
   "execution_count": 28,
   "metadata": {},
   "outputs": [
    {
     "output_type": "stream",
     "name": "stdout",
     "text": [
      "5\n150\n125\n"
     ]
    }
   ],
   "source": [
    "cube5 = Cube(5)\n",
    "\n",
    "print(cube5.getSide())\n",
    "print(cube5.surfaceArea())\n",
    "print(cube5.volume())"
   ]
  },
  {
   "cell_type": "markdown",
   "metadata": {},
   "source": [
    "## Playing cards\n",
    "\n",
    "Here we will implement a string representation for our class, so we can print our objects in a sensible way. Try running `print(sphere5)` to see for yourself why this is necessary. \n",
    "\n",
    "The method `__str__` is one of the so-called [magic methods](https://www.geeksforgeeks.org/dunder-magic-methods-python/) in Python. If asked to convert an object into a string, i.e. for a print statement, Python uses this method if it exists.\n",
    "\n",
    "### 16.5. Implement a class to represent a playing card\n",
    "Your class should have the following methods:\n",
    "- `__init__ (self, rank, suit)` -- Creates the corresponding card\n",
    "    - rank is an integer with value 1-13 indicating the ranks ace-king\n",
    "    - suit is a single character string `'d'`, `'c'`, `'h'`, or `'s'` indicating the suit (diamonds, clubs, hearts, or spades). \n",
    " \n",
    "- `getRank(self)` -- Returns the rank of the card as an int.\n",
    "- `getSuit(self)` -- Returns the suit of the card as a single character string.\n",
    "- `value(self)` -- Returns the value of a card. \n",
    "    - Ace counts as `1`\n",
    "    - All normal numbered cards have their rank as value, i.e. 8 of hearts counts as `8`\n",
    "    - All face cards count as `10`\n",
    "- `__str__(self)` -- Returns a string that names the card. For example, `'Ace of Spades'`."
   ]
  },
  {
   "cell_type": "code",
   "execution_count": 170,
   "metadata": {},
   "outputs": [],
   "source": [
    "class Card:\n",
    "\n",
    "    def __init__(self, rank, suit):\n",
    "        assert type(rank) == int, \"Please insert the Data Tupe Integer as a Rank\"\n",
    "        assert 1 <= rank <= 13, \"The Rank needs to be within the range 1-13\"\n",
    "        self.rank = rank        \n",
    "        \n",
    "        assert type(suit) == str, \"Please insert the Data Type String for the Suit\"\n",
    "        assert suit in [\"d\", \"c\", \"h\", \"s\"]\n",
    "        self.suit = suit\n",
    "\n",
    "    def getRank(self):\n",
    "        return self.rank\n",
    "    \n",
    "    def getSuit(self):\n",
    "        return self.suit\n",
    "    \n",
    "    def value(self):\n",
    "        if self.rank == 1:\n",
    "            value = 1\n",
    "        elif self.rank  >= 10:\n",
    "            value = 10\n",
    "        else: \n",
    "            value = self.rank \n",
    "        \n",
    "        return value\n",
    "\n",
    "    def __str__(self):\n",
    "        suits = {\n",
    "            \"d\": \"Diamonds\", \n",
    "            \"c\": \"Clubs\", \n",
    "            \"h\": \"Hearts\", \n",
    "            \"s\": \"Spades\"\n",
    "            }\n",
    "            \n",
    "        faces = {\n",
    "            1: \"Ace\",\n",
    "            2: \"Two\",\n",
    "            3: \"Three\", \n",
    "            4: \"Four\",\n",
    "            5: \"Five\", \n",
    "            6: \"Six\",\n",
    "            7: \"Seven\",\n",
    "            8: \"Eight\", \n",
    "            9: \"Nine\",\n",
    "            10: \"Ten\",\n",
    "            11: \"Jack\",\n",
    "            12 :\"Queen\", \n",
    "            13: \"King\", \n",
    "            }\n",
    "\n",
    "        return \"{} of {}\".format(faces[self.rank], suits[self.suit])"
   ]
  },
  {
   "cell_type": "code",
   "execution_count": 171,
   "metadata": {},
   "outputs": [
    {
     "output_type": "stream",
     "name": "stdout",
     "text": [
      "Ace of Diamonds\nTwo of Diamonds\nThree of Diamonds\nFour of Diamonds\nFive of Diamonds\nSix of Diamonds\nSeven of Diamonds\nEight of Diamonds\nNine of Diamonds\nTen of Diamonds\nJack of Diamonds\nQueen of Diamonds\nKing of Diamonds\nAce of Clubs\nTwo of Clubs\nThree of Clubs\nFour of Clubs\nFive of Clubs\nSix of Clubs\nSeven of Clubs\nEight of Clubs\nNine of Clubs\nTen of Clubs\nJack of Clubs\nQueen of Clubs\nKing of Clubs\nAce of Hearts\nTwo of Hearts\nThree of Hearts\nFour of Hearts\nFive of Hearts\nSix of Hearts\nSeven of Hearts\nEight of Hearts\nNine of Hearts\nTen of Hearts\nJack of Hearts\nQueen of Hearts\nKing of Hearts\nAce of Spades\nTwo of Spades\nThree of Spades\nFour of Spades\nFive of Spades\nSix of Spades\nSeven of Spades\nEight of Spades\nNine of Spades\nTen of Spades\nJack of Spades\nQueen of Spades\nKing of Spades\n"
     ]
    }
   ],
   "source": [
    "for suit in \"dchs\":\n",
    "    for rank in range(1,14):\n",
    "        print(Card(rank, suit))"
   ]
  },
  {
   "cell_type": "markdown",
   "metadata": {},
   "source": [
    "### 16.6. Make a function that simulates drawing a number of cards\n",
    "Hint: [random.randrange()](https://www.w3schools.com/python/ref_random_randrange.asp) and [random.choice()](https://www.w3schools.com/python/ref_random_choice.asp)\n",
    "      \n",
    "Test your Card class with a function, `drawCards(n)`, that returns a list of `n` randomly generated card objects and their associated value as a tuples of length 2.\n",
    "___\n",
    "Example of requested behaviour:\n",
    "\n",
    "`drawCards(3)`  \n",
    "\\>\\> `[(Ace of Spades, 1), (Queen of Hearts, 10), (6 of Diamonds, 6)]`"
   ]
  },
  {
   "cell_type": "code",
   "execution_count": 58,
   "metadata": {},
   "outputs": [],
   "source": [
    "def drawCards(n):\n",
    "    generated_cards = []\n",
    "    suit_inputs = [\"d\", \"c\", \"h\", \"s\"]\n",
    "\n",
    "    for i in range(n):\n",
    "        card = Card(random.randint(1,13), random.choice(suit_inputs))\n",
    "        name = card.__str__()\n",
    "        value = card.value()\n",
    "\n",
    "        generated_card = (name, value)\n",
    "\n",
    "        generated_cards.append(generated_card)\n",
    "\n",
    "    return generated_cards"
   ]
  },
  {
   "cell_type": "code",
   "execution_count": 95,
   "metadata": {},
   "outputs": [
    {
     "output_type": "execute_result",
     "data": {
      "text/plain": [
       "[('Queen of Hearts', 10)]"
      ]
     },
     "metadata": {},
     "execution_count": 95
    }
   ],
   "source": [
    "drawCards(1)"
   ]
  },
  {
   "cell_type": "markdown",
   "metadata": {},
   "source": [
    "### 16.7. Make a function that simulates a single round of the card game \"war\"\n",
    "\n",
    "Using the class created for playing cards, make a function, `war()` that simulates a single round of the children's card game \"war\". The rules are simple: \n",
    "- There are two players, A and B.\n",
    "- Each player is given 1 random card.\n",
    "- The player with the highest card value wins (suits do not matter).\n",
    "\n",
    "Use your `drawCards()` function from exercise 16.7 to draw the card for each player.\n",
    "\n",
    "The function should return one of three options: `'A wins!'`, `'B wins!'` or `'Tie'`.\n",
    "\n",
    "For a **bonus challenge**, ensure that the two players cannot draw the same card, i.e. they should not be able to both draw the Queen of Hearts at the same time. \n",
    "___\n",
    "\n",
    "Example of requested behaviour:\n",
    "\n",
    "`war()`  \n",
    "\\>\\> `A wins!`"
   ]
  },
  {
   "cell_type": "code",
   "execution_count": 121,
   "metadata": {},
   "outputs": [],
   "source": [
    "def war():\n",
    "    card_player1 = drawCards(1)\n",
    "    card_player2 = drawCards(2)\n",
    "\n",
    "    score = \"Score of Player 1  {}:{}   Score of Player 2\".format(card_player1[0][1], card_player2[0][1])\n",
    "\n",
    "    if card_player1[0][1] > card_player2[0][1]:\n",
    "        message = score + \"\\nA wins!\"\n",
    "        return message \n",
    "\n",
    "    elif card_player1[0][1] < card_player2[0][1]:\n",
    "        message = score + \"\\nB wins!\"\n",
    "        return message\n",
    "    else: \n",
    "        message = score + \"\\nTie\"\n",
    "        return message"
   ]
  },
  {
   "cell_type": "code",
   "execution_count": 157,
   "metadata": {},
   "outputs": [
    {
     "output_type": "stream",
     "name": "stdout",
     "text": [
      "Score of Player 1  10:10   Score of Player 2\nTie\n"
     ]
    }
   ],
   "source": [
    "print(war())"
   ]
  },
  {
   "cell_type": "markdown",
   "metadata": {},
   "source": [
    "## Bonus Questions"
   ]
  },
  {
   "cell_type": "markdown",
   "metadata": {},
   "source": [
    "### BONUS\n",
    "Create a regular deck of 52 playing cards (use a list containing Card objects). Remember to [shuffle](https://www.w3schools.com/python/ref_random_shuffle.asp) the deck!\n",
    "\n",
    "Write a script to simulate a complete game of \"war\" with two players.  \n",
    "The full rules are as follows:\n",
    "- The two players get dealt half the deck each. Each player should begin the game with 26 cards in their pile.\n",
    "- A round is played. The person who has the higher card value wins the cards played in the round.\n",
    "- If the round is a tie, players put the tied cards -- as well as three additional cards each from the top of their piles -- in the 'ante' and play another round. The winner of this round also wins all cards in the 'ante'.\n",
    "- Cards won go on the bottom of the winning player's pile.\n",
    "- The order of the cards when they go to the bottom of a player's pile is arbitrary. You may shuffle them if you like.\n",
    "- The players keep playing rounds until one player has *all* the cards and thus wins the game.\n",
    "- If there is a tie, and a player has too few cards to do the ante (and flip a new card after), they lose the game.\n",
    "\n",
    "Hint: https://www.geeksforgeeks.org/python-list-pop/\n",
    "\n",
    "Try to figure out a way to detect whether a player's stack of cards is empty before trying to draw a card. Otherwise you might run into an `IndexError` when trying to pop from an empty list.\n",
    "\n",
    "**This means that you should not rely on a try-except!**"
   ]
  },
  {
   "cell_type": "code",
   "execution_count": null,
   "metadata": {},
   "outputs": [],
   "source": [
    "def generate_regular_deck():\n",
    "    \"\"\"Return a regular deck of 52 cards\"\"\"\n",
    "    pass\n",
    "\n",
    "def shuffle():\n",
    "    \"\"\"Return shuffled regular deck\"\"\"\n",
    "    pass\n",
    "\n",
    "def assign_cards():\n",
    "    pass\n",
    "\n",
    "def play_war():\n",
    "    # create a regular deck\n",
    "    # shuffle the deck\n",
    "    # split the deck randomly into two halfs\n",
    "    # \n",
    "\n",
    "    pass"
   ]
  },
  {
   "cell_type": "markdown",
   "metadata": {},
   "source": [
    "### EXTRA BONUS\n",
    "Re-design your code for the Monty Hall Problem (from exercise15) and use classes to implement your solution.\n",
    "\n",
    "Hint: https://blog.teamtreehouse.com/modeling-monty-hall-problem-python"
   ]
  },
  {
   "cell_type": "code",
   "execution_count": null,
   "metadata": {},
   "outputs": [],
   "source": []
  }
 ],
 "metadata": {
  "kernelspec": {
   "display_name": "Python 3",
   "language": "python",
   "name": "python3"
  },
  "language_info": {
   "codemirror_mode": {
    "name": "ipython",
    "version": 3
   },
   "file_extension": ".py",
   "mimetype": "text/x-python",
   "name": "python",
   "nbconvert_exporter": "python",
   "pygments_lexer": "ipython3",
   "version": "3.8.3-final"
  }
 },
 "nbformat": 4,
 "nbformat_minor": 4
}