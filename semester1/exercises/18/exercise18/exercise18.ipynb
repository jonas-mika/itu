{
 "cells": [
  {
   "cell_type": "code",
   "execution_count": 1,
   "metadata": {},
   "outputs": [],
   "source": [
    "import time\n",
    "import matplotlib.pyplot as plt\n",
    "import numpy as np\n",
    "import sys"
   ]
  },
  {
   "cell_type": "markdown",
   "metadata": {},
   "source": [
    "# Making code faster"
   ]
  },
  {
   "cell_type": "markdown",
   "metadata": {},
   "source": [
    "Code optimization is the process of modifying a program to make some aspect of it work more efficiently. In general, a computer program may be optimized to deliver high speed, or to make it consume less resources (i.e. CPU, memory, electricity).\n",
    "\n",
    "Today, we will taking at closer look at what can make our code run faster. \n",
    "\n",
    "You will use the magic method `%%timeit` to measure the runtime of your code. Placing `%%timeit` at the beginning of a code cell will give you the mean time for executing the entire code cell. The method will automatically calculate the number of executions required to get sufficiently accurate/stable time results. Further documentation can be found [here](https://ipython.readthedocs.io/en/stable/interactive/magics.html#magic-timeit)."
   ]
  },
  {
   "cell_type": "markdown",
   "metadata": {},
   "source": [
    "### 18.1. Compare three ways to combine 3 lists\n",
    "Consider the three lists below, `list1`, `list2`, and `list3`, with rangesize, n, set to `10`.\n",
    "```py\n",
    "list1 = [0, 1, 2, 3, 4, 5, 6, 7, 8, 9]\n",
    "list2 = [10, 11, 12, 13, 14, 15, 16, 17, 18, 19]\n",
    "list3 = [20, 21, 22, 23, 24, 25, 26, 27, 28, 29]\n",
    "```\n",
    "Write a program that returns a list of tuples, where each tuple contains one element each from the 3 lists. The indices should increment at the same time. For input list with rangesize 10, the output list will be:\n",
    "\n",
    "```py\n",
    "combList = [(0, 10, 20),\n",
    " (1, 11, 21),\n",
    " (2, 12, 22),\n",
    " (3, 13, 23),\n",
    " (4, 14, 24),\n",
    " (5, 15, 25),\n",
    " (6, 16, 26),\n",
    " (7, 17, 27),\n",
    " (8, 18, 28),\n",
    " (9, 19, 29)]\n",
    "```\n",
    "\n",
    "Implement three different solutions using the following methods:\n",
    "1. Using a standard loop based approach\n",
    "2. Using list comprehension\n",
    "3. Using the `zip` method\n",
    "\n",
    "Experiment with rangesize, n, set to the values `50, 100, 1000, 10000, 100000`. "
   ]
  },
  {
   "cell_type": "code",
   "execution_count": 20,
   "metadata": {},
   "outputs": [
    {
     "output_type": "stream",
     "name": "stdout",
     "text": [
      "[0, 1, 2, 3, 4, 5, 6, 7, 8, 9, 10, 11, 12, 13, 14, 15, 16, 17, 18, 19, 20, 21, 22, 23, 24, 25, 26, 27, 28, 29, 30, 31, 32, 33, 34, 35, 36, 37, 38, 39, 40, 41, 42, 43, 44, 45, 46, 47, 48, 49]\n50\n"
     ]
    }
   ],
   "source": [
    "n = 50                   # increment n as described\n",
    "\n",
    "list1 = [i for i in range(n)]      # for n = 50, range(50)\n",
    "list2 = [i for i in range(n,2*n)]     # for n = 50, range(50,100)\n",
    "list3 = [i for i in range(2*n,3*n)]  # for n = 50, range(100,150)\n",
    "\n",
    "print(list1)\n",
    "print(len(list1))"
   ]
  },
  {
   "cell_type": "code",
   "execution_count": 21,
   "metadata": {},
   "outputs": [
    {
     "output_type": "stream",
     "name": "stdout",
     "text": [
      "8.59 µs ± 103 ns per loop (mean ± std. dev. of 7 runs, 100000 loops each)\n"
     ]
    }
   ],
   "source": [
    "%%timeit\n",
    "\n",
    "combList = []\n",
    "for i in range(n):\n",
    "    combList.append((list1[i], list2[i], list3[i]))\n",
    "combList"
   ]
  },
  {
   "cell_type": "code",
   "execution_count": 26,
   "metadata": {},
   "outputs": [
    {
     "output_type": "stream",
     "name": "stdout",
     "text": [
      "5.83 µs ± 27.5 ns per loop (mean ± std. dev. of 7 runs, 100000 loops each)\n"
     ]
    }
   ],
   "source": [
    "%%timeit\n",
    "\n",
    "# list comprehension\n",
    "combList = [(list1[i], list2[i], list3[i]) for i in range(n)]\n",
    "combList"
   ]
  },
  {
   "cell_type": "code",
   "execution_count": 27,
   "metadata": {},
   "outputs": [
    {
     "output_type": "stream",
     "name": "stdout",
     "text": [
      "209 ns ± 2.49 ns per loop (mean ± std. dev. of 7 runs, 1000000 loops each)\n"
     ]
    }
   ],
   "source": [
    "%%timeit\n",
    "\n",
    "#zip\n",
    "combList = zip(list1, list2, list3)"
   ]
  },
  {
   "cell_type": "markdown",
   "metadata": {},
   "source": [
    "## Lists vs. Numpy arrays"
   ]
  },
  {
   "cell_type": "markdown",
   "metadata": {},
   "source": [
    "### 18.2. Find the mean of elements in a list\n",
    "Consider a the list `py_list = range(1,n)`. Find the mean of the elements in the list.\n",
    "Find the runtime for rangesizes, `n`, with the values `50,100,1000,10000,100000`."
   ]
  },
  {
   "cell_type": "code",
   "execution_count": 30,
   "metadata": {},
   "outputs": [],
   "source": [
    "n = 50\n",
    "py_list = range(1,n)"
   ]
  },
  {
   "cell_type": "code",
   "execution_count": 31,
   "metadata": {},
   "outputs": [
    {
     "output_type": "stream",
     "name": "stdout",
     "text": [
      "426 ns ± 6.77 ns per loop (mean ± std. dev. of 7 runs, 1000000 loops each)\n"
     ]
    }
   ],
   "source": [
    "%%timeit\n",
    "# mean using list\n",
    "\n",
    "mean = sum(py_list)/n\n",
    "mean"
   ]
  },
  {
   "cell_type": "markdown",
   "metadata": {},
   "source": [
    "### 18.3.  Find the mean of elements in a numpy array\n",
    "Turn the generated `py_list` into a numpy array. Find the mean of the elements in the numpy array.\n",
    "Find the runtime for rangesizes, `n`, with the values `50,100,1000,10000,100000`.\n",
    "\n",
    "- Compare the runtime for the operation on the numpy array vs. the python list"
   ]
  },
  {
   "cell_type": "code",
   "execution_count": 33,
   "metadata": {},
   "outputs": [],
   "source": [
    "numpy_arr = np.array(py_list)"
   ]
  },
  {
   "cell_type": "code",
   "execution_count": 34,
   "metadata": {},
   "outputs": [
    {
     "output_type": "stream",
     "name": "stdout",
     "text": [
      "7.28 µs ± 522 ns per loop (mean ± std. dev. of 7 runs, 100000 loops each)\n"
     ]
    }
   ],
   "source": [
    "%%timeit\n",
    "# mean using numpy array\n",
    "\n",
    "np.mean(numpy_arr)"
   ]
  },
  {
   "cell_type": "markdown",
   "metadata": {},
   "source": [
    "##  Python, Numpy and Multiprocessing\n",
    "- The following questions might look familiar to you, as you were introduced to some of those as introductory numpy exercises.\n",
    "- For the following questions, write a program using both numpy and standard python data structures (lists, tuples,  dictionaries, etc.).\n",
    "- For both the cases, use `%%timeit` and observe the performance difference for each of them.\n",
    "    -  Reverse a vector (first element becomes last)\n",
    "    -  Create a 3x3 matrix with values ranging from 0 to 8 \n",
    "    -  Find indices of non-zero elements from [1,2,0,0,4,0]\n",
    "    -  Create a 5x5 matrix with values 1,2,3,4 just below the diagonal\n",
    "    -  Find common values between two arrays\n",
    "    -  How to find the closest value (to a given scalar) in a vector\n",
    "    -  Consider a random vector with shape (100,2) representing coordinates, find point by point distances \n",
    "    -  Subtract the mean of each row of a matrix with elements of the row\n",
    "    -  Compute averages using a sliding window over an array\n",
    "    -  Find the most frequent value in an array\n"
   ]
  },
  {
   "cell_type": "code",
   "execution_count": 71,
   "metadata": {},
   "outputs": [
    {
     "output_type": "stream",
     "name": "stdout",
     "text": [
      "330 ns ± 1.68 ns per loop (mean ± std. dev. of 7 runs, 1000000 loops each)\n",
      "5.64 µs ± 36.6 ns per loop (mean ± std. dev. of 7 runs, 100000 loops each)\n",
      "7.28 µs ± 35.7 ns per loop (mean ± std. dev. of 7 runs, 100000 loops each)\n",
      "10.1 µs ± 38.1 ns per loop (mean ± std. dev. of 7 runs, 100000 loops each)\n"
     ]
    }
   ],
   "source": [
    "%timeit reg_reverse_vector(L)\n",
    "%timeit np_reverse_vector(L)\n",
    "\n",
    "%timeit reg_create3x3()\n",
    "%timeit np_create3x3()"
   ]
  },
  {
   "cell_type": "code",
   "execution_count": 47,
   "metadata": {},
   "outputs": [],
   "source": [
    "# test list\n",
    "L = range(9)"
   ]
  },
  {
   "cell_type": "code",
   "execution_count": 48,
   "metadata": {},
   "outputs": [
    {
     "output_type": "stream",
     "name": "stdout",
     "text": [
      "[8, 7, 6, 5, 4, 3, 2, 1, 0]\n"
     ]
    }
   ],
   "source": [
    "def reg_reverse_vector(L):\n",
    "    return sorted(L, reverse=True)\n",
    "\n",
    "print(reg_reverse_vector(L))"
   ]
  },
  {
   "cell_type": "code",
   "execution_count": 49,
   "metadata": {},
   "outputs": [
    {
     "output_type": "stream",
     "name": "stdout",
     "text": [
      "[8 7 6 5 4 3 2 1 0]\n"
     ]
    }
   ],
   "source": [
    "def np_reverse_vector(L):\n",
    "    L = np.array(L)\n",
    "    return np.flip(L)\n",
    "\n",
    "print(np_reverse_vector(L))"
   ]
  },
  {
   "cell_type": "code",
   "execution_count": 79,
   "metadata": {},
   "outputs": [
    {
     "output_type": "stream",
     "name": "stdout",
     "text": [
      "[[0, 1, 2], [3, 4, 5], [6, 7, 8]]\n"
     ]
    }
   ],
   "source": [
    "import random\n",
    "\n",
    "def reg_create3x3():\n",
    "    return [[i+3*j for i in range(3)] for j in range(3)]\n",
    "\n",
    "print(reg_create3x3())"
   ]
  },
  {
   "cell_type": "code",
   "execution_count": 62,
   "metadata": {},
   "outputs": [
    {
     "output_type": "stream",
     "name": "stdout",
     "text": [
      "[[4 7 2]\n [1 5 1]\n [2 7 2]]\n"
     ]
    }
   ],
   "source": [
    "def np_create3x3():\n",
    "    return np.random.randint(9, size=(3,3))\n",
    "\n",
    "print(np_create3x3())"
   ]
  },
  {
   "cell_type": "code",
   "execution_count": null,
   "metadata": {},
   "outputs": [],
   "source": [
    "stepsize = 500\n",
    "import random\n",
    "random.seed(5126423231512)\n",
    "#Creates a list of random numbers\n",
    "list4 = []*stepsize\n",
    "for i in range(stepsize):\n",
    "    list4.append(int(random.random() * 12353215321000 % 752293777))"
   ]
  },
  {
   "cell_type": "markdown",
   "metadata": {},
   "source": [
    "Run through list4 and find if any number equals 79. Print True when you find it."
   ]
  },
  {
   "cell_type": "code",
   "execution_count": null,
   "metadata": {},
   "outputs": [],
   "source": [
    "#%%timeit\n",
    "def onepass(list4):\n",
    "    for i in list4:\n",
    "        #find 79\n",
    "        pass\n",
    "onepass(list4)"
   ]
  },
  {
   "cell_type": "markdown",
   "metadata": {},
   "source": [
    "Check if two items are the same in list 4. The basic way of doing this is to have a for loop run though the list and while another runs though the list again and compare the two against eachother"
   ]
  },
  {
   "cell_type": "code",
   "execution_count": null,
   "metadata": {},
   "outputs": [],
   "source": [
    "#%%timeit\n",
    "def Nsquared(list4):\n",
    "    for item1 in list4:\n",
    "        for item2 in list4:\n",
    "            #Compare item1 vs item. If they are the same print True\n",
    "            pass\n",
    "Nsquared(list4)"
   ]
  },
  {
   "cell_type": "markdown",
   "metadata": {},
   "source": [
    "Run though the list to check if list4 and add 5 to each number. Then check if the number 39381552 appears. "
   ]
  },
  {
   "cell_type": "code",
   "execution_count": null,
   "metadata": {},
   "outputs": [],
   "source": [
    "#%%timeit\n",
    "def runtwice(list4):\n",
    "    for item1 in list4:\n",
    "        #add 5\n",
    "        pass\n",
    "    for item in list4:\n",
    "        if(item == 39381552):\n",
    "            print(True)\n",
    "runtwice(list4)"
   ]
  },
  {
   "cell_type": "markdown",
   "metadata": {},
   "source": [
    "Pop each element from list5. Do they same for list6 but instead use pop(0). Time the results using timeit and explain why one performs better than the other."
   ]
  },
  {
   "cell_type": "code",
   "execution_count": null,
   "metadata": {},
   "outputs": [],
   "source": [
    "stepsize = 5000\n",
    "\n",
    "#use pop()\n",
    "list5 = range(stepsize)\n",
    "#use pop(0)\n",
    "list6 = range(stepsize)"
   ]
  },
  {
   "cell_type": "code",
   "execution_count": null,
   "metadata": {},
   "outputs": [],
   "source": [
    "#%%timeit\n",
    "def pop(list5):\n",
    "    #use pop for each item in the list\n",
    "    pass\n",
    "pop(list5)"
   ]
  },
  {
   "cell_type": "code",
   "execution_count": null,
   "metadata": {},
   "outputs": [],
   "source": [
    "#%%timeit\n",
    "def pop0(list6):\n",
    "    #use pop0\n",
    "    pass\n",
    "pop(list6)"
   ]
  },
  {
   "cell_type": "markdown",
   "metadata": {},
   "source": [
    "Compare the time difference of the 3 tasks on list4, using different step sizes. Which one takes the longest? Which one takes twice as long as the other?"
   ]
  },
  {
   "cell_type": "code",
   "execution_count": null,
   "metadata": {},
   "outputs": [],
   "source": [
    "step_sizes = [1,10,100,1000,10000]"
   ]
  },
  {
   "cell_type": "markdown",
   "metadata": {},
   "source": [
    "Create your own tester  class that tests how long it takes to run a function and plots it against others."
   ]
  },
  {
   "cell_type": "code",
   "execution_count": null,
   "metadata": {},
   "outputs": [],
   "source": [
    "class tester:\n",
    "    def __init__(self):\n",
    "        self.tests = {} # key is name of test and while value is a list of the test at different step sizes\n",
    "        self.step_sizes = [1,10,100,1000,10000]\n",
    "        self.runs = 10 #part of bonus\n",
    "    def addtestfunction(self,fuctionname,function):\n",
    "        self.tests[fuctionname] = [] #intialize results to empty list so we can add to it.\n",
    "        for step_size in self.step_sizes:\n",
    "            alist = range(step_size)\n",
    "                \n",
    "            #TODO\n",
    "            #test how long each function took and set time equal to that\n",
    "            #HINT: time.time() gets current time\n",
    "            \n",
    "            #call function by:\n",
    "            function(alist)\n",
    "\n",
    "            #BONUS: run multiple tests and plot times or use average of times.\n",
    "            time = 0 #set to average time, whether you did 1 or 10 runs.            \n",
    "            \n",
    "            #adds to test (i.e. results)\n",
    "            self.tests[fuctionname].append(time)\n",
    "\n",
    "    def plot(self):\n",
    "        #TODO\n",
    "        #plot all tests done\n",
    "        \n",
    "        \n",
    "        #BONUS you can use yscale and xscale to make a logarithmic graph\n",
    "        #https://matplotlib.org/3.1.1/api/_as_gen/matplotlib.pyplot.yscale.html\n",
    "        plt.show()\n",
    "        \n",
    "\n",
    "tester = tester()\n",
    "tester.addtestfunction('onepass',onepass)\n",
    "tester.addtestfunction('runtwice',runtwice)\n",
    "tester.addtestfunction('Nsquared',Nsquared)\n",
    "tester.addtestfunction('pop',pop)\n",
    "tester.addtestfunction('pop0',pop0)\n",
    "tester.plot()\n",
    "#comment out %%timeit for each function otherwise python wont be able to find the functions"
   ]
  },
  {
   "cell_type": "markdown",
   "metadata": {},
   "source": [
    "### References\n",
    "\n",
    "- https://towardsdatascience.com/a-hitchhiker-guide-to-python-numpy-arrays-9358de570121\n",
    "- https://github.com/rougier/numpy-100/blob/master/100_Numpy_exercises.ipynb"
   ]
  }
 ],
 "metadata": {
  "kernelspec": {
   "display_name": "Python 3",
   "language": "python",
   "name": "python3"
  },
  "language_info": {
   "codemirror_mode": {
    "name": "ipython",
    "version": 3
   },
   "file_extension": ".py",
   "mimetype": "text/x-python",
   "name": "python",
   "nbconvert_exporter": "python",
   "pygments_lexer": "ipython3",
   "version": "3.8.3-final"
  }
 },
 "nbformat": 4,
 "nbformat_minor": 2
}