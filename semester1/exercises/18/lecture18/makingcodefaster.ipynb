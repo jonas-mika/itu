{
 "cells": [
  {
   "cell_type": "markdown",
   "metadata": {
    "slideshow": {
     "slide_type": "slide"
    }
   },
   "source": [
    "<div class=\"frontmatter text-center\">\n",
    "<h1> Introduction to Data Science and Programming</h1>\n",
    "<h2>Lecture 18: Making code faster</h2>\n",
    "<h3>IT University of Copenhagen, Fall 2020</h3>\n",
    "    <h3>Instructor: Michael Szell</h3>\n",
    "</div>"
   ]
  },
  {
   "cell_type": "markdown",
   "metadata": {},
   "source": [
    "# Source\n",
    "This notebook was adapted from:\n",
    "* https://towardsdatascience.com/speed-up-jupyter-notebooks-20716cbe2025\n",
    "* https://jakevdp.github.io/PythonDataScienceHandbook/01.07-timing-and-profiling.html\n",
    "* https://people.duke.edu/~ccc14/sta-663/MakingCodeFast.html"
   ]
  },
  {
   "cell_type": "markdown",
   "metadata": {
    "slideshow": {
     "slide_type": "slide"
    }
   },
   "source": [
    "## Premature Optimization Is the Root of All Evil\n",
    "\n",
    "Donald Knuth: *Programmers waste enormous amounts of time thinking about, or worrying about, the speed of noncritical parts of their programs, and these attempts at efficiency actually have a strong negative impact when debugging and maintenance are considered. We should forget about small efficiencies, say about 97% of the time: premature optimization is the root of all evil. Yet we should not pass up our opportunities in that critical 3%.*\n",
    "\n",
    "Correct order of steps when writing a program:\n",
    "1. **Make it work**: Write the code in a simple legible way.\n",
    "2. **Make it right**: Write test cases, make really sure that your algorithm is right and that if you break it, the tests will capture the breakage.\n",
    "3. **Make it fast**: Optimize the code by profiling simple use-cases to find the bottlenecks and speeding up these bottlenecks, finding a better algorithm or implementation."
   ]
  },
  {
   "cell_type": "code",
   "execution_count": null,
   "metadata": {},
   "outputs": [],
   "source": []
  },
  {
   "cell_type": "markdown",
   "metadata": {
    "slideshow": {
     "slide_type": "slide"
    }
   },
   "source": [
    "### Making it fast is the LAST step\n",
    "and you should only optimize when it is necessary. Also, it is good to know when a program is “fast enough” for your needs. Optimization has a price:\n",
    "\n",
    "* Cost in programmer time\n",
    "* Optimized code is often more complex\n",
    "* Optimized code is often less generic\n",
    "\n",
    "However, having fast code is often necessary for statistical computing, so we will spend some time learning how to make code run faster."
   ]
  },
  {
   "cell_type": "markdown",
   "metadata": {},
   "source": [
    "### Super-advanced example of code optimization: Fast inverse square root\n",
    "3D-games and simulators need billions of real-time inverse square root $\\frac{1}{\\sqrt{x}}$ calculations for lighting and shading:\n",
    "<img src=\"files/surfacenormal.png\" width=220px> <img src=\"files/openarena.jpg\" width=220px>"
   ]
  },
  {
   "cell_type": "markdown",
   "metadata": {},
   "source": [
    "Instead of doing `(float)(1.0/sqrt(x))`, this C++ code was developed in the 1980s/1990s (original comments):\n",
    "\n",
    "```c++\n",
    "float Q_rsqrt( float number )\n",
    "{\n",
    "\tlong i;\n",
    "\tfloat x2, y;\n",
    "\tconst float threehalfs = 1.5F;\n",
    "\n",
    "\tx2 = number * 0.5F;\n",
    "\ty  = number;\n",
    "\ti  = * ( long * ) &y;                       // evil floating point bit level hacking\n",
    "\ti  = 0x5f3759df - ( i >> 1 );               // what the fuck? \n",
    "\ty  = * ( float * ) &i;\n",
    "\ty  = y * ( threehalfs - ( x2 * y * y ) );   // 1st iteration\n",
    "//\ty  = y * ( threehalfs - ( x2 * y * y ) );   // 2nd iteration, this can be removed\n",
    "\n",
    "\treturn y;\n",
    "}\n",
    "```\n",
    "\n",
    "It avoids division and is 4 times faster. This is a significant speed-up for millions of real-time calculations every second.\n",
    "More details: \n",
    "https://en.wikipedia.org/wiki/Fast_inverse_square_root\n",
    "\n",
    "https://betterexplained.com/articles/understanding-quakes-fast-inverse-square-root/\n",
    "\n",
    "Warning - advanced math: http://www.lomont.org/papers/2003/InvSqrt.pdf"
   ]
  },
  {
   "cell_type": "markdown",
   "metadata": {
    "slideshow": {
     "slide_type": "slide"
    }
   },
   "source": [
    "### Code can be slow for different reasons\n",
    "\n",
    "* **CPU-bound** - CPU is working flat out\n",
    "* **Memory-bound** - Out of RAM - swapping to hard disk\n",
    "* **IO-bound** - Lots of data transfer to and from hard disk\n",
    "* **Network-bound** - CPU is waiting for data to come over network or from memory (“starvation”)"
   ]
  },
  {
   "cell_type": "markdown",
   "metadata": {
    "slideshow": {
     "slide_type": "slide"
    }
   },
   "source": [
    "## There is a natural order of making code fast\n",
    "1. Cheat: Use sample data, solve a simpler problem, buy more RAM, etc.\n",
    "2. **Profile**: Find out the bottlenecks\n",
    "3. **Use better algorithms and data structures**\n",
    "4. Using compiled code written in another language\n",
    "5. Converting Python code to compiled code\n",
    "6. Parallelize programs / execute in parallel"
   ]
  },
  {
   "cell_type": "markdown",
   "metadata": {
    "slideshow": {
     "slide_type": "slide"
    }
   },
   "source": [
    "# Profiling and timing code\n",
    "There is no optimization without measuring! Do not rely on \"theorycrafting\" - just measure it."
   ]
  },
  {
   "cell_type": "markdown",
   "metadata": {},
   "source": [
    "### Magic commands for Jupyter"
   ]
  },
  {
   "cell_type": "markdown",
   "metadata": {},
   "source": [
    "* `%time`: Time the execution of a single statement\n",
    "* `%timeit`: Time repeated execution of a single statement for more accuracy\n",
    "* `%prun`: Run code with the profiler\n",
    "* `%lprun`: Run code with the line-by-line profiler\n",
    "* `%memit`: Measure the memory use of a single statement\n",
    "* `%mprun`: Run code with the line-by-line memory profiler\n",
    "\n",
    "The last 3 commands are not bundled with Jupyter – you'll need to get the `line_profiler` and `memory_profiler` extension.\n",
    "\n",
    "Also we use:\n",
    "\n",
    "* `%%heat`\n",
    "* `snakeviz`: visualizing the output of a profiling session"
   ]
  },
  {
   "cell_type": "markdown",
   "metadata": {
    "slideshow": {
     "slide_type": "slide"
    }
   },
   "source": [
    "## Timing Code Snippets: ``%timeit`` and ``%time``\n",
    "\n",
    "The ``%timeit`` line-magic and ``%%timeit`` cell-magic can be used to time the repeated execution of snippets of code:"
   ]
  },
  {
   "cell_type": "code",
   "execution_count": 4,
   "metadata": {},
   "outputs": [
    {
     "output_type": "stream",
     "name": "stdout",
     "text": [
      "829 ns ± 1.92 ns per loop (mean ± std. dev. of 7 runs, 1000000 loops each)\n"
     ]
    }
   ],
   "source": [
    "%timeit sum(range(100))"
   ]
  },
  {
   "cell_type": "markdown",
   "metadata": {},
   "source": [
    "Because this operation is so fast, ``%timeit`` automatically does a large number of repetitions."
   ]
  },
  {
   "cell_type": "markdown",
   "metadata": {
    "slideshow": {
     "slide_type": "slide"
    }
   },
   "source": [
    "For slower commands, ``%timeit`` will automatically adjust and perform fewer repetitions:"
   ]
  },
  {
   "cell_type": "code",
   "execution_count": 6,
   "metadata": {},
   "outputs": [
    {
     "output_type": "stream",
     "name": "stdout",
     "text": [
      "357 ms ± 889 µs per loop (mean ± std. dev. of 7 runs, 1 loop each)\n"
     ]
    }
   ],
   "source": [
    "%%timeit\n",
    "total = 0\n",
    "for i in range(1000):\n",
    "    for j in range(1000):\n",
    "        total += i * (-1) ** j"
   ]
  },
  {
   "cell_type": "markdown",
   "metadata": {
    "slideshow": {
     "slide_type": "slide"
    }
   },
   "source": [
    "Sometimes repeating an operation is not the best option.\n",
    "For example, if we have a list that we'd like to sort, we might be misled by a repeated operation.\n",
    "Sorting a pre-sorted list is much faster than sorting an unsorted list, so the repetition will skew the result:"
   ]
  },
  {
   "cell_type": "code",
   "execution_count": 7,
   "metadata": {},
   "outputs": [
    {
     "output_type": "stream",
     "name": "stdout",
     "text": [
      "816 µs ± 45.7 µs per loop (mean ± std. dev. of 7 runs, 1000 loops each)\n"
     ]
    }
   ],
   "source": [
    "import random\n",
    "L = [random.random() for i in range(100000)]\n",
    "%timeit L.sort()"
   ]
  },
  {
   "cell_type": "markdown",
   "metadata": {
    "slideshow": {
     "slide_type": "slide"
    }
   },
   "source": [
    "For this, the ``%time`` magic function may be a better choice. It also is a good choice for longer-running commands, when short, system-related delays are unlikely to affect the result.\n",
    "Let's time the sorting of an unsorted and a presorted list:"
   ]
  },
  {
   "cell_type": "code",
   "execution_count": 8,
   "metadata": {},
   "outputs": [
    {
     "output_type": "stream",
     "name": "stdout",
     "text": [
      "sorting an unsorted list:\nCPU times: user 20.1 ms, sys: 487 µs, total: 20.6 ms\nWall time: 20.6 ms\n"
     ]
    }
   ],
   "source": [
    "import random\n",
    "L = [random.random() for i in range(100000)]\n",
    "print(\"sorting an unsorted list:\")\n",
    "%time L.sort()"
   ]
  },
  {
   "cell_type": "code",
   "execution_count": 9,
   "metadata": {},
   "outputs": [
    {
     "output_type": "stream",
     "name": "stdout",
     "text": [
      "sorting an already sorted list:\nCPU times: user 2 ms, sys: 0 ns, total: 2 ms\nWall time: 2.02 ms\n"
     ]
    }
   ],
   "source": [
    "print(\"sorting an already sorted list:\")\n",
    "%time L.sort()"
   ]
  },
  {
   "cell_type": "markdown",
   "metadata": {
    "slideshow": {
     "slide_type": "skip"
    }
   },
   "source": [
    "Wall time is the time that a clock on the wall would measure as having elapsed between the start of the process and 'now'.\n",
    "\n",
    "The CPU times is the amount of time spent of the CPUs (can be much more than wall time if multi-core, for example)."
   ]
  },
  {
   "cell_type": "markdown",
   "metadata": {},
   "source": [
    "The presorted list is much faster to sort. Notice also how much longer the timing takes with ``%time`` versus ``%timeit``, even for the presorted list! ``%timeit`` does some clever things under the hood to prevent system calls from interfering with the timing. For this reason, ``%timeit`` results are usually noticeably faster than ``%time`` results."
   ]
  },
  {
   "cell_type": "markdown",
   "metadata": {
    "slideshow": {
     "slide_type": "slide"
    }
   },
   "source": [
    "For ``%time`` as with ``%timeit``, using the double-percent-sign cell magic syntax allows timing of multiline scripts:"
   ]
  },
  {
   "cell_type": "code",
   "execution_count": 11,
   "metadata": {
    "scrolled": true
   },
   "outputs": [
    {
     "output_type": "stream",
     "name": "stdout",
     "text": [
      "CPU times: user 437 ms, sys: 3.96 ms, total: 441 ms\nWall time: 441 ms\n"
     ]
    }
   ],
   "source": [
    "%%time\n",
    "total = 0\n",
    "for i in range(1000):\n",
    "    for j in range(1000):\n",
    "        total += i * (-1) ** j"
   ]
  },
  {
   "cell_type": "code",
   "execution_count": 18,
   "metadata": {},
   "outputs": [
    {
     "output_type": "stream",
     "text": [
      "\u001b[0;31mDocstring:\u001b[0m\n",
      "Time execution of a Python statement or expression.\n",
      "\n",
      "The CPU and wall clock times are printed, and the value of the\n",
      "expression (if any) is returned.  Note that under Win32, system time\n",
      "is always reported as 0, since it can not be measured.\n",
      "\n",
      "This function can be used both as a line and cell magic:\n",
      "\n",
      "- In line mode you can time a single-line statement (though multiple\n",
      "  ones can be chained with using semicolons).\n",
      "\n",
      "- In cell mode, you can time the cell body (a directly\n",
      "  following statement raises an error).\n",
      "\n",
      "This function provides very basic timing functionality.  Use the timeit\n",
      "magic for more control over the measurement.\n",
      "\n",
      ".. versionchanged:: 7.3\n",
      "    User variables are no longer expanded,\n",
      "    the magic line is always left unmodified.\n",
      "\n",
      "Examples\n",
      "--------\n",
      "::\n",
      "\n",
      "  In [1]: %time 2**128\n",
      "  CPU times: user 0.00 s, sys: 0.00 s, total: 0.00 s\n",
      "  Wall time: 0.00\n",
      "  Out[1]: 340282366920938463463374607431768211456L\n",
      "\n",
      "  In [2]: n = 1000000\n",
      "\n",
      "  In [3]: %time sum(range(n))\n",
      "  CPU times: user 1.20 s, sys: 0.05 s, total: 1.25 s\n",
      "  Wall time: 1.37\n",
      "  Out[3]: 499999500000L\n",
      "\n",
      "  In [4]: %time print 'hello world'\n",
      "  hello world\n",
      "  CPU times: user 0.00 s, sys: 0.00 s, total: 0.00 s\n",
      "  Wall time: 0.00\n",
      "\n",
      "  Note that the time needed by Python to compile the given expression\n",
      "  will be reported if it is more than 0.1s.  In this example, the\n",
      "  actual exponentiation is done by Python at compilation time, so while\n",
      "  the expression can take a noticeable amount of time to compute, that\n",
      "  time is purely due to the compilation:\n",
      "\n",
      "  In [5]: %time 3**9999;\n",
      "  CPU times: user 0.00 s, sys: 0.00 s, total: 0.00 s\n",
      "  Wall time: 0.00 s\n",
      "\n",
      "  In [6]: %time 3**999999;\n",
      "  CPU times: user 0.00 s, sys: 0.00 s, total: 0.00 s\n",
      "  Wall time: 0.00 s\n",
      "  Compiler : 0.78 s\n",
      "  \n",
      "\u001b[0;31mFile:\u001b[0m      ~/opt/anaconda3/lib/python3.8/site-packages/IPython/core/magics/execution.py\n"
     ],
     "name": "stdout"
    }
   ],
   "source": [
    "%time?"
   ]
  },
  {
   "cell_type": "markdown",
   "metadata": {},
   "source": [
    "For more information on ``%time`` and ``%timeit``, as well as their available options, use the IPython help functionality (i.e., type ``%time?`` at the IPython prompt)."
   ]
  },
  {
   "cell_type": "markdown",
   "metadata": {
    "slideshow": {
     "slide_type": "slide"
    }
   },
   "source": [
    "## Timing outside of Jupyter"
   ]
  },
  {
   "cell_type": "code",
   "execution_count": 19,
   "metadata": {},
   "outputs": [
    {
     "output_type": "stream",
     "name": "stdout",
     "text": [
      "7.301000005099922e-05\n"
     ]
    }
   ],
   "source": [
    "from timeit import default_timer as timer\n",
    "\n",
    "start = timer()\n",
    "sum(range(100))\n",
    "end = timer()\n",
    "print(end - start)"
   ]
  },
  {
   "cell_type": "code",
   "execution_count": 20,
   "metadata": {},
   "outputs": [
    {
     "output_type": "stream",
     "name": "stdout",
     "text": [
      "6.76180025038775e-05\n"
     ]
    }
   ],
   "source": [
    "import time\n",
    "\n",
    "start = time.perf_counter()\n",
    "sum(range(100))\n",
    "end = time.perf_counter()\n",
    "print(end - start)"
   ]
  },
  {
   "cell_type": "markdown",
   "metadata": {
    "slideshow": {
     "slide_type": "slide"
    }
   },
   "source": [
    "## Profiling and Optimizing: Monte Carlo method example"
   ]
  },
  {
   "cell_type": "markdown",
   "metadata": {},
   "source": [
    "We get the value of pi by taking the ratio of area of circle to area of the square:\n",
    "<img src=\"files/montecarlo01.png\" width=400px>"
   ]
  },
  {
   "cell_type": "markdown",
   "metadata": {
    "slideshow": {
     "slide_type": "slide"
    }
   },
   "source": [
    "where we approximate the area with generated random points, $\\frac{\\mathrm{area\\, of\\, circle}}{\\mathrm{area\\, of\\, square}} \\approx \\frac{\\mathrm{points\\, in\\, circle}}{\\mathrm{points\\, in\\, square}}$\n",
    "<img src=\"files/montecarlo02.png\" width=400px>"
   ]
  },
  {
   "cell_type": "code",
   "execution_count": 22,
   "metadata": {
    "slideshow": {
     "slide_type": "slide"
    }
   },
   "outputs": [],
   "source": [
    "from random import random\n",
    "\n",
    "def estimate_pi(n = 10000000):\n",
    "    \"\"\"Estimate pi with monte carlo simulation.\"\"\"\n",
    "    in_circle = 0\n",
    "    total = n\n",
    "    \n",
    "    while n != 0:\n",
    "        prec_x = random()\n",
    "        prec_y = random()\n",
    "        if pow(prec_x, 2) + pow(prec_y, 2) <= 1: # circle equation: x^2+y^2=r^2\n",
    "            in_circle += 1 # inside the circle\n",
    "        n -= 1\n",
    "        \n",
    "    return 4 * in_circle / total"
   ]
  },
  {
   "cell_type": "code",
   "execution_count": 23,
   "metadata": {
    "slideshow": {
     "slide_type": "slide"
    }
   },
   "outputs": [
    {
     "output_type": "stream",
     "name": "stdout",
     "text": [
      "CPU times: user 3.67 s, sys: 19.6 ms, total: 3.69 s\nWall time: 3.71 s\n"
     ]
    },
    {
     "output_type": "execute_result",
     "data": {
      "text/plain": [
       "3.1413092"
      ]
     },
     "metadata": {},
     "execution_count": 23
    }
   ],
   "source": [
    "%time estimate_pi()"
   ]
  },
  {
   "cell_type": "markdown",
   "metadata": {},
   "source": [
    "From now on, lets normalize this and run `%timeit` always with the same parameters:"
   ]
  },
  {
   "cell_type": "code",
   "execution_count": 24,
   "metadata": {},
   "outputs": [
    {
     "output_type": "stream",
     "name": "stdout",
     "text": [
      "3.69 s ± 3.07 ms per loop (mean ± std. dev. of 2 runs, 5 loops each)\n"
     ]
    }
   ],
   "source": [
    "%timeit -r 2 -n 5 estimate_pi()"
   ]
  },
  {
   "cell_type": "markdown",
   "metadata": {
    "slideshow": {
     "slide_type": "slide"
    }
   },
   "source": [
    "### cProfile\n",
    "To learn what takes up most of the execution time, python ships with a great profiler, cProfile, breaking down the execution function by function. It causes our attention to shrink down to critical functions by handing out a high-level view of performance. In Jupyer, use the [`%prun`](https://ipython.readthedocs.io/en/stable/interactive/magics.html#magic-prun) magic:"
   ]
  },
  {
   "cell_type": "code",
   "execution_count": 25,
   "metadata": {},
   "outputs": [
    {
     "output_type": "stream",
     "name": "stdout",
     "text": [
      " "
     ]
    },
    {
     "output_type": "stream",
     "text": [
      "         40000004 function calls in 9.308 seconds\n",
      "\n",
      "   Ordered by: internal time\n",
      "\n",
      "   ncalls  tottime  percall  cumtime  percall filename:lineno(function)\n",
      "        1    5.446    5.446    9.308    9.308 <ipython-input-22-6c583bd19c05>:3(estimate_pi)\n",
      " 20000000    2.366    0.000    2.366    0.000 {built-in method builtins.pow}\n",
      " 20000000    1.496    0.000    1.496    0.000 {method 'random' of '_random.Random' objects}\n",
      "        1    0.000    0.000    9.308    9.308 {built-in method builtins.exec}\n",
      "        1    0.000    0.000    9.308    9.308 <string>:1(<module>)\n",
      "        1    0.000    0.000    0.000    0.000 {method 'disable' of '_lsprof.Profiler' objects}"
     ],
     "name": "stdout"
    }
   ],
   "source": [
    "%prun estimate_pi()"
   ]
  },
  {
   "cell_type": "markdown",
   "metadata": {
    "slideshow": {
     "slide_type": "slide"
    }
   },
   "source": [
    "The output will be written to stdout:<img src=\"files/profiling.png\" width=1000>\n",
    "\n",
    "The report shows for each function:\n",
    "* the number of calls (ncalls)\n",
    "* the total time (tottime) spent on it excluding calls to subfunctions\n",
    "* how long each call took (percall, excluding and including)\n",
    "* the total time (cumtime) including all calls to subfunctions"
   ]
  },
  {
   "cell_type": "markdown",
   "metadata": {
    "slideshow": {
     "slide_type": "slide"
    }
   },
   "source": [
    "An another useful option is -s which enables sorting for a particular column. For example sorting cumulative time in descending order:"
   ]
  },
  {
   "cell_type": "code",
   "execution_count": 26,
   "metadata": {},
   "outputs": [
    {
     "output_type": "stream",
     "name": "stdout",
     "text": [
      " "
     ]
    },
    {
     "output_type": "stream",
     "text": [
      "         40000004 function calls in 9.508 seconds\n",
      "\n",
      "   Ordered by: cumulative time\n",
      "\n",
      "   ncalls  tottime  percall  cumtime  percall filename:lineno(function)\n",
      "        1    0.000    0.000    9.508    9.508 {built-in method builtins.exec}\n",
      "        1    0.000    0.000    9.508    9.508 <string>:1(<module>)\n",
      "        1    5.555    5.555    9.508    9.508 <ipython-input-22-6c583bd19c05>:3(estimate_pi)\n",
      " 20000000    2.417    0.000    2.417    0.000 {built-in method builtins.pow}\n",
      " 20000000    1.536    0.000    1.536    0.000 {method 'random' of '_random.Random' objects}\n",
      "        1    0.000    0.000    0.000    0.000 {method 'disable' of '_lsprof.Profiler' objects}"
     ],
     "name": "stdout"
    }
   ],
   "source": [
    "%prun -s cumulative estimate_pi()"
   ]
  },
  {
   "cell_type": "markdown",
   "metadata": {
    "slideshow": {
     "slide_type": "slide"
    }
   },
   "source": [
    "If we wish to save the output for later inspection for example with [pstats](https://docs.python.org/3.7/library/profile.html#the-stats-class), use the -D option to save on disk. \n",
    "\n",
    "You can also just return the stats object with the -r option:"
   ]
  },
  {
   "cell_type": "code",
   "execution_count": 27,
   "metadata": {},
   "outputs": [
    {
     "output_type": "stream",
     "name": "stdout",
     "text": [
      " "
     ]
    }
   ],
   "source": [
    "stats = %prun -r -q estimate_pi()"
   ]
  },
  {
   "cell_type": "code",
   "execution_count": 28,
   "metadata": {},
   "outputs": [
    {
     "output_type": "stream",
     "name": "stdout",
     "text": [
      "         40000004 function calls in 9.508 seconds\n\n   Ordered by: internal time\n   List reduced from 6 to 3 due to restriction <3>\n\n   ncalls  tottime  percall  cumtime  percall filename:lineno(function)\n        1    5.576    5.576    9.508    9.508 <ipython-input-22-6c583bd19c05>:3(estimate_pi)\n 20000000    2.409    0.000    2.409    0.000 {built-in method builtins.pow}\n 20000000    1.523    0.000    1.523    0.000 {method 'random' of '_random.Random' objects}\n\n\n"
     ]
    }
   ],
   "source": [
    "stats.sort_stats('tottime').print_stats(3);"
   ]
  },
  {
   "cell_type": "markdown",
   "metadata": {},
   "source": [
    "The number of calls to built-in functions `pow()` and `random()` seems to take some time. Before we address this extensive number of calls, let’s have a look at a much more convenient library delivering even more concrete reports."
   ]
  },
  {
   "cell_type": "markdown",
   "metadata": {
    "slideshow": {
     "slide_type": "slide"
    }
   },
   "source": [
    "### Line profiler\n",
    "The `%lprun` command yields the time spent on each line of code giving us a line by line report. Since not shipped by default, install the library\n",
    "\n",
    "```bash\n",
    "conda install line_profiler \n",
    "```\n",
    "\n",
    "and load the extension manually in the notebook.\n",
    "\n",
    "```python\n",
    "%load_ext line_profiler\n",
    "```"
   ]
  },
  {
   "cell_type": "code",
   "execution_count": 29,
   "metadata": {},
   "outputs": [],
   "source": [
    "%load_ext line_profiler"
   ]
  },
  {
   "cell_type": "code",
   "execution_count": 30,
   "metadata": {},
   "outputs": [
    {
     "output_type": "stream",
     "text": [
      "Timer unit: 1e-06 s\n",
      "\n",
      "Total time: 22.6265 s\n",
      "File: <ipython-input-22-6c583bd19c05>\n",
      "Function: estimate_pi at line 3\n",
      "\n",
      "Line #      Hits         Time  Per Hit   % Time  Line Contents\n",
      "==============================================================\n",
      "     3                                           def estimate_pi(n = 10000000):\n",
      "     4                                               \"\"\"Estimate pi with monte carlo simulation.\"\"\"\n",
      "     5         1          2.0      2.0      0.0      in_circle = 0\n",
      "     6         1          1.0      1.0      0.0      total = n\n",
      "     7                                               \n",
      "     8  10000001    3253513.0      0.3     14.4      while n != 0:\n",
      "     9  10000000    3363210.0      0.3     14.9          prec_x = random()\n",
      "    10  10000000    3276161.0      0.3     14.5          prec_y = random()\n",
      "    11  10000000    6264824.0      0.6     27.7          if pow(prec_x, 2) + pow(prec_y, 2) <= 1: # circle equation: x^2+y^2=r^2\n",
      "    12   7853542    2803375.0      0.4     12.4              in_circle += 1 # inside the circle\n",
      "    13  10000000    3665420.0      0.4     16.2          n -= 1\n",
      "    14                                                   \n",
      "    15         1          2.0      2.0      0.0      return 4 * in_circle / total"
     ],
     "name": "stdout"
    }
   ],
   "source": [
    "stats_lprun = %lprun -r -f estimate_pi estimate_pi()"
   ]
  },
  {
   "cell_type": "code",
   "execution_count": 31,
   "metadata": {
    "slideshow": {
     "slide_type": "slide"
    }
   },
   "outputs": [
    {
     "output_type": "stream",
     "name": "stdout",
     "text": [
      "Timer unit: 1e-06 s\n\nTotal time: 22.6265 s\nFile: <ipython-input-22-6c583bd19c05>\nFunction: estimate_pi at line 3\n\nLine #      Hits         Time  Per Hit   % Time  Line Contents\n==============================================================\n     3                                           def estimate_pi(n = 10000000):\n     4                                               \"\"\"Estimate pi with monte carlo simulation.\"\"\"\n     5         1          2.0      2.0      0.0      in_circle = 0\n     6         1          1.0      1.0      0.0      total = n\n     7                                               \n     8  10000001    3253513.0      0.3     14.4      while n != 0:\n     9  10000000    3363210.0      0.3     14.9          prec_x = random()\n    10  10000000    3276161.0      0.3     14.5          prec_y = random()\n    11  10000000    6264824.0      0.6     27.7          if pow(prec_x, 2) + pow(prec_y, 2) <= 1: # circle equation: x^2+y^2=r^2\n    12   7853542    2803375.0      0.4     12.4              in_circle += 1 # inside the circle\n    13  10000000    3665420.0      0.4     16.2          n -= 1\n    14                                                   \n    15         1          2.0      2.0      0.0      return 4 * in_circle / total\n\n"
     ]
    }
   ],
   "source": [
    "stats_lprun.print_stats();"
   ]
  },
  {
   "cell_type": "markdown",
   "metadata": {},
   "source": [
    "Notice the extensive time (~28%) spent on the if statement on line 15."
   ]
  },
  {
   "cell_type": "markdown",
   "metadata": {
    "slideshow": {
     "slide_type": "slide"
    }
   },
   "source": [
    "#### Visualizing the profile with heat"
   ]
  },
  {
   "cell_type": "markdown",
   "metadata": {},
   "source": [
    "```bash\n",
    "pip install py-heat-magic\n",
    "```\n",
    "\n",
    "and load the extension manually in the notebook:"
   ]
  },
  {
   "cell_type": "code",
   "execution_count": 32,
   "metadata": {},
   "outputs": [],
   "source": [
    "%load_ext heat"
   ]
  },
  {
   "cell_type": "markdown",
   "metadata": {},
   "source": [
    "This code can take a minute or two to execute:"
   ]
  },
  {
   "cell_type": "code",
   "execution_count": 33,
   "metadata": {
    "slideshow": {
     "slide_type": "slide"
    }
   },
   "outputs": [
    {
     "output_type": "display_data",
     "data": {
      "text/plain": "<Figure size 729x360 with 2 Axes>",
      "image/svg+xml": "<?xml version=\"1.0\" encoding=\"utf-8\" standalone=\"no\"?>\n<!DOCTYPE svg PUBLIC \"-//W3C//DTD SVG 1.1//EN\"\n  \"http://www.w3.org/Graphics/SVG/1.1/DTD/svg11.dtd\">\n<!-- Created with matplotlib (https://matplotlib.org/) -->\n<svg height=\"265.078906pt\" version=\"1.1\" viewBox=\"0 0 573.675 265.078906\" width=\"573.675pt\" xmlns=\"http://www.w3.org/2000/svg\" xmlns:xlink=\"http://www.w3.org/1999/xlink\">\n <defs>\n  <style type=\"text/css\">\n*{stroke-linecap:butt;stroke-linejoin:round;}\n  </style>\n </defs>\n <g id=\"figure_1\">\n  <g id=\"patch_1\">\n   <path d=\"M -0 265.078906 \nL 573.675 265.078906 \nL 573.675 0 \nL -0 0 \nz\n\" style=\"fill:none;\"/>\n  </g>\n  <g id=\"axes_1\">\n   <g id=\"patch_2\">\n    <path d=\"M 40.603125 252 \nL 492.583125 252 \nL 492.583125 7.2 \nL 40.603125 7.2 \nz\n\" style=\"fill:#ffffff;\"/>\n   </g>\n   <g id=\"PolyCollection_1\">\n    <path clip-path=\"url(#p311da29457)\" d=\"M 40.603125 7.2 \nL 40.603125 23.52 \nL 492.583125 23.52 \nL 492.583125 7.2 \nL 40.603125 7.2 \nz\n\" style=\"fill:#fff7ec;\"/>\n    <path clip-path=\"url(#p311da29457)\" d=\"M 40.603125 23.52 \nL 40.603125 39.84 \nL 492.583125 39.84 \nL 492.583125 23.52 \nL 40.603125 23.52 \nz\n\" style=\"fill:#fff7ec;\"/>\n    <path clip-path=\"url(#p311da29457)\" d=\"M 40.603125 39.84 \nL 40.603125 56.16 \nL 492.583125 56.16 \nL 492.583125 39.84 \nL 40.603125 39.84 \nz\n\" style=\"fill:#fff7ec;\"/>\n    <path clip-path=\"url(#p311da29457)\" d=\"M 40.603125 56.16 \nL 40.603125 72.48 \nL 492.583125 72.48 \nL 492.583125 56.16 \nL 40.603125 56.16 \nz\n\" style=\"fill:#fff7ec;\"/>\n    <path clip-path=\"url(#p311da29457)\" d=\"M 40.603125 72.48 \nL 40.603125 88.8 \nL 492.583125 88.8 \nL 492.583125 72.48 \nL 40.603125 72.48 \nz\n\" style=\"fill:#fff7ec;\"/>\n    <path clip-path=\"url(#p311da29457)\" d=\"M 40.603125 88.8 \nL 40.603125 105.12 \nL 492.583125 105.12 \nL 492.583125 88.8 \nL 40.603125 88.8 \nz\n\" style=\"fill:#c4170f;\"/>\n    <path clip-path=\"url(#p311da29457)\" d=\"M 40.603125 105.12 \nL 40.603125 121.44 \nL 492.583125 121.44 \nL 492.583125 105.12 \nL 40.603125 105.12 \nz\n\" style=\"fill:#c1120c;\"/>\n    <path clip-path=\"url(#p311da29457)\" d=\"M 40.603125 121.44 \nL 40.603125 137.76 \nL 492.583125 137.76 \nL 492.583125 121.44 \nL 40.603125 121.44 \nz\n\" style=\"fill:#c3150e;\"/>\n    <path clip-path=\"url(#p311da29457)\" d=\"M 40.603125 137.76 \nL 40.603125 154.08 \nL 492.583125 154.08 \nL 492.583125 137.76 \nL 40.603125 137.76 \nz\n\" style=\"fill:#7f0000;\"/>\n    <path clip-path=\"url(#p311da29457)\" d=\"M 40.603125 154.08 \nL 40.603125 170.4 \nL 492.583125 170.4 \nL 492.583125 154.08 \nL 40.603125 154.08 \nz\n\" style=\"fill:#e9583e;\"/>\n    <path clip-path=\"url(#p311da29457)\" d=\"M 40.603125 170.4 \nL 40.603125 186.72 \nL 492.583125 186.72 \nL 492.583125 170.4 \nL 40.603125 170.4 \nz\n\" style=\"fill:#bd0e09;\"/>\n    <path clip-path=\"url(#p311da29457)\" d=\"M 40.603125 186.72 \nL 40.603125 203.04 \nL 492.583125 203.04 \nL 492.583125 186.72 \nL 40.603125 186.72 \nz\n\" style=\"fill:#fff7ec;\"/>\n    <path clip-path=\"url(#p311da29457)\" d=\"M 40.603125 203.04 \nL 40.603125 219.36 \nL 492.583125 219.36 \nL 492.583125 203.04 \nL 40.603125 203.04 \nz\n\" style=\"fill:#fff7ec;\"/>\n    <path clip-path=\"url(#p311da29457)\" d=\"M 40.603125 219.36 \nL 40.603125 235.68 \nL 492.583125 235.68 \nL 492.583125 219.36 \nL 40.603125 219.36 \nz\n\" style=\"fill:#fff7ec;\"/>\n    <path clip-path=\"url(#p311da29457)\" d=\"M 40.603125 235.68 \nL 40.603125 252 \nL 492.583125 252 \nL 492.583125 235.68 \nL 40.603125 235.68 \nz\n\" style=\"fill:#fff7ec;\"/>\n   </g>\n   <g id=\"matplotlib.axis_1\">\n    <g id=\"ytick_1\">\n     <g id=\"line2d_1\">\n      <defs>\n       <path d=\"M 0 0 \nL -3.5 0 \n\" id=\"m9b69b1cb8a\" style=\"stroke:#000000;stroke-width:0.8;\"/>\n      </defs>\n      <g>\n       <use style=\"stroke:#000000;stroke-width:0.8;\" x=\"40.603125\" xlink:href=\"#m9b69b1cb8a\" y=\"15.36\"/>\n      </g>\n     </g>\n     <g id=\"text_1\">\n      <!-- 1 -->\n      <defs>\n       <path d=\"M 12.40625 8.296875 \nL 28.515625 8.296875 \nL 28.515625 63.921875 \nL 10.984375 60.40625 \nL 10.984375 69.390625 \nL 28.421875 72.90625 \nL 38.28125 72.90625 \nL 38.28125 8.296875 \nL 54.390625 8.296875 \nL 54.390625 0 \nL 12.40625 0 \nz\n\" id=\"DejaVuSans-49\"/>\n      </defs>\n      <g transform=\"translate(27.240625 19.159219)scale(0.1 -0.1)\">\n       <use xlink:href=\"#DejaVuSans-49\"/>\n      </g>\n     </g>\n    </g>\n    <g id=\"ytick_2\">\n     <g id=\"line2d_2\">\n      <g>\n       <use style=\"stroke:#000000;stroke-width:0.8;\" x=\"40.603125\" xlink:href=\"#m9b69b1cb8a\" y=\"31.68\"/>\n      </g>\n     </g>\n     <g id=\"text_2\">\n      <!-- 2 -->\n      <defs>\n       <path d=\"M 19.1875 8.296875 \nL 53.609375 8.296875 \nL 53.609375 0 \nL 7.328125 0 \nL 7.328125 8.296875 \nQ 12.9375 14.109375 22.625 23.890625 \nQ 32.328125 33.6875 34.8125 36.53125 \nQ 39.546875 41.84375 41.421875 45.53125 \nQ 43.3125 49.21875 43.3125 52.78125 \nQ 43.3125 58.59375 39.234375 62.25 \nQ 35.15625 65.921875 28.609375 65.921875 \nQ 23.96875 65.921875 18.8125 64.3125 \nQ 13.671875 62.703125 7.8125 59.421875 \nL 7.8125 69.390625 \nQ 13.765625 71.78125 18.9375 73 \nQ 24.125 74.21875 28.421875 74.21875 \nQ 39.75 74.21875 46.484375 68.546875 \nQ 53.21875 62.890625 53.21875 53.421875 \nQ 53.21875 48.921875 51.53125 44.890625 \nQ 49.859375 40.875 45.40625 35.40625 \nQ 44.1875 33.984375 37.640625 27.21875 \nQ 31.109375 20.453125 19.1875 8.296875 \nz\n\" id=\"DejaVuSans-50\"/>\n      </defs>\n      <g transform=\"translate(27.240625 35.479219)scale(0.1 -0.1)\">\n       <use xlink:href=\"#DejaVuSans-50\"/>\n      </g>\n     </g>\n    </g>\n    <g id=\"ytick_3\">\n     <g id=\"line2d_3\">\n      <g>\n       <use style=\"stroke:#000000;stroke-width:0.8;\" x=\"40.603125\" xlink:href=\"#m9b69b1cb8a\" y=\"48\"/>\n      </g>\n     </g>\n     <g id=\"text_3\">\n      <!-- 3 -->\n      <defs>\n       <path d=\"M 40.578125 39.3125 \nQ 47.65625 37.796875 51.625 33 \nQ 55.609375 28.21875 55.609375 21.1875 \nQ 55.609375 10.40625 48.1875 4.484375 \nQ 40.765625 -1.421875 27.09375 -1.421875 \nQ 22.515625 -1.421875 17.65625 -0.515625 \nQ 12.796875 0.390625 7.625 2.203125 \nL 7.625 11.71875 \nQ 11.71875 9.328125 16.59375 8.109375 \nQ 21.484375 6.890625 26.8125 6.890625 \nQ 36.078125 6.890625 40.9375 10.546875 \nQ 45.796875 14.203125 45.796875 21.1875 \nQ 45.796875 27.640625 41.28125 31.265625 \nQ 36.765625 34.90625 28.71875 34.90625 \nL 20.21875 34.90625 \nL 20.21875 43.015625 \nL 29.109375 43.015625 \nQ 36.375 43.015625 40.234375 45.921875 \nQ 44.09375 48.828125 44.09375 54.296875 \nQ 44.09375 59.90625 40.109375 62.90625 \nQ 36.140625 65.921875 28.71875 65.921875 \nQ 24.65625 65.921875 20.015625 65.03125 \nQ 15.375 64.15625 9.8125 62.3125 \nL 9.8125 71.09375 \nQ 15.4375 72.65625 20.34375 73.4375 \nQ 25.25 74.21875 29.59375 74.21875 \nQ 40.828125 74.21875 47.359375 69.109375 \nQ 53.90625 64.015625 53.90625 55.328125 \nQ 53.90625 49.265625 50.4375 45.09375 \nQ 46.96875 40.921875 40.578125 39.3125 \nz\n\" id=\"DejaVuSans-51\"/>\n      </defs>\n      <g transform=\"translate(27.240625 51.799219)scale(0.1 -0.1)\">\n       <use xlink:href=\"#DejaVuSans-51\"/>\n      </g>\n     </g>\n    </g>\n    <g id=\"ytick_4\">\n     <g id=\"line2d_4\">\n      <g>\n       <use style=\"stroke:#000000;stroke-width:0.8;\" x=\"40.603125\" xlink:href=\"#m9b69b1cb8a\" y=\"64.32\"/>\n      </g>\n     </g>\n     <g id=\"text_4\">\n      <!-- 4 -->\n      <defs>\n       <path d=\"M 37.796875 64.3125 \nL 12.890625 25.390625 \nL 37.796875 25.390625 \nz\nM 35.203125 72.90625 \nL 47.609375 72.90625 \nL 47.609375 25.390625 \nL 58.015625 25.390625 \nL 58.015625 17.1875 \nL 47.609375 17.1875 \nL 47.609375 0 \nL 37.796875 0 \nL 37.796875 17.1875 \nL 4.890625 17.1875 \nL 4.890625 26.703125 \nz\n\" id=\"DejaVuSans-52\"/>\n      </defs>\n      <g transform=\"translate(27.240625 68.119219)scale(0.1 -0.1)\">\n       <use xlink:href=\"#DejaVuSans-52\"/>\n      </g>\n     </g>\n    </g>\n    <g id=\"ytick_5\">\n     <g id=\"line2d_5\">\n      <g>\n       <use style=\"stroke:#000000;stroke-width:0.8;\" x=\"40.603125\" xlink:href=\"#m9b69b1cb8a\" y=\"80.64\"/>\n      </g>\n     </g>\n     <g id=\"text_5\">\n      <!-- 5 -->\n      <defs>\n       <path d=\"M 10.796875 72.90625 \nL 49.515625 72.90625 \nL 49.515625 64.59375 \nL 19.828125 64.59375 \nL 19.828125 46.734375 \nQ 21.96875 47.46875 24.109375 47.828125 \nQ 26.265625 48.1875 28.421875 48.1875 \nQ 40.625 48.1875 47.75 41.5 \nQ 54.890625 34.8125 54.890625 23.390625 \nQ 54.890625 11.625 47.5625 5.09375 \nQ 40.234375 -1.421875 26.90625 -1.421875 \nQ 22.3125 -1.421875 17.546875 -0.640625 \nQ 12.796875 0.140625 7.71875 1.703125 \nL 7.71875 11.625 \nQ 12.109375 9.234375 16.796875 8.0625 \nQ 21.484375 6.890625 26.703125 6.890625 \nQ 35.15625 6.890625 40.078125 11.328125 \nQ 45.015625 15.765625 45.015625 23.390625 \nQ 45.015625 31 40.078125 35.4375 \nQ 35.15625 39.890625 26.703125 39.890625 \nQ 22.75 39.890625 18.8125 39.015625 \nQ 14.890625 38.140625 10.796875 36.28125 \nz\n\" id=\"DejaVuSans-53\"/>\n      </defs>\n      <g transform=\"translate(27.240625 84.439219)scale(0.1 -0.1)\">\n       <use xlink:href=\"#DejaVuSans-53\"/>\n      </g>\n     </g>\n    </g>\n    <g id=\"ytick_6\">\n     <g id=\"line2d_6\">\n      <g>\n       <use style=\"stroke:#000000;stroke-width:0.8;\" x=\"40.603125\" xlink:href=\"#m9b69b1cb8a\" y=\"96.96\"/>\n      </g>\n     </g>\n     <g id=\"text_6\">\n      <!-- 6 -->\n      <defs>\n       <path d=\"M 33.015625 40.375 \nQ 26.375 40.375 22.484375 35.828125 \nQ 18.609375 31.296875 18.609375 23.390625 \nQ 18.609375 15.53125 22.484375 10.953125 \nQ 26.375 6.390625 33.015625 6.390625 \nQ 39.65625 6.390625 43.53125 10.953125 \nQ 47.40625 15.53125 47.40625 23.390625 \nQ 47.40625 31.296875 43.53125 35.828125 \nQ 39.65625 40.375 33.015625 40.375 \nz\nM 52.59375 71.296875 \nL 52.59375 62.3125 \nQ 48.875 64.0625 45.09375 64.984375 \nQ 41.3125 65.921875 37.59375 65.921875 \nQ 27.828125 65.921875 22.671875 59.328125 \nQ 17.53125 52.734375 16.796875 39.40625 \nQ 19.671875 43.65625 24.015625 45.921875 \nQ 28.375 48.1875 33.59375 48.1875 \nQ 44.578125 48.1875 50.953125 41.515625 \nQ 57.328125 34.859375 57.328125 23.390625 \nQ 57.328125 12.15625 50.6875 5.359375 \nQ 44.046875 -1.421875 33.015625 -1.421875 \nQ 20.359375 -1.421875 13.671875 8.265625 \nQ 6.984375 17.96875 6.984375 36.375 \nQ 6.984375 53.65625 15.1875 63.9375 \nQ 23.390625 74.21875 37.203125 74.21875 \nQ 40.921875 74.21875 44.703125 73.484375 \nQ 48.484375 72.75 52.59375 71.296875 \nz\n\" id=\"DejaVuSans-54\"/>\n      </defs>\n      <g transform=\"translate(27.240625 100.759219)scale(0.1 -0.1)\">\n       <use xlink:href=\"#DejaVuSans-54\"/>\n      </g>\n     </g>\n    </g>\n    <g id=\"ytick_7\">\n     <g id=\"line2d_7\">\n      <g>\n       <use style=\"stroke:#000000;stroke-width:0.8;\" x=\"40.603125\" xlink:href=\"#m9b69b1cb8a\" y=\"113.28\"/>\n      </g>\n     </g>\n     <g id=\"text_7\">\n      <!-- 7 -->\n      <defs>\n       <path d=\"M 8.203125 72.90625 \nL 55.078125 72.90625 \nL 55.078125 68.703125 \nL 28.609375 0 \nL 18.3125 0 \nL 43.21875 64.59375 \nL 8.203125 64.59375 \nz\n\" id=\"DejaVuSans-55\"/>\n      </defs>\n      <g transform=\"translate(27.240625 117.079219)scale(0.1 -0.1)\">\n       <use xlink:href=\"#DejaVuSans-55\"/>\n      </g>\n     </g>\n    </g>\n    <g id=\"ytick_8\">\n     <g id=\"line2d_8\">\n      <g>\n       <use style=\"stroke:#000000;stroke-width:0.8;\" x=\"40.603125\" xlink:href=\"#m9b69b1cb8a\" y=\"129.6\"/>\n      </g>\n     </g>\n     <g id=\"text_8\">\n      <!-- 8 -->\n      <defs>\n       <path d=\"M 31.78125 34.625 \nQ 24.75 34.625 20.71875 30.859375 \nQ 16.703125 27.09375 16.703125 20.515625 \nQ 16.703125 13.921875 20.71875 10.15625 \nQ 24.75 6.390625 31.78125 6.390625 \nQ 38.8125 6.390625 42.859375 10.171875 \nQ 46.921875 13.96875 46.921875 20.515625 \nQ 46.921875 27.09375 42.890625 30.859375 \nQ 38.875 34.625 31.78125 34.625 \nz\nM 21.921875 38.8125 \nQ 15.578125 40.375 12.03125 44.71875 \nQ 8.5 49.078125 8.5 55.328125 \nQ 8.5 64.0625 14.71875 69.140625 \nQ 20.953125 74.21875 31.78125 74.21875 \nQ 42.671875 74.21875 48.875 69.140625 \nQ 55.078125 64.0625 55.078125 55.328125 \nQ 55.078125 49.078125 51.53125 44.71875 \nQ 48 40.375 41.703125 38.8125 \nQ 48.828125 37.15625 52.796875 32.3125 \nQ 56.78125 27.484375 56.78125 20.515625 \nQ 56.78125 9.90625 50.3125 4.234375 \nQ 43.84375 -1.421875 31.78125 -1.421875 \nQ 19.734375 -1.421875 13.25 4.234375 \nQ 6.78125 9.90625 6.78125 20.515625 \nQ 6.78125 27.484375 10.78125 32.3125 \nQ 14.796875 37.15625 21.921875 38.8125 \nz\nM 18.3125 54.390625 \nQ 18.3125 48.734375 21.84375 45.5625 \nQ 25.390625 42.390625 31.78125 42.390625 \nQ 38.140625 42.390625 41.71875 45.5625 \nQ 45.3125 48.734375 45.3125 54.390625 \nQ 45.3125 60.0625 41.71875 63.234375 \nQ 38.140625 66.40625 31.78125 66.40625 \nQ 25.390625 66.40625 21.84375 63.234375 \nQ 18.3125 60.0625 18.3125 54.390625 \nz\n\" id=\"DejaVuSans-56\"/>\n      </defs>\n      <g transform=\"translate(27.240625 133.399219)scale(0.1 -0.1)\">\n       <use xlink:href=\"#DejaVuSans-56\"/>\n      </g>\n     </g>\n    </g>\n    <g id=\"ytick_9\">\n     <g id=\"line2d_9\">\n      <g>\n       <use style=\"stroke:#000000;stroke-width:0.8;\" x=\"40.603125\" xlink:href=\"#m9b69b1cb8a\" y=\"145.92\"/>\n      </g>\n     </g>\n     <g id=\"text_9\">\n      <!-- 9 -->\n      <defs>\n       <path d=\"M 10.984375 1.515625 \nL 10.984375 10.5 \nQ 14.703125 8.734375 18.5 7.8125 \nQ 22.3125 6.890625 25.984375 6.890625 \nQ 35.75 6.890625 40.890625 13.453125 \nQ 46.046875 20.015625 46.78125 33.40625 \nQ 43.953125 29.203125 39.59375 26.953125 \nQ 35.25 24.703125 29.984375 24.703125 \nQ 19.046875 24.703125 12.671875 31.3125 \nQ 6.296875 37.9375 6.296875 49.421875 \nQ 6.296875 60.640625 12.9375 67.421875 \nQ 19.578125 74.21875 30.609375 74.21875 \nQ 43.265625 74.21875 49.921875 64.515625 \nQ 56.59375 54.828125 56.59375 36.375 \nQ 56.59375 19.140625 48.40625 8.859375 \nQ 40.234375 -1.421875 26.421875 -1.421875 \nQ 22.703125 -1.421875 18.890625 -0.6875 \nQ 15.09375 0.046875 10.984375 1.515625 \nz\nM 30.609375 32.421875 \nQ 37.25 32.421875 41.125 36.953125 \nQ 45.015625 41.5 45.015625 49.421875 \nQ 45.015625 57.28125 41.125 61.84375 \nQ 37.25 66.40625 30.609375 66.40625 \nQ 23.96875 66.40625 20.09375 61.84375 \nQ 16.21875 57.28125 16.21875 49.421875 \nQ 16.21875 41.5 20.09375 36.953125 \nQ 23.96875 32.421875 30.609375 32.421875 \nz\n\" id=\"DejaVuSans-57\"/>\n      </defs>\n      <g transform=\"translate(27.240625 149.719219)scale(0.1 -0.1)\">\n       <use xlink:href=\"#DejaVuSans-57\"/>\n      </g>\n     </g>\n    </g>\n    <g id=\"ytick_10\">\n     <g id=\"line2d_10\">\n      <g>\n       <use style=\"stroke:#000000;stroke-width:0.8;\" x=\"40.603125\" xlink:href=\"#m9b69b1cb8a\" y=\"162.24\"/>\n      </g>\n     </g>\n     <g id=\"text_10\">\n      <!-- 10 -->\n      <defs>\n       <path d=\"M 31.78125 66.40625 \nQ 24.171875 66.40625 20.328125 58.90625 \nQ 16.5 51.421875 16.5 36.375 \nQ 16.5 21.390625 20.328125 13.890625 \nQ 24.171875 6.390625 31.78125 6.390625 \nQ 39.453125 6.390625 43.28125 13.890625 \nQ 47.125 21.390625 47.125 36.375 \nQ 47.125 51.421875 43.28125 58.90625 \nQ 39.453125 66.40625 31.78125 66.40625 \nz\nM 31.78125 74.21875 \nQ 44.046875 74.21875 50.515625 64.515625 \nQ 56.984375 54.828125 56.984375 36.375 \nQ 56.984375 17.96875 50.515625 8.265625 \nQ 44.046875 -1.421875 31.78125 -1.421875 \nQ 19.53125 -1.421875 13.0625 8.265625 \nQ 6.59375 17.96875 6.59375 36.375 \nQ 6.59375 54.828125 13.0625 64.515625 \nQ 19.53125 74.21875 31.78125 74.21875 \nz\n\" id=\"DejaVuSans-48\"/>\n      </defs>\n      <g transform=\"translate(20.878125 166.039219)scale(0.1 -0.1)\">\n       <use xlink:href=\"#DejaVuSans-49\"/>\n       <use x=\"63.623047\" xlink:href=\"#DejaVuSans-48\"/>\n      </g>\n     </g>\n    </g>\n    <g id=\"ytick_11\">\n     <g id=\"line2d_11\">\n      <g>\n       <use style=\"stroke:#000000;stroke-width:0.8;\" x=\"40.603125\" xlink:href=\"#m9b69b1cb8a\" y=\"178.56\"/>\n      </g>\n     </g>\n     <g id=\"text_11\">\n      <!-- 11 -->\n      <g transform=\"translate(20.878125 182.359219)scale(0.1 -0.1)\">\n       <use xlink:href=\"#DejaVuSans-49\"/>\n       <use x=\"63.623047\" xlink:href=\"#DejaVuSans-49\"/>\n      </g>\n     </g>\n    </g>\n    <g id=\"ytick_12\">\n     <g id=\"line2d_12\">\n      <g>\n       <use style=\"stroke:#000000;stroke-width:0.8;\" x=\"40.603125\" xlink:href=\"#m9b69b1cb8a\" y=\"194.88\"/>\n      </g>\n     </g>\n     <g id=\"text_12\">\n      <!-- 12 -->\n      <g transform=\"translate(20.878125 198.679219)scale(0.1 -0.1)\">\n       <use xlink:href=\"#DejaVuSans-49\"/>\n       <use x=\"63.623047\" xlink:href=\"#DejaVuSans-50\"/>\n      </g>\n     </g>\n    </g>\n    <g id=\"ytick_13\">\n     <g id=\"line2d_13\">\n      <g>\n       <use style=\"stroke:#000000;stroke-width:0.8;\" x=\"40.603125\" xlink:href=\"#m9b69b1cb8a\" y=\"211.2\"/>\n      </g>\n     </g>\n     <g id=\"text_13\">\n      <!-- 13 -->\n      <g transform=\"translate(20.878125 214.999219)scale(0.1 -0.1)\">\n       <use xlink:href=\"#DejaVuSans-49\"/>\n       <use x=\"63.623047\" xlink:href=\"#DejaVuSans-51\"/>\n      </g>\n     </g>\n    </g>\n    <g id=\"ytick_14\">\n     <g id=\"line2d_14\">\n      <g>\n       <use style=\"stroke:#000000;stroke-width:0.8;\" x=\"40.603125\" xlink:href=\"#m9b69b1cb8a\" y=\"227.52\"/>\n      </g>\n     </g>\n     <g id=\"text_14\">\n      <!-- 14 -->\n      <g transform=\"translate(20.878125 231.319219)scale(0.1 -0.1)\">\n       <use xlink:href=\"#DejaVuSans-49\"/>\n       <use x=\"63.623047\" xlink:href=\"#DejaVuSans-52\"/>\n      </g>\n     </g>\n    </g>\n    <g id=\"ytick_15\">\n     <g id=\"line2d_15\">\n      <g>\n       <use style=\"stroke:#000000;stroke-width:0.8;\" x=\"40.603125\" xlink:href=\"#m9b69b1cb8a\" y=\"243.84\"/>\n      </g>\n     </g>\n     <g id=\"text_15\">\n      <!-- 15 -->\n      <g transform=\"translate(20.878125 247.639219)scale(0.1 -0.1)\">\n       <use xlink:href=\"#DejaVuSans-49\"/>\n       <use x=\"63.623047\" xlink:href=\"#DejaVuSans-53\"/>\n      </g>\n     </g>\n    </g>\n    <g id=\"text_16\">\n     <!-- Line Number -->\n     <defs>\n      <path d=\"M 9.8125 72.90625 \nL 19.671875 72.90625 \nL 19.671875 8.296875 \nL 55.171875 8.296875 \nL 55.171875 0 \nL 9.8125 0 \nz\n\" id=\"DejaVuSans-76\"/>\n      <path d=\"M 9.421875 54.6875 \nL 18.40625 54.6875 \nL 18.40625 0 \nL 9.421875 0 \nz\nM 9.421875 75.984375 \nL 18.40625 75.984375 \nL 18.40625 64.59375 \nL 9.421875 64.59375 \nz\n\" id=\"DejaVuSans-105\"/>\n      <path d=\"M 54.890625 33.015625 \nL 54.890625 0 \nL 45.90625 0 \nL 45.90625 32.71875 \nQ 45.90625 40.484375 42.875 44.328125 \nQ 39.84375 48.1875 33.796875 48.1875 \nQ 26.515625 48.1875 22.3125 43.546875 \nQ 18.109375 38.921875 18.109375 30.90625 \nL 18.109375 0 \nL 9.078125 0 \nL 9.078125 54.6875 \nL 18.109375 54.6875 \nL 18.109375 46.1875 \nQ 21.34375 51.125 25.703125 53.5625 \nQ 30.078125 56 35.796875 56 \nQ 45.21875 56 50.046875 50.171875 \nQ 54.890625 44.34375 54.890625 33.015625 \nz\n\" id=\"DejaVuSans-110\"/>\n      <path d=\"M 56.203125 29.59375 \nL 56.203125 25.203125 \nL 14.890625 25.203125 \nQ 15.484375 15.921875 20.484375 11.0625 \nQ 25.484375 6.203125 34.421875 6.203125 \nQ 39.59375 6.203125 44.453125 7.46875 \nQ 49.3125 8.734375 54.109375 11.28125 \nL 54.109375 2.78125 \nQ 49.265625 0.734375 44.1875 -0.34375 \nQ 39.109375 -1.421875 33.890625 -1.421875 \nQ 20.796875 -1.421875 13.15625 6.1875 \nQ 5.515625 13.8125 5.515625 26.8125 \nQ 5.515625 40.234375 12.765625 48.109375 \nQ 20.015625 56 32.328125 56 \nQ 43.359375 56 49.78125 48.890625 \nQ 56.203125 41.796875 56.203125 29.59375 \nz\nM 47.21875 32.234375 \nQ 47.125 39.59375 43.09375 43.984375 \nQ 39.0625 48.390625 32.421875 48.390625 \nQ 24.90625 48.390625 20.390625 44.140625 \nQ 15.875 39.890625 15.1875 32.171875 \nz\n\" id=\"DejaVuSans-101\"/>\n      <path id=\"DejaVuSans-32\"/>\n      <path d=\"M 9.8125 72.90625 \nL 23.09375 72.90625 \nL 55.421875 11.921875 \nL 55.421875 72.90625 \nL 64.984375 72.90625 \nL 64.984375 0 \nL 51.703125 0 \nL 19.390625 60.984375 \nL 19.390625 0 \nL 9.8125 0 \nz\n\" id=\"DejaVuSans-78\"/>\n      <path d=\"M 8.5 21.578125 \nL 8.5 54.6875 \nL 17.484375 54.6875 \nL 17.484375 21.921875 \nQ 17.484375 14.15625 20.5 10.265625 \nQ 23.53125 6.390625 29.59375 6.390625 \nQ 36.859375 6.390625 41.078125 11.03125 \nQ 45.3125 15.671875 45.3125 23.6875 \nL 45.3125 54.6875 \nL 54.296875 54.6875 \nL 54.296875 0 \nL 45.3125 0 \nL 45.3125 8.40625 \nQ 42.046875 3.421875 37.71875 1 \nQ 33.40625 -1.421875 27.6875 -1.421875 \nQ 18.265625 -1.421875 13.375 4.4375 \nQ 8.5 10.296875 8.5 21.578125 \nz\nM 31.109375 56 \nz\n\" id=\"DejaVuSans-117\"/>\n      <path d=\"M 52 44.1875 \nQ 55.375 50.25 60.0625 53.125 \nQ 64.75 56 71.09375 56 \nQ 79.640625 56 84.28125 50.015625 \nQ 88.921875 44.046875 88.921875 33.015625 \nL 88.921875 0 \nL 79.890625 0 \nL 79.890625 32.71875 \nQ 79.890625 40.578125 77.09375 44.375 \nQ 74.3125 48.1875 68.609375 48.1875 \nQ 61.625 48.1875 57.5625 43.546875 \nQ 53.515625 38.921875 53.515625 30.90625 \nL 53.515625 0 \nL 44.484375 0 \nL 44.484375 32.71875 \nQ 44.484375 40.625 41.703125 44.40625 \nQ 38.921875 48.1875 33.109375 48.1875 \nQ 26.21875 48.1875 22.15625 43.53125 \nQ 18.109375 38.875 18.109375 30.90625 \nL 18.109375 0 \nL 9.078125 0 \nL 9.078125 54.6875 \nL 18.109375 54.6875 \nL 18.109375 46.1875 \nQ 21.1875 51.21875 25.484375 53.609375 \nQ 29.78125 56 35.6875 56 \nQ 41.65625 56 45.828125 52.96875 \nQ 50 49.953125 52 44.1875 \nz\n\" id=\"DejaVuSans-109\"/>\n      <path d=\"M 48.6875 27.296875 \nQ 48.6875 37.203125 44.609375 42.84375 \nQ 40.53125 48.484375 33.40625 48.484375 \nQ 26.265625 48.484375 22.1875 42.84375 \nQ 18.109375 37.203125 18.109375 27.296875 \nQ 18.109375 17.390625 22.1875 11.75 \nQ 26.265625 6.109375 33.40625 6.109375 \nQ 40.53125 6.109375 44.609375 11.75 \nQ 48.6875 17.390625 48.6875 27.296875 \nz\nM 18.109375 46.390625 \nQ 20.953125 51.265625 25.265625 53.625 \nQ 29.59375 56 35.59375 56 \nQ 45.5625 56 51.78125 48.09375 \nQ 58.015625 40.1875 58.015625 27.296875 \nQ 58.015625 14.40625 51.78125 6.484375 \nQ 45.5625 -1.421875 35.59375 -1.421875 \nQ 29.59375 -1.421875 25.265625 0.953125 \nQ 20.953125 3.328125 18.109375 8.203125 \nL 18.109375 0 \nL 9.078125 0 \nL 9.078125 75.984375 \nL 18.109375 75.984375 \nz\n\" id=\"DejaVuSans-98\"/>\n      <path d=\"M 41.109375 46.296875 \nQ 39.59375 47.171875 37.8125 47.578125 \nQ 36.03125 48 33.890625 48 \nQ 26.265625 48 22.1875 43.046875 \nQ 18.109375 38.09375 18.109375 28.8125 \nL 18.109375 0 \nL 9.078125 0 \nL 9.078125 54.6875 \nL 18.109375 54.6875 \nL 18.109375 46.1875 \nQ 20.953125 51.171875 25.484375 53.578125 \nQ 30.03125 56 36.53125 56 \nQ 37.453125 56 38.578125 55.875 \nQ 39.703125 55.765625 41.0625 55.515625 \nz\n\" id=\"DejaVuSans-114\"/>\n     </defs>\n     <g transform=\"translate(14.798437 161.695312)rotate(-90)scale(0.1 -0.1)\">\n      <use xlink:href=\"#DejaVuSans-76\"/>\n      <use x=\"55.712891\" xlink:href=\"#DejaVuSans-105\"/>\n      <use x=\"83.496094\" xlink:href=\"#DejaVuSans-110\"/>\n      <use x=\"146.875\" xlink:href=\"#DejaVuSans-101\"/>\n      <use x=\"208.398438\" xlink:href=\"#DejaVuSans-32\"/>\n      <use x=\"240.185547\" xlink:href=\"#DejaVuSans-78\"/>\n      <use x=\"314.990234\" xlink:href=\"#DejaVuSans-117\"/>\n      <use x=\"378.369141\" xlink:href=\"#DejaVuSans-109\"/>\n      <use x=\"475.78125\" xlink:href=\"#DejaVuSans-98\"/>\n      <use x=\"539.257812\" xlink:href=\"#DejaVuSans-101\"/>\n      <use x=\"600.78125\" xlink:href=\"#DejaVuSans-114\"/>\n     </g>\n    </g>\n   </g>\n   <g id=\"patch_3\">\n    <path d=\"M 40.603125 252 \nL 40.603125 7.2 \n\" style=\"fill:none;stroke:#000000;stroke-linecap:square;stroke-linejoin:miter;stroke-width:0.8;\"/>\n   </g>\n   <g id=\"patch_4\">\n    <path d=\"M 492.583125 252 \nL 492.583125 7.2 \n\" style=\"fill:none;stroke:#000000;stroke-linecap:square;stroke-linejoin:miter;stroke-width:0.8;\"/>\n   </g>\n   <g id=\"patch_5\">\n    <path d=\"M 40.603125 252 \nL 492.583125 252 \n\" style=\"fill:none;stroke:#000000;stroke-linecap:square;stroke-linejoin:miter;stroke-width:0.8;\"/>\n   </g>\n   <g id=\"patch_6\">\n    <path d=\"M 40.603125 7.2 \nL 492.583125 7.2 \n\" style=\"fill:none;stroke:#000000;stroke-linecap:square;stroke-linejoin:miter;stroke-width:0.8;\"/>\n   </g>\n   <g id=\"text_17\">\n    <g clip-path=\"url(#p311da29457)\">\n     <!--   from random import random -->\n     <defs>\n      <path d=\"M 37.109375 75.984375 \nL 37.109375 68.5 \nL 28.515625 68.5 \nQ 23.6875 68.5 21.796875 66.546875 \nQ 19.921875 64.59375 19.921875 59.515625 \nL 19.921875 54.6875 \nL 34.71875 54.6875 \nL 34.71875 47.703125 \nL 19.921875 47.703125 \nL 19.921875 0 \nL 10.890625 0 \nL 10.890625 47.703125 \nL 2.296875 47.703125 \nL 2.296875 54.6875 \nL 10.890625 54.6875 \nL 10.890625 58.5 \nQ 10.890625 67.625 15.140625 71.796875 \nQ 19.390625 75.984375 28.609375 75.984375 \nz\n\" id=\"DejaVuSans-102\"/>\n      <path d=\"M 30.609375 48.390625 \nQ 23.390625 48.390625 19.1875 42.75 \nQ 14.984375 37.109375 14.984375 27.296875 \nQ 14.984375 17.484375 19.15625 11.84375 \nQ 23.34375 6.203125 30.609375 6.203125 \nQ 37.796875 6.203125 41.984375 11.859375 \nQ 46.1875 17.53125 46.1875 27.296875 \nQ 46.1875 37.015625 41.984375 42.703125 \nQ 37.796875 48.390625 30.609375 48.390625 \nz\nM 30.609375 56 \nQ 42.328125 56 49.015625 48.375 \nQ 55.71875 40.765625 55.71875 27.296875 \nQ 55.71875 13.875 49.015625 6.21875 \nQ 42.328125 -1.421875 30.609375 -1.421875 \nQ 18.84375 -1.421875 12.171875 6.21875 \nQ 5.515625 13.875 5.515625 27.296875 \nQ 5.515625 40.765625 12.171875 48.375 \nQ 18.84375 56 30.609375 56 \nz\n\" id=\"DejaVuSans-111\"/>\n      <path d=\"M 34.28125 27.484375 \nQ 23.390625 27.484375 19.1875 25 \nQ 14.984375 22.515625 14.984375 16.5 \nQ 14.984375 11.71875 18.140625 8.90625 \nQ 21.296875 6.109375 26.703125 6.109375 \nQ 34.1875 6.109375 38.703125 11.40625 \nQ 43.21875 16.703125 43.21875 25.484375 \nL 43.21875 27.484375 \nz\nM 52.203125 31.203125 \nL 52.203125 0 \nL 43.21875 0 \nL 43.21875 8.296875 \nQ 40.140625 3.328125 35.546875 0.953125 \nQ 30.953125 -1.421875 24.3125 -1.421875 \nQ 15.921875 -1.421875 10.953125 3.296875 \nQ 6 8.015625 6 15.921875 \nQ 6 25.140625 12.171875 29.828125 \nQ 18.359375 34.515625 30.609375 34.515625 \nL 43.21875 34.515625 \nL 43.21875 35.40625 \nQ 43.21875 41.609375 39.140625 45 \nQ 35.0625 48.390625 27.6875 48.390625 \nQ 23 48.390625 18.546875 47.265625 \nQ 14.109375 46.140625 10.015625 43.890625 \nL 10.015625 52.203125 \nQ 14.9375 54.109375 19.578125 55.046875 \nQ 24.21875 56 28.609375 56 \nQ 40.484375 56 46.34375 49.84375 \nQ 52.203125 43.703125 52.203125 31.203125 \nz\n\" id=\"DejaVuSans-97\"/>\n      <path d=\"M 45.40625 46.390625 \nL 45.40625 75.984375 \nL 54.390625 75.984375 \nL 54.390625 0 \nL 45.40625 0 \nL 45.40625 8.203125 \nQ 42.578125 3.328125 38.25 0.953125 \nQ 33.9375 -1.421875 27.875 -1.421875 \nQ 17.96875 -1.421875 11.734375 6.484375 \nQ 5.515625 14.40625 5.515625 27.296875 \nQ 5.515625 40.1875 11.734375 48.09375 \nQ 17.96875 56 27.875 56 \nQ 33.9375 56 38.25 53.625 \nQ 42.578125 51.265625 45.40625 46.390625 \nz\nM 14.796875 27.296875 \nQ 14.796875 17.390625 18.875 11.75 \nQ 22.953125 6.109375 30.078125 6.109375 \nQ 37.203125 6.109375 41.296875 11.75 \nQ 45.40625 17.390625 45.40625 27.296875 \nQ 45.40625 37.203125 41.296875 42.84375 \nQ 37.203125 48.484375 30.078125 48.484375 \nQ 22.953125 48.484375 18.875 42.84375 \nQ 14.796875 37.203125 14.796875 27.296875 \nz\n\" id=\"DejaVuSans-100\"/>\n      <path d=\"M 18.109375 8.203125 \nL 18.109375 -20.796875 \nL 9.078125 -20.796875 \nL 9.078125 54.6875 \nL 18.109375 54.6875 \nL 18.109375 46.390625 \nQ 20.953125 51.265625 25.265625 53.625 \nQ 29.59375 56 35.59375 56 \nQ 45.5625 56 51.78125 48.09375 \nQ 58.015625 40.1875 58.015625 27.296875 \nQ 58.015625 14.40625 51.78125 6.484375 \nQ 45.5625 -1.421875 35.59375 -1.421875 \nQ 29.59375 -1.421875 25.265625 0.953125 \nQ 20.953125 3.328125 18.109375 8.203125 \nz\nM 48.6875 27.296875 \nQ 48.6875 37.203125 44.609375 42.84375 \nQ 40.53125 48.484375 33.40625 48.484375 \nQ 26.265625 48.484375 22.1875 42.84375 \nQ 18.109375 37.203125 18.109375 27.296875 \nQ 18.109375 17.390625 22.1875 11.75 \nQ 26.265625 6.109375 33.40625 6.109375 \nQ 40.53125 6.109375 44.609375 11.75 \nQ 48.6875 17.390625 48.6875 27.296875 \nz\n\" id=\"DejaVuSans-112\"/>\n      <path d=\"M 18.3125 70.21875 \nL 18.3125 54.6875 \nL 36.8125 54.6875 \nL 36.8125 47.703125 \nL 18.3125 47.703125 \nL 18.3125 18.015625 \nQ 18.3125 11.328125 20.140625 9.421875 \nQ 21.96875 7.515625 27.59375 7.515625 \nL 36.8125 7.515625 \nL 36.8125 0 \nL 27.59375 0 \nQ 17.1875 0 13.234375 3.875 \nQ 9.28125 7.765625 9.28125 18.015625 \nL 9.28125 47.703125 \nL 2.6875 47.703125 \nL 2.6875 54.6875 \nL 9.28125 54.6875 \nL 9.28125 70.21875 \nz\n\" id=\"DejaVuSans-116\"/>\n     </defs>\n     <g transform=\"translate(40.603125 18.119375)scale(0.1 -0.1)\">\n      <use xlink:href=\"#DejaVuSans-32\"/>\n      <use x=\"31.787109\" xlink:href=\"#DejaVuSans-32\"/>\n      <use x=\"63.574219\" xlink:href=\"#DejaVuSans-102\"/>\n      <use x=\"98.779297\" xlink:href=\"#DejaVuSans-114\"/>\n      <use x=\"137.642578\" xlink:href=\"#DejaVuSans-111\"/>\n      <use x=\"198.824219\" xlink:href=\"#DejaVuSans-109\"/>\n      <use x=\"296.236328\" xlink:href=\"#DejaVuSans-32\"/>\n      <use x=\"328.023438\" xlink:href=\"#DejaVuSans-114\"/>\n      <use x=\"369.136719\" xlink:href=\"#DejaVuSans-97\"/>\n      <use x=\"430.416016\" xlink:href=\"#DejaVuSans-110\"/>\n      <use x=\"493.794922\" xlink:href=\"#DejaVuSans-100\"/>\n      <use x=\"557.271484\" xlink:href=\"#DejaVuSans-111\"/>\n      <use x=\"618.453125\" xlink:href=\"#DejaVuSans-109\"/>\n      <use x=\"715.865234\" xlink:href=\"#DejaVuSans-32\"/>\n      <use x=\"747.652344\" xlink:href=\"#DejaVuSans-105\"/>\n      <use x=\"775.435547\" xlink:href=\"#DejaVuSans-109\"/>\n      <use x=\"872.847656\" xlink:href=\"#DejaVuSans-112\"/>\n      <use x=\"936.324219\" xlink:href=\"#DejaVuSans-111\"/>\n      <use x=\"997.505859\" xlink:href=\"#DejaVuSans-114\"/>\n      <use x=\"1038.619141\" xlink:href=\"#DejaVuSans-116\"/>\n      <use x=\"1077.828125\" xlink:href=\"#DejaVuSans-32\"/>\n      <use x=\"1109.615234\" xlink:href=\"#DejaVuSans-114\"/>\n      <use x=\"1150.728516\" xlink:href=\"#DejaVuSans-97\"/>\n      <use x=\"1212.007812\" xlink:href=\"#DejaVuSans-110\"/>\n      <use x=\"1275.386719\" xlink:href=\"#DejaVuSans-100\"/>\n      <use x=\"1338.863281\" xlink:href=\"#DejaVuSans-111\"/>\n      <use x=\"1400.044922\" xlink:href=\"#DejaVuSans-109\"/>\n     </g>\n    </g>\n   </g>\n   <g id=\"text_18\">\n    <g clip-path=\"url(#p311da29457)\">\n     <!--   def estimate_pi(n = 10000000): -->\n     <defs>\n      <path d=\"M 44.28125 53.078125 \nL 44.28125 44.578125 \nQ 40.484375 46.53125 36.375 47.5 \nQ 32.28125 48.484375 27.875 48.484375 \nQ 21.1875 48.484375 17.84375 46.4375 \nQ 14.5 44.390625 14.5 40.28125 \nQ 14.5 37.15625 16.890625 35.375 \nQ 19.28125 33.59375 26.515625 31.984375 \nL 29.59375 31.296875 \nQ 39.15625 29.25 43.1875 25.515625 \nQ 47.21875 21.78125 47.21875 15.09375 \nQ 47.21875 7.46875 41.1875 3.015625 \nQ 35.15625 -1.421875 24.609375 -1.421875 \nQ 20.21875 -1.421875 15.453125 -0.5625 \nQ 10.6875 0.296875 5.421875 2 \nL 5.421875 11.28125 \nQ 10.40625 8.6875 15.234375 7.390625 \nQ 20.0625 6.109375 24.8125 6.109375 \nQ 31.15625 6.109375 34.5625 8.28125 \nQ 37.984375 10.453125 37.984375 14.40625 \nQ 37.984375 18.0625 35.515625 20.015625 \nQ 33.0625 21.96875 24.703125 23.78125 \nL 21.578125 24.515625 \nQ 13.234375 26.265625 9.515625 29.90625 \nQ 5.8125 33.546875 5.8125 39.890625 \nQ 5.8125 47.609375 11.28125 51.796875 \nQ 16.75 56 26.8125 56 \nQ 31.78125 56 36.171875 55.265625 \nQ 40.578125 54.546875 44.28125 53.078125 \nz\n\" id=\"DejaVuSans-115\"/>\n      <path d=\"M 50.984375 -16.609375 \nL 50.984375 -23.578125 \nL -0.984375 -23.578125 \nL -0.984375 -16.609375 \nz\n\" id=\"DejaVuSans-95\"/>\n      <path d=\"M 31 75.875 \nQ 24.46875 64.65625 21.28125 53.65625 \nQ 18.109375 42.671875 18.109375 31.390625 \nQ 18.109375 20.125 21.3125 9.0625 \nQ 24.515625 -2 31 -13.1875 \nL 23.1875 -13.1875 \nQ 15.875 -1.703125 12.234375 9.375 \nQ 8.59375 20.453125 8.59375 31.390625 \nQ 8.59375 42.28125 12.203125 53.3125 \nQ 15.828125 64.359375 23.1875 75.875 \nz\n\" id=\"DejaVuSans-40\"/>\n      <path d=\"M 10.59375 45.40625 \nL 73.1875 45.40625 \nL 73.1875 37.203125 \nL 10.59375 37.203125 \nz\nM 10.59375 25.484375 \nL 73.1875 25.484375 \nL 73.1875 17.1875 \nL 10.59375 17.1875 \nz\n\" id=\"DejaVuSans-61\"/>\n      <path d=\"M 8.015625 75.875 \nL 15.828125 75.875 \nQ 23.140625 64.359375 26.78125 53.3125 \nQ 30.421875 42.28125 30.421875 31.390625 \nQ 30.421875 20.453125 26.78125 9.375 \nQ 23.140625 -1.703125 15.828125 -13.1875 \nL 8.015625 -13.1875 \nQ 14.5 -2 17.703125 9.0625 \nQ 20.90625 20.125 20.90625 31.390625 \nQ 20.90625 42.671875 17.703125 53.65625 \nQ 14.5 64.65625 8.015625 75.875 \nz\n\" id=\"DejaVuSans-41\"/>\n      <path d=\"M 11.71875 12.40625 \nL 22.015625 12.40625 \nL 22.015625 0 \nL 11.71875 0 \nz\nM 11.71875 51.703125 \nL 22.015625 51.703125 \nL 22.015625 39.3125 \nL 11.71875 39.3125 \nz\n\" id=\"DejaVuSans-58\"/>\n     </defs>\n     <g transform=\"translate(40.603125 34.300312)scale(0.1 -0.1)\">\n      <use xlink:href=\"#DejaVuSans-32\"/>\n      <use x=\"31.787109\" xlink:href=\"#DejaVuSans-32\"/>\n      <use x=\"63.574219\" xlink:href=\"#DejaVuSans-100\"/>\n      <use x=\"127.050781\" xlink:href=\"#DejaVuSans-101\"/>\n      <use x=\"188.574219\" xlink:href=\"#DejaVuSans-102\"/>\n      <use x=\"223.779297\" xlink:href=\"#DejaVuSans-32\"/>\n      <use x=\"255.566406\" xlink:href=\"#DejaVuSans-101\"/>\n      <use x=\"317.089844\" xlink:href=\"#DejaVuSans-115\"/>\n      <use x=\"369.189453\" xlink:href=\"#DejaVuSans-116\"/>\n      <use x=\"408.398438\" xlink:href=\"#DejaVuSans-105\"/>\n      <use x=\"436.181641\" xlink:href=\"#DejaVuSans-109\"/>\n      <use x=\"533.59375\" xlink:href=\"#DejaVuSans-97\"/>\n      <use x=\"594.873047\" xlink:href=\"#DejaVuSans-116\"/>\n      <use x=\"634.082031\" xlink:href=\"#DejaVuSans-101\"/>\n      <use x=\"695.605469\" xlink:href=\"#DejaVuSans-95\"/>\n      <use x=\"745.605469\" xlink:href=\"#DejaVuSans-112\"/>\n      <use x=\"809.082031\" xlink:href=\"#DejaVuSans-105\"/>\n      <use x=\"836.865234\" xlink:href=\"#DejaVuSans-40\"/>\n      <use x=\"875.878906\" xlink:href=\"#DejaVuSans-110\"/>\n      <use x=\"939.257812\" xlink:href=\"#DejaVuSans-32\"/>\n      <use x=\"971.044922\" xlink:href=\"#DejaVuSans-61\"/>\n      <use x=\"1054.833984\" xlink:href=\"#DejaVuSans-32\"/>\n      <use x=\"1086.621094\" xlink:href=\"#DejaVuSans-49\"/>\n      <use x=\"1150.244141\" xlink:href=\"#DejaVuSans-48\"/>\n      <use x=\"1213.867188\" xlink:href=\"#DejaVuSans-48\"/>\n      <use x=\"1277.490234\" xlink:href=\"#DejaVuSans-48\"/>\n      <use x=\"1341.113281\" xlink:href=\"#DejaVuSans-48\"/>\n      <use x=\"1404.736328\" xlink:href=\"#DejaVuSans-48\"/>\n      <use x=\"1468.359375\" xlink:href=\"#DejaVuSans-48\"/>\n      <use x=\"1531.982422\" xlink:href=\"#DejaVuSans-48\"/>\n      <use x=\"1595.605469\" xlink:href=\"#DejaVuSans-41\"/>\n      <use x=\"1634.619141\" xlink:href=\"#DejaVuSans-58\"/>\n     </g>\n    </g>\n   </g>\n   <g id=\"text_19\">\n    <g clip-path=\"url(#p311da29457)\">\n     <!--       in_circle = 0 -->\n     <defs>\n      <path d=\"M 48.78125 52.59375 \nL 48.78125 44.1875 \nQ 44.96875 46.296875 41.140625 47.34375 \nQ 37.3125 48.390625 33.40625 48.390625 \nQ 24.65625 48.390625 19.8125 42.84375 \nQ 14.984375 37.3125 14.984375 27.296875 \nQ 14.984375 17.28125 19.8125 11.734375 \nQ 24.65625 6.203125 33.40625 6.203125 \nQ 37.3125 6.203125 41.140625 7.25 \nQ 44.96875 8.296875 48.78125 10.40625 \nL 48.78125 2.09375 \nQ 45.015625 0.34375 40.984375 -0.53125 \nQ 36.96875 -1.421875 32.421875 -1.421875 \nQ 20.0625 -1.421875 12.78125 6.34375 \nQ 5.515625 14.109375 5.515625 27.296875 \nQ 5.515625 40.671875 12.859375 48.328125 \nQ 20.21875 56 33.015625 56 \nQ 37.15625 56 41.109375 55.140625 \nQ 45.0625 54.296875 48.78125 52.59375 \nz\n\" id=\"DejaVuSans-99\"/>\n      <path d=\"M 9.421875 75.984375 \nL 18.40625 75.984375 \nL 18.40625 0 \nL 9.421875 0 \nz\n\" id=\"DejaVuSans-108\"/>\n     </defs>\n     <g transform=\"translate(40.603125 50.620313)scale(0.1 -0.1)\">\n      <use xlink:href=\"#DejaVuSans-32\"/>\n      <use x=\"31.787109\" xlink:href=\"#DejaVuSans-32\"/>\n      <use x=\"63.574219\" xlink:href=\"#DejaVuSans-32\"/>\n      <use x=\"95.361328\" xlink:href=\"#DejaVuSans-32\"/>\n      <use x=\"127.148438\" xlink:href=\"#DejaVuSans-32\"/>\n      <use x=\"158.935547\" xlink:href=\"#DejaVuSans-32\"/>\n      <use x=\"190.722656\" xlink:href=\"#DejaVuSans-105\"/>\n      <use x=\"218.505859\" xlink:href=\"#DejaVuSans-110\"/>\n      <use x=\"281.884766\" xlink:href=\"#DejaVuSans-95\"/>\n      <use x=\"331.884766\" xlink:href=\"#DejaVuSans-99\"/>\n      <use x=\"386.865234\" xlink:href=\"#DejaVuSans-105\"/>\n      <use x=\"414.648438\" xlink:href=\"#DejaVuSans-114\"/>\n      <use x=\"453.511719\" xlink:href=\"#DejaVuSans-99\"/>\n      <use x=\"508.492188\" xlink:href=\"#DejaVuSans-108\"/>\n      <use x=\"536.275391\" xlink:href=\"#DejaVuSans-101\"/>\n      <use x=\"597.798828\" xlink:href=\"#DejaVuSans-32\"/>\n      <use x=\"629.585938\" xlink:href=\"#DejaVuSans-61\"/>\n      <use x=\"713.375\" xlink:href=\"#DejaVuSans-32\"/>\n      <use x=\"745.162109\" xlink:href=\"#DejaVuSans-48\"/>\n     </g>\n    </g>\n   </g>\n   <g id=\"text_20\">\n    <g clip-path=\"url(#p311da29457)\">\n     <!--       total = n -->\n     <g transform=\"translate(40.603125 67.079375)scale(0.1 -0.1)\">\n      <use xlink:href=\"#DejaVuSans-32\"/>\n      <use x=\"31.787109\" xlink:href=\"#DejaVuSans-32\"/>\n      <use x=\"63.574219\" xlink:href=\"#DejaVuSans-32\"/>\n      <use x=\"95.361328\" xlink:href=\"#DejaVuSans-32\"/>\n      <use x=\"127.148438\" xlink:href=\"#DejaVuSans-32\"/>\n      <use x=\"158.935547\" xlink:href=\"#DejaVuSans-32\"/>\n      <use x=\"190.722656\" xlink:href=\"#DejaVuSans-116\"/>\n      <use x=\"229.931641\" xlink:href=\"#DejaVuSans-111\"/>\n      <use x=\"291.113281\" xlink:href=\"#DejaVuSans-116\"/>\n      <use x=\"330.322266\" xlink:href=\"#DejaVuSans-97\"/>\n      <use x=\"391.601562\" xlink:href=\"#DejaVuSans-108\"/>\n      <use x=\"419.384766\" xlink:href=\"#DejaVuSans-32\"/>\n      <use x=\"451.171875\" xlink:href=\"#DejaVuSans-61\"/>\n      <use x=\"534.960938\" xlink:href=\"#DejaVuSans-32\"/>\n      <use x=\"566.748047\" xlink:href=\"#DejaVuSans-110\"/>\n     </g>\n    </g>\n   </g>\n   <g id=\"text_21\">\n    <g clip-path=\"url(#p311da29457)\">\n     <!--        -->\n     <g transform=\"translate(40.603125 83.399375)scale(0.1 -0.1)\">\n      <use xlink:href=\"#DejaVuSans-32\"/>\n      <use x=\"31.787109\" xlink:href=\"#DejaVuSans-32\"/>\n      <use x=\"63.574219\" xlink:href=\"#DejaVuSans-32\"/>\n      <use x=\"95.361328\" xlink:href=\"#DejaVuSans-32\"/>\n      <use x=\"127.148438\" xlink:href=\"#DejaVuSans-32\"/>\n      <use x=\"158.935547\" xlink:href=\"#DejaVuSans-32\"/>\n     </g>\n    </g>\n   </g>\n   <g id=\"text_22\">\n    <g clip-path=\"url(#p311da29457)\">\n     <!--       while n != 0: -->\n     <defs>\n      <path d=\"M 4.203125 54.6875 \nL 13.1875 54.6875 \nL 24.421875 12.015625 \nL 35.59375 54.6875 \nL 46.1875 54.6875 \nL 57.421875 12.015625 \nL 68.609375 54.6875 \nL 77.59375 54.6875 \nL 63.28125 0 \nL 52.6875 0 \nL 40.921875 44.828125 \nL 29.109375 0 \nL 18.5 0 \nz\n\" id=\"DejaVuSans-119\"/>\n      <path d=\"M 54.890625 33.015625 \nL 54.890625 0 \nL 45.90625 0 \nL 45.90625 32.71875 \nQ 45.90625 40.484375 42.875 44.328125 \nQ 39.84375 48.1875 33.796875 48.1875 \nQ 26.515625 48.1875 22.3125 43.546875 \nQ 18.109375 38.921875 18.109375 30.90625 \nL 18.109375 0 \nL 9.078125 0 \nL 9.078125 75.984375 \nL 18.109375 75.984375 \nL 18.109375 46.1875 \nQ 21.34375 51.125 25.703125 53.5625 \nQ 30.078125 56 35.796875 56 \nQ 45.21875 56 50.046875 50.171875 \nQ 54.890625 44.34375 54.890625 33.015625 \nz\n\" id=\"DejaVuSans-104\"/>\n      <path d=\"M 15.09375 12.40625 \nL 25 12.40625 \nL 25 0 \nL 15.09375 0 \nz\nM 15.09375 72.90625 \nL 25 72.90625 \nL 25 40.921875 \nL 24.03125 23.484375 \nL 16.109375 23.484375 \nL 15.09375 40.921875 \nz\n\" id=\"DejaVuSans-33\"/>\n     </defs>\n     <g style=\"fill:#ffffff;\" transform=\"translate(40.603125 99.719375)scale(0.1 -0.1)\">\n      <use xlink:href=\"#DejaVuSans-32\"/>\n      <use x=\"31.787109\" xlink:href=\"#DejaVuSans-32\"/>\n      <use x=\"63.574219\" xlink:href=\"#DejaVuSans-32\"/>\n      <use x=\"95.361328\" xlink:href=\"#DejaVuSans-32\"/>\n      <use x=\"127.148438\" xlink:href=\"#DejaVuSans-32\"/>\n      <use x=\"158.935547\" xlink:href=\"#DejaVuSans-32\"/>\n      <use x=\"190.722656\" xlink:href=\"#DejaVuSans-119\"/>\n      <use x=\"272.509766\" xlink:href=\"#DejaVuSans-104\"/>\n      <use x=\"335.888672\" xlink:href=\"#DejaVuSans-105\"/>\n      <use x=\"363.671875\" xlink:href=\"#DejaVuSans-108\"/>\n      <use x=\"391.455078\" xlink:href=\"#DejaVuSans-101\"/>\n      <use x=\"452.978516\" xlink:href=\"#DejaVuSans-32\"/>\n      <use x=\"484.765625\" xlink:href=\"#DejaVuSans-110\"/>\n      <use x=\"548.144531\" xlink:href=\"#DejaVuSans-32\"/>\n      <use x=\"579.931641\" xlink:href=\"#DejaVuSans-33\"/>\n      <use x=\"620.019531\" xlink:href=\"#DejaVuSans-61\"/>\n      <use x=\"703.808594\" xlink:href=\"#DejaVuSans-32\"/>\n      <use x=\"735.595703\" xlink:href=\"#DejaVuSans-48\"/>\n      <use x=\"799.21875\" xlink:href=\"#DejaVuSans-58\"/>\n     </g>\n    </g>\n   </g>\n   <g id=\"text_23\">\n    <g clip-path=\"url(#p311da29457)\">\n     <!--           prec_x = random() -->\n     <defs>\n      <path d=\"M 54.890625 54.6875 \nL 35.109375 28.078125 \nL 55.90625 0 \nL 45.3125 0 \nL 29.390625 21.484375 \nL 13.484375 0 \nL 2.875 0 \nL 24.125 28.609375 \nL 4.6875 54.6875 \nL 15.28125 54.6875 \nL 29.78125 35.203125 \nL 44.28125 54.6875 \nz\n\" id=\"DejaVuSans-120\"/>\n     </defs>\n     <g style=\"fill:#ffffff;\" transform=\"translate(40.603125 115.900312)scale(0.1 -0.1)\">\n      <use xlink:href=\"#DejaVuSans-32\"/>\n      <use x=\"31.787109\" xlink:href=\"#DejaVuSans-32\"/>\n      <use x=\"63.574219\" xlink:href=\"#DejaVuSans-32\"/>\n      <use x=\"95.361328\" xlink:href=\"#DejaVuSans-32\"/>\n      <use x=\"127.148438\" xlink:href=\"#DejaVuSans-32\"/>\n      <use x=\"158.935547\" xlink:href=\"#DejaVuSans-32\"/>\n      <use x=\"190.722656\" xlink:href=\"#DejaVuSans-32\"/>\n      <use x=\"222.509766\" xlink:href=\"#DejaVuSans-32\"/>\n      <use x=\"254.296875\" xlink:href=\"#DejaVuSans-32\"/>\n      <use x=\"286.083984\" xlink:href=\"#DejaVuSans-32\"/>\n      <use x=\"317.871094\" xlink:href=\"#DejaVuSans-112\"/>\n      <use x=\"381.347656\" xlink:href=\"#DejaVuSans-114\"/>\n      <use x=\"420.210938\" xlink:href=\"#DejaVuSans-101\"/>\n      <use x=\"481.734375\" xlink:href=\"#DejaVuSans-99\"/>\n      <use x=\"536.714844\" xlink:href=\"#DejaVuSans-95\"/>\n      <use x=\"586.714844\" xlink:href=\"#DejaVuSans-120\"/>\n      <use x=\"645.894531\" xlink:href=\"#DejaVuSans-32\"/>\n      <use x=\"677.681641\" xlink:href=\"#DejaVuSans-61\"/>\n      <use x=\"761.470703\" xlink:href=\"#DejaVuSans-32\"/>\n      <use x=\"793.257812\" xlink:href=\"#DejaVuSans-114\"/>\n      <use x=\"834.371094\" xlink:href=\"#DejaVuSans-97\"/>\n      <use x=\"895.650391\" xlink:href=\"#DejaVuSans-110\"/>\n      <use x=\"959.029297\" xlink:href=\"#DejaVuSans-100\"/>\n      <use x=\"1022.505859\" xlink:href=\"#DejaVuSans-111\"/>\n      <use x=\"1083.6875\" xlink:href=\"#DejaVuSans-109\"/>\n      <use x=\"1181.099609\" xlink:href=\"#DejaVuSans-40\"/>\n      <use x=\"1220.113281\" xlink:href=\"#DejaVuSans-41\"/>\n     </g>\n    </g>\n   </g>\n   <g id=\"text_24\">\n    <g clip-path=\"url(#p311da29457)\">\n     <!--           prec_y = random() -->\n     <defs>\n      <path d=\"M 32.171875 -5.078125 \nQ 28.375 -14.84375 24.75 -17.8125 \nQ 21.140625 -20.796875 15.09375 -20.796875 \nL 7.90625 -20.796875 \nL 7.90625 -13.28125 \nL 13.1875 -13.28125 \nQ 16.890625 -13.28125 18.9375 -11.515625 \nQ 21 -9.765625 23.484375 -3.21875 \nL 25.09375 0.875 \nL 2.984375 54.6875 \nL 12.5 54.6875 \nL 29.59375 11.921875 \nL 46.6875 54.6875 \nL 56.203125 54.6875 \nz\n\" id=\"DejaVuSans-121\"/>\n     </defs>\n     <g style=\"fill:#ffffff;\" transform=\"translate(40.603125 132.220313)scale(0.1 -0.1)\">\n      <use xlink:href=\"#DejaVuSans-32\"/>\n      <use x=\"31.787109\" xlink:href=\"#DejaVuSans-32\"/>\n      <use x=\"63.574219\" xlink:href=\"#DejaVuSans-32\"/>\n      <use x=\"95.361328\" xlink:href=\"#DejaVuSans-32\"/>\n      <use x=\"127.148438\" xlink:href=\"#DejaVuSans-32\"/>\n      <use x=\"158.935547\" xlink:href=\"#DejaVuSans-32\"/>\n      <use x=\"190.722656\" xlink:href=\"#DejaVuSans-32\"/>\n      <use x=\"222.509766\" xlink:href=\"#DejaVuSans-32\"/>\n      <use x=\"254.296875\" xlink:href=\"#DejaVuSans-32\"/>\n      <use x=\"286.083984\" xlink:href=\"#DejaVuSans-32\"/>\n      <use x=\"317.871094\" xlink:href=\"#DejaVuSans-112\"/>\n      <use x=\"381.347656\" xlink:href=\"#DejaVuSans-114\"/>\n      <use x=\"420.210938\" xlink:href=\"#DejaVuSans-101\"/>\n      <use x=\"481.734375\" xlink:href=\"#DejaVuSans-99\"/>\n      <use x=\"536.714844\" xlink:href=\"#DejaVuSans-95\"/>\n      <use x=\"586.714844\" xlink:href=\"#DejaVuSans-121\"/>\n      <use x=\"645.894531\" xlink:href=\"#DejaVuSans-32\"/>\n      <use x=\"677.681641\" xlink:href=\"#DejaVuSans-61\"/>\n      <use x=\"761.470703\" xlink:href=\"#DejaVuSans-32\"/>\n      <use x=\"793.257812\" xlink:href=\"#DejaVuSans-114\"/>\n      <use x=\"834.371094\" xlink:href=\"#DejaVuSans-97\"/>\n      <use x=\"895.650391\" xlink:href=\"#DejaVuSans-110\"/>\n      <use x=\"959.029297\" xlink:href=\"#DejaVuSans-100\"/>\n      <use x=\"1022.505859\" xlink:href=\"#DejaVuSans-111\"/>\n      <use x=\"1083.6875\" xlink:href=\"#DejaVuSans-109\"/>\n      <use x=\"1181.099609\" xlink:href=\"#DejaVuSans-40\"/>\n      <use x=\"1220.113281\" xlink:href=\"#DejaVuSans-41\"/>\n     </g>\n    </g>\n   </g>\n   <g id=\"text_25\">\n    <g clip-path=\"url(#p311da29457)\">\n     <!--           if pow(prec_x, 2) + pow(prec_y, 2) &lt;= 1: # circle equation: x^2+y^2=r^2 -->\n     <defs>\n      <path d=\"M 11.71875 12.40625 \nL 22.015625 12.40625 \nL 22.015625 4 \nL 14.015625 -11.625 \nL 7.71875 -11.625 \nL 11.71875 4 \nz\n\" id=\"DejaVuSans-44\"/>\n      <path d=\"M 46 62.703125 \nL 46 35.5 \nL 73.1875 35.5 \nL 73.1875 27.203125 \nL 46 27.203125 \nL 46 0 \nL 37.796875 0 \nL 37.796875 27.203125 \nL 10.59375 27.203125 \nL 10.59375 35.5 \nL 37.796875 35.5 \nL 37.796875 62.703125 \nz\n\" id=\"DejaVuSans-43\"/>\n      <path d=\"M 73.1875 49.21875 \nL 22.796875 31.296875 \nL 73.1875 13.484375 \nL 73.1875 4.59375 \nL 10.59375 27.296875 \nL 10.59375 35.40625 \nL 73.1875 58.109375 \nz\n\" id=\"DejaVuSans-60\"/>\n      <path d=\"M 51.125 44 \nL 36.921875 44 \nL 32.8125 27.6875 \nL 47.125 27.6875 \nz\nM 43.796875 71.78125 \nL 38.71875 51.515625 \nL 52.984375 51.515625 \nL 58.109375 71.78125 \nL 65.921875 71.78125 \nL 60.890625 51.515625 \nL 76.125 51.515625 \nL 76.125 44 \nL 58.984375 44 \nL 54.984375 27.6875 \nL 70.515625 27.6875 \nL 70.515625 20.21875 \nL 53.078125 20.21875 \nL 48 0 \nL 40.1875 0 \nL 45.21875 20.21875 \nL 30.90625 20.21875 \nL 25.875 0 \nL 18.015625 0 \nL 23.09375 20.21875 \nL 7.71875 20.21875 \nL 7.71875 27.6875 \nL 24.90625 27.6875 \nL 29 44 \nL 13.28125 44 \nL 13.28125 51.515625 \nL 30.90625 51.515625 \nL 35.890625 71.78125 \nz\n\" id=\"DejaVuSans-35\"/>\n      <path d=\"M 14.796875 27.296875 \nQ 14.796875 17.390625 18.875 11.75 \nQ 22.953125 6.109375 30.078125 6.109375 \nQ 37.203125 6.109375 41.296875 11.75 \nQ 45.40625 17.390625 45.40625 27.296875 \nQ 45.40625 37.203125 41.296875 42.84375 \nQ 37.203125 48.484375 30.078125 48.484375 \nQ 22.953125 48.484375 18.875 42.84375 \nQ 14.796875 37.203125 14.796875 27.296875 \nz\nM 45.40625 8.203125 \nQ 42.578125 3.328125 38.25 0.953125 \nQ 33.9375 -1.421875 27.875 -1.421875 \nQ 17.96875 -1.421875 11.734375 6.484375 \nQ 5.515625 14.40625 5.515625 27.296875 \nQ 5.515625 40.1875 11.734375 48.09375 \nQ 17.96875 56 27.875 56 \nQ 33.9375 56 38.25 53.625 \nQ 42.578125 51.265625 45.40625 46.390625 \nL 45.40625 54.6875 \nL 54.390625 54.6875 \nL 54.390625 -20.796875 \nL 45.40625 -20.796875 \nz\n\" id=\"DejaVuSans-113\"/>\n      <path d=\"M 46.6875 72.90625 \nL 73.1875 45.703125 \nL 63.375 45.703125 \nL 41.890625 64.984375 \nL 20.40625 45.703125 \nL 10.59375 45.703125 \nL 37.109375 72.90625 \nz\n\" id=\"DejaVuSans-94\"/>\n     </defs>\n     <g style=\"fill:#ffffff;\" transform=\"translate(40.603125 148.540312)scale(0.1 -0.1)\">\n      <use xlink:href=\"#DejaVuSans-32\"/>\n      <use x=\"31.787109\" xlink:href=\"#DejaVuSans-32\"/>\n      <use x=\"63.574219\" xlink:href=\"#DejaVuSans-32\"/>\n      <use x=\"95.361328\" xlink:href=\"#DejaVuSans-32\"/>\n      <use x=\"127.148438\" xlink:href=\"#DejaVuSans-32\"/>\n      <use x=\"158.935547\" xlink:href=\"#DejaVuSans-32\"/>\n      <use x=\"190.722656\" xlink:href=\"#DejaVuSans-32\"/>\n      <use x=\"222.509766\" xlink:href=\"#DejaVuSans-32\"/>\n      <use x=\"254.296875\" xlink:href=\"#DejaVuSans-32\"/>\n      <use x=\"286.083984\" xlink:href=\"#DejaVuSans-32\"/>\n      <use x=\"317.871094\" xlink:href=\"#DejaVuSans-105\"/>\n      <use x=\"345.654297\" xlink:href=\"#DejaVuSans-102\"/>\n      <use x=\"380.859375\" xlink:href=\"#DejaVuSans-32\"/>\n      <use x=\"412.646484\" xlink:href=\"#DejaVuSans-112\"/>\n      <use x=\"476.123047\" xlink:href=\"#DejaVuSans-111\"/>\n      <use x=\"537.304688\" xlink:href=\"#DejaVuSans-119\"/>\n      <use x=\"619.091797\" xlink:href=\"#DejaVuSans-40\"/>\n      <use x=\"658.105469\" xlink:href=\"#DejaVuSans-112\"/>\n      <use x=\"721.582031\" xlink:href=\"#DejaVuSans-114\"/>\n      <use x=\"760.445312\" xlink:href=\"#DejaVuSans-101\"/>\n      <use x=\"821.96875\" xlink:href=\"#DejaVuSans-99\"/>\n      <use x=\"876.949219\" xlink:href=\"#DejaVuSans-95\"/>\n      <use x=\"926.949219\" xlink:href=\"#DejaVuSans-120\"/>\n      <use x=\"986.128906\" xlink:href=\"#DejaVuSans-44\"/>\n      <use x=\"1017.916016\" xlink:href=\"#DejaVuSans-32\"/>\n      <use x=\"1049.703125\" xlink:href=\"#DejaVuSans-50\"/>\n      <use x=\"1113.326172\" xlink:href=\"#DejaVuSans-41\"/>\n      <use x=\"1152.339844\" xlink:href=\"#DejaVuSans-32\"/>\n      <use x=\"1184.126953\" xlink:href=\"#DejaVuSans-43\"/>\n      <use x=\"1267.916016\" xlink:href=\"#DejaVuSans-32\"/>\n      <use x=\"1299.703125\" xlink:href=\"#DejaVuSans-112\"/>\n      <use x=\"1363.179688\" xlink:href=\"#DejaVuSans-111\"/>\n      <use x=\"1424.361328\" xlink:href=\"#DejaVuSans-119\"/>\n      <use x=\"1506.148438\" xlink:href=\"#DejaVuSans-40\"/>\n      <use x=\"1545.162109\" xlink:href=\"#DejaVuSans-112\"/>\n      <use x=\"1608.638672\" xlink:href=\"#DejaVuSans-114\"/>\n      <use x=\"1647.501953\" xlink:href=\"#DejaVuSans-101\"/>\n      <use x=\"1709.025391\" xlink:href=\"#DejaVuSans-99\"/>\n      <use x=\"1764.005859\" xlink:href=\"#DejaVuSans-95\"/>\n      <use x=\"1814.005859\" xlink:href=\"#DejaVuSans-121\"/>\n      <use x=\"1873.185547\" xlink:href=\"#DejaVuSans-44\"/>\n      <use x=\"1904.972656\" xlink:href=\"#DejaVuSans-32\"/>\n      <use x=\"1936.759766\" xlink:href=\"#DejaVuSans-50\"/>\n      <use x=\"2000.382812\" xlink:href=\"#DejaVuSans-41\"/>\n      <use x=\"2039.396484\" xlink:href=\"#DejaVuSans-32\"/>\n      <use x=\"2071.183594\" xlink:href=\"#DejaVuSans-60\"/>\n      <use x=\"2154.972656\" xlink:href=\"#DejaVuSans-61\"/>\n      <use x=\"2238.761719\" xlink:href=\"#DejaVuSans-32\"/>\n      <use x=\"2270.548828\" xlink:href=\"#DejaVuSans-49\"/>\n      <use x=\"2334.171875\" xlink:href=\"#DejaVuSans-58\"/>\n      <use x=\"2367.863281\" xlink:href=\"#DejaVuSans-32\"/>\n      <use x=\"2399.650391\" xlink:href=\"#DejaVuSans-35\"/>\n      <use x=\"2483.439453\" xlink:href=\"#DejaVuSans-32\"/>\n      <use x=\"2515.226562\" xlink:href=\"#DejaVuSans-99\"/>\n      <use x=\"2570.207031\" xlink:href=\"#DejaVuSans-105\"/>\n      <use x=\"2597.990234\" xlink:href=\"#DejaVuSans-114\"/>\n      <use x=\"2636.853516\" xlink:href=\"#DejaVuSans-99\"/>\n      <use x=\"2691.833984\" xlink:href=\"#DejaVuSans-108\"/>\n      <use x=\"2719.617188\" xlink:href=\"#DejaVuSans-101\"/>\n      <use x=\"2781.140625\" xlink:href=\"#DejaVuSans-32\"/>\n      <use x=\"2812.927734\" xlink:href=\"#DejaVuSans-101\"/>\n      <use x=\"2874.451172\" xlink:href=\"#DejaVuSans-113\"/>\n      <use x=\"2937.927734\" xlink:href=\"#DejaVuSans-117\"/>\n      <use x=\"3001.306641\" xlink:href=\"#DejaVuSans-97\"/>\n      <use x=\"3062.585938\" xlink:href=\"#DejaVuSans-116\"/>\n      <use x=\"3101.794922\" xlink:href=\"#DejaVuSans-105\"/>\n      <use x=\"3129.578125\" xlink:href=\"#DejaVuSans-111\"/>\n      <use x=\"3190.759766\" xlink:href=\"#DejaVuSans-110\"/>\n      <use x=\"3254.138672\" xlink:href=\"#DejaVuSans-58\"/>\n      <use x=\"3287.830078\" xlink:href=\"#DejaVuSans-32\"/>\n      <use x=\"3319.617188\" xlink:href=\"#DejaVuSans-120\"/>\n      <use x=\"3378.796875\" xlink:href=\"#DejaVuSans-94\"/>\n      <use x=\"3462.585938\" xlink:href=\"#DejaVuSans-50\"/>\n      <use x=\"3526.208984\" xlink:href=\"#DejaVuSans-43\"/>\n      <use x=\"3609.998047\" xlink:href=\"#DejaVuSans-121\"/>\n      <use x=\"3669.177734\" xlink:href=\"#DejaVuSans-94\"/>\n      <use x=\"3752.966797\" xlink:href=\"#DejaVuSans-50\"/>\n      <use x=\"3816.589844\" xlink:href=\"#DejaVuSans-61\"/>\n      <use x=\"3900.378906\" xlink:href=\"#DejaVuSans-114\"/>\n      <use x=\"3941.492188\" xlink:href=\"#DejaVuSans-94\"/>\n      <use x=\"4025.28125\" xlink:href=\"#DejaVuSans-50\"/>\n     </g>\n    </g>\n   </g>\n   <g id=\"text_26\">\n    <g clip-path=\"url(#p311da29457)\">\n     <!--               in_circle += 1 # inside the circle -->\n     <g transform=\"translate(40.603125 164.860312)scale(0.1 -0.1)\">\n      <use xlink:href=\"#DejaVuSans-32\"/>\n      <use x=\"31.787109\" xlink:href=\"#DejaVuSans-32\"/>\n      <use x=\"63.574219\" xlink:href=\"#DejaVuSans-32\"/>\n      <use x=\"95.361328\" xlink:href=\"#DejaVuSans-32\"/>\n      <use x=\"127.148438\" xlink:href=\"#DejaVuSans-32\"/>\n      <use x=\"158.935547\" xlink:href=\"#DejaVuSans-32\"/>\n      <use x=\"190.722656\" xlink:href=\"#DejaVuSans-32\"/>\n      <use x=\"222.509766\" xlink:href=\"#DejaVuSans-32\"/>\n      <use x=\"254.296875\" xlink:href=\"#DejaVuSans-32\"/>\n      <use x=\"286.083984\" xlink:href=\"#DejaVuSans-32\"/>\n      <use x=\"317.871094\" xlink:href=\"#DejaVuSans-32\"/>\n      <use x=\"349.658203\" xlink:href=\"#DejaVuSans-32\"/>\n      <use x=\"381.445312\" xlink:href=\"#DejaVuSans-32\"/>\n      <use x=\"413.232422\" xlink:href=\"#DejaVuSans-32\"/>\n      <use x=\"445.019531\" xlink:href=\"#DejaVuSans-105\"/>\n      <use x=\"472.802734\" xlink:href=\"#DejaVuSans-110\"/>\n      <use x=\"536.181641\" xlink:href=\"#DejaVuSans-95\"/>\n      <use x=\"586.181641\" xlink:href=\"#DejaVuSans-99\"/>\n      <use x=\"641.162109\" xlink:href=\"#DejaVuSans-105\"/>\n      <use x=\"668.945312\" xlink:href=\"#DejaVuSans-114\"/>\n      <use x=\"707.808594\" xlink:href=\"#DejaVuSans-99\"/>\n      <use x=\"762.789062\" xlink:href=\"#DejaVuSans-108\"/>\n      <use x=\"790.572266\" xlink:href=\"#DejaVuSans-101\"/>\n      <use x=\"852.095703\" xlink:href=\"#DejaVuSans-32\"/>\n      <use x=\"883.882812\" xlink:href=\"#DejaVuSans-43\"/>\n      <use x=\"967.671875\" xlink:href=\"#DejaVuSans-61\"/>\n      <use x=\"1051.460938\" xlink:href=\"#DejaVuSans-32\"/>\n      <use x=\"1083.248047\" xlink:href=\"#DejaVuSans-49\"/>\n      <use x=\"1146.871094\" xlink:href=\"#DejaVuSans-32\"/>\n      <use x=\"1178.658203\" xlink:href=\"#DejaVuSans-35\"/>\n      <use x=\"1262.447266\" xlink:href=\"#DejaVuSans-32\"/>\n      <use x=\"1294.234375\" xlink:href=\"#DejaVuSans-105\"/>\n      <use x=\"1322.017578\" xlink:href=\"#DejaVuSans-110\"/>\n      <use x=\"1385.396484\" xlink:href=\"#DejaVuSans-115\"/>\n      <use x=\"1437.496094\" xlink:href=\"#DejaVuSans-105\"/>\n      <use x=\"1465.279297\" xlink:href=\"#DejaVuSans-100\"/>\n      <use x=\"1528.755859\" xlink:href=\"#DejaVuSans-101\"/>\n      <use x=\"1590.279297\" xlink:href=\"#DejaVuSans-32\"/>\n      <use x=\"1622.066406\" xlink:href=\"#DejaVuSans-116\"/>\n      <use x=\"1661.275391\" xlink:href=\"#DejaVuSans-104\"/>\n      <use x=\"1724.654297\" xlink:href=\"#DejaVuSans-101\"/>\n      <use x=\"1786.177734\" xlink:href=\"#DejaVuSans-32\"/>\n      <use x=\"1817.964844\" xlink:href=\"#DejaVuSans-99\"/>\n      <use x=\"1872.945312\" xlink:href=\"#DejaVuSans-105\"/>\n      <use x=\"1900.728516\" xlink:href=\"#DejaVuSans-114\"/>\n      <use x=\"1939.591797\" xlink:href=\"#DejaVuSans-99\"/>\n      <use x=\"1994.572266\" xlink:href=\"#DejaVuSans-108\"/>\n      <use x=\"2022.355469\" xlink:href=\"#DejaVuSans-101\"/>\n     </g>\n    </g>\n   </g>\n   <g id=\"text_27\">\n    <g clip-path=\"url(#p311da29457)\">\n     <!--           n -= 1 -->\n     <defs>\n      <path d=\"M 4.890625 31.390625 \nL 31.203125 31.390625 \nL 31.203125 23.390625 \nL 4.890625 23.390625 \nz\n\" id=\"DejaVuSans-45\"/>\n     </defs>\n     <g style=\"fill:#ffffff;\" transform=\"translate(40.603125 181.319375)scale(0.1 -0.1)\">\n      <use xlink:href=\"#DejaVuSans-32\"/>\n      <use x=\"31.787109\" xlink:href=\"#DejaVuSans-32\"/>\n      <use x=\"63.574219\" xlink:href=\"#DejaVuSans-32\"/>\n      <use x=\"95.361328\" xlink:href=\"#DejaVuSans-32\"/>\n      <use x=\"127.148438\" xlink:href=\"#DejaVuSans-32\"/>\n      <use x=\"158.935547\" xlink:href=\"#DejaVuSans-32\"/>\n      <use x=\"190.722656\" xlink:href=\"#DejaVuSans-32\"/>\n      <use x=\"222.509766\" xlink:href=\"#DejaVuSans-32\"/>\n      <use x=\"254.296875\" xlink:href=\"#DejaVuSans-32\"/>\n      <use x=\"286.083984\" xlink:href=\"#DejaVuSans-32\"/>\n      <use x=\"317.871094\" xlink:href=\"#DejaVuSans-110\"/>\n      <use x=\"381.25\" xlink:href=\"#DejaVuSans-32\"/>\n      <use x=\"413.037109\" xlink:href=\"#DejaVuSans-45\"/>\n      <use x=\"449.121094\" xlink:href=\"#DejaVuSans-61\"/>\n      <use x=\"532.910156\" xlink:href=\"#DejaVuSans-32\"/>\n      <use x=\"564.697266\" xlink:href=\"#DejaVuSans-49\"/>\n     </g>\n    </g>\n   </g>\n   <g id=\"text_28\">\n    <g clip-path=\"url(#p311da29457)\">\n     <!--            -->\n     <g transform=\"translate(40.603125 197.639375)scale(0.1 -0.1)\">\n      <use xlink:href=\"#DejaVuSans-32\"/>\n      <use x=\"31.787109\" xlink:href=\"#DejaVuSans-32\"/>\n      <use x=\"63.574219\" xlink:href=\"#DejaVuSans-32\"/>\n      <use x=\"95.361328\" xlink:href=\"#DejaVuSans-32\"/>\n      <use x=\"127.148438\" xlink:href=\"#DejaVuSans-32\"/>\n      <use x=\"158.935547\" xlink:href=\"#DejaVuSans-32\"/>\n      <use x=\"190.722656\" xlink:href=\"#DejaVuSans-32\"/>\n      <use x=\"222.509766\" xlink:href=\"#DejaVuSans-32\"/>\n      <use x=\"254.296875\" xlink:href=\"#DejaVuSans-32\"/>\n      <use x=\"286.083984\" xlink:href=\"#DejaVuSans-32\"/>\n     </g>\n    </g>\n   </g>\n   <g id=\"text_29\">\n    <g clip-path=\"url(#p311da29457)\">\n     <!--       return 4 * in_circle / total -->\n     <defs>\n      <path d=\"M 47.015625 60.890625 \nL 29.5 51.421875 \nL 47.015625 41.890625 \nL 44.1875 37.109375 \nL 27.78125 47.015625 \nL 27.78125 28.609375 \nL 22.21875 28.609375 \nL 22.21875 47.015625 \nL 5.8125 37.109375 \nL 2.984375 41.890625 \nL 20.515625 51.421875 \nL 2.984375 60.890625 \nL 5.8125 65.71875 \nL 22.21875 55.8125 \nL 22.21875 74.21875 \nL 27.78125 74.21875 \nL 27.78125 55.8125 \nL 44.1875 65.71875 \nz\n\" id=\"DejaVuSans-42\"/>\n      <path d=\"M 25.390625 72.90625 \nL 33.6875 72.90625 \nL 8.296875 -9.28125 \nL 0 -9.28125 \nz\n\" id=\"DejaVuSans-47\"/>\n     </defs>\n     <g transform=\"translate(40.603125 213.820312)scale(0.1 -0.1)\">\n      <use xlink:href=\"#DejaVuSans-32\"/>\n      <use x=\"31.787109\" xlink:href=\"#DejaVuSans-32\"/>\n      <use x=\"63.574219\" xlink:href=\"#DejaVuSans-32\"/>\n      <use x=\"95.361328\" xlink:href=\"#DejaVuSans-32\"/>\n      <use x=\"127.148438\" xlink:href=\"#DejaVuSans-32\"/>\n      <use x=\"158.935547\" xlink:href=\"#DejaVuSans-32\"/>\n      <use x=\"190.722656\" xlink:href=\"#DejaVuSans-114\"/>\n      <use x=\"229.585938\" xlink:href=\"#DejaVuSans-101\"/>\n      <use x=\"291.109375\" xlink:href=\"#DejaVuSans-116\"/>\n      <use x=\"330.318359\" xlink:href=\"#DejaVuSans-117\"/>\n      <use x=\"393.697266\" xlink:href=\"#DejaVuSans-114\"/>\n      <use x=\"433.060547\" xlink:href=\"#DejaVuSans-110\"/>\n      <use x=\"496.439453\" xlink:href=\"#DejaVuSans-32\"/>\n      <use x=\"528.226562\" xlink:href=\"#DejaVuSans-52\"/>\n      <use x=\"591.849609\" xlink:href=\"#DejaVuSans-32\"/>\n      <use x=\"623.636719\" xlink:href=\"#DejaVuSans-42\"/>\n      <use x=\"673.636719\" xlink:href=\"#DejaVuSans-32\"/>\n      <use x=\"705.423828\" xlink:href=\"#DejaVuSans-105\"/>\n      <use x=\"733.207031\" xlink:href=\"#DejaVuSans-110\"/>\n      <use x=\"796.585938\" xlink:href=\"#DejaVuSans-95\"/>\n      <use x=\"846.585938\" xlink:href=\"#DejaVuSans-99\"/>\n      <use x=\"901.566406\" xlink:href=\"#DejaVuSans-105\"/>\n      <use x=\"929.349609\" xlink:href=\"#DejaVuSans-114\"/>\n      <use x=\"968.212891\" xlink:href=\"#DejaVuSans-99\"/>\n      <use x=\"1023.193359\" xlink:href=\"#DejaVuSans-108\"/>\n      <use x=\"1050.976562\" xlink:href=\"#DejaVuSans-101\"/>\n      <use x=\"1112.5\" xlink:href=\"#DejaVuSans-32\"/>\n      <use x=\"1144.287109\" xlink:href=\"#DejaVuSans-47\"/>\n      <use x=\"1177.978516\" xlink:href=\"#DejaVuSans-32\"/>\n      <use x=\"1209.765625\" xlink:href=\"#DejaVuSans-116\"/>\n      <use x=\"1248.974609\" xlink:href=\"#DejaVuSans-111\"/>\n      <use x=\"1310.15625\" xlink:href=\"#DejaVuSans-116\"/>\n      <use x=\"1349.365234\" xlink:href=\"#DejaVuSans-97\"/>\n      <use x=\"1410.644531\" xlink:href=\"#DejaVuSans-108\"/>\n     </g>\n    </g>\n   </g>\n   <g id=\"text_30\">\n    <g clip-path=\"url(#p311da29457)\">\n     <!--    -->\n     <g transform=\"translate(40.603125 230.279375)scale(0.1 -0.1)\">\n      <use xlink:href=\"#DejaVuSans-32\"/>\n      <use x=\"31.787109\" xlink:href=\"#DejaVuSans-32\"/>\n     </g>\n    </g>\n   </g>\n   <g id=\"text_31\">\n    <g clip-path=\"url(#p311da29457)\">\n     <!--   estimate_pi() -->\n     <g transform=\"translate(40.603125 246.460313)scale(0.1 -0.1)\">\n      <use xlink:href=\"#DejaVuSans-32\"/>\n      <use x=\"31.787109\" xlink:href=\"#DejaVuSans-32\"/>\n      <use x=\"63.574219\" xlink:href=\"#DejaVuSans-101\"/>\n      <use x=\"125.097656\" xlink:href=\"#DejaVuSans-115\"/>\n      <use x=\"177.197266\" xlink:href=\"#DejaVuSans-116\"/>\n      <use x=\"216.40625\" xlink:href=\"#DejaVuSans-105\"/>\n      <use x=\"244.189453\" xlink:href=\"#DejaVuSans-109\"/>\n      <use x=\"341.601562\" xlink:href=\"#DejaVuSans-97\"/>\n      <use x=\"402.880859\" xlink:href=\"#DejaVuSans-116\"/>\n      <use x=\"442.089844\" xlink:href=\"#DejaVuSans-101\"/>\n      <use x=\"503.613281\" xlink:href=\"#DejaVuSans-95\"/>\n      <use x=\"553.613281\" xlink:href=\"#DejaVuSans-112\"/>\n      <use x=\"617.089844\" xlink:href=\"#DejaVuSans-105\"/>\n      <use x=\"644.873047\" xlink:href=\"#DejaVuSans-40\"/>\n      <use x=\"683.886719\" xlink:href=\"#DejaVuSans-41\"/>\n     </g>\n    </g>\n   </g>\n  </g>\n  <g id=\"axes_2\">\n   <g id=\"patch_7\">\n    <path clip-path=\"url(#p8261ce29ca)\" d=\"M 520.831875 252 \nL 520.831875 251.04375 \nL 520.831875 8.15625 \nL 520.831875 7.2 \nL 533.071875 7.2 \nL 533.071875 8.15625 \nL 533.071875 251.04375 \nL 533.071875 252 \nz\n\" style=\"fill:#ffffff;stroke:#ffffff;stroke-linejoin:miter;stroke-width:0.01;\"/>\n   </g>\n   <image height=\"245\" id=\"imaged9daa3a159\" transform=\"scale(1 -1)translate(0 -245)\" width=\"12\" x=\"521\" xlink:href=\"data:image/png;base64,\niVBORw0KGgoAAAANSUhEUgAAAAwAAAD1CAYAAABk6BQ2AAAABHNCSVQICAgIfAhkiAAAAS9JREFUaIHtmkEOAzEIA2mV/7+0916apF/IIDnykuwZZBsDS1d9ze9nBnhazEHio0UggD0INOFMhOf7MPVV2iCa+mDYfI69VKCsFapkSEm/Ki+lhYTJNfitGUdKd+IWEkpQckt4o+gMQothOHEofs9MX9EKBH2VHDUUEI23Bm9vv1Oai8YI8rcoR/CrkiEluXGzgnG9qxEKOL1hRA0pUQT+rVJ+YMGqZhD0RyL3AcVnFpmckv4iS2xviqCfBz8fuGjDEfUr6472hgmj43tJ/Y7DzYcp6cuKEbgGOSV88+kpJYxTtwZPkB+JCUo04Qd/cNyZXkrQUyqAMBw1oHhLH4Yegd8ads1nWNYKVTrTBxQe0eCWSSQYUmKXhqeGS2klQU/pSNGGlPQIeGtQBPwXkj/TCN9bHc+ViwAAAABJRU5ErkJggg==\" y=\"-7\"/>\n   <g id=\"matplotlib.axis_2\"/>\n   <g id=\"matplotlib.axis_3\">\n    <g id=\"ytick_16\">\n     <g id=\"line2d_16\">\n      <defs>\n       <path d=\"M 0 0 \nL 3.5 0 \n\" id=\"m20443da503\" style=\"stroke:#000000;stroke-width:0.8;\"/>\n      </defs>\n      <g>\n       <use style=\"stroke:#000000;stroke-width:0.8;\" x=\"533.071875\" xlink:href=\"#m20443da503\" y=\"252\"/>\n      </g>\n     </g>\n     <g id=\"text_32\">\n      <!-- 0 -->\n      <g transform=\"translate(540.071875 255.799219)scale(0.1 -0.1)\">\n       <use xlink:href=\"#DejaVuSans-48\"/>\n      </g>\n     </g>\n    </g>\n    <g id=\"ytick_17\">\n     <g id=\"line2d_17\">\n      <g>\n       <use style=\"stroke:#000000;stroke-width:0.8;\" x=\"533.071875\" xlink:href=\"#m20443da503\" y=\"224.63668\"/>\n      </g>\n     </g>\n     <g id=\"text_33\">\n      <!-- 2 -->\n      <g transform=\"translate(540.071875 228.435899)scale(0.1 -0.1)\">\n       <use xlink:href=\"#DejaVuSans-50\"/>\n      </g>\n     </g>\n    </g>\n    <g id=\"ytick_18\">\n     <g id=\"line2d_18\">\n      <g>\n       <use style=\"stroke:#000000;stroke-width:0.8;\" x=\"533.071875\" xlink:href=\"#m20443da503\" y=\"197.273361\"/>\n      </g>\n     </g>\n     <g id=\"text_34\">\n      <!-- 4 -->\n      <g transform=\"translate(540.071875 201.07258)scale(0.1 -0.1)\">\n       <use xlink:href=\"#DejaVuSans-52\"/>\n      </g>\n     </g>\n    </g>\n    <g id=\"ytick_19\">\n     <g id=\"line2d_19\">\n      <g>\n       <use style=\"stroke:#000000;stroke-width:0.8;\" x=\"533.071875\" xlink:href=\"#m20443da503\" y=\"169.910041\"/>\n      </g>\n     </g>\n     <g id=\"text_35\">\n      <!-- 6 -->\n      <g transform=\"translate(540.071875 173.70926)scale(0.1 -0.1)\">\n       <use xlink:href=\"#DejaVuSans-54\"/>\n      </g>\n     </g>\n    </g>\n    <g id=\"ytick_20\">\n     <g id=\"line2d_20\">\n      <g>\n       <use style=\"stroke:#000000;stroke-width:0.8;\" x=\"533.071875\" xlink:href=\"#m20443da503\" y=\"142.546722\"/>\n      </g>\n     </g>\n     <g id=\"text_36\">\n      <!-- 8 -->\n      <g transform=\"translate(540.071875 146.345941)scale(0.1 -0.1)\">\n       <use xlink:href=\"#DejaVuSans-56\"/>\n      </g>\n     </g>\n    </g>\n    <g id=\"ytick_21\">\n     <g id=\"line2d_21\">\n      <g>\n       <use style=\"stroke:#000000;stroke-width:0.8;\" x=\"533.071875\" xlink:href=\"#m20443da503\" y=\"115.183402\"/>\n      </g>\n     </g>\n     <g id=\"text_37\">\n      <!-- 10 -->\n      <g transform=\"translate(540.071875 118.982621)scale(0.1 -0.1)\">\n       <use xlink:href=\"#DejaVuSans-49\"/>\n       <use x=\"63.623047\" xlink:href=\"#DejaVuSans-48\"/>\n      </g>\n     </g>\n    </g>\n    <g id=\"ytick_22\">\n     <g id=\"line2d_22\">\n      <g>\n       <use style=\"stroke:#000000;stroke-width:0.8;\" x=\"533.071875\" xlink:href=\"#m20443da503\" y=\"87.820083\"/>\n      </g>\n     </g>\n     <g id=\"text_38\">\n      <!-- 12 -->\n      <g transform=\"translate(540.071875 91.619301)scale(0.1 -0.1)\">\n       <use xlink:href=\"#DejaVuSans-49\"/>\n       <use x=\"63.623047\" xlink:href=\"#DejaVuSans-50\"/>\n      </g>\n     </g>\n    </g>\n    <g id=\"ytick_23\">\n     <g id=\"line2d_23\">\n      <g>\n       <use style=\"stroke:#000000;stroke-width:0.8;\" x=\"533.071875\" xlink:href=\"#m20443da503\" y=\"60.456763\"/>\n      </g>\n     </g>\n     <g id=\"text_39\">\n      <!-- 14 -->\n      <g transform=\"translate(540.071875 64.255982)scale(0.1 -0.1)\">\n       <use xlink:href=\"#DejaVuSans-49\"/>\n       <use x=\"63.623047\" xlink:href=\"#DejaVuSans-52\"/>\n      </g>\n     </g>\n    </g>\n    <g id=\"ytick_24\">\n     <g id=\"line2d_24\">\n      <g>\n       <use style=\"stroke:#000000;stroke-width:0.8;\" x=\"533.071875\" xlink:href=\"#m20443da503\" y=\"33.093444\"/>\n      </g>\n     </g>\n     <g id=\"text_40\">\n      <!-- 16 -->\n      <g transform=\"translate(540.071875 36.892662)scale(0.1 -0.1)\">\n       <use xlink:href=\"#DejaVuSans-49\"/>\n       <use x=\"63.623047\" xlink:href=\"#DejaVuSans-54\"/>\n      </g>\n     </g>\n    </g>\n    <g id=\"text_41\">\n     <!-- # of seconds -->\n     <g transform=\"translate(564.395313 162.225)rotate(-90)scale(0.1 -0.1)\">\n      <use xlink:href=\"#DejaVuSans-35\"/>\n      <use x=\"83.789062\" xlink:href=\"#DejaVuSans-32\"/>\n      <use x=\"115.576172\" xlink:href=\"#DejaVuSans-111\"/>\n      <use x=\"176.757812\" xlink:href=\"#DejaVuSans-102\"/>\n      <use x=\"211.962891\" xlink:href=\"#DejaVuSans-32\"/>\n      <use x=\"243.75\" xlink:href=\"#DejaVuSans-115\"/>\n      <use x=\"295.849609\" xlink:href=\"#DejaVuSans-101\"/>\n      <use x=\"357.373047\" xlink:href=\"#DejaVuSans-99\"/>\n      <use x=\"412.353516\" xlink:href=\"#DejaVuSans-111\"/>\n      <use x=\"473.535156\" xlink:href=\"#DejaVuSans-110\"/>\n      <use x=\"536.914062\" xlink:href=\"#DejaVuSans-100\"/>\n      <use x=\"600.390625\" xlink:href=\"#DejaVuSans-115\"/>\n     </g>\n    </g>\n   </g>\n   <g id=\"patch_8\">\n    <path d=\"M 520.831875 252 \nL 520.831875 251.04375 \nL 520.831875 8.15625 \nL 520.831875 7.2 \nL 533.071875 7.2 \nL 533.071875 8.15625 \nL 533.071875 251.04375 \nL 533.071875 252 \nz\n\" style=\"fill:none;stroke:#000000;stroke-linejoin:miter;stroke-width:0.8;\"/>\n   </g>\n  </g>\n </g>\n <defs>\n  <clipPath id=\"p311da29457\">\n   <rect height=\"244.8\" width=\"451.98\" x=\"40.603125\" y=\"7.2\"/>\n  </clipPath>\n  <clipPath id=\"p8261ce29ca\">\n   <rect height=\"244.8\" width=\"12.24\" x=\"520.831875\" y=\"7.2\"/>\n  </clipPath>\n </defs>\n</svg>\n",
      "image/png": "[encoded data removed]"
     },
     "metadata": {
      "needs_background": "light"
     }
    }
   ],
   "source": [
    "%%heat\n",
    "from random import random\n",
    "def estimate_pi(n = 10000000):\n",
    "    in_circle = 0\n",
    "    total = n\n",
    "    \n",
    "    while n != 0:\n",
    "        prec_x = random()\n",
    "        prec_y = random()\n",
    "        if pow(prec_x, 2) + pow(prec_y, 2) <= 1: # circle equation: x^2+y^2=r^2\n",
    "            in_circle += 1 # inside the circle\n",
    "        n -= 1\n",
    "        \n",
    "    return 4 * in_circle / total\n",
    "\n",
    "estimate_pi()"
   ]
  },
  {
   "cell_type": "markdown",
   "metadata": {
    "slideshow": {
     "slide_type": "slide"
    }
   },
   "source": [
    "#### Visualizing the profile with snakeviz\n",
    "```bash\n",
    "conda install snakeviz\n",
    "```\n",
    "\n",
    "and load the extension manually in the notebook:"
   ]
  },
  {
   "cell_type": "code",
   "execution_count": 34,
   "metadata": {},
   "outputs": [],
   "source": [
    "%load_ext snakeviz"
   ]
  },
  {
   "cell_type": "code",
   "execution_count": 35,
   "metadata": {
    "slideshow": {
     "slide_type": "slide"
    }
   },
   "outputs": [
    {
     "output_type": "stream",
     "name": "stdout",
     "text": [
      " \n*** Profile stats marshalled to file '/var/folders/p1/35n1p5qd3jd93mc6mmgngy400000gn/T/tmptxz_5vvz'. \nEmbedding SnakeViz in this document...\n"
     ]
    },
    {
     "output_type": "display_data",
     "data": {
      "text/plain": "<IPython.core.display.HTML object>",
      "text/html": "\n<iframe id='snakeviz-4e1121c8-1906-11eb-8821-acde48001122' frameborder=0 seamless width='100%' height='1000'></iframe>\n<script>document.getElementById(\"snakeviz-4e1121c8-1906-11eb-8821-acde48001122\").setAttribute(\"src\", \"http://\" + document.location.hostname + \":8080/snakeviz/%2Fvar%2Ffolders%2Fp1%2F35n1p5qd3jd93mc6mmgngy400000gn%2FT%2Ftmptxz_5vvz\")</script>\n"
     },
     "metadata": {}
    }
   ],
   "source": [
    "%snakeviz estimate_pi()"
   ]
  },
  {
   "cell_type": "markdown",
   "metadata": {},
   "source": [
    "<img src=\"files/snakeviz.png\" width=350>"
   ]
  },
  {
   "cell_type": "markdown",
   "metadata": {},
   "source": [
    "https://jiffyclub.github.io/snakeviz/"
   ]
  },
  {
   "cell_type": "markdown",
   "metadata": {
    "slideshow": {
     "slide_type": "slide"
    }
   },
   "source": [
    "### Optimization"
   ]
  },
  {
   "cell_type": "markdown",
   "metadata": {},
   "source": [
    "```python\n",
    "def estimate_pi(n = 10000000):\n",
    "    in_circle = 0\n",
    "    total = n\n",
    "    \n",
    "    while n != 0:\n",
    "        prec_x = random()\n",
    "        prec_y = random()\n",
    "        if pow(prec_x, 2) + pow(prec_y, 2) <= 1: # circle equation: x^2+y^2=r^2\n",
    "            in_circle += 1 # inside the circle\n",
    "        n -= 1\n",
    "        \n",
    "    return 4 * in_circle / total\n",
    "```"
   ]
  },
  {
   "cell_type": "markdown",
   "metadata": {
    "slideshow": {
     "slide_type": "slide"
    }
   },
   "source": [
    "#### Algorithmic optimization\n",
    "Our code is easy to read, but slow, because of:\n",
    "* while loop\n",
    "* function calls: pow()\n",
    "\n",
    "We can replace the whole function with one line!:"
   ]
  },
  {
   "cell_type": "code",
   "execution_count": 37,
   "metadata": {},
   "outputs": [],
   "source": [
    "def estimate_pi_oneliner(n=1e7):\n",
    "    return 4 * sum(1 for _ in range(int(n)) if random()**2 + random()**2 <= 1) / n"
   ]
  },
  {
   "cell_type": "code",
   "execution_count": 38,
   "metadata": {
    "slideshow": {
     "slide_type": "-"
    }
   },
   "outputs": [
    {
     "output_type": "stream",
     "name": "stdout",
     "text": [
      " "
     ]
    }
   ],
   "source": [
    "stats_oneliner = %prun -r -q estimate_pi_oneliner()"
   ]
  },
  {
   "cell_type": "code",
   "execution_count": 39,
   "metadata": {
    "scrolled": false,
    "slideshow": {
     "slide_type": "slide"
    }
   },
   "outputs": [
    {
     "output_type": "stream",
     "name": "stdout",
     "text": [
      "         27854379 function calls in 6.332 seconds\n\n   Ordered by: internal time\n   List reduced from 7 to 3 due to restriction <3>\n\n   ncalls  tottime  percall  cumtime  percall filename:lineno(function)\n  7854374    4.184    0.000    5.646    0.000 <ipython-input-37-f3fa99128393>:2(<genexpr>)\n 20000000    1.463    0.000    1.463    0.000 {method 'random' of '_random.Random' objects}\n        1    0.685    0.685    6.332    6.332 {built-in method builtins.sum}\n\n\n"
     ]
    }
   ],
   "source": [
    "stats_oneliner.sort_stats('tottime').print_stats(3);"
   ]
  },
  {
   "cell_type": "code",
   "execution_count": 40,
   "metadata": {},
   "outputs": [
    {
     "output_type": "stream",
     "name": "stdout",
     "text": [
      "2.56 s ± 27.9 ms per loop (mean ± std. dev. of 2 runs, 5 loops each)\n"
     ]
    }
   ],
   "source": [
    "%timeit -r 2 -n 5 estimate_pi_oneliner()"
   ]
  },
  {
   "cell_type": "markdown",
   "metadata": {},
   "source": [
    "From 3.67 to 2.45 seconds: Over 30% improvement!"
   ]
  },
  {
   "cell_type": "markdown",
   "metadata": {
    "slideshow": {
     "slide_type": "slide"
    }
   },
   "source": [
    "**What did we do?**\n",
    "* <span style=\"color:green\">Replace `pow()` with `**`</span>\n",
    "* <span style=\"color:green\">Replace `while` with `sum(.. for .. in range(n))`</span>\n",
    "* <span style=\"color:red\">Made the function really hard to read for humans</span>"
   ]
  },
  {
   "cell_type": "markdown",
   "metadata": {},
   "source": [
    "This is a **generator expression**: `sum(.. for .. in range(n))`\n",
    "\n",
    "A *what??*"
   ]
  },
  {
   "cell_type": "markdown",
   "metadata": {
    "slideshow": {
     "slide_type": "slide"
    }
   },
   "source": [
    "Iterables: Everything that you can use in a for loop. For example:"
   ]
  },
  {
   "cell_type": "code",
   "execution_count": 41,
   "metadata": {},
   "outputs": [
    {
     "output_type": "stream",
     "name": "stdout",
     "text": [
      "0\n1\n4\n"
     ]
    }
   ],
   "source": [
    "mylist = [0, 1, 4]\n",
    "for i in mylist:\n",
    "    print(i)"
   ]
  },
  {
   "cell_type": "code",
   "execution_count": 42,
   "metadata": {},
   "outputs": [
    {
     "output_type": "stream",
     "name": "stdout",
     "text": [
      "0\n1\n4\n"
     ]
    }
   ],
   "source": [
    "mylist = [x*x for x in range(3)]\n",
    "for i in mylist:\n",
    "    print(i)"
   ]
  },
  {
   "cell_type": "markdown",
   "metadata": {
    "slideshow": {
     "slide_type": "slide"
    }
   },
   "source": [
    "Generators are iterators, but *you can only iterate over them once*. It’s because they do not store all the values in memory, they generate the values on the fly:"
   ]
  },
  {
   "cell_type": "code",
   "execution_count": null,
   "metadata": {},
   "outputs": [],
   "source": [
    "mygenerator = (x*x for x in range(3))\n",
    "for i in mygenerator:\n",
    "    print(i)"
   ]
  },
  {
   "cell_type": "code",
   "execution_count": null,
   "metadata": {},
   "outputs": [],
   "source": [
    "for i in mygenerator:\n",
    "    print(i)\n",
    "# Nothing happens"
   ]
  },
  {
   "cell_type": "markdown",
   "metadata": {},
   "source": [
    "Generators are useful if you run into memory issues."
   ]
  },
  {
   "cell_type": "markdown",
   "metadata": {
    "slideshow": {
     "slide_type": "slide"
    }
   },
   "source": [
    "##### You can create a generator with yield\n",
    "Yield is a keyword that is used like return, except the function will return a generator."
   ]
  },
  {
   "cell_type": "code",
   "execution_count": 43,
   "metadata": {},
   "outputs": [
    {
     "output_type": "stream",
     "name": "stdout",
     "text": [
      "<generator object createGenerator at 0x7fb9492e25f0>\n0\n1\n4\n"
     ]
    }
   ],
   "source": [
    "def createGenerator():\n",
    "    mylist = range(3)\n",
    "    for i in mylist:\n",
    "        yield i*i\n",
    "\n",
    "mygenerator = createGenerator() # create a generator\n",
    "print(mygenerator) # mygenerator is an object!\n",
    "\n",
    "for i in mygenerator:\n",
    "    print(i)"
   ]
  },
  {
   "cell_type": "markdown",
   "metadata": {},
   "source": [
    "The first time the for calls the generator object created from your function, it will run the code in your function from the beginning until it hits yield, then it’ll return the first value of the loop. Then, each other call will run the loop you have written in the function one more time, and return the next value, until there is no value to return."
   ]
  },
  {
   "cell_type": "markdown",
   "metadata": {
    "slideshow": {
     "slide_type": "slide"
    }
   },
   "source": [
    "#### Optimization through vectorization"
   ]
  },
  {
   "cell_type": "markdown",
   "metadata": {},
   "source": [
    "All our operations are still inside the \"loop\":\n",
    "```python\n",
    "sum(1 for _ in range(int(n)) if random()**2 + random()**2 <= 1)\n",
    "```\n",
    "    \n",
    "So we are calling `random()` 2*n times, and we call `if` n times. Do we really need to?"
   ]
  },
  {
   "cell_type": "markdown",
   "metadata": {
    "slideshow": {
     "slide_type": "slide"
    }
   },
   "source": [
    "Vectorized version, using numpy:"
   ]
  },
  {
   "cell_type": "code",
   "execution_count": 44,
   "metadata": {
    "slideshow": {
     "slide_type": "-"
    }
   },
   "outputs": [],
   "source": [
    "import numpy as np\n",
    "\n",
    "def estimate_pi_vectorized(n=10000000):\n",
    "    xy = np.random.rand(n, 2)\n",
    "    inside = np.sum(xy[:, 0]**2 + xy[:, 1]**2 <= 1)\n",
    "    return 4 * inside / n"
   ]
  },
  {
   "cell_type": "code",
   "execution_count": 45,
   "metadata": {
    "slideshow": {
     "slide_type": "slide"
    }
   },
   "outputs": [
    {
     "output_type": "stream",
     "name": "stdout",
     "text": [
      "290 ms ± 13.4 ms per loop (mean ± std. dev. of 2 runs, 5 loops each)\n"
     ]
    }
   ],
   "source": [
    "%timeit -r 2 -n 5 estimate_pi_vectorized()"
   ]
  },
  {
   "cell_type": "markdown",
   "metadata": {},
   "source": [
    "3.67 seconds to 0.3 seconds: We are 12 times faster than in the beginning!"
   ]
  },
  {
   "cell_type": "markdown",
   "metadata": {
    "slideshow": {
     "slide_type": "slide"
    }
   },
   "source": [
    "### Memory profiling\n",
    "Juggling with large data sets involves having a clear sight of memory consumption and allocation processes going on in the background.\n",
    "\n",
    "After installing the memory profiler,\n",
    "```bash\n",
    "conda install memory_profiler \n",
    "```\n",
    "\n",
    "we can explore memory usage with `%memit`"
   ]
  },
  {
   "cell_type": "code",
   "execution_count": 46,
   "metadata": {},
   "outputs": [],
   "source": [
    "%load_ext memory_profiler"
   ]
  },
  {
   "cell_type": "code",
   "execution_count": 47,
   "metadata": {},
   "outputs": [
    {
     "output_type": "stream",
     "name": "stdout",
     "text": [
      "peak memory: 411.30 MiB, increment: 152.76 MiB\n"
     ]
    }
   ],
   "source": [
    "%memit estimate_pi_vectorized()"
   ]
  },
  {
   "cell_type": "markdown",
   "metadata": {
    "slideshow": {
     "slide_type": "slide"
    }
   },
   "source": [
    "This is a lot of memory. When we allocate things differently, we can reduce it:"
   ]
  },
  {
   "cell_type": "code",
   "execution_count": 48,
   "metadata": {},
   "outputs": [],
   "source": [
    "def estimate_pi_vectorized_oneliner(n=10000000):\n",
    "    return np.sum(np.random.random(n)**2 + np.random.random(n)**2 <= 1) / n * 4"
   ]
  },
  {
   "cell_type": "code",
   "execution_count": 49,
   "metadata": {},
   "outputs": [
    {
     "output_type": "stream",
     "name": "stdout",
     "text": [
      "peak memory: 258.46 MiB, increment: 162.20 MiB\n"
     ]
    }
   ],
   "source": [
    "%memit estimate_pi_vectorized_oneliner()"
   ]
  },
  {
   "cell_type": "markdown",
   "metadata": {
    "slideshow": {
     "slide_type": "slide"
    }
   },
   "source": [
    "Also, we improved runtime:"
   ]
  },
  {
   "cell_type": "code",
   "execution_count": 50,
   "metadata": {},
   "outputs": [
    {
     "output_type": "stream",
     "name": "stdout",
     "text": [
      "195 ms ± 17.5 ms per loop (mean ± std. dev. of 2 runs, 5 loops each)\n"
     ]
    }
   ],
   "source": [
    "%timeit -r 2 -n 5 estimate_pi_vectorized_oneliner()"
   ]
  },
  {
   "cell_type": "markdown",
   "metadata": {},
   "source": [
    "3.67 seconds to 0.227 seconds: We are now 16 times faster than in the beginning!"
   ]
  },
  {
   "cell_type": "markdown",
   "metadata": {
    "slideshow": {
     "slide_type": "slide"
    }
   },
   "source": [
    "#### Optimization through cheating: Running another algorithm\n",
    "Using our monte carlo method, we estimated $\\pi$ to 3.1426944 with a relative error of 0.035% in 227ms.\n",
    "\n",
    "There are however different calculations tackling the issue in a substantially more productive way. The biggest lift to any programming execution will be by changing the general way of tackling the problem. Unsurprisingly, this is the hardest change to achieve as upgrade and revamp of your coding is required."
   ]
  },
  {
   "cell_type": "markdown",
   "metadata": {
    "slideshow": {
     "slide_type": "slide"
    }
   },
   "source": [
    "A very fast method is the [Chudnovsky algorithm](https://www.craig-wood.com/nick/articles/pi-chudnovsky/) which was published by the Chudnovsky brothers in 1989 and appears in the following form: $\\frac{1}{\\pi} = 12\\sum_{k=0}^\\infty \\frac{(-1)^k(6k)!(13591409+545140134k)}{(3k)!(k!)^3 640320^{3k+3/2}}$"
   ]
  },
  {
   "cell_type": "markdown",
   "metadata": {},
   "source": [
    "Profiling this method results in: 13.6 µs ± 72 ns per loop (mean ± std. dev. of 7 runs, 10 loops each)\n",
    "\n",
    "Which is 270,000 times faster!!! Also, we get 100 digits of pi, not just 8."
   ]
  },
  {
   "cell_type": "markdown",
   "metadata": {
    "slideshow": {
     "slide_type": "slide"
    }
   },
   "source": [
    "## Summary of  most effective optimization techniques"
   ]
  },
  {
   "cell_type": "markdown",
   "metadata": {},
   "source": [
    "* Use better algorithms and data structures\n",
    "* Avoid loops\n",
    "* Vectorize (numpy)\n",
    "* Avoid function calls and dot notation\n",
    "* Memory: Use views, not copies\n",
    "* Memory: Use generators\n",
    "* Use compiled code"
   ]
  },
  {
   "cell_type": "markdown",
   "metadata": {
    "slideshow": {
     "slide_type": "slide"
    }
   },
   "source": [
    "### Use better algorithms and data structures, avoid loops"
   ]
  },
  {
   "cell_type": "markdown",
   "metadata": {},
   "source": [
    "* General explanation of time complexity: https://towardsdatascience.com/understanding-time-complexity-with-python-examples-2bda6e8158a7\n",
    "* Time complexity of Python data structures: https://wiki.python.org/moin/TimeComplexity"
   ]
  },
  {
   "cell_type": "markdown",
   "metadata": {
    "slideshow": {
     "slide_type": "slide"
    }
   },
   "source": [
    "#### Example: Unique common elements\n",
    "Suppose you were given two lists `xs` and `ys` and asked to find the unique elements in common between them."
   ]
  },
  {
   "cell_type": "code",
   "execution_count": 51,
   "metadata": {},
   "outputs": [],
   "source": [
    "xs = np.random.randint(0, 1000, 10000)\n",
    "ys = np.random.randint(0, 1000, 10000)"
   ]
  },
  {
   "cell_type": "code",
   "execution_count": 52,
   "metadata": {},
   "outputs": [
    {
     "output_type": "stream",
     "name": "stdout",
     "text": [
      "11.6 s ± 0 ns per loop (mean ± std. dev. of 1 run, 1 loop each)\n"
     ]
    }
   ],
   "source": [
    "# This is easy to solve using a nested loop\n",
    "\n",
    "def common1(xs, ys):\n",
    "    \"\"\"Using lists.\"\"\"\n",
    "    zs = []\n",
    "    for x in xs:\n",
    "        for y in ys:\n",
    "            if x==y and x not in zs:\n",
    "                zs.append(x)\n",
    "    return zs\n",
    "\n",
    "%timeit -n1 -r1 common1(xs, ys)"
   ]
  },
  {
   "cell_type": "code",
   "execution_count": 53,
   "metadata": {
    "slideshow": {
     "slide_type": "slide"
    }
   },
   "outputs": [
    {
     "output_type": "stream",
     "name": "stdout",
     "text": [
      "3.84 ms ± 0 ns per loop (mean ± std. dev. of 1 run, 1 loop each)\n"
     ]
    }
   ],
   "source": [
    "# However, it is much more efficient to use the set data structure, avoiding loops\n",
    "\n",
    "def common2(xs, ys):\n",
    "    return list(set(xs) & set(ys))\n",
    "\n",
    "%timeit -n1 -r1 common2(xs, ys)"
   ]
  },
  {
   "cell_type": "markdown",
   "metadata": {
    "slideshow": {
     "slide_type": "slide"
    }
   },
   "source": [
    "### Avoid function calls and dot notation"
   ]
  },
  {
   "cell_type": "markdown",
   "metadata": {},
   "source": [
    "#### Example: Looped function calls\n",
    "In the following example, the function `inner` is called for each element in the list. The overhead of the function call and the argument checking is multiplied 100000 times. (From https://nyu-cds.github.io/python-performance-tips/04-functions/)"
   ]
  },
  {
   "cell_type": "code",
   "execution_count": null,
   "metadata": {},
   "outputs": [],
   "source": [
    "x = 0\n",
    "def inner(i):\n",
    "    global x\n",
    "    x = x + i\n",
    "    \n",
    "def outer1():\n",
    "    for i in range(100000): \n",
    "        inner(i)\n",
    "        \n",
    "%timeit outer1()"
   ]
  },
  {
   "cell_type": "markdown",
   "metadata": {
    "slideshow": {
     "slide_type": "slide"
    }
   },
   "source": [
    "Here instead, the loop is moved inside the aggregate function so that the function is only called once instead of 100000 times:"
   ]
  },
  {
   "cell_type": "code",
   "execution_count": null,
   "metadata": {},
   "outputs": [],
   "source": [
    "x = 0\n",
    "def aggregate(list):\n",
    "    global x\n",
    "    for i in list:\n",
    "        x = x + i\n",
    "\n",
    "def outer2():\n",
    "    aggregate(range(100000))\n",
    "    \n",
    "%timeit outer2()"
   ]
  },
  {
   "cell_type": "markdown",
   "metadata": {
    "slideshow": {
     "slide_type": "slide"
    }
   },
   "source": [
    "#### Example: Avoid dot notation"
   ]
  },
  {
   "cell_type": "markdown",
   "metadata": {},
   "source": [
    "Slow:\n",
    "\n",
    "```python\n",
    "for i in range(n):\n",
    "    myObj.func(i)\n",
    "```"
   ]
  },
  {
   "cell_type": "markdown",
   "metadata": {},
   "source": [
    "Fast:\n",
    "\n",
    "```python\n",
    "myfunc = myObj.func\n",
    "for i in range(n):\n",
    "    myfunc(i)\n",
    "```"
   ]
  },
  {
   "cell_type": "markdown",
   "metadata": {
    "slideshow": {
     "slide_type": "slide"
    }
   },
   "source": [
    "## Use compiled code"
   ]
  },
  {
   "cell_type": "markdown",
   "metadata": {},
   "source": [
    "### Cython\n",
    "http://docs.cython.org/en/latest/src/tutorial/cython_tutorial.html\n",
    "\n",
    "Cython is Python with C data types.\n",
    "\n",
    "Cython is Python: Almost any piece of Python code is also valid Cython code. The Cython compiler will convert it into C code which makes equivalent calls to the Python/C API.\n",
    "\n",
    "### Pypy\n",
    "https://pypy.org/\n",
    "\n",
    "Alternative implementaiton of Cython using a just-in-time compiler instead of an interpreter, often making it run faster."
   ]
  },
  {
   "cell_type": "markdown",
   "metadata": {},
   "source": [
    "## Optimizing code usually comes at the cost of code readability and maintainability!\n",
    "Think twice if you really need to sacrifice it.\n",
    "\n",
    "This code (from last class) might be slow to call, but is well designed and perfectly readable. If the implementation of a method if obvious like here, you did a good job in terms of object-oriented design:\n",
    "\n",
    "```python\n",
    "    def winsServe(self):\n",
    "        \"\"\"Returns a Boolean that is true with probability self.prob\"\"\"\n",
    "        return random() <= self.prob\n",
    "\n",
    "    def incScore(self):\n",
    "        \"\"\"Add a point to this player's score\"\"\"\n",
    "        self.score = self.score + 1\n",
    "\n",
    "    def getScore(self):\n",
    "        \"\"\"Returns this player's current score\"\"\"\n",
    "        return self.score\n",
    "```"
   ]
  },
  {
   "cell_type": "code",
   "execution_count": null,
   "metadata": {},
   "outputs": [],
   "source": []
  }
 ],
 "metadata": {
  "celltoolbar": "Slideshow",
  "kernelspec": {
   "display_name": "Python 3",
   "language": "python",
   "name": "python3"
  },
  "language_info": {
   "codemirror_mode": {
    "name": "ipython",
    "version": 3
   },
   "file_extension": ".py",
   "mimetype": "text/x-python",
   "name": "python",
   "nbconvert_exporter": "python",
   "pygments_lexer": "ipython3",
   "version": "3.8.3-final"
  }
 },
 "nbformat": 4,
 "nbformat_minor": 1
}