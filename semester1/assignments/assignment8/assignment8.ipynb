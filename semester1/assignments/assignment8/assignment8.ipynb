{
 "cells": [
  {
   "cell_type": "markdown",
   "metadata": {},
   "source": [
    "# Assignment 8\n",
    "#### Due November 11, 2020, 23:59\n",
    "\n",
    "In this week’s assignment, we are going dive to dive back into graph theory and expand on the subject of network science.  \n",
    "Graphs are powerful constructs with even more powerful mathematical properties that we can take advantage of when we can formulate our problems as a graph. This time around, we are interested in one network property in particular: the **local clustering coefficient** of a node.\n",
    "\n",
    "## Submission\n",
    "Edit and turn in this jupyter notebook file containing your solutions to each task.  \n",
    "Implement your solution to each of the exercises in the code field below the exercise description.  \n",
    "\n",
    "The libraries you may need are already given, any extra imports are not allowed.\n",
    "\n",
    "___\n",
    "\n",
    "### Local clustering coefficient\n",
    "In this assignment, we want to calculate the local clustering coefficient of a node in an undirected graph. \n",
    "\n",
    "Recall that an undirected graph consists a set of nodes that are connected to some extent, where all the edges that connect the nodes are bidirectional. \n",
    "Imagine, for example, a graph where the nodes represent people at a party pre-corona and there is an edge between two people if they shook hands. This example graph is undirected because any person, A, can shake hands with another person, B, only if B also shakes hands with A. This means that if A is connected to B, then B is also per definition automatically connected to A.\n",
    "\n",
    "The intuition behind the **local clustering coefficient** metric is that it describes the connectivity of the neighborhood of a node. That is, the proportion of connections among its neighbours which are actually realised out of the number of all possible connections.\n",
    "\n",
    "Imagine a person, A, that has three friends: B, C, and D. These friends are person A’s neighborhood. They all have in common that they are friends with A. However, they might not be friends with each other. The local clustering coefficient expresses how many of A’s friends are in fact also friends with each other. \n",
    "\n",
    "Different scenarios for the local clustering coefficient of A:\n",
    "- $LCC_A = \\frac{0}{3}$ -- noone is friends in the neighbourhood: no nodes are connected\n",
    "- $LCC_A = \\frac{1}{3}$ -- only B and C are friends (or only C and D, or only D and B)\n",
    "- $LCC_A = \\frac{2}{3}$ -- we have two pairs of friends in the neighbourhood\n",
    "- $LCC_A = \\frac{3}{3}$ -- everybody is friends in the neighbourhood: all nodes are connected\n",
    "\n",
    "\n",
    "<img src=\"img/clustering_coeff.png\" align=\"center\">\n",
    "\n",
    "___\n",
    "\n",
    "## Assignment\n",
    "Your task in the following exercises is to compute the local clustering coefficient from various representations of the same undirected graph, `tiny`, consisting of 5 nodes and 7 edges.\n"
   ]
  },
  {
   "cell_type": "code",
   "execution_count": 1,
   "metadata": {},
   "outputs": [],
   "source": [
    "import numpy as np"
   ]
  },
  {
   "cell_type": "code",
   "execution_count": 2,
   "metadata": {},
   "outputs": [],
   "source": [
    "# helper function for calc_lcc() method inside MyGraph class\n",
    "def max_connection(n):\n",
    "    \"\"\"\n",
    "    Recursive Function to calculate the maximum number of possible connection between n nodes\n",
    "    \"\"\"\n",
    "    if n == 0:\n",
    "        return n\n",
    "    return n-1 + max_connection(n-1)"
   ]
  },
  {
   "cell_type": "code",
   "execution_count": 3,
   "metadata": {},
   "outputs": [],
   "source": [
    "class MyGraph:\n",
    "    \"\"\"\n",
    "    Class representing an undirected Graph including methods to answer the specific assignments.\n",
    "\n",
    "    Properties:\n",
    "    - Filepath                    : Path to file, that should be read in to instantiate a MyGraph object\n",
    "    - Nodes                       : List of unique nodes\n",
    "    - Edges                       : List of tuples representing undirected edges\n",
    "    - Neighbours                  : Dictionary with the value for each node as a key being the list of neighbouring nodes\n",
    "\n",
    "    Methods:\n",
    "    - load_from_edgelist          : Reads in a \".txt\" file representing an edgelist \n",
    "    - load_from_adjacency_matrix  : Reads in a \".txt\" file representing an adjecency matrix\n",
    "    - calc_lcc                    : Returns the Local Clustering Coefficient for a given node in the graph instance\n",
    "    \"\"\"\n",
    "\n",
    "    def __init__(self):\n",
    "        \"\"\"\n",
    "        Constructs an empyt MyGraph object and initalizes the three attributes nodes, edges and neighbours.\n",
    "        \"\"\"\n",
    "        self.nodes = []\n",
    "        self.edges = []\n",
    "        self.neighbours = {}\n",
    "    \n",
    "    def get_nodes(self):\n",
    "        \"\"\"\n",
    "        Returns the nodes as a list of a MyGraph object. Returns None if empty.\n",
    "        \"\"\"\n",
    "        return None if self.nodes == [] else self.nodes\n",
    "\n",
    "    def edges(self):\n",
    "        \"\"\"\n",
    "        Returns the edgelist as a list of tuples of a MyGraph object. Returns None if empty.\n",
    "        \"\"\"\n",
    "        return None if self.edges == [] else self.edges\n",
    "\n",
    "    def neighbours(self):\n",
    "        \"\"\"\n",
    "        Returns the neighbours as a dictionary with the key being in each node and the values being the neighbouring nodes of a MyGraph object. Returns None if empty.\n",
    "        \"\"\"\n",
    "        return None if self.neighbours == {} else self.neighbours\n",
    "\n",
    "    def load_from_edgelist(self, filepath):\n",
    "        \"\"\"\n",
    "        Load the attributes of a MyGraph object (nodes, edges and neighbour dict) from an edgelist, whose filepath is provided as an input argument.\n",
    "        \"\"\"\n",
    "        with open(filepath, 'r') as f:\n",
    "            for line in f:\n",
    "                # load edges \n",
    "                self.edges.append(tuple([int(i) for i in line.strip().split(' ')]))\n",
    "    \n",
    "        # load nodes\n",
    "        for edge in self.edges:\n",
    "            for node in edge:\n",
    "                self.nodes.append(node)    \n",
    "        self.nodes = sorted(list(set(self.nodes)))\n",
    "\n",
    "        # load neighbours\n",
    "        for edge in self.edges:\n",
    "            if edge[0] in self.neighbours:\n",
    "                self.neighbours[edge[0]].append(edge[1])\n",
    "            else: self.neighbours[edge[0]] = [edge[1]]\n",
    "\n",
    "            if edge[1] in self.neighbours:\n",
    "                self.neighbours[edge[1]].append(edge[0])\n",
    "            else: self.neighbours[edge[1]] = [edge[0]]\n",
    "\n",
    "    def load_from_adjacency_matrix(self, filepath):\n",
    "        \"\"\"\n",
    "        Load the attributes of a MyGraph object (nodes, edges and neighbour dict) from an adjacency matrix, whose filepath is provided as an input argument.\n",
    "        \"\"\"\n",
    "        with open(filepath, 'r') as f:\n",
    "            # load nodes\n",
    "            for i in range(len(f.readline().strip().split(' '))):\n",
    "                self.nodes.append(i)\n",
    "            self.nodes = sorted(self.nodes)\n",
    "\n",
    "        with open(filepath, 'r') as f:\n",
    "            # load edges\n",
    "            for x, line in enumerate(f):\n",
    "                l = [int(i) for i in line.strip().split(' ')[x:]]\n",
    "                for y, element in enumerate(l):\n",
    "                    if element == 1:\n",
    "                        self.edges.append(tuple((y+x, x)))\n",
    "\n",
    "\n",
    "            # load neighbors\n",
    "        for edge in self.edges:\n",
    "            if edge[0] in self.neighbours:\n",
    "                self.neighbours[edge[0]].append(edge[1])\n",
    "            else: self.neighbours[edge[0]] = [edge[1]]\n",
    "\n",
    "            if edge[1] in self.neighbours:\n",
    "                self.neighbours[edge[1]].append(edge[0])\n",
    "            else: self.neighbours[edge[1]] = [edge[0]]\n",
    "\n",
    "    def calc_lcc(self, nodeid):\n",
    "        \"\"\"\n",
    "        Returns the Local Clustering Coefficient (LCC) for any node (provided as input argument nodeid) in the MyGraph object.\n",
    "        \"\"\"\n",
    "        # get the neighbours of the nodeid\n",
    "        neighbours = self.neighbours[nodeid] # list of neigbours\n",
    "        num_neighbours = len(neighbours)\n",
    "\n",
    "        # calculate the max possible connections depending of len(neighbours)\n",
    "        max_connections = max_connection(num_neighbours)\n",
    "\n",
    "        # calculate the number of actual connections by iterating through edges\n",
    "        connections = 0 \n",
    "        for edge in self.edges:\n",
    "            if edge[0] in neighbours and edge[1] in neighbours:\n",
    "                connections += 1\n",
    "\n",
    "        return round(connections/max_connections, 3)\n",
    "\n",
    "    def print_summary(self, node_id, lcc):\n",
    "        \"\"\"\n",
    "        Prints out a summary for the specific assignment 1&2.\n",
    "        \"\"\"\n",
    "        # print report\n",
    "        print('SUMMARY')\n",
    "        print('Filename\\tGraph')\n",
    "        print('---------------------------------------------------------------------------')\n",
    "        print(f'Nodes\\t\\t{self.nodes}')\n",
    "        print(f'#Nodes\\t\\t{len(self.nodes)}')\n",
    "        print(f'Edges\\t\\t{self.edges}')\n",
    "        print(f'#Edges\\t\\t{len(self.edges)}')\n",
    "        print('---------------------------------------------------------------------------')\n",
    "        print(f'#NodeID\\t\\t{node_id}')\n",
    "        print(f'Neighbours\\t{self.neighbours[node_id]}')\n",
    "        print(f'LCC\\t\\t{lcc}')"
   ]
  },
  {
   "cell_type": "markdown",
   "metadata": {},
   "source": [
    "### Exercise 1\n",
    "As we know, one way of representing a graph is with an edge list. \n",
    "This representation can be found in the file `tiny_edgelist.txt`. The file contains one edge per line, shown as an edge pair of 2 integers separated by whitespace. Investigate the file to further by yourself to see the formatting of the edge pairs. \n",
    "\n",
    "Write a function called `coefficient_from_edgelist(edgefile, node_id)` that takes an edge list file formatted like so, and a node, and returns the local clustering coefficient for that node, rounded to 3 decimals.\n",
    "___\n",
    "`coefficient_from_edgelist(tiny_edgelist.txt, 2)`  \n",
    "\\>\\> `0.667`"
   ]
  },
  {
   "cell_type": "code",
   "execution_count": 4,
   "metadata": {},
   "outputs": [
    {
     "output_type": "stream",
     "name": "stdout",
     "text": [
      "SUMMARY\nFilename\tGraph\n---------------------------------------------------------------------------\nNodes\t\t[0, 1, 2, 3, 4]\n#Nodes\t\t5\nEdges\t\t[(0, 1), (0, 3), (1, 2), (1, 3), (1, 4), (2, 3), (2, 4)]\n#Edges\t\t7\n---------------------------------------------------------------------------\n#NodeID\t\t2\nNeighbours\t[1, 3, 4]\nLCC\t\t0.667\n"
     ]
    },
    {
     "output_type": "execute_result",
     "data": {
      "text/plain": [
       "0.667"
      ]
     },
     "metadata": {},
     "execution_count": 4
    }
   ],
   "source": [
    "def coefficient_from_edgelist(edgefile, node_id):\n",
    "    \"\"\"\n",
    "    Inputs: Edge List File and a node\n",
    "    Return: LCC for specific node\n",
    "    \"\"\" \n",
    "    G = MyGraph()\n",
    "    G.load_from_edgelist(edgefile)\n",
    "\n",
    "    lcc = G.calc_lcc(node_id)\n",
    "\n",
    "    G.print_summary(node_id, lcc)\n",
    "\n",
    "    return lcc\n",
    "\n",
    "coefficient_from_edgelist(\"tiny_edgelist.txt\", 2)"
   ]
  },
  {
   "cell_type": "markdown",
   "metadata": {},
   "source": [
    "## Exercise 2\n",
    "Another common way to represent a graph is with an adjacency matrix. \n",
    "This representation can be found in the file `tiny_adjmatrix.txt`. Investigate the file by yourself to see the formatting of the adjacency matrix. \n",
    "\n",
    "Write a function called `coefficient_from_adjmatrix(matrixfile, node_id)` that takes an adjacency matrix file formatted like so, and a node, and returns the local clustering coefficient for that node, rounded to 3 decimals.\n",
    "___\n",
    "`coefficient_from_adjmatrix(tiny_edgelist.txt, 0)`  \n",
    "\\>\\> `1.0`"
   ]
  },
  {
   "cell_type": "code",
   "execution_count": 5,
   "metadata": {},
   "outputs": [
    {
     "output_type": "stream",
     "name": "stdout",
     "text": [
      "SUMMARY\nFilename\tGraph\n---------------------------------------------------------------------------\nNodes\t\t[0, 1, 2, 3, 4]\n#Nodes\t\t5\nEdges\t\t[(1, 0), (3, 0), (2, 1), (3, 1), (4, 1), (4, 2)]\n#Edges\t\t6\n---------------------------------------------------------------------------\n#NodeID\t\t0\nNeighbours\t[1, 3]\nLCC\t\t1.0\n"
     ]
    },
    {
     "output_type": "execute_result",
     "data": {
      "text/plain": [
       "1.0"
      ]
     },
     "metadata": {},
     "execution_count": 5
    }
   ],
   "source": [
    "def coefficient_from_adjmatrix(matrixfile, node_id):\n",
    "    \"\"\"\n",
    "    Inputs: Adj Matrix File and a node\n",
    "    Return: LCC for specific node\n",
    "    \"\"\" \n",
    "    G = MyGraph()\n",
    "    G.load_from_adjacency_matrix(matrixfile)\n",
    "\n",
    "    lcc = G.calc_lcc(node_id)\n",
    "\n",
    "    G.print_summary(node_id, lcc)\n",
    "\n",
    "    return lcc\n",
    "\n",
    "coefficient_from_adjmatrix(\"tiny_adjmatrix.txt\", 0)"
   ]
  }
 ],
 "metadata": {
  "kernelspec": {
   "display_name": "Python 3",
   "language": "python",
   "name": "python3"
  },
  "language_info": {
   "codemirror_mode": {
    "name": "ipython",
    "version": 3
   },
   "file_extension": ".py",
   "mimetype": "text/x-python",
   "name": "python",
   "nbconvert_exporter": "python",
   "pygments_lexer": "ipython3",
   "version": "3.8.3-final"
  }
 },
 "nbformat": 4,
 "nbformat_minor": 4
}