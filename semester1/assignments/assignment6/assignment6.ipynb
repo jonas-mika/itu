{
 "cells": [
  {
   "cell_type": "markdown",
   "metadata": {},
   "source": [
    "# Assignment 6\n",
    "#### Due October 28, 2020, 23:59\n",
    "\n",
    "This week's assignment is about simulating a game, namely the famous casino game **craps**. \n",
    "You'll be asked to study the game description in detail and write python code that simulates the game in accordance with these rules. You will then be studying the win rate of the game in relation to the law of large numbers.\n",
    "\n",
    "## Submission\n",
    "Edit and turn in this jupyter notebook file containing your solutions to each task.  \n",
    "Implement your solution to each of the exercises in the code field below the exercise description.  \n",
    "\n",
    "The libraries you may need are already given, any extra imports are not allowed.\n",
    "\n",
    "___\n",
    "\n",
    "### Craps\n",
    "The game of craps is a dice game you'll find in pretty much every casino in the world. The probability of winning craps is approximately 49.3 %.  \n",
    "The game is played with two six-sided dice and consists of two phases: \n",
    "1. **Come-out roll**: the player rolls the two dice. If the sum of the dice is 2, 3 or 12, the player immediately loses. If the sum is 7 or 11, the player immediately wins. Any other come-out roll causes the player to continue to the next phase.\n",
    "2. **Point roll**: the player keeps rolling the two dice again and again until either re-rolling their come-out roll sum or rolling a 7. If the player gets their come-out sum before rolling a 7, the player wins. If a 7 is rolled first, the player loses. \n",
    "\n",
    "This process is illustrated in the figure and examples below.\n",
    "___\n",
    "\n",
    "<img src=\"img/craps.png\" align=\"right\" width=\"350\">\n",
    "\n",
    "***Game example A***  \n",
    "Alice rolls the dice...  \n",
    "\n",
    "Come-out phase:  \n",
    "- &emsp; 1&emsp;  +&emsp;  2&emsp;  =&emsp;  3&emsp;$\\longrightarrow$ loss!  \n",
    "\n",
    "___\n",
    "\n",
    "***Game example B***  \n",
    "Bob rolls the dice... \n",
    "\n",
    "Come-out phase:\n",
    "- 5&emsp;  +&emsp;  1&emsp;  =&emsp;  6&emsp;$\\longrightarrow$ move to point phase\n",
    "\n",
    "Point phase:\n",
    "- 1&emsp;  +&emsp;  2&emsp;  =&emsp;  3&emsp;$\\longrightarrow$ re-roll \n",
    "- 2&emsp;  +&emsp;  6&emsp;  =&emsp;  8&emsp;$\\longrightarrow$ re-roll  \n",
    "- 4&emsp;  +&emsp;  2&emsp;  =&emsp;  6&emsp;$\\longrightarrow$ win!  \n",
    "\n",
    "___\n",
    "\n",
    "***Game example C***  \n",
    "Cat rolls the dice... \n",
    "\n",
    "Come-out phase:\n",
    "- 5&emsp;  +&emsp;  5&emsp;  =&emsp;  10&emsp;$\\longrightarrow$ move to point phase\n",
    "\n",
    "Point phase:\n",
    "- 3&emsp;  +&emsp;  6&emsp;  =&emsp;  9&emsp;&ensp;&ensp;$\\longrightarrow$ re-roll \n",
    "- 6&emsp;  +&emsp;  5&emsp;  =&emsp;  11&emsp;$\\longrightarrow$ re-roll  \n",
    "- 1&emsp;  +&emsp;  3&emsp;  =&emsp;  4&emsp;&ensp;&ensp;$\\longrightarrow$ re-roll  \n",
    "- 2&emsp;  +&emsp;  5&emsp;  =&emsp;  7&emsp;&ensp;&ensp;$\\longrightarrow$ loss!\n",
    "___\n",
    "\n",
    "\n",
    "## Assignment"
   ]
  },
  {
   "cell_type": "code",
   "execution_count": 1,
   "metadata": {},
   "outputs": [],
   "source": [
    "import random\n",
    "import matplotlib.pyplot as plt"
   ]
  },
  {
   "cell_type": "markdown",
   "metadata": {},
   "source": [
    "### Exercise 1\n",
    "First, we need to make a simulation of a single game of craps. \n",
    "\n",
    "Write a function `craps()` that takes no input and returns `True` if the game is won and `False` if the game is lost. Use python's `random` module to simulate the dice rolls.\n",
    "\n",
    "*Note: The simulated dice rolls should of course be fair, that is the probability of rolling any of the possible six outcomes with a single dice should be $\\frac{1}{6}$.*\n",
    "\n",
    "___\n",
    "`craps()`&emsp;&emsp;or&emsp;&emsp;`craps()`  \n",
    "\\>\\> `True`&emsp;&emsp;&emsp;&emsp; &emsp; \\>\\> `False`\n"
   ]
  },
  {
   "cell_type": "code",
   "execution_count": 2,
   "metadata": {},
   "outputs": [],
   "source": [
    "# helper function\n",
    "def dice_roll():\n",
    "    \"\"\"Simulates a random roll of two dices and returns the result in a list of integers and the sum\"\"\"\n",
    "    dice_roll = [random.randint(1,6), random.randint(1,6)]\n",
    "    return (dice_roll, sum(dice_roll))\n",
    "\n",
    "# subfunctions\n",
    "def phase1():\n",
    "    \"\"\"Subfunction of Phase 1 of Craps.\"\"\"\n",
    "    roll1, sum1 = dice_roll()\n",
    "\n",
    "    # print(\"Come-Out Roll: {}\".format(roll1))\n",
    "    # print(\"Come-Out Sum: {}\".format(sum1))\n",
    "    # print(\"--------------\")\n",
    "\n",
    "    if sum1 in [7,11]:\n",
    "        return True\n",
    "    elif sum1 in [2,3,12]:\n",
    "        return False\n",
    "    else:\n",
    "        # print(\"Continue Playing! ...\\n\")\n",
    "        return sum1\n",
    "\n",
    "def phase2(sum1):    \n",
    "    \"\"\"Subfunction of Phase 2 of Craps\"\"\"\n",
    "    while True:\n",
    "        # print(input(\"Roll the Dice again by pressing 'Enter'\"))\n",
    "        next_roll, next_sum = dice_roll()\n",
    "\n",
    "        # print(\"Roll Phase 2: {}\".format(next_roll))\n",
    "        # print(\"Sum Phase 2: {}\".format(next_sum))\n",
    "        # print(\"--------------\")\n",
    "\n",
    "        if next_sum == sum1:\n",
    "            return True\n",
    "        elif next_sum == 7:\n",
    "            return False\n",
    "\n",
    "def craps():\n",
    "    # \"\"\"Simulates a game of Craps\"\"\"\n",
    "    # print(\"Welcome to a Game of Craps!\")\n",
    "    # print(\"----------------------\\n\")\n",
    "    # print(input(\"Press 'Enter' to roll the Dice!\"))\n",
    "\n",
    "    result_p1 = phase1()\n",
    "\n",
    "    if result_p1 not in [True,False]:\n",
    "        result_p2 = phase2(result_p1)\n",
    "        return result_p2\n",
    "    else:\n",
    "        return result_p1"
   ]
  },
  {
   "cell_type": "code",
   "execution_count": 3,
   "metadata": {},
   "outputs": [
    {
     "data": {
      "text/plain": [
       "True"
      ]
     },
     "execution_count": 3,
     "metadata": {},
     "output_type": "execute_result"
    }
   ],
   "source": [
    "craps()"
   ]
  },
  {
   "cell_type": "markdown",
   "metadata": {},
   "source": [
    "## Exercise 2\n",
    "When gambling, it is quite important to know the win-rate of the game you're playing.\n",
    "\n",
    "Write a function called `estimate_craps_win_rate(n, seed)` that simulates `n` games of craps and returns the the estimated probability of winning as a float rounded to 3 decimal points.\n",
    "\n",
    "- The `seed` parameter of your function should be used to set the random state using the `random.seed(int)` function for reproducability of your results. Remember to **only set the seed once** in your function!  \n",
    "\n",
    "- Inside your function, you should call your `craps()` function from exercise 1 `n` times to simulate the craps games.\n",
    "\n",
    "- The probability of winning is found by calculating the fraction of games where the player won, i.e. if a player wins 249 out of 500 games, the estimated\n",
    "probability is $\\frac{249}{500} = 0.4981$. \n",
    "___\n",
    "\n",
    "`estimate_craps_win_rate(5, 7)`  \n",
    "\\>\\> `0.8`"
   ]
  },
  {
   "cell_type": "code",
   "execution_count": 4,
   "metadata": {},
   "outputs": [],
   "source": [
    "def estimate_craps_win_rate(n, seed):\n",
    "    random.seed(seed)\n",
    "    wins = 0\n",
    "\n",
    "    for i in range(n):\n",
    "        if craps() == True:\n",
    "            wins += 1\n",
    "\n",
    "    return wins/n    "
   ]
  },
  {
   "cell_type": "code",
   "execution_count": 5,
   "metadata": {
    "tags": []
   },
   "outputs": [
    {
     "data": {
      "text/plain": [
       "0.8"
      ]
     },
     "execution_count": 5,
     "metadata": {},
     "output_type": "execute_result"
    }
   ],
   "source": [
    "estimate_craps_win_rate(5,7)"
   ]
  },
  {
   "cell_type": "markdown",
   "metadata": {},
   "source": [
    "## Exercise 3\n",
    "\n",
    "If you try calling `estimate_craps_win_rate(n, seed)` with `n` set to 5 or 10, you’ll notice that the estimated probability may be far from 0.493. However, if you attempt with larger values of `n` you’ll notice that the probability stabilizes.\n",
    "This is explained by a theory called *the Law of Large Numbers* which states that the average of the results obtained from a large number of trials should be close to the expected value. In layman’s terms, this means that while a simulation may defy chance in a few cases, it rarely does so consistently over time. Your task is to investigate\n",
    "this by plotting the phenomenon.\n",
    "\n",
    "Run `estimate_craps_win_rate(n, seed)` for all values of `n`, 1 &leq; n &leq; 1000, and the`seed` set to 17. Plot the resulting values as a scatter plot. The figure should include a horizontal line showing the true winning probability of 0.493.\n",
    "\n",
    "The plot **must** have named labels for the x and y axis, and a title.\n",
    "___\n",
    "\n",
    "<img src=\"img/ex3.png\" align=\"left\" width=\"350\">"
   ]
  },
  {
   "cell_type": "code",
   "execution_count": 6,
   "metadata": {},
   "outputs": [
    {
     "data": {
      "image/png": "[encoded data removed]",
      "text/plain": [
       "<Figure size 720x540 with 1 Axes>"
      ]
     },
     "metadata": {
      "needs_background": "light"
     },
     "output_type": "display_data"
    }
   ],
   "source": [
    "fig = plt.figure(figsize=(10, 7.5))\n",
    "axes = fig.add_axes([0, 0, 1, 1])\n",
    "\n",
    "for n in range (1,1000+1):\n",
    "    axes.scatter(n, estimate_craps_win_rate(n, 17), s=3, color=\"b\")\n",
    "\n",
    "axes.axhline(y=0.493, color='r', linewidth=0.5)\n",
    "axes.text(180, 0.5, \"Theoretical Probability of Winning\", color=\"r\", fontsize=11)\n",
    "    \n",
    "axes.set_ylabel(\"Estimated Probability of Winning\"); \n",
    "axes.set_xlabel(\"Number of Simulations\"); \n",
    "axes.set_title(\"Illustration of the Law of Large Numbers using Craps Simulations\", fontweight=\"bold\");\n",
    "axes.set_ylim(0,1);\n",
    "axes.set_xlim(0,1000);"
   ]
  }
 ],
 "metadata": {
  "kernelspec": {
   "display_name": "Python 3",
   "language": "python",
   "name": "python3"
  },
  "language_info": {
   "codemirror_mode": {
    "name": "ipython",
    "version": 3
   },
   "file_extension": ".py",
   "mimetype": "text/x-python",
   "name": "python",
   "nbconvert_exporter": "python",
   "pygments_lexer": "ipython3",
   "version": "3.8.3"
  }
 },
 "nbformat": 4,
 "nbformat_minor": 4
}
